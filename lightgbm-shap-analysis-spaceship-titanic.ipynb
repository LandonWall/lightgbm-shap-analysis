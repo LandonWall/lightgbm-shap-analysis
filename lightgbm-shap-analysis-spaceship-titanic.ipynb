{
 "cells": [
  {
   "cell_type": "markdown",
   "id": "a6e1aaaa",
   "metadata": {
    "papermill": {
     "duration": 0.00883,
     "end_time": "2024-06-19T02:58:59.023616",
     "exception": false,
     "start_time": "2024-06-19T02:58:59.014786",
     "status": "completed"
    },
    "tags": []
   },
   "source": [
    "# Interpret LightGBM Classifier with SHAP: Spaceship Titanic Dataset\n",
    "\n",
    "## Table of Contents\n",
    "\n",
    "1. [Data Preparation](#data-preparation)\n",
    "   - [Basic Exploratory Data Analysis (EDA)](#basic-exploratory-data-analysis) \n",
    "   - [Import Data and Modules](#import-data-and-modules)\n",
    "   - [Data Cleaning](#data-cleaning)\n",
    "   - [Feature Engineering](#feature-engineering)\n",
    "   - [Advanced Exploratory Data Analysis (EDA)](#advanced-exploratory-data-analysis)\n",
    "2. [Modeling](#modeling)\n",
    "   - [Data Preprocessing for Modeling](#data-preprocessing-for-modeling)\n",
    "   - [Model Training](#model-training)\n",
    "   - [Model Evaluation](#model-evaluation)\n",
    "3. [Interpretability](#interpretability)\n",
    "   - [SHAP Analysis](#shap-analysis)"
   ]
  },
  {
   "cell_type": "markdown",
   "id": "59e5cb98",
   "metadata": {
    "papermill": {
     "duration": 0.008702,
     "end_time": "2024-06-19T02:58:59.039789",
     "exception": false,
     "start_time": "2024-06-19T02:58:59.031087",
     "status": "completed"
    },
    "tags": []
   },
   "source": [
    "# 1) Data Preparation\n",
    "<a id=\"data-preparation\"></a>"
   ]
  },
  {
   "cell_type": "markdown",
   "id": "162c3324",
   "metadata": {
    "papermill": {
     "duration": 0.006499,
     "end_time": "2024-06-19T02:58:59.054508",
     "exception": false,
     "start_time": "2024-06-19T02:58:59.048009",
     "status": "completed"
    },
    "tags": []
   },
   "source": [
    "## Import Data and Modules\n",
    "<a id=\"import-data-and-modules\"></a>"
   ]
  },
  {
   "cell_type": "code",
   "execution_count": 1,
   "id": "4c31c2a4",
   "metadata": {
    "_cell_guid": "b1076dfc-b9ad-4769-8c92-a6c4dae69d19",
    "_uuid": "8f2839f25d086af736a60e9eeb907d3b93b6e0e5",
    "execution": {
     "iopub.execute_input": "2024-06-19T02:58:59.070274Z",
     "iopub.status.busy": "2024-06-19T02:58:59.069863Z",
     "iopub.status.idle": "2024-06-19T02:59:09.578315Z",
     "shell.execute_reply": "2024-06-19T02:59:09.577118Z"
    },
    "papermill": {
     "duration": 10.519806,
     "end_time": "2024-06-19T02:59:09.581081",
     "exception": false,
     "start_time": "2024-06-19T02:58:59.061275",
     "status": "completed"
    },
    "tags": []
   },
   "outputs": [],
   "source": [
    "# base packages\n",
    "import pandas as pd\n",
    "import numpy as np\n",
    "import matplotlib.pyplot as plt\n",
    "\n",
    "# modeling and evaluation\n",
    "import lightgbm as lgb\n",
    "from sklearn.metrics import accuracy_score, classification_report\n",
    "from sklearn.model_selection import train_test_split\n",
    "from sklearn.preprocessing import LabelEncoder\n",
    "import shap\n",
    "import os"
   ]
  },
  {
   "cell_type": "code",
   "execution_count": 2,
   "id": "b705e008",
   "metadata": {
    "execution": {
     "iopub.execute_input": "2024-06-19T02:59:09.597587Z",
     "iopub.status.busy": "2024-06-19T02:59:09.596797Z",
     "iopub.status.idle": "2024-06-19T02:59:09.693140Z",
     "shell.execute_reply": "2024-06-19T02:59:09.691781Z"
    },
    "papermill": {
     "duration": 0.107757,
     "end_time": "2024-06-19T02:59:09.696231",
     "exception": false,
     "start_time": "2024-06-19T02:59:09.588474",
     "status": "completed"
    },
    "tags": []
   },
   "outputs": [],
   "source": [
    "train = pd.read_csv('/kaggle/input/spaceship-titanic/train.csv')\n",
    "test = pd.read_csv('/kaggle/input/spaceship-titanic/train.csv')\n",
    "df = pd.concat([train, test], ignore_index=True)"
   ]
  },
  {
   "cell_type": "markdown",
   "id": "3361ac24",
   "metadata": {
    "papermill": {
     "duration": 0.006464,
     "end_time": "2024-06-19T02:59:09.709428",
     "exception": false,
     "start_time": "2024-06-19T02:59:09.702964",
     "status": "completed"
    },
    "tags": []
   },
   "source": [
    "## Basic Exploratory Data Analysis (EDA)\n",
    "<a id=\"basic-exploratory-data-analysis\"></a>"
   ]
  },
  {
   "cell_type": "markdown",
   "id": "b62edcbc",
   "metadata": {
    "papermill": {
     "duration": 0.006387,
     "end_time": "2024-06-19T02:59:09.722503",
     "exception": false,
     "start_time": "2024-06-19T02:59:09.716116",
     "status": "completed"
    },
    "tags": []
   },
   "source": [
    "#### 1. Data Description"
   ]
  },
  {
   "cell_type": "markdown",
   "id": "6f491789",
   "metadata": {
    "papermill": {
     "duration": 0.007393,
     "end_time": "2024-06-19T02:59:09.736781",
     "exception": false,
     "start_time": "2024-06-19T02:59:09.729388",
     "status": "completed"
    },
    "tags": []
   },
   "source": [
    "> * **PassengerId** - A unique Id for each passenger. Each Id takes the form gggg_pp where gggg indicates a group the passenger is travelling with and pp is their number within the group. People in a group are often family members, but not always.<br>\n",
    "> * **HomePlanet** - The planet the passenger departed from, typically their planet of permanent residence.<br>\n",
    "> * **CryoSleep** - Indicates whether the passenger elected to be put into suspended animation for the duration of the voyage. Passengers in cryosleep are confined to their cabins.<br>\n",
    "> * **Cabin** - The cabin number where the passenger is staying. Takes the form deck/num/side, where side can be either P for Port or S for Starboard.<br>\n",
    "> * **Destination** - The planet the passenger will be debarking to.<br>\n",
    "> * **Age** - The age of the passenger.<br>\n",
    "> * **VIP** - Whether the passenger has paid for special VIP service during the voyage.<br>\n",
    "> * **RoomService**, **FoodCourt**, **ShoppingMall**, **Spa**, **VRDeck** - Amount the passenger has billed at each of the Spaceship Titanic's many luxury amenities.<br>\n",
    "> * **Name** - The first and last names of the passenger.<br>\n",
    "> * **Transported** - Whether the passenger was transported to another dimension. This is the target, the column you are trying to predict.<br>"
   ]
  },
  {
   "cell_type": "markdown",
   "id": "24a51972",
   "metadata": {
    "papermill": {
     "duration": 0.006875,
     "end_time": "2024-06-19T02:59:09.750368",
     "exception": false,
     "start_time": "2024-06-19T02:59:09.743493",
     "status": "completed"
    },
    "tags": []
   },
   "source": [
    "#### 2. Dataframe Structure"
   ]
  },
  {
   "cell_type": "code",
   "execution_count": 3,
   "id": "20b3e3e6",
   "metadata": {
    "execution": {
     "iopub.execute_input": "2024-06-19T02:59:09.766490Z",
     "iopub.status.busy": "2024-06-19T02:59:09.766005Z",
     "iopub.status.idle": "2024-06-19T02:59:09.774725Z",
     "shell.execute_reply": "2024-06-19T02:59:09.773501Z"
    },
    "papermill": {
     "duration": 0.019465,
     "end_time": "2024-06-19T02:59:09.777413",
     "exception": false,
     "start_time": "2024-06-19T02:59:09.757948",
     "status": "completed"
    },
    "tags": []
   },
   "outputs": [
    {
     "data": {
      "text/plain": [
       "(17386, 14)"
      ]
     },
     "execution_count": 3,
     "metadata": {},
     "output_type": "execute_result"
    }
   ],
   "source": [
    "df.shape"
   ]
  },
  {
   "cell_type": "markdown",
   "id": "ecf13ca1",
   "metadata": {
    "papermill": {
     "duration": 0.006664,
     "end_time": "2024-06-19T02:59:09.790958",
     "exception": false,
     "start_time": "2024-06-19T02:59:09.784294",
     "status": "completed"
    },
    "tags": []
   },
   "source": [
    "#### 3. Count Transported Passengers In Training Dataset"
   ]
  },
  {
   "cell_type": "code",
   "execution_count": 4,
   "id": "a39845a6",
   "metadata": {
    "execution": {
     "iopub.execute_input": "2024-06-19T02:59:09.806365Z",
     "iopub.status.busy": "2024-06-19T02:59:09.805975Z",
     "iopub.status.idle": "2024-06-19T02:59:09.830696Z",
     "shell.execute_reply": "2024-06-19T02:59:09.829476Z"
    },
    "papermill": {
     "duration": 0.035408,
     "end_time": "2024-06-19T02:59:09.833226",
     "exception": false,
     "start_time": "2024-06-19T02:59:09.797818",
     "status": "completed"
    },
    "tags": []
   },
   "outputs": [
    {
     "name": "stdout",
     "output_type": "stream",
     "text": [
      "             Count  Percentage\n",
      "Transported                   \n",
      "True          4378       50.36\n",
      "False         4315       49.64\n"
     ]
    }
   ],
   "source": [
    "transported_counts = train['Transported'].value_counts()\n",
    "total_passengers = len(train)\n",
    "transported_percentage = ((transported_counts / total_passengers) * 100).round(2)\n",
    "\n",
    "transported_df = pd.DataFrame({\n",
    "    'Count': transported_counts,\n",
    "    'Percentage': transported_percentage\n",
    "})\n",
    "\n",
    "print(transported_df)"
   ]
  },
  {
   "cell_type": "markdown",
   "id": "9ce63b88",
   "metadata": {
    "papermill": {
     "duration": 0.006798,
     "end_time": "2024-06-19T02:59:09.847570",
     "exception": false,
     "start_time": "2024-06-19T02:59:09.840772",
     "status": "completed"
    },
    "tags": []
   },
   "source": [
    "#### 4. View Merged Dataframe"
   ]
  },
  {
   "cell_type": "code",
   "execution_count": 5,
   "id": "e92825e8",
   "metadata": {
    "execution": {
     "iopub.execute_input": "2024-06-19T02:59:09.863385Z",
     "iopub.status.busy": "2024-06-19T02:59:09.862894Z",
     "iopub.status.idle": "2024-06-19T02:59:09.886733Z",
     "shell.execute_reply": "2024-06-19T02:59:09.885180Z"
    },
    "papermill": {
     "duration": 0.034754,
     "end_time": "2024-06-19T02:59:09.889262",
     "exception": false,
     "start_time": "2024-06-19T02:59:09.854508",
     "status": "completed"
    },
    "tags": []
   },
   "outputs": [
    {
     "data": {
      "text/html": [
       "<div>\n",
       "<style scoped>\n",
       "    .dataframe tbody tr th:only-of-type {\n",
       "        vertical-align: middle;\n",
       "    }\n",
       "\n",
       "    .dataframe tbody tr th {\n",
       "        vertical-align: top;\n",
       "    }\n",
       "\n",
       "    .dataframe thead th {\n",
       "        text-align: right;\n",
       "    }\n",
       "</style>\n",
       "<table border=\"1\" class=\"dataframe\">\n",
       "  <thead>\n",
       "    <tr style=\"text-align: right;\">\n",
       "      <th></th>\n",
       "      <th>PassengerId</th>\n",
       "      <th>HomePlanet</th>\n",
       "      <th>CryoSleep</th>\n",
       "      <th>Cabin</th>\n",
       "      <th>Destination</th>\n",
       "      <th>Age</th>\n",
       "      <th>VIP</th>\n",
       "      <th>RoomService</th>\n",
       "      <th>FoodCourt</th>\n",
       "      <th>ShoppingMall</th>\n",
       "      <th>Spa</th>\n",
       "      <th>VRDeck</th>\n",
       "      <th>Name</th>\n",
       "      <th>Transported</th>\n",
       "    </tr>\n",
       "  </thead>\n",
       "  <tbody>\n",
       "    <tr>\n",
       "      <th>0</th>\n",
       "      <td>0001_01</td>\n",
       "      <td>Europa</td>\n",
       "      <td>False</td>\n",
       "      <td>B/0/P</td>\n",
       "      <td>TRAPPIST-1e</td>\n",
       "      <td>39.0</td>\n",
       "      <td>False</td>\n",
       "      <td>0.0</td>\n",
       "      <td>0.0</td>\n",
       "      <td>0.0</td>\n",
       "      <td>0.0</td>\n",
       "      <td>0.0</td>\n",
       "      <td>Maham Ofracculy</td>\n",
       "      <td>False</td>\n",
       "    </tr>\n",
       "    <tr>\n",
       "      <th>1</th>\n",
       "      <td>0002_01</td>\n",
       "      <td>Earth</td>\n",
       "      <td>False</td>\n",
       "      <td>F/0/S</td>\n",
       "      <td>TRAPPIST-1e</td>\n",
       "      <td>24.0</td>\n",
       "      <td>False</td>\n",
       "      <td>109.0</td>\n",
       "      <td>9.0</td>\n",
       "      <td>25.0</td>\n",
       "      <td>549.0</td>\n",
       "      <td>44.0</td>\n",
       "      <td>Juanna Vines</td>\n",
       "      <td>True</td>\n",
       "    </tr>\n",
       "    <tr>\n",
       "      <th>2</th>\n",
       "      <td>0003_01</td>\n",
       "      <td>Europa</td>\n",
       "      <td>False</td>\n",
       "      <td>A/0/S</td>\n",
       "      <td>TRAPPIST-1e</td>\n",
       "      <td>58.0</td>\n",
       "      <td>True</td>\n",
       "      <td>43.0</td>\n",
       "      <td>3576.0</td>\n",
       "      <td>0.0</td>\n",
       "      <td>6715.0</td>\n",
       "      <td>49.0</td>\n",
       "      <td>Altark Susent</td>\n",
       "      <td>False</td>\n",
       "    </tr>\n",
       "    <tr>\n",
       "      <th>3</th>\n",
       "      <td>0003_02</td>\n",
       "      <td>Europa</td>\n",
       "      <td>False</td>\n",
       "      <td>A/0/S</td>\n",
       "      <td>TRAPPIST-1e</td>\n",
       "      <td>33.0</td>\n",
       "      <td>False</td>\n",
       "      <td>0.0</td>\n",
       "      <td>1283.0</td>\n",
       "      <td>371.0</td>\n",
       "      <td>3329.0</td>\n",
       "      <td>193.0</td>\n",
       "      <td>Solam Susent</td>\n",
       "      <td>False</td>\n",
       "    </tr>\n",
       "    <tr>\n",
       "      <th>4</th>\n",
       "      <td>0004_01</td>\n",
       "      <td>Earth</td>\n",
       "      <td>False</td>\n",
       "      <td>F/1/S</td>\n",
       "      <td>TRAPPIST-1e</td>\n",
       "      <td>16.0</td>\n",
       "      <td>False</td>\n",
       "      <td>303.0</td>\n",
       "      <td>70.0</td>\n",
       "      <td>151.0</td>\n",
       "      <td>565.0</td>\n",
       "      <td>2.0</td>\n",
       "      <td>Willy Santantines</td>\n",
       "      <td>True</td>\n",
       "    </tr>\n",
       "  </tbody>\n",
       "</table>\n",
       "</div>"
      ],
      "text/plain": [
       "  PassengerId HomePlanet CryoSleep  Cabin  Destination   Age    VIP  \\\n",
       "0     0001_01     Europa     False  B/0/P  TRAPPIST-1e  39.0  False   \n",
       "1     0002_01      Earth     False  F/0/S  TRAPPIST-1e  24.0  False   \n",
       "2     0003_01     Europa     False  A/0/S  TRAPPIST-1e  58.0   True   \n",
       "3     0003_02     Europa     False  A/0/S  TRAPPIST-1e  33.0  False   \n",
       "4     0004_01      Earth     False  F/1/S  TRAPPIST-1e  16.0  False   \n",
       "\n",
       "   RoomService  FoodCourt  ShoppingMall     Spa  VRDeck               Name  \\\n",
       "0          0.0        0.0           0.0     0.0     0.0    Maham Ofracculy   \n",
       "1        109.0        9.0          25.0   549.0    44.0       Juanna Vines   \n",
       "2         43.0     3576.0           0.0  6715.0    49.0      Altark Susent   \n",
       "3          0.0     1283.0         371.0  3329.0   193.0       Solam Susent   \n",
       "4        303.0       70.0         151.0   565.0     2.0  Willy Santantines   \n",
       "\n",
       "   Transported  \n",
       "0        False  \n",
       "1         True  \n",
       "2        False  \n",
       "3        False  \n",
       "4         True  "
      ]
     },
     "execution_count": 5,
     "metadata": {},
     "output_type": "execute_result"
    }
   ],
   "source": [
    "df.head()"
   ]
  },
  {
   "cell_type": "markdown",
   "id": "747a89ec",
   "metadata": {
    "papermill": {
     "duration": 0.008225,
     "end_time": "2024-06-19T02:59:09.905742",
     "exception": false,
     "start_time": "2024-06-19T02:59:09.897517",
     "status": "completed"
    },
    "tags": []
   },
   "source": [
    "#### 5. View Summary Statistics of Continuous Features"
   ]
  },
  {
   "cell_type": "code",
   "execution_count": 6,
   "id": "ded715a8",
   "metadata": {
    "execution": {
     "iopub.execute_input": "2024-06-19T02:59:09.922203Z",
     "iopub.status.busy": "2024-06-19T02:59:09.921795Z",
     "iopub.status.idle": "2024-06-19T02:59:09.956455Z",
     "shell.execute_reply": "2024-06-19T02:59:09.955161Z"
    },
    "papermill": {
     "duration": 0.045839,
     "end_time": "2024-06-19T02:59:09.958969",
     "exception": false,
     "start_time": "2024-06-19T02:59:09.913130",
     "status": "completed"
    },
    "tags": []
   },
   "outputs": [
    {
     "name": "stdout",
     "output_type": "stream",
     "text": [
      "         Age  RoomService  FoodCourt  ShoppingMall    Spa  VRDeck\n",
      "count  17028        17024      17020         16970  17020   17010\n",
      "mean      29          225        458           174    311     305\n",
      "std       14          667       1611           605   1137    1146\n",
      "min        0            0          0             0      0       0\n",
      "25%       19            0          0             0      0       0\n",
      "50%       27            0          0             0      0       0\n",
      "75%       38           47         76            27     59      46\n",
      "max       79        14327      29813         23492  22408   24133\n"
     ]
    }
   ],
   "source": [
    "summary_stats = df.describe().apply(lambda x: x.round().astype(int))\n",
    "print(summary_stats)"
   ]
  },
  {
   "cell_type": "markdown",
   "id": "f1820276",
   "metadata": {
    "papermill": {
     "duration": 0.00707,
     "end_time": "2024-06-19T02:59:09.973348",
     "exception": false,
     "start_time": "2024-06-19T02:59:09.966278",
     "status": "completed"
    },
    "tags": []
   },
   "source": [
    "#### 6. View Distribution of Categorical Features"
   ]
  },
  {
   "cell_type": "code",
   "execution_count": 7,
   "id": "3b942b91",
   "metadata": {
    "execution": {
     "iopub.execute_input": "2024-06-19T02:59:09.989467Z",
     "iopub.status.busy": "2024-06-19T02:59:09.989048Z",
     "iopub.status.idle": "2024-06-19T02:59:10.048714Z",
     "shell.execute_reply": "2024-06-19T02:59:10.047503Z"
    },
    "papermill": {
     "duration": 0.07121,
     "end_time": "2024-06-19T02:59:10.051692",
     "exception": false,
     "start_time": "2024-06-19T02:59:09.980482",
     "status": "completed"
    },
    "tags": []
   },
   "outputs": [
    {
     "name": "stdout",
     "output_type": "stream",
     "text": [
      "Counts for HomePlanet:\n"
     ]
    },
    {
     "data": {
      "text/html": [
       "<div>\n",
       "<style scoped>\n",
       "    .dataframe tbody tr th:only-of-type {\n",
       "        vertical-align: middle;\n",
       "    }\n",
       "\n",
       "    .dataframe tbody tr th {\n",
       "        vertical-align: top;\n",
       "    }\n",
       "\n",
       "    .dataframe thead th {\n",
       "        text-align: right;\n",
       "    }\n",
       "</style>\n",
       "<table border=\"1\" class=\"dataframe\">\n",
       "  <thead>\n",
       "    <tr style=\"text-align: right;\">\n",
       "      <th>HomePlanet</th>\n",
       "      <th>Earth</th>\n",
       "      <th>Europa</th>\n",
       "      <th>Mars</th>\n",
       "    </tr>\n",
       "  </thead>\n",
       "  <tbody>\n",
       "    <tr>\n",
       "      <th>count</th>\n",
       "      <td>9204</td>\n",
       "      <td>4262</td>\n",
       "      <td>3518</td>\n",
       "    </tr>\n",
       "  </tbody>\n",
       "</table>\n",
       "</div>"
      ],
      "text/plain": [
       "HomePlanet  Earth  Europa  Mars\n",
       "count        9204    4262  3518"
      ]
     },
     "metadata": {},
     "output_type": "display_data"
    },
    {
     "name": "stdout",
     "output_type": "stream",
     "text": [
      "\n",
      "\n",
      "Counts for CryoSleep:\n"
     ]
    },
    {
     "data": {
      "text/html": [
       "<div>\n",
       "<style scoped>\n",
       "    .dataframe tbody tr th:only-of-type {\n",
       "        vertical-align: middle;\n",
       "    }\n",
       "\n",
       "    .dataframe tbody tr th {\n",
       "        vertical-align: top;\n",
       "    }\n",
       "\n",
       "    .dataframe thead th {\n",
       "        text-align: right;\n",
       "    }\n",
       "</style>\n",
       "<table border=\"1\" class=\"dataframe\">\n",
       "  <thead>\n",
       "    <tr style=\"text-align: right;\">\n",
       "      <th>CryoSleep</th>\n",
       "      <th>False</th>\n",
       "      <th>True</th>\n",
       "    </tr>\n",
       "  </thead>\n",
       "  <tbody>\n",
       "    <tr>\n",
       "      <th>count</th>\n",
       "      <td>10878</td>\n",
       "      <td>6074</td>\n",
       "    </tr>\n",
       "  </tbody>\n",
       "</table>\n",
       "</div>"
      ],
      "text/plain": [
       "CryoSleep  False  True\n",
       "count      10878  6074"
      ]
     },
     "metadata": {},
     "output_type": "display_data"
    },
    {
     "name": "stdout",
     "output_type": "stream",
     "text": [
      "\n",
      "\n",
      "Counts for Destination:\n"
     ]
    },
    {
     "data": {
      "text/html": [
       "<div>\n",
       "<style scoped>\n",
       "    .dataframe tbody tr th:only-of-type {\n",
       "        vertical-align: middle;\n",
       "    }\n",
       "\n",
       "    .dataframe tbody tr th {\n",
       "        vertical-align: top;\n",
       "    }\n",
       "\n",
       "    .dataframe thead th {\n",
       "        text-align: right;\n",
       "    }\n",
       "</style>\n",
       "<table border=\"1\" class=\"dataframe\">\n",
       "  <thead>\n",
       "    <tr style=\"text-align: right;\">\n",
       "      <th>Destination</th>\n",
       "      <th>TRAPPIST-1e</th>\n",
       "      <th>55 Cancri e</th>\n",
       "      <th>PSO J318.5-22</th>\n",
       "    </tr>\n",
       "  </thead>\n",
       "  <tbody>\n",
       "    <tr>\n",
       "      <th>count</th>\n",
       "      <td>11830</td>\n",
       "      <td>3600</td>\n",
       "      <td>1592</td>\n",
       "    </tr>\n",
       "  </tbody>\n",
       "</table>\n",
       "</div>"
      ],
      "text/plain": [
       "Destination  TRAPPIST-1e  55 Cancri e  PSO J318.5-22\n",
       "count              11830         3600           1592"
      ]
     },
     "metadata": {},
     "output_type": "display_data"
    },
    {
     "name": "stdout",
     "output_type": "stream",
     "text": [
      "\n",
      "\n",
      "Counts for VIP:\n"
     ]
    },
    {
     "data": {
      "text/html": [
       "<div>\n",
       "<style scoped>\n",
       "    .dataframe tbody tr th:only-of-type {\n",
       "        vertical-align: middle;\n",
       "    }\n",
       "\n",
       "    .dataframe tbody tr th {\n",
       "        vertical-align: top;\n",
       "    }\n",
       "\n",
       "    .dataframe thead th {\n",
       "        text-align: right;\n",
       "    }\n",
       "</style>\n",
       "<table border=\"1\" class=\"dataframe\">\n",
       "  <thead>\n",
       "    <tr style=\"text-align: right;\">\n",
       "      <th>VIP</th>\n",
       "      <th>False</th>\n",
       "      <th>True</th>\n",
       "    </tr>\n",
       "  </thead>\n",
       "  <tbody>\n",
       "    <tr>\n",
       "      <th>count</th>\n",
       "      <td>16582</td>\n",
       "      <td>398</td>\n",
       "    </tr>\n",
       "  </tbody>\n",
       "</table>\n",
       "</div>"
      ],
      "text/plain": [
       "VIP    False  True\n",
       "count  16582   398"
      ]
     },
     "metadata": {},
     "output_type": "display_data"
    },
    {
     "name": "stdout",
     "output_type": "stream",
     "text": [
      "\n",
      "\n",
      "Counts for Cabin:\n"
     ]
    },
    {
     "data": {
      "text/html": [
       "<div>\n",
       "<style scoped>\n",
       "    .dataframe tbody tr th:only-of-type {\n",
       "        vertical-align: middle;\n",
       "    }\n",
       "\n",
       "    .dataframe tbody tr th {\n",
       "        vertical-align: top;\n",
       "    }\n",
       "\n",
       "    .dataframe thead th {\n",
       "        text-align: right;\n",
       "    }\n",
       "</style>\n",
       "<table border=\"1\" class=\"dataframe\">\n",
       "  <thead>\n",
       "    <tr style=\"text-align: right;\">\n",
       "      <th>Cabin</th>\n",
       "      <th>G/734/S</th>\n",
       "      <th>G/109/P</th>\n",
       "      <th>B/201/P</th>\n",
       "      <th>G/1368/P</th>\n",
       "      <th>G/981/S</th>\n",
       "      <th>G/1476/S</th>\n",
       "      <th>E/13/S</th>\n",
       "      <th>F/1194/P</th>\n",
       "      <th>B/82/S</th>\n",
       "      <th>D/176/S</th>\n",
       "      <th>...</th>\n",
       "      <th>G/559/P</th>\n",
       "      <th>G/558/P</th>\n",
       "      <th>F/701/P</th>\n",
       "      <th>G/547/S</th>\n",
       "      <th>G/557/P</th>\n",
       "      <th>G/556/P</th>\n",
       "      <th>E/231/S</th>\n",
       "      <th>G/545/S</th>\n",
       "      <th>G/543/S</th>\n",
       "      <th>F/947/P</th>\n",
       "    </tr>\n",
       "  </thead>\n",
       "  <tbody>\n",
       "    <tr>\n",
       "      <th>count</th>\n",
       "      <td>16</td>\n",
       "      <td>14</td>\n",
       "      <td>14</td>\n",
       "      <td>14</td>\n",
       "      <td>14</td>\n",
       "      <td>14</td>\n",
       "      <td>14</td>\n",
       "      <td>14</td>\n",
       "      <td>14</td>\n",
       "      <td>14</td>\n",
       "      <td>...</td>\n",
       "      <td>2</td>\n",
       "      <td>2</td>\n",
       "      <td>2</td>\n",
       "      <td>2</td>\n",
       "      <td>2</td>\n",
       "      <td>2</td>\n",
       "      <td>2</td>\n",
       "      <td>2</td>\n",
       "      <td>2</td>\n",
       "      <td>2</td>\n",
       "    </tr>\n",
       "  </tbody>\n",
       "</table>\n",
       "<p>1 rows × 6560 columns</p>\n",
       "</div>"
      ],
      "text/plain": [
       "Cabin  G/734/S  G/109/P  B/201/P  G/1368/P  G/981/S  G/1476/S  E/13/S  \\\n",
       "count       16       14       14        14       14        14      14   \n",
       "\n",
       "Cabin  F/1194/P  B/82/S  D/176/S  ...  G/559/P  G/558/P  F/701/P  G/547/S  \\\n",
       "count        14      14       14  ...        2        2        2        2   \n",
       "\n",
       "Cabin  G/557/P  G/556/P  E/231/S  G/545/S  G/543/S  F/947/P  \n",
       "count        2        2        2        2        2        2  \n",
       "\n",
       "[1 rows x 6560 columns]"
      ]
     },
     "metadata": {},
     "output_type": "display_data"
    },
    {
     "name": "stdout",
     "output_type": "stream",
     "text": [
      "\n",
      "\n"
     ]
    }
   ],
   "source": [
    "categorical_features = ['HomePlanet', 'CryoSleep', 'Destination', 'VIP', 'Cabin']\n",
    "\n",
    "counts_dict = {}\n",
    "\n",
    "for feature in categorical_features:\n",
    "    if feature in df.columns:\n",
    "        counts_dict[feature] = df[feature].value_counts()\n",
    "    else:\n",
    "        counts_dict[feature] = 'Feature not found in the dataset.'\n",
    "\n",
    "for feature, counts in counts_dict.items():\n",
    "    print(f'Counts for {feature}:')\n",
    "    if isinstance(counts, pd.Series):\n",
    "        display(counts.to_frame().transpose())\n",
    "    else:\n",
    "        print(counts)\n",
    "    print('\\n')"
   ]
  },
  {
   "cell_type": "markdown",
   "id": "688208c5",
   "metadata": {
    "papermill": {
     "duration": 0.008014,
     "end_time": "2024-06-19T02:59:10.068236",
     "exception": false,
     "start_time": "2024-06-19T02:59:10.060222",
     "status": "completed"
    },
    "tags": []
   },
   "source": [
    "#### 7. Check for Missing Values"
   ]
  },
  {
   "cell_type": "code",
   "execution_count": 8,
   "id": "33878d7d",
   "metadata": {
    "execution": {
     "iopub.execute_input": "2024-06-19T02:59:10.087048Z",
     "iopub.status.busy": "2024-06-19T02:59:10.086650Z",
     "iopub.status.idle": "2024-06-19T02:59:10.111397Z",
     "shell.execute_reply": "2024-06-19T02:59:10.109831Z"
    },
    "papermill": {
     "duration": 0.037269,
     "end_time": "2024-06-19T02:59:10.114086",
     "exception": false,
     "start_time": "2024-06-19T02:59:10.076817",
     "status": "completed"
    },
    "tags": []
   },
   "outputs": [
    {
     "name": "stdout",
     "output_type": "stream",
     "text": [
      "              Missing Values  Percentage\n",
      "CryoSleep                434         2.5\n",
      "ShoppingMall             416         2.4\n",
      "VIP                      406         2.3\n",
      "HomePlanet               402         2.3\n",
      "Name                     400         2.3\n",
      "Cabin                    398         2.3\n",
      "VRDeck                   376         2.2\n",
      "FoodCourt                366         2.1\n",
      "Spa                      366         2.1\n",
      "Destination              364         2.1\n",
      "RoomService              362         2.1\n",
      "Age                      358         2.1\n"
     ]
    }
   ],
   "source": [
    "# Calculate missing values and their percentage\n",
    "missing_values = df.isnull().sum()\n",
    "missing_percentage = (missing_values / len(df)) * 100\n",
    "\n",
    "missing_df = pd.DataFrame({'Missing Values': missing_values, 'Percentage': missing_percentage}).round(1)\n",
    "missing_df = missing_df[missing_df['Missing Values'] > 0].sort_values(by='Missing Values', ascending=False)\n",
    "\n",
    "print(missing_df)"
   ]
  },
  {
   "cell_type": "markdown",
   "id": "7476bb45",
   "metadata": {
    "papermill": {
     "duration": 0.008693,
     "end_time": "2024-06-19T02:59:10.131503",
     "exception": false,
     "start_time": "2024-06-19T02:59:10.122810",
     "status": "completed"
    },
    "tags": []
   },
   "source": [
    "## Data Cleaning\n",
    "<a id=\"data-cleaning\"></a>"
   ]
  },
  {
   "cell_type": "code",
   "execution_count": null,
   "id": "58eb6648",
   "metadata": {
    "papermill": {
     "duration": 0.008888,
     "end_time": "2024-06-19T02:59:10.151198",
     "exception": false,
     "start_time": "2024-06-19T02:59:10.142310",
     "status": "completed"
    },
    "tags": []
   },
   "outputs": [],
   "source": []
  },
  {
   "cell_type": "markdown",
   "id": "db78bdcf",
   "metadata": {
    "papermill": {
     "duration": 0.008464,
     "end_time": "2024-06-19T02:59:10.169621",
     "exception": false,
     "start_time": "2024-06-19T02:59:10.161157",
     "status": "completed"
    },
    "tags": []
   },
   "source": [
    "## Feature Engineering\n",
    "<a id=\"feature-engineering\"></a>"
   ]
  },
  {
   "cell_type": "code",
   "execution_count": null,
   "id": "35762819",
   "metadata": {
    "papermill": {
     "duration": 0.008176,
     "end_time": "2024-06-19T02:59:10.186785",
     "exception": false,
     "start_time": "2024-06-19T02:59:10.178609",
     "status": "completed"
    },
    "tags": []
   },
   "outputs": [],
   "source": []
  },
  {
   "cell_type": "markdown",
   "id": "7a1f1ca7",
   "metadata": {
    "papermill": {
     "duration": 0.008178,
     "end_time": "2024-06-19T02:59:10.203706",
     "exception": false,
     "start_time": "2024-06-19T02:59:10.195528",
     "status": "completed"
    },
    "tags": []
   },
   "source": [
    "## Advanced Exploratory Data Analysis (EDA)\n",
    "<a id=\"advanced-exploratory-data-analysis\"></a>"
   ]
  },
  {
   "cell_type": "code",
   "execution_count": null,
   "id": "d4e2bd63",
   "metadata": {
    "papermill": {
     "duration": 0.008394,
     "end_time": "2024-06-19T02:59:10.221440",
     "exception": false,
     "start_time": "2024-06-19T02:59:10.213046",
     "status": "completed"
    },
    "tags": []
   },
   "outputs": [],
   "source": []
  },
  {
   "cell_type": "markdown",
   "id": "f55ec001",
   "metadata": {
    "papermill": {
     "duration": 0.008525,
     "end_time": "2024-06-19T02:59:10.238614",
     "exception": false,
     "start_time": "2024-06-19T02:59:10.230089",
     "status": "completed"
    },
    "tags": []
   },
   "source": [
    "# 2) Modeling\n",
    "<a id=\"modeling\"></a>"
   ]
  },
  {
   "cell_type": "markdown",
   "id": "9ecd31cd",
   "metadata": {
    "papermill": {
     "duration": 0.00821,
     "end_time": "2024-06-19T02:59:10.255562",
     "exception": false,
     "start_time": "2024-06-19T02:59:10.247352",
     "status": "completed"
    },
    "tags": []
   },
   "source": [
    "### Data Preprocessing for Modeling\n",
    "<a id=\"data-preprocessing-for-modeling\"></a>"
   ]
  },
  {
   "cell_type": "code",
   "execution_count": null,
   "id": "701f2441",
   "metadata": {
    "papermill": {
     "duration": 0.008584,
     "end_time": "2024-06-19T02:59:10.272709",
     "exception": false,
     "start_time": "2024-06-19T02:59:10.264125",
     "status": "completed"
    },
    "tags": []
   },
   "outputs": [],
   "source": []
  },
  {
   "cell_type": "markdown",
   "id": "66018d35",
   "metadata": {
    "papermill": {
     "duration": 0.0082,
     "end_time": "2024-06-19T02:59:10.289647",
     "exception": false,
     "start_time": "2024-06-19T02:59:10.281447",
     "status": "completed"
    },
    "tags": []
   },
   "source": [
    "### Model Training\n",
    "<a id=\"model-training\"></a>"
   ]
  },
  {
   "cell_type": "code",
   "execution_count": null,
   "id": "66693454",
   "metadata": {
    "papermill": {
     "duration": 0.008255,
     "end_time": "2024-06-19T02:59:10.306660",
     "exception": false,
     "start_time": "2024-06-19T02:59:10.298405",
     "status": "completed"
    },
    "tags": []
   },
   "outputs": [],
   "source": []
  },
  {
   "cell_type": "markdown",
   "id": "5580f5f8",
   "metadata": {
    "papermill": {
     "duration": 0.009114,
     "end_time": "2024-06-19T02:59:10.325349",
     "exception": false,
     "start_time": "2024-06-19T02:59:10.316235",
     "status": "completed"
    },
    "tags": []
   },
   "source": [
    "### Model Evaluation\n",
    "<a id=\"model-evaluation\"></a>"
   ]
  },
  {
   "cell_type": "code",
   "execution_count": null,
   "id": "a4f2b265",
   "metadata": {
    "papermill": {
     "duration": 0.008395,
     "end_time": "2024-06-19T02:59:10.342299",
     "exception": false,
     "start_time": "2024-06-19T02:59:10.333904",
     "status": "completed"
    },
    "tags": []
   },
   "outputs": [],
   "source": []
  },
  {
   "cell_type": "markdown",
   "id": "e6473c57",
   "metadata": {
    "papermill": {
     "duration": 0.008311,
     "end_time": "2024-06-19T02:59:10.359300",
     "exception": false,
     "start_time": "2024-06-19T02:59:10.350989",
     "status": "completed"
    },
    "tags": []
   },
   "source": [
    "# 3) Interpretability\n",
    "<a id=\"interpretability\"></a>"
   ]
  },
  {
   "cell_type": "markdown",
   "id": "3b5763ca",
   "metadata": {
    "papermill": {
     "duration": 0.008314,
     "end_time": "2024-06-19T02:59:10.376087",
     "exception": false,
     "start_time": "2024-06-19T02:59:10.367773",
     "status": "completed"
    },
    "tags": []
   },
   "source": [
    "### SHAP Analysis\n",
    "<a id=\"shap-analysis\"></a>"
   ]
  },
  {
   "cell_type": "code",
   "execution_count": null,
   "id": "cf97936b",
   "metadata": {
    "papermill": {
     "duration": 0.008221,
     "end_time": "2024-06-19T02:59:10.392970",
     "exception": false,
     "start_time": "2024-06-19T02:59:10.384749",
     "status": "completed"
    },
    "tags": []
   },
   "outputs": [],
   "source": []
  }
 ],
 "metadata": {
  "kaggle": {
   "accelerator": "none",
   "dataSources": [
    {
     "databundleVersionId": 3220602,
     "sourceId": 34377,
     "sourceType": "competition"
    }
   ],
   "dockerImageVersionId": 30732,
   "isGpuEnabled": false,
   "isInternetEnabled": true,
   "language": "python",
   "sourceType": "notebook"
  },
  "kernelspec": {
   "display_name": "Python 3",
   "language": "python",
   "name": "python3"
  },
  "language_info": {
   "codemirror_mode": {
    "name": "ipython",
    "version": 3
   },
   "file_extension": ".py",
   "mimetype": "text/x-python",
   "name": "python",
   "nbconvert_exporter": "python",
   "pygments_lexer": "ipython3",
   "version": "3.10.13"
  },
  "papermill": {
   "default_parameters": {},
   "duration": 15.657233,
   "end_time": "2024-06-19T02:59:11.726009",
   "environment_variables": {},
   "exception": null,
   "input_path": "__notebook__.ipynb",
   "output_path": "__notebook__.ipynb",
   "parameters": {},
   "start_time": "2024-06-19T02:58:56.068776",
   "version": "2.5.0"
  }
 },
 "nbformat": 4,
 "nbformat_minor": 5
}
