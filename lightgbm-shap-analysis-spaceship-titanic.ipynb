{
 "cells": [
  {
   "cell_type": "markdown",
   "id": "83cdc0ee",
   "metadata": {
    "papermill": {
     "duration": 0.010896,
     "end_time": "2024-06-19T05:44:38.630066",
     "exception": false,
     "start_time": "2024-06-19T05:44:38.619170",
     "status": "completed"
    },
    "tags": []
   },
   "source": [
    "# Interpret LightGBM Classifier with SHAP: Spaceship Titanic Dataset\n",
    "\n",
    "## Introduction\n",
    "\n",
    "This notebook demonstrates how to utilize SHAP (SHapley Additive exPlanations) to interpret complex gradient-boosted models, specifically LightGBM. The purpose is to make the results of these models more interpretable to both yourself and stakeholders. SHAP provides a unified framework to explain the output of any machine learning model, helping you understand the contribution of each feature to the predictions.\n",
    "\n",
    "## Table of Contents\n",
    "\n",
    "1. [Data Preparation](#data-preparation)\n",
    "   - [Import Data and Modules](#import-data-and-modules)\n",
    "   - [Basic Exploratory Data Analysis (EDA)](#basic-exploratory-data-analysis) \n",
    "   - [Feature Engineering](#feature-engineering)\n",
    "   - [Data Cleaning](#data-cleaning)\n",
    "2. [Modeling](#modeling)\n",
    "   - [Data Preprocessing for Modeling](#data-preprocessing-for-modeling)\n",
    "   - [Model Training](#model-training)\n",
    "   - [Model Evaluation](#model-evaluation)\n",
    "3. [Interpretability](#interpretability)\n",
    "   - [SHAP Analysis](#shap-analysis)"
   ]
  },
  {
   "cell_type": "markdown",
   "id": "e4b3053c",
   "metadata": {
    "papermill": {
     "duration": 0.010139,
     "end_time": "2024-06-19T05:44:38.651013",
     "exception": false,
     "start_time": "2024-06-19T05:44:38.640874",
     "status": "completed"
    },
    "tags": []
   },
   "source": [
    "# 1) Data Preparation\n",
    "<a id=\"data-preparation\"></a>"
   ]
  },
  {
   "cell_type": "markdown",
   "id": "36792f38",
   "metadata": {
    "papermill": {
     "duration": 0.010036,
     "end_time": "2024-06-19T05:44:38.671918",
     "exception": false,
     "start_time": "2024-06-19T05:44:38.661882",
     "status": "completed"
    },
    "tags": []
   },
   "source": [
    "## Import Data and Modules\n",
    "<a id=\"import-data-and-modules\"></a>"
   ]
  },
  {
   "cell_type": "code",
   "execution_count": 1,
   "id": "74eee960",
   "metadata": {
    "_cell_guid": "b1076dfc-b9ad-4769-8c92-a6c4dae69d19",
    "_kg_hide-input": false,
    "_uuid": "8f2839f25d086af736a60e9eeb907d3b93b6e0e5",
    "execution": {
     "iopub.execute_input": "2024-06-19T05:44:38.694578Z",
     "iopub.status.busy": "2024-06-19T05:44:38.694170Z",
     "iopub.status.idle": "2024-06-19T05:44:48.217834Z",
     "shell.execute_reply": "2024-06-19T05:44:48.216670Z"
    },
    "papermill": {
     "duration": 9.537961,
     "end_time": "2024-06-19T05:44:48.220455",
     "exception": false,
     "start_time": "2024-06-19T05:44:38.682494",
     "status": "completed"
    },
    "tags": []
   },
   "outputs": [],
   "source": [
    "# base packages\n",
    "import pandas as pd\n",
    "import numpy as np\n",
    "import matplotlib.pyplot as plt\n",
    "\n",
    "# modeling and evaluation\n",
    "import lightgbm as lgb\n",
    "from sklearn.metrics import accuracy_score, classification_report\n",
    "from sklearn.model_selection import train_test_split\n",
    "from sklearn.preprocessing import LabelEncoder\n",
    "import shap\n",
    "import os"
   ]
  },
  {
   "cell_type": "code",
   "execution_count": 2,
   "id": "c9c29ade",
   "metadata": {
    "execution": {
     "iopub.execute_input": "2024-06-19T05:44:48.245660Z",
     "iopub.status.busy": "2024-06-19T05:44:48.245066Z",
     "iopub.status.idle": "2024-06-19T05:44:48.346594Z",
     "shell.execute_reply": "2024-06-19T05:44:48.345278Z"
    },
    "papermill": {
     "duration": 0.115893,
     "end_time": "2024-06-19T05:44:48.349194",
     "exception": false,
     "start_time": "2024-06-19T05:44:48.233301",
     "status": "completed"
    },
    "tags": []
   },
   "outputs": [],
   "source": [
    "train = pd.read_csv('/kaggle/input/spaceship-titanic/train.csv')\n",
    "test = pd.read_csv('/kaggle/input/spaceship-titanic/train.csv')\n",
    "df = pd.concat([train, test], ignore_index=True)"
   ]
  },
  {
   "cell_type": "markdown",
   "id": "fd5f504e",
   "metadata": {
    "papermill": {
     "duration": 0.009887,
     "end_time": "2024-06-19T05:44:48.369535",
     "exception": false,
     "start_time": "2024-06-19T05:44:48.359648",
     "status": "completed"
    },
    "tags": []
   },
   "source": [
    "## Basic Exploratory Data Analysis (EDA)\n",
    "<a id=\"basic-exploratory-data-analysis\"></a>"
   ]
  },
  {
   "cell_type": "markdown",
   "id": "b853b389",
   "metadata": {
    "papermill": {
     "duration": 0.009995,
     "end_time": "2024-06-19T05:44:48.389917",
     "exception": false,
     "start_time": "2024-06-19T05:44:48.379922",
     "status": "completed"
    },
    "tags": []
   },
   "source": [
    "### 1. Data Description"
   ]
  },
  {
   "cell_type": "markdown",
   "id": "62a9b229",
   "metadata": {
    "papermill": {
     "duration": 0.010108,
     "end_time": "2024-06-19T05:44:48.410357",
     "exception": false,
     "start_time": "2024-06-19T05:44:48.400249",
     "status": "completed"
    },
    "tags": []
   },
   "source": [
    "> * **PassengerId** - A unique Id for each passenger. Each Id takes the form gggg_pp where gggg indicates a group the passenger is travelling with and pp is their number within the group. People in a group are often family members, but not always.<br>\n",
    "> * **HomePlanet** - The planet the passenger departed from, typically their planet of permanent residence.<br>\n",
    "> * **CryoSleep** - Indicates whether the passenger elected to be put into suspended animation for the duration of the voyage. Passengers in cryosleep are confined to their cabins.<br>\n",
    "> * **Cabin** - The cabin number where the passenger is staying. Takes the form deck/num/side, where side can be either P for Port or S for Starboard.<br>\n",
    "> * **Destination** - The planet the passenger will be debarking to.<br>\n",
    "> * **Age** - The age of the passenger.<br>\n",
    "> * **VIP** - Whether the passenger has paid for special VIP service during the voyage.<br>\n",
    "> * **RoomService**, **FoodCourt**, **ShoppingMall**, **Spa**, **VRDeck** - Amount the passenger has billed at each of the Spaceship Titanic's many luxury amenities.<br>\n",
    "> * **Name** - The first and last names of the passenger.<br>\n",
    "> * **Transported** - Whether the passenger was transported to another dimension. This is the target, the column you are trying to predict.<br>"
   ]
  },
  {
   "cell_type": "markdown",
   "id": "fa7f9d46",
   "metadata": {
    "papermill": {
     "duration": 0.010132,
     "end_time": "2024-06-19T05:44:48.431356",
     "exception": false,
     "start_time": "2024-06-19T05:44:48.421224",
     "status": "completed"
    },
    "tags": []
   },
   "source": [
    "### 2. Dataframe Structure"
   ]
  },
  {
   "cell_type": "code",
   "execution_count": 3,
   "id": "2a48624e",
   "metadata": {
    "_kg_hide-input": true,
    "execution": {
     "iopub.execute_input": "2024-06-19T05:44:48.453707Z",
     "iopub.status.busy": "2024-06-19T05:44:48.453274Z",
     "iopub.status.idle": "2024-06-19T05:44:48.461507Z",
     "shell.execute_reply": "2024-06-19T05:44:48.460414Z"
    },
    "papermill": {
     "duration": 0.022175,
     "end_time": "2024-06-19T05:44:48.463784",
     "exception": false,
     "start_time": "2024-06-19T05:44:48.441609",
     "status": "completed"
    },
    "tags": []
   },
   "outputs": [
    {
     "data": {
      "text/plain": [
       "(17386, 14)"
      ]
     },
     "execution_count": 3,
     "metadata": {},
     "output_type": "execute_result"
    }
   ],
   "source": [
    "df.shape"
   ]
  },
  {
   "cell_type": "markdown",
   "id": "3528e351",
   "metadata": {
    "papermill": {
     "duration": 0.010549,
     "end_time": "2024-06-19T05:44:48.484787",
     "exception": false,
     "start_time": "2024-06-19T05:44:48.474238",
     "status": "completed"
    },
    "tags": []
   },
   "source": [
    "### 3. Count Transported Passengers In Training Dataset"
   ]
  },
  {
   "cell_type": "code",
   "execution_count": 4,
   "id": "f18ed720",
   "metadata": {
    "_kg_hide-input": true,
    "execution": {
     "iopub.execute_input": "2024-06-19T05:44:48.508926Z",
     "iopub.status.busy": "2024-06-19T05:44:48.507926Z",
     "iopub.status.idle": "2024-06-19T05:44:48.536086Z",
     "shell.execute_reply": "2024-06-19T05:44:48.535014Z"
    },
    "papermill": {
     "duration": 0.042951,
     "end_time": "2024-06-19T05:44:48.538377",
     "exception": false,
     "start_time": "2024-06-19T05:44:48.495426",
     "status": "completed"
    },
    "tags": []
   },
   "outputs": [
    {
     "data": {
      "text/html": [
       "<div>\n",
       "<style scoped>\n",
       "    .dataframe tbody tr th:only-of-type {\n",
       "        vertical-align: middle;\n",
       "    }\n",
       "\n",
       "    .dataframe tbody tr th {\n",
       "        vertical-align: top;\n",
       "    }\n",
       "\n",
       "    .dataframe thead th {\n",
       "        text-align: right;\n",
       "    }\n",
       "</style>\n",
       "<table border=\"1\" class=\"dataframe\">\n",
       "  <thead>\n",
       "    <tr style=\"text-align: right;\">\n",
       "      <th></th>\n",
       "      <th>Count</th>\n",
       "      <th>Percentage</th>\n",
       "    </tr>\n",
       "    <tr>\n",
       "      <th>Transported</th>\n",
       "      <th></th>\n",
       "      <th></th>\n",
       "    </tr>\n",
       "  </thead>\n",
       "  <tbody>\n",
       "    <tr>\n",
       "      <th>True</th>\n",
       "      <td>4378</td>\n",
       "      <td>50.36</td>\n",
       "    </tr>\n",
       "    <tr>\n",
       "      <th>False</th>\n",
       "      <td>4315</td>\n",
       "      <td>49.64</td>\n",
       "    </tr>\n",
       "  </tbody>\n",
       "</table>\n",
       "</div>"
      ],
      "text/plain": [
       "             Count  Percentage\n",
       "Transported                   \n",
       "True          4378       50.36\n",
       "False         4315       49.64"
      ]
     },
     "execution_count": 4,
     "metadata": {},
     "output_type": "execute_result"
    }
   ],
   "source": [
    "transported_counts = train['Transported'].value_counts()\n",
    "total_passengers = len(train)\n",
    "transported_percentage = ((transported_counts / total_passengers) * 100).round(2)\n",
    "\n",
    "transported_df = pd.DataFrame({\n",
    "    'Count': transported_counts,\n",
    "    'Percentage': transported_percentage\n",
    "})\n",
    "\n",
    "transported_df"
   ]
  },
  {
   "cell_type": "markdown",
   "id": "55c7f4c3",
   "metadata": {
    "papermill": {
     "duration": 0.01075,
     "end_time": "2024-06-19T05:44:48.560384",
     "exception": false,
     "start_time": "2024-06-19T05:44:48.549634",
     "status": "completed"
    },
    "tags": []
   },
   "source": [
    "### 4. View Merged Dataframe"
   ]
  },
  {
   "cell_type": "code",
   "execution_count": 5,
   "id": "f521bf0d",
   "metadata": {
    "_kg_hide-input": true,
    "execution": {
     "iopub.execute_input": "2024-06-19T05:44:48.583727Z",
     "iopub.status.busy": "2024-06-19T05:44:48.583327Z",
     "iopub.status.idle": "2024-06-19T05:44:48.603138Z",
     "shell.execute_reply": "2024-06-19T05:44:48.601986Z"
    },
    "papermill": {
     "duration": 0.034242,
     "end_time": "2024-06-19T05:44:48.605452",
     "exception": false,
     "start_time": "2024-06-19T05:44:48.571210",
     "status": "completed"
    },
    "tags": []
   },
   "outputs": [
    {
     "data": {
      "text/html": [
       "<div>\n",
       "<style scoped>\n",
       "    .dataframe tbody tr th:only-of-type {\n",
       "        vertical-align: middle;\n",
       "    }\n",
       "\n",
       "    .dataframe tbody tr th {\n",
       "        vertical-align: top;\n",
       "    }\n",
       "\n",
       "    .dataframe thead th {\n",
       "        text-align: right;\n",
       "    }\n",
       "</style>\n",
       "<table border=\"1\" class=\"dataframe\">\n",
       "  <thead>\n",
       "    <tr style=\"text-align: right;\">\n",
       "      <th></th>\n",
       "      <th>PassengerId</th>\n",
       "      <th>HomePlanet</th>\n",
       "      <th>CryoSleep</th>\n",
       "      <th>Cabin</th>\n",
       "      <th>Destination</th>\n",
       "      <th>Age</th>\n",
       "      <th>VIP</th>\n",
       "      <th>RoomService</th>\n",
       "      <th>FoodCourt</th>\n",
       "      <th>ShoppingMall</th>\n",
       "      <th>Spa</th>\n",
       "      <th>VRDeck</th>\n",
       "      <th>Name</th>\n",
       "      <th>Transported</th>\n",
       "    </tr>\n",
       "  </thead>\n",
       "  <tbody>\n",
       "    <tr>\n",
       "      <th>0</th>\n",
       "      <td>0001_01</td>\n",
       "      <td>Europa</td>\n",
       "      <td>False</td>\n",
       "      <td>B/0/P</td>\n",
       "      <td>TRAPPIST-1e</td>\n",
       "      <td>39.0</td>\n",
       "      <td>False</td>\n",
       "      <td>0.0</td>\n",
       "      <td>0.0</td>\n",
       "      <td>0.0</td>\n",
       "      <td>0.0</td>\n",
       "      <td>0.0</td>\n",
       "      <td>Maham Ofracculy</td>\n",
       "      <td>False</td>\n",
       "    </tr>\n",
       "    <tr>\n",
       "      <th>1</th>\n",
       "      <td>0002_01</td>\n",
       "      <td>Earth</td>\n",
       "      <td>False</td>\n",
       "      <td>F/0/S</td>\n",
       "      <td>TRAPPIST-1e</td>\n",
       "      <td>24.0</td>\n",
       "      <td>False</td>\n",
       "      <td>109.0</td>\n",
       "      <td>9.0</td>\n",
       "      <td>25.0</td>\n",
       "      <td>549.0</td>\n",
       "      <td>44.0</td>\n",
       "      <td>Juanna Vines</td>\n",
       "      <td>True</td>\n",
       "    </tr>\n",
       "    <tr>\n",
       "      <th>2</th>\n",
       "      <td>0003_01</td>\n",
       "      <td>Europa</td>\n",
       "      <td>False</td>\n",
       "      <td>A/0/S</td>\n",
       "      <td>TRAPPIST-1e</td>\n",
       "      <td>58.0</td>\n",
       "      <td>True</td>\n",
       "      <td>43.0</td>\n",
       "      <td>3576.0</td>\n",
       "      <td>0.0</td>\n",
       "      <td>6715.0</td>\n",
       "      <td>49.0</td>\n",
       "      <td>Altark Susent</td>\n",
       "      <td>False</td>\n",
       "    </tr>\n",
       "    <tr>\n",
       "      <th>3</th>\n",
       "      <td>0003_02</td>\n",
       "      <td>Europa</td>\n",
       "      <td>False</td>\n",
       "      <td>A/0/S</td>\n",
       "      <td>TRAPPIST-1e</td>\n",
       "      <td>33.0</td>\n",
       "      <td>False</td>\n",
       "      <td>0.0</td>\n",
       "      <td>1283.0</td>\n",
       "      <td>371.0</td>\n",
       "      <td>3329.0</td>\n",
       "      <td>193.0</td>\n",
       "      <td>Solam Susent</td>\n",
       "      <td>False</td>\n",
       "    </tr>\n",
       "    <tr>\n",
       "      <th>4</th>\n",
       "      <td>0004_01</td>\n",
       "      <td>Earth</td>\n",
       "      <td>False</td>\n",
       "      <td>F/1/S</td>\n",
       "      <td>TRAPPIST-1e</td>\n",
       "      <td>16.0</td>\n",
       "      <td>False</td>\n",
       "      <td>303.0</td>\n",
       "      <td>70.0</td>\n",
       "      <td>151.0</td>\n",
       "      <td>565.0</td>\n",
       "      <td>2.0</td>\n",
       "      <td>Willy Santantines</td>\n",
       "      <td>True</td>\n",
       "    </tr>\n",
       "  </tbody>\n",
       "</table>\n",
       "</div>"
      ],
      "text/plain": [
       "  PassengerId HomePlanet CryoSleep  Cabin  Destination   Age    VIP  \\\n",
       "0     0001_01     Europa     False  B/0/P  TRAPPIST-1e  39.0  False   \n",
       "1     0002_01      Earth     False  F/0/S  TRAPPIST-1e  24.0  False   \n",
       "2     0003_01     Europa     False  A/0/S  TRAPPIST-1e  58.0   True   \n",
       "3     0003_02     Europa     False  A/0/S  TRAPPIST-1e  33.0  False   \n",
       "4     0004_01      Earth     False  F/1/S  TRAPPIST-1e  16.0  False   \n",
       "\n",
       "   RoomService  FoodCourt  ShoppingMall     Spa  VRDeck               Name  \\\n",
       "0          0.0        0.0           0.0     0.0     0.0    Maham Ofracculy   \n",
       "1        109.0        9.0          25.0   549.0    44.0       Juanna Vines   \n",
       "2         43.0     3576.0           0.0  6715.0    49.0      Altark Susent   \n",
       "3          0.0     1283.0         371.0  3329.0   193.0       Solam Susent   \n",
       "4        303.0       70.0         151.0   565.0     2.0  Willy Santantines   \n",
       "\n",
       "   Transported  \n",
       "0        False  \n",
       "1         True  \n",
       "2        False  \n",
       "3        False  \n",
       "4         True  "
      ]
     },
     "execution_count": 5,
     "metadata": {},
     "output_type": "execute_result"
    }
   ],
   "source": [
    "df.head()"
   ]
  },
  {
   "cell_type": "markdown",
   "id": "8e8dc828",
   "metadata": {
    "papermill": {
     "duration": 0.010981,
     "end_time": "2024-06-19T05:44:48.627904",
     "exception": false,
     "start_time": "2024-06-19T05:44:48.616923",
     "status": "completed"
    },
    "tags": []
   },
   "source": [
    "### 5. View Summary Statistics of Continuous Features"
   ]
  },
  {
   "cell_type": "code",
   "execution_count": 6,
   "id": "32556ada",
   "metadata": {
    "_kg_hide-input": true,
    "execution": {
     "iopub.execute_input": "2024-06-19T05:44:48.652467Z",
     "iopub.status.busy": "2024-06-19T05:44:48.652084Z",
     "iopub.status.idle": "2024-06-19T05:44:48.687393Z",
     "shell.execute_reply": "2024-06-19T05:44:48.686288Z"
    },
    "papermill": {
     "duration": 0.050546,
     "end_time": "2024-06-19T05:44:48.689834",
     "exception": false,
     "start_time": "2024-06-19T05:44:48.639288",
     "status": "completed"
    },
    "tags": []
   },
   "outputs": [
    {
     "data": {
      "text/html": [
       "<div>\n",
       "<style scoped>\n",
       "    .dataframe tbody tr th:only-of-type {\n",
       "        vertical-align: middle;\n",
       "    }\n",
       "\n",
       "    .dataframe tbody tr th {\n",
       "        vertical-align: top;\n",
       "    }\n",
       "\n",
       "    .dataframe thead th {\n",
       "        text-align: right;\n",
       "    }\n",
       "</style>\n",
       "<table border=\"1\" class=\"dataframe\">\n",
       "  <thead>\n",
       "    <tr style=\"text-align: right;\">\n",
       "      <th></th>\n",
       "      <th>Age</th>\n",
       "      <th>RoomService</th>\n",
       "      <th>FoodCourt</th>\n",
       "      <th>ShoppingMall</th>\n",
       "      <th>Spa</th>\n",
       "      <th>VRDeck</th>\n",
       "    </tr>\n",
       "  </thead>\n",
       "  <tbody>\n",
       "    <tr>\n",
       "      <th>count</th>\n",
       "      <td>17028</td>\n",
       "      <td>17024</td>\n",
       "      <td>17020</td>\n",
       "      <td>16970</td>\n",
       "      <td>17020</td>\n",
       "      <td>17010</td>\n",
       "    </tr>\n",
       "    <tr>\n",
       "      <th>mean</th>\n",
       "      <td>29</td>\n",
       "      <td>225</td>\n",
       "      <td>458</td>\n",
       "      <td>174</td>\n",
       "      <td>311</td>\n",
       "      <td>305</td>\n",
       "    </tr>\n",
       "    <tr>\n",
       "      <th>std</th>\n",
       "      <td>14</td>\n",
       "      <td>667</td>\n",
       "      <td>1611</td>\n",
       "      <td>605</td>\n",
       "      <td>1137</td>\n",
       "      <td>1146</td>\n",
       "    </tr>\n",
       "    <tr>\n",
       "      <th>min</th>\n",
       "      <td>0</td>\n",
       "      <td>0</td>\n",
       "      <td>0</td>\n",
       "      <td>0</td>\n",
       "      <td>0</td>\n",
       "      <td>0</td>\n",
       "    </tr>\n",
       "    <tr>\n",
       "      <th>25%</th>\n",
       "      <td>19</td>\n",
       "      <td>0</td>\n",
       "      <td>0</td>\n",
       "      <td>0</td>\n",
       "      <td>0</td>\n",
       "      <td>0</td>\n",
       "    </tr>\n",
       "    <tr>\n",
       "      <th>50%</th>\n",
       "      <td>27</td>\n",
       "      <td>0</td>\n",
       "      <td>0</td>\n",
       "      <td>0</td>\n",
       "      <td>0</td>\n",
       "      <td>0</td>\n",
       "    </tr>\n",
       "    <tr>\n",
       "      <th>75%</th>\n",
       "      <td>38</td>\n",
       "      <td>47</td>\n",
       "      <td>76</td>\n",
       "      <td>27</td>\n",
       "      <td>59</td>\n",
       "      <td>46</td>\n",
       "    </tr>\n",
       "    <tr>\n",
       "      <th>max</th>\n",
       "      <td>79</td>\n",
       "      <td>14327</td>\n",
       "      <td>29813</td>\n",
       "      <td>23492</td>\n",
       "      <td>22408</td>\n",
       "      <td>24133</td>\n",
       "    </tr>\n",
       "  </tbody>\n",
       "</table>\n",
       "</div>"
      ],
      "text/plain": [
       "         Age  RoomService  FoodCourt  ShoppingMall    Spa  VRDeck\n",
       "count  17028        17024      17020         16970  17020   17010\n",
       "mean      29          225        458           174    311     305\n",
       "std       14          667       1611           605   1137    1146\n",
       "min        0            0          0             0      0       0\n",
       "25%       19            0          0             0      0       0\n",
       "50%       27            0          0             0      0       0\n",
       "75%       38           47         76            27     59      46\n",
       "max       79        14327      29813         23492  22408   24133"
      ]
     },
     "execution_count": 6,
     "metadata": {},
     "output_type": "execute_result"
    }
   ],
   "source": [
    "summary_stats = df.describe().apply(lambda x: x.round().astype(int))\n",
    "summary_stats"
   ]
  },
  {
   "cell_type": "markdown",
   "id": "8d3734de",
   "metadata": {
    "papermill": {
     "duration": 0.010824,
     "end_time": "2024-06-19T05:44:48.711811",
     "exception": false,
     "start_time": "2024-06-19T05:44:48.700987",
     "status": "completed"
    },
    "tags": []
   },
   "source": [
    "### 6. View Distribution of Categorical Features"
   ]
  },
  {
   "cell_type": "code",
   "execution_count": 7,
   "id": "bb07f3e9",
   "metadata": {
    "_kg_hide-input": true,
    "execution": {
     "iopub.execute_input": "2024-06-19T05:44:48.735789Z",
     "iopub.status.busy": "2024-06-19T05:44:48.735368Z",
     "iopub.status.idle": "2024-06-19T05:44:48.798020Z",
     "shell.execute_reply": "2024-06-19T05:44:48.796965Z"
    },
    "papermill": {
     "duration": 0.078588,
     "end_time": "2024-06-19T05:44:48.801591",
     "exception": false,
     "start_time": "2024-06-19T05:44:48.723003",
     "status": "completed"
    },
    "tags": []
   },
   "outputs": [
    {
     "name": "stdout",
     "output_type": "stream",
     "text": [
      "Counts for HomePlanet:\n"
     ]
    },
    {
     "data": {
      "text/html": [
       "<div>\n",
       "<style scoped>\n",
       "    .dataframe tbody tr th:only-of-type {\n",
       "        vertical-align: middle;\n",
       "    }\n",
       "\n",
       "    .dataframe tbody tr th {\n",
       "        vertical-align: top;\n",
       "    }\n",
       "\n",
       "    .dataframe thead th {\n",
       "        text-align: right;\n",
       "    }\n",
       "</style>\n",
       "<table border=\"1\" class=\"dataframe\">\n",
       "  <thead>\n",
       "    <tr style=\"text-align: right;\">\n",
       "      <th></th>\n",
       "      <th>count</th>\n",
       "      <th>count</th>\n",
       "    </tr>\n",
       "  </thead>\n",
       "  <tbody>\n",
       "    <tr>\n",
       "      <th>0</th>\n",
       "      <td>Earth</td>\n",
       "      <td>9204</td>\n",
       "    </tr>\n",
       "    <tr>\n",
       "      <th>1</th>\n",
       "      <td>Europa</td>\n",
       "      <td>4262</td>\n",
       "    </tr>\n",
       "    <tr>\n",
       "      <th>2</th>\n",
       "      <td>Mars</td>\n",
       "      <td>3518</td>\n",
       "    </tr>\n",
       "  </tbody>\n",
       "</table>\n",
       "</div>"
      ],
      "text/plain": [
       "    count  count\n",
       "0   Earth   9204\n",
       "1  Europa   4262\n",
       "2    Mars   3518"
      ]
     },
     "metadata": {},
     "output_type": "display_data"
    },
    {
     "name": "stdout",
     "output_type": "stream",
     "text": [
      "\n",
      "\n",
      "Counts for CryoSleep:\n"
     ]
    },
    {
     "data": {
      "text/html": [
       "<div>\n",
       "<style scoped>\n",
       "    .dataframe tbody tr th:only-of-type {\n",
       "        vertical-align: middle;\n",
       "    }\n",
       "\n",
       "    .dataframe tbody tr th {\n",
       "        vertical-align: top;\n",
       "    }\n",
       "\n",
       "    .dataframe thead th {\n",
       "        text-align: right;\n",
       "    }\n",
       "</style>\n",
       "<table border=\"1\" class=\"dataframe\">\n",
       "  <thead>\n",
       "    <tr style=\"text-align: right;\">\n",
       "      <th></th>\n",
       "      <th>count</th>\n",
       "      <th>count</th>\n",
       "    </tr>\n",
       "  </thead>\n",
       "  <tbody>\n",
       "    <tr>\n",
       "      <th>0</th>\n",
       "      <td>False</td>\n",
       "      <td>10878</td>\n",
       "    </tr>\n",
       "    <tr>\n",
       "      <th>1</th>\n",
       "      <td>True</td>\n",
       "      <td>6074</td>\n",
       "    </tr>\n",
       "  </tbody>\n",
       "</table>\n",
       "</div>"
      ],
      "text/plain": [
       "   count  count\n",
       "0  False  10878\n",
       "1   True   6074"
      ]
     },
     "metadata": {},
     "output_type": "display_data"
    },
    {
     "name": "stdout",
     "output_type": "stream",
     "text": [
      "\n",
      "\n",
      "Counts for Destination:\n"
     ]
    },
    {
     "data": {
      "text/html": [
       "<div>\n",
       "<style scoped>\n",
       "    .dataframe tbody tr th:only-of-type {\n",
       "        vertical-align: middle;\n",
       "    }\n",
       "\n",
       "    .dataframe tbody tr th {\n",
       "        vertical-align: top;\n",
       "    }\n",
       "\n",
       "    .dataframe thead th {\n",
       "        text-align: right;\n",
       "    }\n",
       "</style>\n",
       "<table border=\"1\" class=\"dataframe\">\n",
       "  <thead>\n",
       "    <tr style=\"text-align: right;\">\n",
       "      <th></th>\n",
       "      <th>count</th>\n",
       "      <th>count</th>\n",
       "    </tr>\n",
       "  </thead>\n",
       "  <tbody>\n",
       "    <tr>\n",
       "      <th>0</th>\n",
       "      <td>TRAPPIST-1e</td>\n",
       "      <td>11830</td>\n",
       "    </tr>\n",
       "    <tr>\n",
       "      <th>1</th>\n",
       "      <td>55 Cancri e</td>\n",
       "      <td>3600</td>\n",
       "    </tr>\n",
       "    <tr>\n",
       "      <th>2</th>\n",
       "      <td>PSO J318.5-22</td>\n",
       "      <td>1592</td>\n",
       "    </tr>\n",
       "  </tbody>\n",
       "</table>\n",
       "</div>"
      ],
      "text/plain": [
       "           count  count\n",
       "0    TRAPPIST-1e  11830\n",
       "1    55 Cancri e   3600\n",
       "2  PSO J318.5-22   1592"
      ]
     },
     "metadata": {},
     "output_type": "display_data"
    },
    {
     "name": "stdout",
     "output_type": "stream",
     "text": [
      "\n",
      "\n",
      "Counts for VIP:\n"
     ]
    },
    {
     "data": {
      "text/html": [
       "<div>\n",
       "<style scoped>\n",
       "    .dataframe tbody tr th:only-of-type {\n",
       "        vertical-align: middle;\n",
       "    }\n",
       "\n",
       "    .dataframe tbody tr th {\n",
       "        vertical-align: top;\n",
       "    }\n",
       "\n",
       "    .dataframe thead th {\n",
       "        text-align: right;\n",
       "    }\n",
       "</style>\n",
       "<table border=\"1\" class=\"dataframe\">\n",
       "  <thead>\n",
       "    <tr style=\"text-align: right;\">\n",
       "      <th></th>\n",
       "      <th>count</th>\n",
       "      <th>count</th>\n",
       "    </tr>\n",
       "  </thead>\n",
       "  <tbody>\n",
       "    <tr>\n",
       "      <th>0</th>\n",
       "      <td>False</td>\n",
       "      <td>16582</td>\n",
       "    </tr>\n",
       "    <tr>\n",
       "      <th>1</th>\n",
       "      <td>True</td>\n",
       "      <td>398</td>\n",
       "    </tr>\n",
       "  </tbody>\n",
       "</table>\n",
       "</div>"
      ],
      "text/plain": [
       "   count  count\n",
       "0  False  16582\n",
       "1   True    398"
      ]
     },
     "metadata": {},
     "output_type": "display_data"
    },
    {
     "name": "stdout",
     "output_type": "stream",
     "text": [
      "\n",
      "\n",
      "Counts for Cabin:\n"
     ]
    },
    {
     "data": {
      "text/html": [
       "<div>\n",
       "<style scoped>\n",
       "    .dataframe tbody tr th:only-of-type {\n",
       "        vertical-align: middle;\n",
       "    }\n",
       "\n",
       "    .dataframe tbody tr th {\n",
       "        vertical-align: top;\n",
       "    }\n",
       "\n",
       "    .dataframe thead th {\n",
       "        text-align: right;\n",
       "    }\n",
       "</style>\n",
       "<table border=\"1\" class=\"dataframe\">\n",
       "  <thead>\n",
       "    <tr style=\"text-align: right;\">\n",
       "      <th></th>\n",
       "      <th>count</th>\n",
       "      <th>count</th>\n",
       "    </tr>\n",
       "  </thead>\n",
       "  <tbody>\n",
       "    <tr>\n",
       "      <th>0</th>\n",
       "      <td>G/734/S</td>\n",
       "      <td>16</td>\n",
       "    </tr>\n",
       "    <tr>\n",
       "      <th>1</th>\n",
       "      <td>G/109/P</td>\n",
       "      <td>14</td>\n",
       "    </tr>\n",
       "    <tr>\n",
       "      <th>2</th>\n",
       "      <td>B/201/P</td>\n",
       "      <td>14</td>\n",
       "    </tr>\n",
       "    <tr>\n",
       "      <th>3</th>\n",
       "      <td>G/1368/P</td>\n",
       "      <td>14</td>\n",
       "    </tr>\n",
       "    <tr>\n",
       "      <th>4</th>\n",
       "      <td>G/981/S</td>\n",
       "      <td>14</td>\n",
       "    </tr>\n",
       "    <tr>\n",
       "      <th>...</th>\n",
       "      <td>...</td>\n",
       "      <td>...</td>\n",
       "    </tr>\n",
       "    <tr>\n",
       "      <th>6555</th>\n",
       "      <td>G/556/P</td>\n",
       "      <td>2</td>\n",
       "    </tr>\n",
       "    <tr>\n",
       "      <th>6556</th>\n",
       "      <td>E/231/S</td>\n",
       "      <td>2</td>\n",
       "    </tr>\n",
       "    <tr>\n",
       "      <th>6557</th>\n",
       "      <td>G/545/S</td>\n",
       "      <td>2</td>\n",
       "    </tr>\n",
       "    <tr>\n",
       "      <th>6558</th>\n",
       "      <td>G/543/S</td>\n",
       "      <td>2</td>\n",
       "    </tr>\n",
       "    <tr>\n",
       "      <th>6559</th>\n",
       "      <td>F/947/P</td>\n",
       "      <td>2</td>\n",
       "    </tr>\n",
       "  </tbody>\n",
       "</table>\n",
       "<p>6560 rows × 2 columns</p>\n",
       "</div>"
      ],
      "text/plain": [
       "         count  count\n",
       "0      G/734/S     16\n",
       "1      G/109/P     14\n",
       "2      B/201/P     14\n",
       "3     G/1368/P     14\n",
       "4      G/981/S     14\n",
       "...        ...    ...\n",
       "6555   G/556/P      2\n",
       "6556   E/231/S      2\n",
       "6557   G/545/S      2\n",
       "6558   G/543/S      2\n",
       "6559   F/947/P      2\n",
       "\n",
       "[6560 rows x 2 columns]"
      ]
     },
     "metadata": {},
     "output_type": "display_data"
    },
    {
     "name": "stdout",
     "output_type": "stream",
     "text": [
      "\n",
      "\n"
     ]
    }
   ],
   "source": [
    "categorical_features = ['HomePlanet', 'CryoSleep', 'Destination', 'VIP', 'Cabin']\n",
    "\n",
    "counts_dict = {}\n",
    "\n",
    "for feature in categorical_features:\n",
    "    if feature in df.columns:\n",
    "        counts_dict[feature] = df[feature].value_counts()\n",
    "    else:\n",
    "        counts_dict[feature] = 'Feature not found in the dataset.'\n",
    "\n",
    "for feature, counts in counts_dict.items():\n",
    "    print(f'Counts for {feature}:')\n",
    "    if isinstance(counts, pd.Series):\n",
    "        display(pd.DataFrame(counts).reset_index().rename(columns={'index': feature, feature: 'count'}))\n",
    "    else:\n",
    "        print(counts)\n",
    "    print('\\n')"
   ]
  },
  {
   "cell_type": "markdown",
   "id": "64a0b9db",
   "metadata": {
    "papermill": {
     "duration": 0.012161,
     "end_time": "2024-06-19T05:44:48.826466",
     "exception": false,
     "start_time": "2024-06-19T05:44:48.814305",
     "status": "completed"
    },
    "tags": []
   },
   "source": [
    "### 7. Check for Missing Values"
   ]
  },
  {
   "cell_type": "code",
   "execution_count": 8,
   "id": "aa65cbfb",
   "metadata": {
    "_kg_hide-input": true,
    "execution": {
     "iopub.execute_input": "2024-06-19T05:44:48.852778Z",
     "iopub.status.busy": "2024-06-19T05:44:48.852405Z",
     "iopub.status.idle": "2024-06-19T05:44:48.873775Z",
     "shell.execute_reply": "2024-06-19T05:44:48.872660Z"
    },
    "papermill": {
     "duration": 0.037177,
     "end_time": "2024-06-19T05:44:48.876072",
     "exception": false,
     "start_time": "2024-06-19T05:44:48.838895",
     "status": "completed"
    },
    "tags": []
   },
   "outputs": [
    {
     "data": {
      "text/html": [
       "<div>\n",
       "<style scoped>\n",
       "    .dataframe tbody tr th:only-of-type {\n",
       "        vertical-align: middle;\n",
       "    }\n",
       "\n",
       "    .dataframe tbody tr th {\n",
       "        vertical-align: top;\n",
       "    }\n",
       "\n",
       "    .dataframe thead th {\n",
       "        text-align: right;\n",
       "    }\n",
       "</style>\n",
       "<table border=\"1\" class=\"dataframe\">\n",
       "  <thead>\n",
       "    <tr style=\"text-align: right;\">\n",
       "      <th></th>\n",
       "      <th>Missing Values</th>\n",
       "      <th>Percentage</th>\n",
       "    </tr>\n",
       "  </thead>\n",
       "  <tbody>\n",
       "    <tr>\n",
       "      <th>CryoSleep</th>\n",
       "      <td>434</td>\n",
       "      <td>2.5</td>\n",
       "    </tr>\n",
       "    <tr>\n",
       "      <th>ShoppingMall</th>\n",
       "      <td>416</td>\n",
       "      <td>2.4</td>\n",
       "    </tr>\n",
       "    <tr>\n",
       "      <th>VIP</th>\n",
       "      <td>406</td>\n",
       "      <td>2.3</td>\n",
       "    </tr>\n",
       "    <tr>\n",
       "      <th>HomePlanet</th>\n",
       "      <td>402</td>\n",
       "      <td>2.3</td>\n",
       "    </tr>\n",
       "    <tr>\n",
       "      <th>Name</th>\n",
       "      <td>400</td>\n",
       "      <td>2.3</td>\n",
       "    </tr>\n",
       "    <tr>\n",
       "      <th>Cabin</th>\n",
       "      <td>398</td>\n",
       "      <td>2.3</td>\n",
       "    </tr>\n",
       "    <tr>\n",
       "      <th>VRDeck</th>\n",
       "      <td>376</td>\n",
       "      <td>2.2</td>\n",
       "    </tr>\n",
       "    <tr>\n",
       "      <th>FoodCourt</th>\n",
       "      <td>366</td>\n",
       "      <td>2.1</td>\n",
       "    </tr>\n",
       "    <tr>\n",
       "      <th>Spa</th>\n",
       "      <td>366</td>\n",
       "      <td>2.1</td>\n",
       "    </tr>\n",
       "    <tr>\n",
       "      <th>Destination</th>\n",
       "      <td>364</td>\n",
       "      <td>2.1</td>\n",
       "    </tr>\n",
       "    <tr>\n",
       "      <th>RoomService</th>\n",
       "      <td>362</td>\n",
       "      <td>2.1</td>\n",
       "    </tr>\n",
       "    <tr>\n",
       "      <th>Age</th>\n",
       "      <td>358</td>\n",
       "      <td>2.1</td>\n",
       "    </tr>\n",
       "  </tbody>\n",
       "</table>\n",
       "</div>"
      ],
      "text/plain": [
       "              Missing Values  Percentage\n",
       "CryoSleep                434         2.5\n",
       "ShoppingMall             416         2.4\n",
       "VIP                      406         2.3\n",
       "HomePlanet               402         2.3\n",
       "Name                     400         2.3\n",
       "Cabin                    398         2.3\n",
       "VRDeck                   376         2.2\n",
       "FoodCourt                366         2.1\n",
       "Spa                      366         2.1\n",
       "Destination              364         2.1\n",
       "RoomService              362         2.1\n",
       "Age                      358         2.1"
      ]
     },
     "execution_count": 8,
     "metadata": {},
     "output_type": "execute_result"
    }
   ],
   "source": [
    "# Calculate missing values and their percentage\n",
    "missing_values = df.isnull().sum()\n",
    "missing_percentage = (missing_values / len(df)) * 100\n",
    "\n",
    "missing_df = pd.DataFrame({'Missing Values': missing_values, 'Percentage': missing_percentage}).round(1)\n",
    "missing_df = missing_df[missing_df['Missing Values'] > 0].sort_values(by='Missing Values', ascending=False)\n",
    "\n",
    "missing_df"
   ]
  },
  {
   "cell_type": "markdown",
   "id": "b5faad54",
   "metadata": {
    "papermill": {
     "duration": 0.012279,
     "end_time": "2024-06-19T05:44:48.900971",
     "exception": false,
     "start_time": "2024-06-19T05:44:48.888692",
     "status": "completed"
    },
    "tags": []
   },
   "source": [
    "## Feature Engineering\n",
    "<a id=\"feature-engineering\"></a>"
   ]
  },
  {
   "cell_type": "markdown",
   "id": "febc0ddf",
   "metadata": {
    "papermill": {
     "duration": 0.012381,
     "end_time": "2024-06-19T05:44:48.925979",
     "exception": false,
     "start_time": "2024-06-19T05:44:48.913598",
     "status": "completed"
    },
    "tags": []
   },
   "source": [
    "### 1. Create Group Size Feature Using Cabin"
   ]
  },
  {
   "cell_type": "code",
   "execution_count": 9,
   "id": "6135fa3e",
   "metadata": {
    "_kg_hide-input": true,
    "execution": {
     "iopub.execute_input": "2024-06-19T05:44:49.011369Z",
     "iopub.status.busy": "2024-06-19T05:44:49.010975Z",
     "iopub.status.idle": "2024-06-19T05:44:49.029718Z",
     "shell.execute_reply": "2024-06-19T05:44:49.028602Z"
    },
    "papermill": {
     "duration": 0.09339,
     "end_time": "2024-06-19T05:44:49.032123",
     "exception": false,
     "start_time": "2024-06-19T05:44:48.938733",
     "status": "completed"
    },
    "tags": []
   },
   "outputs": [
    {
     "data": {
      "text/plain": [
       "0    2.0\n",
       "1    2.0\n",
       "2    4.0\n",
       "3    4.0\n",
       "4    2.0\n",
       "Name: group_size, dtype: float64"
      ]
     },
     "execution_count": 9,
     "metadata": {},
     "output_type": "execute_result"
    }
   ],
   "source": [
    "df['group_size'] = df.groupby('Cabin')['Cabin'].transform('count')\n",
    "\n",
    "df['group_size'].head()"
   ]
  },
  {
   "cell_type": "code",
   "execution_count": 10,
   "id": "85e29d00",
   "metadata": {
    "execution": {
     "iopub.execute_input": "2024-06-19T05:44:49.059763Z",
     "iopub.status.busy": "2024-06-19T05:44:49.059355Z",
     "iopub.status.idle": "2024-06-19T05:44:49.071353Z",
     "shell.execute_reply": "2024-06-19T05:44:49.070251Z"
    },
    "papermill": {
     "duration": 0.028387,
     "end_time": "2024-06-19T05:44:49.073601",
     "exception": false,
     "start_time": "2024-06-19T05:44:49.045214",
     "status": "completed"
    },
    "tags": []
   },
   "outputs": [
    {
     "data": {
      "text/plain": [
       "count    16988.000000\n",
       "mean         3.564869\n",
       "std          2.682723\n",
       "min          2.000000\n",
       "25%          2.000000\n",
       "50%          2.000000\n",
       "75%          4.000000\n",
       "max         16.000000\n",
       "Name: group_size, dtype: float64"
      ]
     },
     "execution_count": 10,
     "metadata": {},
     "output_type": "execute_result"
    }
   ],
   "source": [
    "df['group_size'].describe()"
   ]
  },
  {
   "cell_type": "markdown",
   "id": "b605c538",
   "metadata": {
    "papermill": {
     "duration": 0.012848,
     "end_time": "2024-06-19T05:44:49.099467",
     "exception": false,
     "start_time": "2024-06-19T05:44:49.086619",
     "status": "completed"
    },
    "tags": []
   },
   "source": [
    "### 2. Break Out Cabin Into Deck / Number / Side"
   ]
  },
  {
   "cell_type": "code",
   "execution_count": 11,
   "id": "a93656eb",
   "metadata": {
    "_kg_hide-input": true,
    "execution": {
     "iopub.execute_input": "2024-06-19T05:44:49.127705Z",
     "iopub.status.busy": "2024-06-19T05:44:49.127336Z",
     "iopub.status.idle": "2024-06-19T05:44:51.353067Z",
     "shell.execute_reply": "2024-06-19T05:44:51.351840Z"
    },
    "papermill": {
     "duration": 2.242919,
     "end_time": "2024-06-19T05:44:51.355737",
     "exception": false,
     "start_time": "2024-06-19T05:44:49.112818",
     "status": "completed"
    },
    "tags": []
   },
   "outputs": [],
   "source": [
    "def split_cabin(cabin):\n",
    "    if pd.isna(cabin):\n",
    "        return pd.Series([None, None, None])\n",
    "    parts = cabin.split('/')\n",
    "    deck = parts[0]\n",
    "    number = parts[1]\n",
    "    side = 'Port' if parts[2] == 'P' else 'Starboard'\n",
    "    return pd.Series([deck, number, side])\n",
    "\n",
    "df[['cabin_deck', 'cabin_number', 'cabin_side']] = df['Cabin'].apply(split_cabin)"
   ]
  },
  {
   "cell_type": "code",
   "execution_count": 12,
   "id": "a83b4ecf",
   "metadata": {
    "_kg_hide-input": true,
    "execution": {
     "iopub.execute_input": "2024-06-19T05:44:51.383925Z",
     "iopub.status.busy": "2024-06-19T05:44:51.383206Z",
     "iopub.status.idle": "2024-06-19T05:44:51.407832Z",
     "shell.execute_reply": "2024-06-19T05:44:51.406639Z"
    },
    "papermill": {
     "duration": 0.042237,
     "end_time": "2024-06-19T05:44:51.411219",
     "exception": false,
     "start_time": "2024-06-19T05:44:51.368982",
     "status": "completed"
    },
    "tags": []
   },
   "outputs": [
    {
     "name": "stdout",
     "output_type": "stream",
     "text": [
      "Counts for cabin_deck:\n"
     ]
    },
    {
     "data": {
      "text/html": [
       "<div>\n",
       "<style scoped>\n",
       "    .dataframe tbody tr th:only-of-type {\n",
       "        vertical-align: middle;\n",
       "    }\n",
       "\n",
       "    .dataframe tbody tr th {\n",
       "        vertical-align: top;\n",
       "    }\n",
       "\n",
       "    .dataframe thead th {\n",
       "        text-align: right;\n",
       "    }\n",
       "</style>\n",
       "<table border=\"1\" class=\"dataframe\">\n",
       "  <thead>\n",
       "    <tr style=\"text-align: right;\">\n",
       "      <th></th>\n",
       "      <th>count</th>\n",
       "      <th>count</th>\n",
       "    </tr>\n",
       "  </thead>\n",
       "  <tbody>\n",
       "    <tr>\n",
       "      <th>0</th>\n",
       "      <td>F</td>\n",
       "      <td>5588</td>\n",
       "    </tr>\n",
       "    <tr>\n",
       "      <th>1</th>\n",
       "      <td>G</td>\n",
       "      <td>5118</td>\n",
       "    </tr>\n",
       "    <tr>\n",
       "      <th>2</th>\n",
       "      <td>E</td>\n",
       "      <td>1752</td>\n",
       "    </tr>\n",
       "    <tr>\n",
       "      <th>3</th>\n",
       "      <td>B</td>\n",
       "      <td>1558</td>\n",
       "    </tr>\n",
       "    <tr>\n",
       "      <th>4</th>\n",
       "      <td>C</td>\n",
       "      <td>1494</td>\n",
       "    </tr>\n",
       "    <tr>\n",
       "      <th>5</th>\n",
       "      <td>D</td>\n",
       "      <td>956</td>\n",
       "    </tr>\n",
       "    <tr>\n",
       "      <th>6</th>\n",
       "      <td>A</td>\n",
       "      <td>512</td>\n",
       "    </tr>\n",
       "    <tr>\n",
       "      <th>7</th>\n",
       "      <td>T</td>\n",
       "      <td>10</td>\n",
       "    </tr>\n",
       "  </tbody>\n",
       "</table>\n",
       "</div>"
      ],
      "text/plain": [
       "   count  count\n",
       "0      F   5588\n",
       "1      G   5118\n",
       "2      E   1752\n",
       "3      B   1558\n",
       "4      C   1494\n",
       "5      D    956\n",
       "6      A    512\n",
       "7      T     10"
      ]
     },
     "metadata": {},
     "output_type": "display_data"
    },
    {
     "name": "stdout",
     "output_type": "stream",
     "text": [
      "\n",
      "\n",
      "Counts for cabin_side:\n"
     ]
    },
    {
     "data": {
      "text/html": [
       "<div>\n",
       "<style scoped>\n",
       "    .dataframe tbody tr th:only-of-type {\n",
       "        vertical-align: middle;\n",
       "    }\n",
       "\n",
       "    .dataframe tbody tr th {\n",
       "        vertical-align: top;\n",
       "    }\n",
       "\n",
       "    .dataframe thead th {\n",
       "        text-align: right;\n",
       "    }\n",
       "</style>\n",
       "<table border=\"1\" class=\"dataframe\">\n",
       "  <thead>\n",
       "    <tr style=\"text-align: right;\">\n",
       "      <th></th>\n",
       "      <th>count</th>\n",
       "      <th>count</th>\n",
       "    </tr>\n",
       "  </thead>\n",
       "  <tbody>\n",
       "    <tr>\n",
       "      <th>0</th>\n",
       "      <td>Starboard</td>\n",
       "      <td>8576</td>\n",
       "    </tr>\n",
       "    <tr>\n",
       "      <th>1</th>\n",
       "      <td>Port</td>\n",
       "      <td>8412</td>\n",
       "    </tr>\n",
       "  </tbody>\n",
       "</table>\n",
       "</div>"
      ],
      "text/plain": [
       "       count  count\n",
       "0  Starboard   8576\n",
       "1       Port   8412"
      ]
     },
     "metadata": {},
     "output_type": "display_data"
    },
    {
     "name": "stdout",
     "output_type": "stream",
     "text": [
      "\n",
      "\n"
     ]
    }
   ],
   "source": [
    "cabin_cols = ['cabin_deck', 'cabin_side']\n",
    "\n",
    "counts_dict = {}\n",
    "\n",
    "for feature in cabin_cols:\n",
    "    if feature in df.columns:\n",
    "        counts_dict[feature] = df[feature].value_counts()\n",
    "    else:\n",
    "        counts_dict[feature] = 'Feature not found in the dataset.'\n",
    "\n",
    "for feature, counts in counts_dict.items():\n",
    "    print(f'Counts for {feature}:')\n",
    "    if isinstance(counts, pd.Series):\n",
    "        display(pd.DataFrame(counts).reset_index().rename(columns={'index': feature, feature: 'count'}))\n",
    "    else:\n",
    "        print(counts)\n",
    "    print('\\n')"
   ]
  },
  {
   "cell_type": "code",
   "execution_count": 13,
   "id": "e6544efa",
   "metadata": {
    "_kg_hide-input": true,
    "execution": {
     "iopub.execute_input": "2024-06-19T05:44:51.440599Z",
     "iopub.status.busy": "2024-06-19T05:44:51.439869Z",
     "iopub.status.idle": "2024-06-19T05:44:51.772000Z",
     "shell.execute_reply": "2024-06-19T05:44:51.770905Z"
    },
    "papermill": {
     "duration": 0.349408,
     "end_time": "2024-06-19T05:44:51.774535",
     "exception": false,
     "start_time": "2024-06-19T05:44:51.425127",
     "status": "completed"
    },
    "tags": []
   },
   "outputs": [
    {
     "data": {
      "image/png": "[encoded data removed]",
      "text/plain": [
       "<Figure size 400x300 with 1 Axes>"
      ]
     },
     "metadata": {},
     "output_type": "display_data"
    }
   ],
   "source": [
    "# Convert cabin_number to numeric, coerce errors to NaN\n",
    "df['cabin_number'] = pd.to_numeric(df['cabin_number'], errors='coerce')\n",
    "\n",
    "# Drop rows with NaN values in cabin_number for the histogram\n",
    "df = df.dropna(subset=['cabin_number'])\n",
    "\n",
    "# Plot the histogram of cabin_number\n",
    "plt.figure(figsize=(4, 3))\n",
    "plt.hist(df['cabin_number'], bins=50, edgecolor='k', alpha=0.4)\n",
    "plt.title('Distribution of Cabin Numbers')\n",
    "plt.xlabel('Cabin Number')\n",
    "plt.ylabel('Frequency')\n",
    "plt.show()"
   ]
  },
  {
   "cell_type": "markdown",
   "id": "3597e3f7",
   "metadata": {
    "papermill": {
     "duration": 0.013586,
     "end_time": "2024-06-19T05:44:51.802241",
     "exception": false,
     "start_time": "2024-06-19T05:44:51.788655",
     "status": "completed"
    },
    "tags": []
   },
   "source": [
    "### 3. Create Total Spend Feature and Spend Groupings"
   ]
  },
  {
   "cell_type": "markdown",
   "id": "bc5f6322",
   "metadata": {
    "papermill": {
     "duration": 0.013659,
     "end_time": "2024-06-19T05:44:51.829809",
     "exception": false,
     "start_time": "2024-06-19T05:44:51.816150",
     "status": "completed"
    },
    "tags": []
   },
   "source": [
    "#### 3a. Create Total Spend Feature"
   ]
  },
  {
   "cell_type": "code",
   "execution_count": 14,
   "id": "c6ab30d6",
   "metadata": {
    "execution": {
     "iopub.execute_input": "2024-06-19T05:44:51.859321Z",
     "iopub.status.busy": "2024-06-19T05:44:51.858917Z",
     "iopub.status.idle": "2024-06-19T05:44:51.869858Z",
     "shell.execute_reply": "2024-06-19T05:44:51.868731Z"
    },
    "papermill": {
     "duration": 0.028466,
     "end_time": "2024-06-19T05:44:51.872208",
     "exception": false,
     "start_time": "2024-06-19T05:44:51.843742",
     "status": "completed"
    },
    "tags": []
   },
   "outputs": [],
   "source": [
    "expenditure_columns = ['RoomService', 'FoodCourt', 'ShoppingMall', 'Spa', 'VRDeck']\n",
    "df['total_spend'] = df[expenditure_columns].sum(axis=1)"
   ]
  },
  {
   "cell_type": "markdown",
   "id": "d071f4a9",
   "metadata": {
    "papermill": {
     "duration": 0.013368,
     "end_time": "2024-06-19T05:44:51.899543",
     "exception": false,
     "start_time": "2024-06-19T05:44:51.886175",
     "status": "completed"
    },
    "tags": []
   },
   "source": [
    "#### 3b. Create Total Spend by Group Feature"
   ]
  },
  {
   "cell_type": "code",
   "execution_count": 15,
   "id": "53dc194e",
   "metadata": {
    "execution": {
     "iopub.execute_input": "2024-06-19T05:44:51.929085Z",
     "iopub.status.busy": "2024-06-19T05:44:51.928658Z",
     "iopub.status.idle": "2024-06-19T05:44:51.944839Z",
     "shell.execute_reply": "2024-06-19T05:44:51.943858Z"
    },
    "papermill": {
     "duration": 0.033948,
     "end_time": "2024-06-19T05:44:51.947389",
     "exception": false,
     "start_time": "2024-06-19T05:44:51.913441",
     "status": "completed"
    },
    "tags": []
   },
   "outputs": [],
   "source": [
    "df['total_group_spend'] = df.groupby('Cabin')['total_spend'].transform('sum')"
   ]
  },
  {
   "cell_type": "code",
   "execution_count": 16,
   "id": "2ddafd84",
   "metadata": {
    "execution": {
     "iopub.execute_input": "2024-06-19T05:44:51.976972Z",
     "iopub.status.busy": "2024-06-19T05:44:51.976557Z",
     "iopub.status.idle": "2024-06-19T05:44:51.987816Z",
     "shell.execute_reply": "2024-06-19T05:44:51.986705Z"
    },
    "papermill": {
     "duration": 0.028808,
     "end_time": "2024-06-19T05:44:51.990098",
     "exception": false,
     "start_time": "2024-06-19T05:44:51.961290",
     "status": "completed"
    },
    "tags": []
   },
   "outputs": [
    {
     "data": {
      "text/plain": [
       "count     16988.000000\n",
       "mean       5448.120556\n",
       "std       10635.691084\n",
       "min           0.000000\n",
       "25%           0.000000\n",
       "50%        1730.000000\n",
       "75%        4826.000000\n",
       "max      105336.000000\n",
       "Name: total_group_spend, dtype: float64"
      ]
     },
     "execution_count": 16,
     "metadata": {},
     "output_type": "execute_result"
    }
   ],
   "source": [
    "df['total_group_spend'].describe()"
   ]
  },
  {
   "cell_type": "markdown",
   "id": "b7bc4e85",
   "metadata": {
    "papermill": {
     "duration": 0.013711,
     "end_time": "2024-06-19T05:44:52.018157",
     "exception": false,
     "start_time": "2024-06-19T05:44:52.004446",
     "status": "completed"
    },
    "tags": []
   },
   "source": [
    "#### 3c. Bin Total Passenger Spend"
   ]
  },
  {
   "cell_type": "code",
   "execution_count": 17,
   "id": "b99b39b9",
   "metadata": {
    "execution": {
     "iopub.execute_input": "2024-06-19T05:44:52.047899Z",
     "iopub.status.busy": "2024-06-19T05:44:52.047505Z",
     "iopub.status.idle": "2024-06-19T05:44:52.061580Z",
     "shell.execute_reply": "2024-06-19T05:44:52.060510Z"
    },
    "papermill": {
     "duration": 0.031681,
     "end_time": "2024-06-19T05:44:52.063768",
     "exception": false,
     "start_time": "2024-06-19T05:44:52.032087",
     "status": "completed"
    },
    "tags": []
   },
   "outputs": [
    {
     "data": {
      "text/plain": [
       "trip_spend\n",
       "no_spend      7112\n",
       "med_spend     6412\n",
       "high_spend    3254\n",
       "low_spend      210\n",
       "Name: count, dtype: int64"
      ]
     },
     "execution_count": 17,
     "metadata": {},
     "output_type": "execute_result"
    }
   ],
   "source": [
    "# Bin total_spend into categories\n",
    "bins = [-1, 0, 500, 2000, float('inf')]\n",
    "labels = ['no_spend', 'low_spend', 'med_spend', 'high_spend']\n",
    "df['trip_spend'] = pd.cut(df['total_spend'], bins=bins, labels=labels)\n",
    "\n",
    "df['trip_spend'].value_counts()"
   ]
  },
  {
   "cell_type": "markdown",
   "id": "30899153",
   "metadata": {
    "papermill": {
     "duration": 0.013843,
     "end_time": "2024-06-19T05:44:52.091862",
     "exception": false,
     "start_time": "2024-06-19T05:44:52.078019",
     "status": "completed"
    },
    "tags": []
   },
   "source": [
    "#### 3d. Bin Total Group Spend"
   ]
  },
  {
   "cell_type": "code",
   "execution_count": 18,
   "id": "64f95fe8",
   "metadata": {
    "execution": {
     "iopub.execute_input": "2024-06-19T05:44:52.121904Z",
     "iopub.status.busy": "2024-06-19T05:44:52.121514Z",
     "iopub.status.idle": "2024-06-19T05:44:52.134020Z",
     "shell.execute_reply": "2024-06-19T05:44:52.132905Z"
    },
    "papermill": {
     "duration": 0.030218,
     "end_time": "2024-06-19T05:44:52.136312",
     "exception": false,
     "start_time": "2024-06-19T05:44:52.106094",
     "status": "completed"
    },
    "tags": []
   },
   "outputs": [
    {
     "data": {
      "text/plain": [
       "group_spend\n",
       "med_spend     5602\n",
       "no_spend      5220\n",
       "high_spend    4472\n",
       "low_spend     1694\n",
       "Name: count, dtype: int64"
      ]
     },
     "execution_count": 18,
     "metadata": {},
     "output_type": "execute_result"
    }
   ],
   "source": [
    "# Bin total_spend into categories\n",
    "bins = [-1, 0, 1500, 4500, float('inf')]\n",
    "labels = ['no_spend', 'low_spend', 'med_spend', 'high_spend']\n",
    "df['group_spend'] = pd.cut(df['total_group_spend'], bins=bins, labels=labels)\n",
    "\n",
    "df['group_spend'].value_counts()"
   ]
  },
  {
   "cell_type": "markdown",
   "id": "ba40eb4c",
   "metadata": {
    "papermill": {
     "duration": 0.013906,
     "end_time": "2024-06-19T05:44:52.164413",
     "exception": false,
     "start_time": "2024-06-19T05:44:52.150507",
     "status": "completed"
    },
    "tags": []
   },
   "source": [
    "### 4. Bin Age"
   ]
  },
  {
   "cell_type": "code",
   "execution_count": 19,
   "id": "34eda80d",
   "metadata": {
    "execution": {
     "iopub.execute_input": "2024-06-19T05:44:52.194426Z",
     "iopub.status.busy": "2024-06-19T05:44:52.194050Z",
     "iopub.status.idle": "2024-06-19T05:44:52.207093Z",
     "shell.execute_reply": "2024-06-19T05:44:52.206064Z"
    },
    "papermill": {
     "duration": 0.031119,
     "end_time": "2024-06-19T05:44:52.209753",
     "exception": false,
     "start_time": "2024-06-19T05:44:52.178634",
     "status": "completed"
    },
    "tags": []
   },
   "outputs": [],
   "source": [
    "# Bin age into categories with new labels\n",
    "age_bins = [0, 12, 20, 30, 45, 64, float('inf')]\n",
    "age_labels = ['age_kid', \n",
    "              'age_teen', \n",
    "              'age_young_adult', \n",
    "              'age_adult', \n",
    "              'age_middle_age', \n",
    "              'age_senior']\n",
    "\n",
    "df['age_category'] = pd.cut(df['Age'], bins=age_bins, labels=age_labels)\n",
    "\n",
    "df.drop(columns=['Age'], inplace=True)"
   ]
  },
  {
   "cell_type": "code",
   "execution_count": 20,
   "id": "4940aed3",
   "metadata": {
    "execution": {
     "iopub.execute_input": "2024-06-19T05:44:52.240721Z",
     "iopub.status.busy": "2024-06-19T05:44:52.240320Z",
     "iopub.status.idle": "2024-06-19T05:44:52.250338Z",
     "shell.execute_reply": "2024-06-19T05:44:52.249188Z"
    },
    "papermill": {
     "duration": 0.028318,
     "end_time": "2024-06-19T05:44:52.252757",
     "exception": false,
     "start_time": "2024-06-19T05:44:52.224439",
     "status": "completed"
    },
    "tags": []
   },
   "outputs": [
    {
     "data": {
      "text/plain": [
       "age_category\n",
       "age_young_adult    5218\n",
       "age_adult          4410\n",
       "age_teen           3182\n",
       "age_middle_age     2046\n",
       "age_kid            1228\n",
       "age_senior          204\n",
       "Name: count, dtype: int64"
      ]
     },
     "execution_count": 20,
     "metadata": {},
     "output_type": "execute_result"
    }
   ],
   "source": [
    "# Plot for age_category\n",
    "df['age_category'].value_counts()"
   ]
  },
  {
   "cell_type": "code",
   "execution_count": 21,
   "id": "39d70957",
   "metadata": {
    "execution": {
     "iopub.execute_input": "2024-06-19T05:44:52.284865Z",
     "iopub.status.busy": "2024-06-19T05:44:52.284485Z",
     "iopub.status.idle": "2024-06-19T05:44:52.315221Z",
     "shell.execute_reply": "2024-06-19T05:44:52.314158Z"
    },
    "papermill": {
     "duration": 0.050282,
     "end_time": "2024-06-19T05:44:52.317730",
     "exception": false,
     "start_time": "2024-06-19T05:44:52.267448",
     "status": "completed"
    },
    "tags": []
   },
   "outputs": [
    {
     "data": {
      "text/html": [
       "<div>\n",
       "<style scoped>\n",
       "    .dataframe tbody tr th:only-of-type {\n",
       "        vertical-align: middle;\n",
       "    }\n",
       "\n",
       "    .dataframe tbody tr th {\n",
       "        vertical-align: top;\n",
       "    }\n",
       "\n",
       "    .dataframe thead th {\n",
       "        text-align: right;\n",
       "    }\n",
       "</style>\n",
       "<table border=\"1\" class=\"dataframe\">\n",
       "  <thead>\n",
       "    <tr style=\"text-align: right;\">\n",
       "      <th></th>\n",
       "      <th>PassengerId</th>\n",
       "      <th>HomePlanet</th>\n",
       "      <th>CryoSleep</th>\n",
       "      <th>Cabin</th>\n",
       "      <th>Destination</th>\n",
       "      <th>VIP</th>\n",
       "      <th>RoomService</th>\n",
       "      <th>FoodCourt</th>\n",
       "      <th>ShoppingMall</th>\n",
       "      <th>Spa</th>\n",
       "      <th>...</th>\n",
       "      <th>Transported</th>\n",
       "      <th>group_size</th>\n",
       "      <th>cabin_deck</th>\n",
       "      <th>cabin_number</th>\n",
       "      <th>cabin_side</th>\n",
       "      <th>total_spend</th>\n",
       "      <th>total_group_spend</th>\n",
       "      <th>trip_spend</th>\n",
       "      <th>group_spend</th>\n",
       "      <th>age_category</th>\n",
       "    </tr>\n",
       "  </thead>\n",
       "  <tbody>\n",
       "    <tr>\n",
       "      <th>0</th>\n",
       "      <td>0001_01</td>\n",
       "      <td>Europa</td>\n",
       "      <td>False</td>\n",
       "      <td>B/0/P</td>\n",
       "      <td>TRAPPIST-1e</td>\n",
       "      <td>False</td>\n",
       "      <td>0.0</td>\n",
       "      <td>0.0</td>\n",
       "      <td>0.0</td>\n",
       "      <td>0.0</td>\n",
       "      <td>...</td>\n",
       "      <td>False</td>\n",
       "      <td>2.0</td>\n",
       "      <td>B</td>\n",
       "      <td>0.0</td>\n",
       "      <td>Port</td>\n",
       "      <td>0.0</td>\n",
       "      <td>0.0</td>\n",
       "      <td>no_spend</td>\n",
       "      <td>no_spend</td>\n",
       "      <td>age_adult</td>\n",
       "    </tr>\n",
       "    <tr>\n",
       "      <th>1</th>\n",
       "      <td>0002_01</td>\n",
       "      <td>Earth</td>\n",
       "      <td>False</td>\n",
       "      <td>F/0/S</td>\n",
       "      <td>TRAPPIST-1e</td>\n",
       "      <td>False</td>\n",
       "      <td>109.0</td>\n",
       "      <td>9.0</td>\n",
       "      <td>25.0</td>\n",
       "      <td>549.0</td>\n",
       "      <td>...</td>\n",
       "      <td>True</td>\n",
       "      <td>2.0</td>\n",
       "      <td>F</td>\n",
       "      <td>0.0</td>\n",
       "      <td>Starboard</td>\n",
       "      <td>736.0</td>\n",
       "      <td>1472.0</td>\n",
       "      <td>med_spend</td>\n",
       "      <td>low_spend</td>\n",
       "      <td>age_young_adult</td>\n",
       "    </tr>\n",
       "    <tr>\n",
       "      <th>2</th>\n",
       "      <td>0003_01</td>\n",
       "      <td>Europa</td>\n",
       "      <td>False</td>\n",
       "      <td>A/0/S</td>\n",
       "      <td>TRAPPIST-1e</td>\n",
       "      <td>True</td>\n",
       "      <td>43.0</td>\n",
       "      <td>3576.0</td>\n",
       "      <td>0.0</td>\n",
       "      <td>6715.0</td>\n",
       "      <td>...</td>\n",
       "      <td>False</td>\n",
       "      <td>4.0</td>\n",
       "      <td>A</td>\n",
       "      <td>0.0</td>\n",
       "      <td>Starboard</td>\n",
       "      <td>10383.0</td>\n",
       "      <td>31118.0</td>\n",
       "      <td>high_spend</td>\n",
       "      <td>high_spend</td>\n",
       "      <td>age_middle_age</td>\n",
       "    </tr>\n",
       "    <tr>\n",
       "      <th>3</th>\n",
       "      <td>0003_02</td>\n",
       "      <td>Europa</td>\n",
       "      <td>False</td>\n",
       "      <td>A/0/S</td>\n",
       "      <td>TRAPPIST-1e</td>\n",
       "      <td>False</td>\n",
       "      <td>0.0</td>\n",
       "      <td>1283.0</td>\n",
       "      <td>371.0</td>\n",
       "      <td>3329.0</td>\n",
       "      <td>...</td>\n",
       "      <td>False</td>\n",
       "      <td>4.0</td>\n",
       "      <td>A</td>\n",
       "      <td>0.0</td>\n",
       "      <td>Starboard</td>\n",
       "      <td>5176.0</td>\n",
       "      <td>31118.0</td>\n",
       "      <td>high_spend</td>\n",
       "      <td>high_spend</td>\n",
       "      <td>age_adult</td>\n",
       "    </tr>\n",
       "    <tr>\n",
       "      <th>4</th>\n",
       "      <td>0004_01</td>\n",
       "      <td>Earth</td>\n",
       "      <td>False</td>\n",
       "      <td>F/1/S</td>\n",
       "      <td>TRAPPIST-1e</td>\n",
       "      <td>False</td>\n",
       "      <td>303.0</td>\n",
       "      <td>70.0</td>\n",
       "      <td>151.0</td>\n",
       "      <td>565.0</td>\n",
       "      <td>...</td>\n",
       "      <td>True</td>\n",
       "      <td>2.0</td>\n",
       "      <td>F</td>\n",
       "      <td>1.0</td>\n",
       "      <td>Starboard</td>\n",
       "      <td>1091.0</td>\n",
       "      <td>2182.0</td>\n",
       "      <td>med_spend</td>\n",
       "      <td>med_spend</td>\n",
       "      <td>age_teen</td>\n",
       "    </tr>\n",
       "  </tbody>\n",
       "</table>\n",
       "<p>5 rows × 22 columns</p>\n",
       "</div>"
      ],
      "text/plain": [
       "  PassengerId HomePlanet CryoSleep  Cabin  Destination    VIP  RoomService  \\\n",
       "0     0001_01     Europa     False  B/0/P  TRAPPIST-1e  False          0.0   \n",
       "1     0002_01      Earth     False  F/0/S  TRAPPIST-1e  False        109.0   \n",
       "2     0003_01     Europa     False  A/0/S  TRAPPIST-1e   True         43.0   \n",
       "3     0003_02     Europa     False  A/0/S  TRAPPIST-1e  False          0.0   \n",
       "4     0004_01      Earth     False  F/1/S  TRAPPIST-1e  False        303.0   \n",
       "\n",
       "   FoodCourt  ShoppingMall     Spa  ...  Transported group_size  cabin_deck  \\\n",
       "0        0.0           0.0     0.0  ...        False        2.0           B   \n",
       "1        9.0          25.0   549.0  ...         True        2.0           F   \n",
       "2     3576.0           0.0  6715.0  ...        False        4.0           A   \n",
       "3     1283.0         371.0  3329.0  ...        False        4.0           A   \n",
       "4       70.0         151.0   565.0  ...         True        2.0           F   \n",
       "\n",
       "   cabin_number cabin_side  total_spend total_group_spend  trip_spend  \\\n",
       "0           0.0       Port          0.0               0.0    no_spend   \n",
       "1           0.0  Starboard        736.0            1472.0   med_spend   \n",
       "2           0.0  Starboard      10383.0           31118.0  high_spend   \n",
       "3           0.0  Starboard       5176.0           31118.0  high_spend   \n",
       "4           1.0  Starboard       1091.0            2182.0   med_spend   \n",
       "\n",
       "   group_spend     age_category  \n",
       "0     no_spend        age_adult  \n",
       "1    low_spend  age_young_adult  \n",
       "2   high_spend   age_middle_age  \n",
       "3   high_spend        age_adult  \n",
       "4    med_spend         age_teen  \n",
       "\n",
       "[5 rows x 22 columns]"
      ]
     },
     "execution_count": 21,
     "metadata": {},
     "output_type": "execute_result"
    }
   ],
   "source": [
    "df.head()"
   ]
  },
  {
   "cell_type": "markdown",
   "id": "3cc1a6a9",
   "metadata": {
    "papermill": {
     "duration": 0.014516,
     "end_time": "2024-06-19T05:44:52.347491",
     "exception": false,
     "start_time": "2024-06-19T05:44:52.332975",
     "status": "completed"
    },
    "tags": []
   },
   "source": [
    "## Data Cleaning\n",
    "<a id=\"data-cleaning\"></a>"
   ]
  },
  {
   "cell_type": "markdown",
   "id": "44702dde",
   "metadata": {
    "papermill": {
     "duration": 0.01542,
     "end_time": "2024-06-19T05:44:52.377834",
     "exception": false,
     "start_time": "2024-06-19T05:44:52.362414",
     "status": "completed"
    },
    "tags": []
   },
   "source": [
    "### 1. Drop Columns"
   ]
  },
  {
   "cell_type": "code",
   "execution_count": 22,
   "id": "5b1551e7",
   "metadata": {
    "execution": {
     "iopub.execute_input": "2024-06-19T05:44:52.409149Z",
     "iopub.status.busy": "2024-06-19T05:44:52.408759Z",
     "iopub.status.idle": "2024-06-19T05:44:52.417678Z",
     "shell.execute_reply": "2024-06-19T05:44:52.416561Z"
    },
    "papermill": {
     "duration": 0.027533,
     "end_time": "2024-06-19T05:44:52.420136",
     "exception": false,
     "start_time": "2024-06-19T05:44:52.392603",
     "status": "completed"
    },
    "tags": []
   },
   "outputs": [],
   "source": [
    "drop_cols = ['Cabin', 'FoodCourt', 'ShoppingMall', 'Spa', 'VRDeck', \n",
    "             'RoomService', 'total_spend', 'total_group_spend', 'Name']\n",
    "\n",
    "df.drop(columns=drop_cols, inplace=True)"
   ]
  },
  {
   "cell_type": "code",
   "execution_count": 23,
   "id": "58331ee3",
   "metadata": {
    "execution": {
     "iopub.execute_input": "2024-06-19T05:44:52.451621Z",
     "iopub.status.busy": "2024-06-19T05:44:52.451228Z",
     "iopub.status.idle": "2024-06-19T05:44:52.470243Z",
     "shell.execute_reply": "2024-06-19T05:44:52.469142Z"
    },
    "papermill": {
     "duration": 0.037465,
     "end_time": "2024-06-19T05:44:52.472607",
     "exception": false,
     "start_time": "2024-06-19T05:44:52.435142",
     "status": "completed"
    },
    "tags": []
   },
   "outputs": [
    {
     "data": {
      "text/html": [
       "<div>\n",
       "<style scoped>\n",
       "    .dataframe tbody tr th:only-of-type {\n",
       "        vertical-align: middle;\n",
       "    }\n",
       "\n",
       "    .dataframe tbody tr th {\n",
       "        vertical-align: top;\n",
       "    }\n",
       "\n",
       "    .dataframe thead th {\n",
       "        text-align: right;\n",
       "    }\n",
       "</style>\n",
       "<table border=\"1\" class=\"dataframe\">\n",
       "  <thead>\n",
       "    <tr style=\"text-align: right;\">\n",
       "      <th></th>\n",
       "      <th>PassengerId</th>\n",
       "      <th>HomePlanet</th>\n",
       "      <th>CryoSleep</th>\n",
       "      <th>Destination</th>\n",
       "      <th>VIP</th>\n",
       "      <th>Transported</th>\n",
       "      <th>group_size</th>\n",
       "      <th>cabin_deck</th>\n",
       "      <th>cabin_number</th>\n",
       "      <th>cabin_side</th>\n",
       "      <th>trip_spend</th>\n",
       "      <th>group_spend</th>\n",
       "      <th>age_category</th>\n",
       "    </tr>\n",
       "  </thead>\n",
       "  <tbody>\n",
       "    <tr>\n",
       "      <th>0</th>\n",
       "      <td>0001_01</td>\n",
       "      <td>Europa</td>\n",
       "      <td>False</td>\n",
       "      <td>TRAPPIST-1e</td>\n",
       "      <td>False</td>\n",
       "      <td>False</td>\n",
       "      <td>2.0</td>\n",
       "      <td>B</td>\n",
       "      <td>0.0</td>\n",
       "      <td>Port</td>\n",
       "      <td>no_spend</td>\n",
       "      <td>no_spend</td>\n",
       "      <td>age_adult</td>\n",
       "    </tr>\n",
       "    <tr>\n",
       "      <th>1</th>\n",
       "      <td>0002_01</td>\n",
       "      <td>Earth</td>\n",
       "      <td>False</td>\n",
       "      <td>TRAPPIST-1e</td>\n",
       "      <td>False</td>\n",
       "      <td>True</td>\n",
       "      <td>2.0</td>\n",
       "      <td>F</td>\n",
       "      <td>0.0</td>\n",
       "      <td>Starboard</td>\n",
       "      <td>med_spend</td>\n",
       "      <td>low_spend</td>\n",
       "      <td>age_young_adult</td>\n",
       "    </tr>\n",
       "    <tr>\n",
       "      <th>2</th>\n",
       "      <td>0003_01</td>\n",
       "      <td>Europa</td>\n",
       "      <td>False</td>\n",
       "      <td>TRAPPIST-1e</td>\n",
       "      <td>True</td>\n",
       "      <td>False</td>\n",
       "      <td>4.0</td>\n",
       "      <td>A</td>\n",
       "      <td>0.0</td>\n",
       "      <td>Starboard</td>\n",
       "      <td>high_spend</td>\n",
       "      <td>high_spend</td>\n",
       "      <td>age_middle_age</td>\n",
       "    </tr>\n",
       "    <tr>\n",
       "      <th>3</th>\n",
       "      <td>0003_02</td>\n",
       "      <td>Europa</td>\n",
       "      <td>False</td>\n",
       "      <td>TRAPPIST-1e</td>\n",
       "      <td>False</td>\n",
       "      <td>False</td>\n",
       "      <td>4.0</td>\n",
       "      <td>A</td>\n",
       "      <td>0.0</td>\n",
       "      <td>Starboard</td>\n",
       "      <td>high_spend</td>\n",
       "      <td>high_spend</td>\n",
       "      <td>age_adult</td>\n",
       "    </tr>\n",
       "    <tr>\n",
       "      <th>4</th>\n",
       "      <td>0004_01</td>\n",
       "      <td>Earth</td>\n",
       "      <td>False</td>\n",
       "      <td>TRAPPIST-1e</td>\n",
       "      <td>False</td>\n",
       "      <td>True</td>\n",
       "      <td>2.0</td>\n",
       "      <td>F</td>\n",
       "      <td>1.0</td>\n",
       "      <td>Starboard</td>\n",
       "      <td>med_spend</td>\n",
       "      <td>med_spend</td>\n",
       "      <td>age_teen</td>\n",
       "    </tr>\n",
       "  </tbody>\n",
       "</table>\n",
       "</div>"
      ],
      "text/plain": [
       "  PassengerId HomePlanet CryoSleep  Destination    VIP  Transported  \\\n",
       "0     0001_01     Europa     False  TRAPPIST-1e  False        False   \n",
       "1     0002_01      Earth     False  TRAPPIST-1e  False         True   \n",
       "2     0003_01     Europa     False  TRAPPIST-1e   True        False   \n",
       "3     0003_02     Europa     False  TRAPPIST-1e  False        False   \n",
       "4     0004_01      Earth     False  TRAPPIST-1e  False         True   \n",
       "\n",
       "   group_size cabin_deck  cabin_number cabin_side  trip_spend group_spend  \\\n",
       "0         2.0          B           0.0       Port    no_spend    no_spend   \n",
       "1         2.0          F           0.0  Starboard   med_spend   low_spend   \n",
       "2         4.0          A           0.0  Starboard  high_spend  high_spend   \n",
       "3         4.0          A           0.0  Starboard  high_spend  high_spend   \n",
       "4         2.0          F           1.0  Starboard   med_spend   med_spend   \n",
       "\n",
       "      age_category  \n",
       "0        age_adult  \n",
       "1  age_young_adult  \n",
       "2   age_middle_age  \n",
       "3        age_adult  \n",
       "4         age_teen  "
      ]
     },
     "execution_count": 23,
     "metadata": {},
     "output_type": "execute_result"
    }
   ],
   "source": [
    "df.head()"
   ]
  },
  {
   "cell_type": "markdown",
   "id": "a9a2b759",
   "metadata": {
    "papermill": {
     "duration": 0.014708,
     "end_time": "2024-06-19T05:44:52.502425",
     "exception": false,
     "start_time": "2024-06-19T05:44:52.487717",
     "status": "completed"
    },
    "tags": []
   },
   "source": [
    "### 1. Deal with Missing Values"
   ]
  },
  {
   "cell_type": "code",
   "execution_count": null,
   "id": "0d0c88d1",
   "metadata": {
    "papermill": {
     "duration": 0.014402,
     "end_time": "2024-06-19T05:44:52.531924",
     "exception": false,
     "start_time": "2024-06-19T05:44:52.517522",
     "status": "completed"
    },
    "tags": []
   },
   "outputs": [],
   "source": []
  },
  {
   "cell_type": "markdown",
   "id": "f3f837b0",
   "metadata": {
    "papermill": {
     "duration": 0.014587,
     "end_time": "2024-06-19T05:44:52.561393",
     "exception": false,
     "start_time": "2024-06-19T05:44:52.546806",
     "status": "completed"
    },
    "tags": []
   },
   "source": [
    "# 2) Modeling\n",
    "<a id=\"modeling\"></a>"
   ]
  },
  {
   "cell_type": "markdown",
   "id": "19eac2f8",
   "metadata": {
    "papermill": {
     "duration": 0.015144,
     "end_time": "2024-06-19T05:44:52.591462",
     "exception": false,
     "start_time": "2024-06-19T05:44:52.576318",
     "status": "completed"
    },
    "tags": []
   },
   "source": [
    "### Data Preprocessing for Modeling\n",
    "<a id=\"data-preprocessing-for-modeling\"></a>"
   ]
  },
  {
   "cell_type": "code",
   "execution_count": null,
   "id": "00aaec87",
   "metadata": {
    "papermill": {
     "duration": 0.014859,
     "end_time": "2024-06-19T05:44:52.621376",
     "exception": false,
     "start_time": "2024-06-19T05:44:52.606517",
     "status": "completed"
    },
    "tags": []
   },
   "outputs": [],
   "source": []
  },
  {
   "cell_type": "markdown",
   "id": "c132028e",
   "metadata": {
    "papermill": {
     "duration": 0.014894,
     "end_time": "2024-06-19T05:44:52.651294",
     "exception": false,
     "start_time": "2024-06-19T05:44:52.636400",
     "status": "completed"
    },
    "tags": []
   },
   "source": [
    "### Model Training\n",
    "<a id=\"model-training\"></a>"
   ]
  },
  {
   "cell_type": "code",
   "execution_count": null,
   "id": "94842c06",
   "metadata": {
    "papermill": {
     "duration": 0.014747,
     "end_time": "2024-06-19T05:44:52.681111",
     "exception": false,
     "start_time": "2024-06-19T05:44:52.666364",
     "status": "completed"
    },
    "tags": []
   },
   "outputs": [],
   "source": []
  },
  {
   "cell_type": "markdown",
   "id": "b45cf8b8",
   "metadata": {
    "papermill": {
     "duration": 0.014751,
     "end_time": "2024-06-19T05:44:52.710969",
     "exception": false,
     "start_time": "2024-06-19T05:44:52.696218",
     "status": "completed"
    },
    "tags": []
   },
   "source": [
    "### Model Evaluation\n",
    "<a id=\"model-evaluation\"></a>"
   ]
  },
  {
   "cell_type": "code",
   "execution_count": null,
   "id": "a4558816",
   "metadata": {
    "papermill": {
     "duration": 0.014602,
     "end_time": "2024-06-19T05:44:52.740704",
     "exception": false,
     "start_time": "2024-06-19T05:44:52.726102",
     "status": "completed"
    },
    "tags": []
   },
   "outputs": [],
   "source": []
  },
  {
   "cell_type": "markdown",
   "id": "6a6583c8",
   "metadata": {
    "papermill": {
     "duration": 0.01457,
     "end_time": "2024-06-19T05:44:52.770156",
     "exception": false,
     "start_time": "2024-06-19T05:44:52.755586",
     "status": "completed"
    },
    "tags": []
   },
   "source": [
    "# 3) Interpretability\n",
    "<a id=\"interpretability\"></a>"
   ]
  },
  {
   "cell_type": "markdown",
   "id": "a3a1478f",
   "metadata": {
    "papermill": {
     "duration": 0.014586,
     "end_time": "2024-06-19T05:44:52.799623",
     "exception": false,
     "start_time": "2024-06-19T05:44:52.785037",
     "status": "completed"
    },
    "tags": []
   },
   "source": [
    "### SHAP Analysis\n",
    "<a id=\"shap-analysis\"></a>"
   ]
  },
  {
   "cell_type": "code",
   "execution_count": null,
   "id": "446d17c5",
   "metadata": {
    "papermill": {
     "duration": 0.014589,
     "end_time": "2024-06-19T05:44:52.829019",
     "exception": false,
     "start_time": "2024-06-19T05:44:52.814430",
     "status": "completed"
    },
    "tags": []
   },
   "outputs": [],
   "source": []
  }
 ],
 "metadata": {
  "kaggle": {
   "accelerator": "none",
   "dataSources": [
    {
     "databundleVersionId": 3220602,
     "sourceId": 34377,
     "sourceType": "competition"
    }
   ],
   "dockerImageVersionId": 30732,
   "isGpuEnabled": false,
   "isInternetEnabled": true,
   "language": "python",
   "sourceType": "notebook"
  },
  "kernelspec": {
   "display_name": "Python 3",
   "language": "python",
   "name": "python3"
  },
  "language_info": {
   "codemirror_mode": {
    "name": "ipython",
    "version": 3
   },
   "file_extension": ".py",
   "mimetype": "text/x-python",
   "name": "python",
   "nbconvert_exporter": "python",
   "pygments_lexer": "ipython3",
   "version": "3.10.13"
  },
  "papermill": {
   "default_parameters": {},
   "duration": 18.385219,
   "end_time": "2024-06-19T05:44:54.167822",
   "environment_variables": {},
   "exception": null,
   "input_path": "__notebook__.ipynb",
   "output_path": "__notebook__.ipynb",
   "parameters": {},
   "start_time": "2024-06-19T05:44:35.782603",
   "version": "2.5.0"
  }
 },
 "nbformat": 4,
 "nbformat_minor": 5
}
