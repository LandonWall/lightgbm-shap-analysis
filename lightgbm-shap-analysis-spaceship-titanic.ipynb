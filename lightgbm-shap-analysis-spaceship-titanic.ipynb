{
 "cells": [
  {
   "cell_type": "markdown",
   "id": "0d73eac7",
   "metadata": {
    "papermill": {
     "duration": 0.012884,
     "end_time": "2024-06-19T20:45:53.331229",
     "exception": false,
     "start_time": "2024-06-19T20:45:53.318345",
     "status": "completed"
    },
    "tags": []
   },
   "source": [
    "# Interpret LightGBM Classifier with SHAP: Spaceship Titanic Dataset\n",
    "\n",
    "## Introduction\n",
    "\n",
    "This notebook demonstrates how to utilize SHAP (SHapley Additive exPlanations) to interpret complex gradient-boosted models, specifically LightGBM. The purpose is to make the results of these models more interpretable to both yourself and stakeholders. SHAP provides a unified framework to explain the output of any machine learning model, helping you understand the contribution of each feature to the predictions.\n",
    "\n",
    "## Table of Contents\n",
    "\n",
    "1. [Data Preparation](#data-preparation)\n",
    "   - [Import Data and Modules](#import-data-and-modules)\n",
    "   - [Feature Engineering](#feature-engineering)\n",
    "   - [Data Cleaning](#data-cleaning)\n",
    "2. [Modeling](#modeling)\n",
    "   - [Data Preprocessing for Modeling](#data-preprocessing-for-modeling)\n",
    "   - [Model Training](#model-training)\n",
    "   - [Model Evaluation](#model-evaluation)\n",
    "3. [Interpretability](#interpretability)\n",
    "   - [SHAP Analysis](#shap-analysis)"
   ]
  },
  {
   "cell_type": "markdown",
   "id": "d8bcfb1b",
   "metadata": {
    "papermill": {
     "duration": 0.01194,
     "end_time": "2024-06-19T20:45:53.356866",
     "exception": false,
     "start_time": "2024-06-19T20:45:53.344926",
     "status": "completed"
    },
    "tags": []
   },
   "source": [
    "# 1) Data Preparation -------------------------\n",
    "<a id=\"data-preparation\"></a>"
   ]
  },
  {
   "cell_type": "markdown",
   "id": "96fb78d2",
   "metadata": {
    "papermill": {
     "duration": 0.011789,
     "end_time": "2024-06-19T20:45:53.381203",
     "exception": false,
     "start_time": "2024-06-19T20:45:53.369414",
     "status": "completed"
    },
    "tags": []
   },
   "source": [
    "## Data Description"
   ]
  },
  {
   "cell_type": "markdown",
   "id": "ba5166dd",
   "metadata": {
    "papermill": {
     "duration": 0.011161,
     "end_time": "2024-06-19T20:45:53.403771",
     "exception": false,
     "start_time": "2024-06-19T20:45:53.392610",
     "status": "completed"
    },
    "tags": []
   },
   "source": [
    "In this competition your task is to predict whether a passenger was transported to an alternate dimension during the Spaceship Titanic's collision with the spacetime anomaly. To help you make these predictions, you're given a set of personal records recovered from the ship's damaged computer system."
   ]
  },
  {
   "cell_type": "markdown",
   "id": "4acf41cf",
   "metadata": {
    "papermill": {
     "duration": 0.01101,
     "end_time": "2024-06-19T20:45:53.426318",
     "exception": false,
     "start_time": "2024-06-19T20:45:53.415308",
     "status": "completed"
    },
    "tags": []
   },
   "source": [
    "> * **PassengerId** - A unique Id for each passenger. Each Id takes the form gggg_pp where gggg indicates a group the passenger is travelling with and pp is their number within the group. People in a group are often family members, but not always.<br>\n",
    "> * **HomePlanet** - The planet the passenger departed from, typically their planet of permanent residence.<br>\n",
    "> * **CryoSleep** - Indicates whether the passenger elected to be put into suspended animation for the duration of the voyage. Passengers in cryosleep are confined to their cabins.<br>\n",
    "> * **Cabin** - The cabin number where the passenger is staying. Takes the form deck/num/side, where side can be either P for Port or S for Starboard.<br>\n",
    "> * **Destination** - The planet the passenger will be debarking to.<br>\n",
    "> * **Age** - The age of the passenger.<br>\n",
    "> * **VIP** - Whether the passenger has paid for special VIP service during the voyage.<br>\n",
    "> * **RoomService**, **FoodCourt**, **ShoppingMall**, **Spa**, **VRDeck** - Amount the passenger has billed at each of the Spaceship Titanic's many luxury amenities.<br>\n",
    "> * **Name** - The first and last names of the passenger.<br>\n",
    "> * **Transported** - Whether the passenger was transported to another dimension. This is the target, the column you are trying to predict.<br>"
   ]
  },
  {
   "cell_type": "markdown",
   "id": "4dcc8e62",
   "metadata": {
    "papermill": {
     "duration": 0.011423,
     "end_time": "2024-06-19T20:45:53.449468",
     "exception": false,
     "start_time": "2024-06-19T20:45:53.438045",
     "status": "completed"
    },
    "tags": []
   },
   "source": [
    "## Import Data and Modules\n",
    "<a id=\"import-data-and-modules\"></a>"
   ]
  },
  {
   "cell_type": "code",
   "execution_count": 1,
   "id": "fc8a9ac4",
   "metadata": {
    "_cell_guid": "b1076dfc-b9ad-4769-8c92-a6c4dae69d19",
    "_kg_hide-input": false,
    "_uuid": "8f2839f25d086af736a60e9eeb907d3b93b6e0e5",
    "execution": {
     "iopub.execute_input": "2024-06-19T20:45:53.475243Z",
     "iopub.status.busy": "2024-06-19T20:45:53.474735Z",
     "iopub.status.idle": "2024-06-19T20:46:07.008463Z",
     "shell.execute_reply": "2024-06-19T20:46:07.006272Z"
    },
    "papermill": {
     "duration": 13.550725,
     "end_time": "2024-06-19T20:46:07.011931",
     "exception": false,
     "start_time": "2024-06-19T20:45:53.461206",
     "status": "completed"
    },
    "tags": []
   },
   "outputs": [],
   "source": [
    "# base packages\n",
    "import pandas as pd\n",
    "import numpy as np\n",
    "import matplotlib.pyplot as plt\n",
    "\n",
    "# modeling and evaluation\n",
    "import lightgbm as lgb\n",
    "from sklearn.metrics import accuracy_score, classification_report\n",
    "from sklearn.model_selection import train_test_split\n",
    "from sklearn.preprocessing import LabelEncoder\n",
    "import shap\n",
    "import os"
   ]
  },
  {
   "cell_type": "code",
   "execution_count": 2,
   "id": "ff019765",
   "metadata": {
    "execution": {
     "iopub.execute_input": "2024-06-19T20:46:07.048983Z",
     "iopub.status.busy": "2024-06-19T20:46:07.048204Z",
     "iopub.status.idle": "2024-06-19T20:46:07.213938Z",
     "shell.execute_reply": "2024-06-19T20:46:07.211751Z"
    },
    "papermill": {
     "duration": 0.189252,
     "end_time": "2024-06-19T20:46:07.218436",
     "exception": false,
     "start_time": "2024-06-19T20:46:07.029184",
     "status": "completed"
    },
    "tags": []
   },
   "outputs": [],
   "source": [
    "train = pd.read_csv('/kaggle/input/spaceship-titanic/train.csv')\n",
    "train['set'] = \"train\"\n",
    "test = pd.read_csv('/kaggle/input/spaceship-titanic/test.csv')\n",
    "test['set'] = \"test\"\n",
    "df = pd.concat([train, test], ignore_index=False)"
   ]
  },
  {
   "cell_type": "markdown",
   "id": "f648f4c5",
   "metadata": {
    "papermill": {
     "duration": 0.015875,
     "end_time": "2024-06-19T20:46:07.255179",
     "exception": false,
     "start_time": "2024-06-19T20:46:07.239304",
     "status": "completed"
    },
    "tags": []
   },
   "source": [
    "## Feature Engineering\n",
    "<a id=\"feature-engineering\"></a>"
   ]
  },
  {
   "cell_type": "markdown",
   "id": "f6f6e50e",
   "metadata": {
    "papermill": {
     "duration": 0.011997,
     "end_time": "2024-06-19T20:46:07.280972",
     "exception": false,
     "start_time": "2024-06-19T20:46:07.268975",
     "status": "completed"
    },
    "tags": []
   },
   "source": [
    "### 1. Create Group Size Feature Using Passenger ID Groupings"
   ]
  },
  {
   "cell_type": "code",
   "execution_count": 3,
   "id": "5133f4d7",
   "metadata": {
    "_kg_hide-input": false,
    "execution": {
     "iopub.execute_input": "2024-06-19T20:46:07.313911Z",
     "iopub.status.busy": "2024-06-19T20:46:07.313463Z",
     "iopub.status.idle": "2024-06-19T20:46:07.379036Z",
     "shell.execute_reply": "2024-06-19T20:46:07.376922Z"
    },
    "papermill": {
     "duration": 0.087544,
     "end_time": "2024-06-19T20:46:07.382983",
     "exception": false,
     "start_time": "2024-06-19T20:46:07.295439",
     "status": "completed"
    },
    "tags": []
   },
   "outputs": [],
   "source": [
    "df['PassengerGroup'] = df['PassengerId'].str[:4]\n",
    "\n",
    "group_counts = df['PassengerGroup'].value_counts().sort_index()\n",
    "\n",
    "df['GroupSize'] = df.groupby('PassengerGroup')['PassengerId'].transform('count')"
   ]
  },
  {
   "cell_type": "code",
   "execution_count": 4,
   "id": "0af2b68f",
   "metadata": {
    "execution": {
     "iopub.execute_input": "2024-06-19T20:46:07.414233Z",
     "iopub.status.busy": "2024-06-19T20:46:07.413782Z",
     "iopub.status.idle": "2024-06-19T20:46:07.430002Z",
     "shell.execute_reply": "2024-06-19T20:46:07.428401Z"
    },
    "papermill": {
     "duration": 0.0347,
     "end_time": "2024-06-19T20:46:07.432771",
     "exception": false,
     "start_time": "2024-06-19T20:46:07.398071",
     "status": "completed"
    },
    "tags": []
   },
   "outputs": [
    {
     "data": {
      "text/plain": [
       "GroupSize\n",
       "1    7145\n",
       "2    2590\n",
       "3    1506\n",
       "4     616\n",
       "5     380\n",
       "7     329\n",
       "6     252\n",
       "8     152\n",
       "Name: count, dtype: int64"
      ]
     },
     "execution_count": 4,
     "metadata": {},
     "output_type": "execute_result"
    }
   ],
   "source": [
    "df['GroupSize'].value_counts()"
   ]
  },
  {
   "cell_type": "markdown",
   "id": "1efa6c98",
   "metadata": {
    "papermill": {
     "duration": 0.013166,
     "end_time": "2024-06-19T20:46:07.459978",
     "exception": false,
     "start_time": "2024-06-19T20:46:07.446812",
     "status": "completed"
    },
    "tags": []
   },
   "source": [
    "### 2. Feature Engineer Cabin Data"
   ]
  },
  {
   "cell_type": "markdown",
   "id": "29a994a5",
   "metadata": {
    "papermill": {
     "duration": 0.014041,
     "end_time": "2024-06-19T20:46:07.489130",
     "exception": false,
     "start_time": "2024-06-19T20:46:07.475089",
     "status": "completed"
    },
    "tags": []
   },
   "source": [
    "#### 2.1) Break Out Cabin Into Deck / Number / Side"
   ]
  },
  {
   "cell_type": "code",
   "execution_count": 5,
   "id": "6f0db89f",
   "metadata": {
    "_kg_hide-input": false,
    "execution": {
     "iopub.execute_input": "2024-06-19T20:46:07.519153Z",
     "iopub.status.busy": "2024-06-19T20:46:07.518702Z",
     "iopub.status.idle": "2024-06-19T20:46:10.098796Z",
     "shell.execute_reply": "2024-06-19T20:46:10.095763Z"
    },
    "papermill": {
     "duration": 2.598868,
     "end_time": "2024-06-19T20:46:10.103188",
     "exception": false,
     "start_time": "2024-06-19T20:46:07.504320",
     "status": "completed"
    },
    "tags": []
   },
   "outputs": [],
   "source": [
    "def split_cabin(cabin):\n",
    "    if pd.isna(cabin):\n",
    "        return pd.Series([None, None, None])\n",
    "    parts = cabin.split('/')\n",
    "    deck = parts[0]\n",
    "    number = parts[1]\n",
    "    side = 'Port' if parts[2] == 'P' else 'Starboard'\n",
    "    return pd.Series([deck, number, side])\n",
    "\n",
    "df[['cabin_deck', 'cabin_number', 'cabin_side']] = df['Cabin'].apply(split_cabin)"
   ]
  },
  {
   "cell_type": "markdown",
   "id": "08318886",
   "metadata": {
    "papermill": {
     "duration": 0.013118,
     "end_time": "2024-06-19T20:46:10.132325",
     "exception": false,
     "start_time": "2024-06-19T20:46:10.119207",
     "status": "completed"
    },
    "tags": []
   },
   "source": [
    "#### 2.2) Bin Cabin Number"
   ]
  },
  {
   "cell_type": "code",
   "execution_count": 6,
   "id": "5f755337",
   "metadata": {
    "execution": {
     "iopub.execute_input": "2024-06-19T20:46:10.163793Z",
     "iopub.status.busy": "2024-06-19T20:46:10.162635Z",
     "iopub.status.idle": "2024-06-19T20:46:10.201825Z",
     "shell.execute_reply": "2024-06-19T20:46:10.200415Z"
    },
    "papermill": {
     "duration": 0.058482,
     "end_time": "2024-06-19T20:46:10.205369",
     "exception": false,
     "start_time": "2024-06-19T20:46:10.146887",
     "status": "completed"
    },
    "tags": []
   },
   "outputs": [],
   "source": [
    "# Convert the cabin_number column to numeric\n",
    "df['cabin_number'] = pd.to_numeric(df['cabin_number'], errors='coerce')\n",
    "\n",
    "# Convert the maximum value to an integer\n",
    "max_cabin_number = int(df['cabin_number'].max())\n",
    "\n",
    "# Bin the cabin_number column into groups of 300 starting at 0\n",
    "bins = range(0, max_cabin_number + 300, 300)\n",
    "labels = range(1, len(bins))  # Numeric labels starting from 1\n",
    "df['cabin_region'] = pd.cut(df['cabin_number'], bins=bins, labels=labels, right=False)"
   ]
  },
  {
   "cell_type": "code",
   "execution_count": 7,
   "id": "5c6e050c",
   "metadata": {
    "_kg_hide-input": false,
    "execution": {
     "iopub.execute_input": "2024-06-19T20:46:10.243274Z",
     "iopub.status.busy": "2024-06-19T20:46:10.241364Z",
     "iopub.status.idle": "2024-06-19T20:46:10.268089Z",
     "shell.execute_reply": "2024-06-19T20:46:10.266048Z"
    },
    "papermill": {
     "duration": 0.047782,
     "end_time": "2024-06-19T20:46:10.273856",
     "exception": false,
     "start_time": "2024-06-19T20:46:10.226074",
     "status": "completed"
    },
    "tags": []
   },
   "outputs": [
    {
     "data": {
      "text/html": [
       "<div>\n",
       "<style scoped>\n",
       "    .dataframe tbody tr th:only-of-type {\n",
       "        vertical-align: middle;\n",
       "    }\n",
       "\n",
       "    .dataframe tbody tr th {\n",
       "        vertical-align: top;\n",
       "    }\n",
       "\n",
       "    .dataframe thead th {\n",
       "        text-align: right;\n",
       "    }\n",
       "</style>\n",
       "<table border=\"1\" class=\"dataframe\">\n",
       "  <thead>\n",
       "    <tr style=\"text-align: right;\">\n",
       "      <th></th>\n",
       "      <th>cabin_deck</th>\n",
       "      <th>cabin_side</th>\n",
       "      <th>cabin_region</th>\n",
       "    </tr>\n",
       "  </thead>\n",
       "  <tbody>\n",
       "    <tr>\n",
       "      <th>0</th>\n",
       "      <td>B</td>\n",
       "      <td>Port</td>\n",
       "      <td>1</td>\n",
       "    </tr>\n",
       "    <tr>\n",
       "      <th>1</th>\n",
       "      <td>F</td>\n",
       "      <td>Starboard</td>\n",
       "      <td>1</td>\n",
       "    </tr>\n",
       "    <tr>\n",
       "      <th>2</th>\n",
       "      <td>A</td>\n",
       "      <td>Starboard</td>\n",
       "      <td>1</td>\n",
       "    </tr>\n",
       "    <tr>\n",
       "      <th>3</th>\n",
       "      <td>A</td>\n",
       "      <td>Starboard</td>\n",
       "      <td>1</td>\n",
       "    </tr>\n",
       "    <tr>\n",
       "      <th>4</th>\n",
       "      <td>F</td>\n",
       "      <td>Starboard</td>\n",
       "      <td>1</td>\n",
       "    </tr>\n",
       "  </tbody>\n",
       "</table>\n",
       "</div>"
      ],
      "text/plain": [
       "  cabin_deck cabin_side cabin_region\n",
       "0          B       Port            1\n",
       "1          F  Starboard            1\n",
       "2          A  Starboard            1\n",
       "3          A  Starboard            1\n",
       "4          F  Starboard            1"
      ]
     },
     "execution_count": 7,
     "metadata": {},
     "output_type": "execute_result"
    }
   ],
   "source": [
    "df[['cabin_deck', 'cabin_side', 'cabin_region']].head()"
   ]
  },
  {
   "cell_type": "markdown",
   "id": "32668ebc",
   "metadata": {
    "papermill": {
     "duration": 0.014507,
     "end_time": "2024-06-19T20:46:10.303353",
     "exception": false,
     "start_time": "2024-06-19T20:46:10.288846",
     "status": "completed"
    },
    "tags": []
   },
   "source": [
    "### 3. Convert Age to Adult Feature"
   ]
  },
  {
   "cell_type": "code",
   "execution_count": 8,
   "id": "6761e4da",
   "metadata": {
    "execution": {
     "iopub.execute_input": "2024-06-19T20:46:10.331763Z",
     "iopub.status.busy": "2024-06-19T20:46:10.331227Z",
     "iopub.status.idle": "2024-06-19T20:46:10.349776Z",
     "shell.execute_reply": "2024-06-19T20:46:10.348215Z"
    },
    "papermill": {
     "duration": 0.03628,
     "end_time": "2024-06-19T20:46:10.352951",
     "exception": false,
     "start_time": "2024-06-19T20:46:10.316671",
     "status": "completed"
    },
    "tags": []
   },
   "outputs": [],
   "source": [
    "df['adult'] = df['Age'].apply(lambda x: True if x > 18 else False)"
   ]
  },
  {
   "cell_type": "code",
   "execution_count": 9,
   "id": "7e97d85a",
   "metadata": {
    "execution": {
     "iopub.execute_input": "2024-06-19T20:46:10.383201Z",
     "iopub.status.busy": "2024-06-19T20:46:10.381536Z",
     "iopub.status.idle": "2024-06-19T20:46:10.396405Z",
     "shell.execute_reply": "2024-06-19T20:46:10.394902Z"
    },
    "papermill": {
     "duration": 0.034358,
     "end_time": "2024-06-19T20:46:10.400766",
     "exception": false,
     "start_time": "2024-06-19T20:46:10.366408",
     "status": "completed"
    },
    "tags": []
   },
   "outputs": [
    {
     "data": {
      "text/plain": [
       "adult\n",
       "True     9940\n",
       "False    3030\n",
       "Name: count, dtype: int64"
      ]
     },
     "execution_count": 9,
     "metadata": {},
     "output_type": "execute_result"
    }
   ],
   "source": [
    "# Plot for age_category\n",
    "df['adult'].value_counts()"
   ]
  },
  {
   "cell_type": "markdown",
   "id": "f06301c8",
   "metadata": {
    "papermill": {
     "duration": 0.012309,
     "end_time": "2024-06-19T20:46:10.428552",
     "exception": false,
     "start_time": "2024-06-19T20:46:10.416243",
     "status": "completed"
    },
    "tags": []
   },
   "source": [
    "## Data Cleaning\n",
    "<a id=\"data-cleaning\"></a>"
   ]
  },
  {
   "cell_type": "markdown",
   "id": "8e41d565",
   "metadata": {
    "papermill": {
     "duration": 0.012979,
     "end_time": "2024-06-19T20:46:10.454732",
     "exception": false,
     "start_time": "2024-06-19T20:46:10.441753",
     "status": "completed"
    },
    "tags": []
   },
   "source": [
    "### 1. Drop Columns"
   ]
  },
  {
   "cell_type": "code",
   "execution_count": 10,
   "id": "9b047ca7",
   "metadata": {
    "execution": {
     "iopub.execute_input": "2024-06-19T20:46:10.485266Z",
     "iopub.status.busy": "2024-06-19T20:46:10.484840Z",
     "iopub.status.idle": "2024-06-19T20:46:10.498558Z",
     "shell.execute_reply": "2024-06-19T20:46:10.496779Z"
    },
    "papermill": {
     "duration": 0.036273,
     "end_time": "2024-06-19T20:46:10.503577",
     "exception": false,
     "start_time": "2024-06-19T20:46:10.467304",
     "status": "completed"
    },
    "tags": []
   },
   "outputs": [],
   "source": [
    "drop_cols = ['Age', 'Cabin', 'cabin_number', 'Name', 'PassengerGroup']\n",
    "\n",
    "df.drop(columns=drop_cols, inplace=True)"
   ]
  },
  {
   "cell_type": "code",
   "execution_count": 11,
   "id": "f9af5f59",
   "metadata": {
    "execution": {
     "iopub.execute_input": "2024-06-19T20:46:10.537250Z",
     "iopub.status.busy": "2024-06-19T20:46:10.535403Z",
     "iopub.status.idle": "2024-06-19T20:46:10.567319Z",
     "shell.execute_reply": "2024-06-19T20:46:10.565888Z"
    },
    "papermill": {
     "duration": 0.051023,
     "end_time": "2024-06-19T20:46:10.572220",
     "exception": false,
     "start_time": "2024-06-19T20:46:10.521197",
     "status": "completed"
    },
    "tags": []
   },
   "outputs": [
    {
     "data": {
      "text/html": [
       "<div>\n",
       "<style scoped>\n",
       "    .dataframe tbody tr th:only-of-type {\n",
       "        vertical-align: middle;\n",
       "    }\n",
       "\n",
       "    .dataframe tbody tr th {\n",
       "        vertical-align: top;\n",
       "    }\n",
       "\n",
       "    .dataframe thead th {\n",
       "        text-align: right;\n",
       "    }\n",
       "</style>\n",
       "<table border=\"1\" class=\"dataframe\">\n",
       "  <thead>\n",
       "    <tr style=\"text-align: right;\">\n",
       "      <th></th>\n",
       "      <th>PassengerId</th>\n",
       "      <th>HomePlanet</th>\n",
       "      <th>CryoSleep</th>\n",
       "      <th>Destination</th>\n",
       "      <th>VIP</th>\n",
       "      <th>RoomService</th>\n",
       "      <th>FoodCourt</th>\n",
       "      <th>ShoppingMall</th>\n",
       "      <th>Spa</th>\n",
       "      <th>VRDeck</th>\n",
       "      <th>Transported</th>\n",
       "      <th>set</th>\n",
       "      <th>GroupSize</th>\n",
       "      <th>cabin_deck</th>\n",
       "      <th>cabin_side</th>\n",
       "      <th>cabin_region</th>\n",
       "      <th>adult</th>\n",
       "    </tr>\n",
       "  </thead>\n",
       "  <tbody>\n",
       "    <tr>\n",
       "      <th>0</th>\n",
       "      <td>0001_01</td>\n",
       "      <td>Europa</td>\n",
       "      <td>False</td>\n",
       "      <td>TRAPPIST-1e</td>\n",
       "      <td>False</td>\n",
       "      <td>0.0</td>\n",
       "      <td>0.0</td>\n",
       "      <td>0.0</td>\n",
       "      <td>0.0</td>\n",
       "      <td>0.0</td>\n",
       "      <td>False</td>\n",
       "      <td>train</td>\n",
       "      <td>1</td>\n",
       "      <td>B</td>\n",
       "      <td>Port</td>\n",
       "      <td>1</td>\n",
       "      <td>True</td>\n",
       "    </tr>\n",
       "    <tr>\n",
       "      <th>1</th>\n",
       "      <td>0002_01</td>\n",
       "      <td>Earth</td>\n",
       "      <td>False</td>\n",
       "      <td>TRAPPIST-1e</td>\n",
       "      <td>False</td>\n",
       "      <td>109.0</td>\n",
       "      <td>9.0</td>\n",
       "      <td>25.0</td>\n",
       "      <td>549.0</td>\n",
       "      <td>44.0</td>\n",
       "      <td>True</td>\n",
       "      <td>train</td>\n",
       "      <td>1</td>\n",
       "      <td>F</td>\n",
       "      <td>Starboard</td>\n",
       "      <td>1</td>\n",
       "      <td>True</td>\n",
       "    </tr>\n",
       "    <tr>\n",
       "      <th>2</th>\n",
       "      <td>0003_01</td>\n",
       "      <td>Europa</td>\n",
       "      <td>False</td>\n",
       "      <td>TRAPPIST-1e</td>\n",
       "      <td>True</td>\n",
       "      <td>43.0</td>\n",
       "      <td>3576.0</td>\n",
       "      <td>0.0</td>\n",
       "      <td>6715.0</td>\n",
       "      <td>49.0</td>\n",
       "      <td>False</td>\n",
       "      <td>train</td>\n",
       "      <td>2</td>\n",
       "      <td>A</td>\n",
       "      <td>Starboard</td>\n",
       "      <td>1</td>\n",
       "      <td>True</td>\n",
       "    </tr>\n",
       "    <tr>\n",
       "      <th>3</th>\n",
       "      <td>0003_02</td>\n",
       "      <td>Europa</td>\n",
       "      <td>False</td>\n",
       "      <td>TRAPPIST-1e</td>\n",
       "      <td>False</td>\n",
       "      <td>0.0</td>\n",
       "      <td>1283.0</td>\n",
       "      <td>371.0</td>\n",
       "      <td>3329.0</td>\n",
       "      <td>193.0</td>\n",
       "      <td>False</td>\n",
       "      <td>train</td>\n",
       "      <td>2</td>\n",
       "      <td>A</td>\n",
       "      <td>Starboard</td>\n",
       "      <td>1</td>\n",
       "      <td>True</td>\n",
       "    </tr>\n",
       "    <tr>\n",
       "      <th>4</th>\n",
       "      <td>0004_01</td>\n",
       "      <td>Earth</td>\n",
       "      <td>False</td>\n",
       "      <td>TRAPPIST-1e</td>\n",
       "      <td>False</td>\n",
       "      <td>303.0</td>\n",
       "      <td>70.0</td>\n",
       "      <td>151.0</td>\n",
       "      <td>565.0</td>\n",
       "      <td>2.0</td>\n",
       "      <td>True</td>\n",
       "      <td>train</td>\n",
       "      <td>1</td>\n",
       "      <td>F</td>\n",
       "      <td>Starboard</td>\n",
       "      <td>1</td>\n",
       "      <td>False</td>\n",
       "    </tr>\n",
       "  </tbody>\n",
       "</table>\n",
       "</div>"
      ],
      "text/plain": [
       "  PassengerId HomePlanet CryoSleep  Destination    VIP  RoomService  \\\n",
       "0     0001_01     Europa     False  TRAPPIST-1e  False          0.0   \n",
       "1     0002_01      Earth     False  TRAPPIST-1e  False        109.0   \n",
       "2     0003_01     Europa     False  TRAPPIST-1e   True         43.0   \n",
       "3     0003_02     Europa     False  TRAPPIST-1e  False          0.0   \n",
       "4     0004_01      Earth     False  TRAPPIST-1e  False        303.0   \n",
       "\n",
       "   FoodCourt  ShoppingMall     Spa  VRDeck Transported    set  GroupSize  \\\n",
       "0        0.0           0.0     0.0     0.0       False  train          1   \n",
       "1        9.0          25.0   549.0    44.0        True  train          1   \n",
       "2     3576.0           0.0  6715.0    49.0       False  train          2   \n",
       "3     1283.0         371.0  3329.0   193.0       False  train          2   \n",
       "4       70.0         151.0   565.0     2.0        True  train          1   \n",
       "\n",
       "  cabin_deck cabin_side cabin_region  adult  \n",
       "0          B       Port            1   True  \n",
       "1          F  Starboard            1   True  \n",
       "2          A  Starboard            1   True  \n",
       "3          A  Starboard            1   True  \n",
       "4          F  Starboard            1  False  "
      ]
     },
     "execution_count": 11,
     "metadata": {},
     "output_type": "execute_result"
    }
   ],
   "source": [
    "df.head()"
   ]
  },
  {
   "cell_type": "markdown",
   "id": "fff43130",
   "metadata": {
    "papermill": {
     "duration": 0.013877,
     "end_time": "2024-06-19T20:46:10.602003",
     "exception": false,
     "start_time": "2024-06-19T20:46:10.588126",
     "status": "completed"
    },
    "tags": []
   },
   "source": [
    "### 2. Deal with Missing Values"
   ]
  },
  {
   "cell_type": "markdown",
   "id": "f5b571b0",
   "metadata": {
    "papermill": {
     "duration": 0.016616,
     "end_time": "2024-06-19T20:46:10.631766",
     "exception": false,
     "start_time": "2024-06-19T20:46:10.615150",
     "status": "completed"
    },
    "tags": []
   },
   "source": [
    "#### 2.1) Identify Missing Values"
   ]
  },
  {
   "cell_type": "code",
   "execution_count": 12,
   "id": "e0d0ba33",
   "metadata": {
    "execution": {
     "iopub.execute_input": "2024-06-19T20:46:10.661194Z",
     "iopub.status.busy": "2024-06-19T20:46:10.659663Z",
     "iopub.status.idle": "2024-06-19T20:46:10.693355Z",
     "shell.execute_reply": "2024-06-19T20:46:10.690992Z"
    },
    "papermill": {
     "duration": 0.051848,
     "end_time": "2024-06-19T20:46:10.697044",
     "exception": false,
     "start_time": "2024-06-19T20:46:10.645196",
     "status": "completed"
    },
    "tags": []
   },
   "outputs": [
    {
     "name": "stdout",
     "output_type": "stream",
     "text": [
      "Columns with missing values (excluding 'Transported'):\n",
      "HomePlanet      288\n",
      "CryoSleep       310\n",
      "Destination     274\n",
      "VIP             296\n",
      "RoomService     263\n",
      "FoodCourt       289\n",
      "ShoppingMall    306\n",
      "Spa             284\n",
      "VRDeck          268\n",
      "cabin_deck      299\n",
      "cabin_side      299\n",
      "cabin_region    299\n",
      "dtype: int64\n"
     ]
    }
   ],
   "source": [
    "missing_values = df.drop(columns=['Transported']).isnull().sum()\n",
    "\n",
    "# Filter columns with missing values\n",
    "missing_values = missing_values[missing_values > 0]\n",
    "\n",
    "# Display the columns with missing values and their counts\n",
    "print(\"Columns with missing values (excluding 'Transported'):\")\n",
    "print(missing_values)"
   ]
  },
  {
   "cell_type": "markdown",
   "id": "f85433e6",
   "metadata": {
    "papermill": {
     "duration": 0.013354,
     "end_time": "2024-06-19T20:46:10.729656",
     "exception": false,
     "start_time": "2024-06-19T20:46:10.716302",
     "status": "completed"
    },
    "tags": []
   },
   "source": [
    "#### 2.2) Imput Continuous Values"
   ]
  },
  {
   "cell_type": "code",
   "execution_count": 13,
   "id": "b0710e72",
   "metadata": {
    "execution": {
     "iopub.execute_input": "2024-06-19T20:46:10.760951Z",
     "iopub.status.busy": "2024-06-19T20:46:10.760132Z",
     "iopub.status.idle": "2024-06-19T20:46:10.779708Z",
     "shell.execute_reply": "2024-06-19T20:46:10.777485Z"
    },
    "papermill": {
     "duration": 0.039746,
     "end_time": "2024-06-19T20:46:10.783412",
     "exception": false,
     "start_time": "2024-06-19T20:46:10.743666",
     "status": "completed"
    },
    "tags": []
   },
   "outputs": [],
   "source": [
    "# Continuous columns\n",
    "continuous_columns = ['RoomService', 'FoodCourt', 'ShoppingMall', 'Spa', 'VRDeck']\n",
    "\n",
    "# Impute missing values with the median for continuous columns\n",
    "for column in continuous_columns:\n",
    "    median_value = df[column].median()\n",
    "    df[column] = df[column].fillna(median_value)"
   ]
  },
  {
   "cell_type": "markdown",
   "id": "922fa56b",
   "metadata": {
    "papermill": {
     "duration": 0.016182,
     "end_time": "2024-06-19T20:46:10.820217",
     "exception": false,
     "start_time": "2024-06-19T20:46:10.804035",
     "status": "completed"
    },
    "tags": []
   },
   "source": [
    "#### 2.3) Impute Categorical Values"
   ]
  },
  {
   "cell_type": "code",
   "execution_count": 14,
   "id": "546b0329",
   "metadata": {
    "execution": {
     "iopub.execute_input": "2024-06-19T20:46:10.852479Z",
     "iopub.status.busy": "2024-06-19T20:46:10.851736Z",
     "iopub.status.idle": "2024-06-19T20:46:10.901004Z",
     "shell.execute_reply": "2024-06-19T20:46:10.897661Z"
    },
    "papermill": {
     "duration": 0.073155,
     "end_time": "2024-06-19T20:46:10.908044",
     "exception": false,
     "start_time": "2024-06-19T20:46:10.834889",
     "status": "completed"
    },
    "tags": []
   },
   "outputs": [
    {
     "name": "stderr",
     "output_type": "stream",
     "text": [
      "Downcasting object dtype arrays on .fillna, .ffill, .bfill is deprecated and will change in a future version. Call result.infer_objects(copy=False) instead. To opt-in to the future behavior, set `pd.set_option('future.no_silent_downcasting', True)`\n"
     ]
    }
   ],
   "source": [
    "# Define the list of categorical columns\n",
    "categorical_columns = ['HomePlanet', 'CryoSleep', 'Destination', 'VIP', 'cabin_deck', 'cabin_side', 'cabin_region']\n",
    "\n",
    "# Impute missing values with the mode for categorical columns\n",
    "for column in categorical_columns:\n",
    "    mode_value = df[column].mode()[0]\n",
    "    df[column] = df[column].fillna(mode_value).infer_objects(copy=False)"
   ]
  },
  {
   "cell_type": "markdown",
   "id": "47fbd1ef",
   "metadata": {
    "papermill": {
     "duration": 0.012809,
     "end_time": "2024-06-19T20:46:10.935522",
     "exception": false,
     "start_time": "2024-06-19T20:46:10.922713",
     "status": "completed"
    },
    "tags": []
   },
   "source": [
    "# 2) Modeling -------------------------\n",
    "<a id=\"modeling\"></a>"
   ]
  },
  {
   "cell_type": "markdown",
   "id": "c44e244e",
   "metadata": {
    "papermill": {
     "duration": 0.013644,
     "end_time": "2024-06-19T20:46:10.962291",
     "exception": false,
     "start_time": "2024-06-19T20:46:10.948647",
     "status": "completed"
    },
    "tags": []
   },
   "source": [
    "## Data Preprocessing for Modeling\n",
    "<a id=\"data-preprocessing-for-modeling\"></a>"
   ]
  },
  {
   "cell_type": "code",
   "execution_count": null,
   "id": "18f7890d",
   "metadata": {
    "papermill": {
     "duration": 0.014194,
     "end_time": "2024-06-19T20:46:10.990000",
     "exception": false,
     "start_time": "2024-06-19T20:46:10.975806",
     "status": "completed"
    },
    "tags": []
   },
   "outputs": [],
   "source": []
  },
  {
   "cell_type": "markdown",
   "id": "919dcd23",
   "metadata": {
    "papermill": {
     "duration": 0.013089,
     "end_time": "2024-06-19T20:46:11.016462",
     "exception": false,
     "start_time": "2024-06-19T20:46:11.003373",
     "status": "completed"
    },
    "tags": []
   },
   "source": [
    "## Model Training\n",
    "<a id=\"model-training\"></a>"
   ]
  },
  {
   "cell_type": "code",
   "execution_count": null,
   "id": "b957b42c",
   "metadata": {
    "papermill": {
     "duration": 0.014512,
     "end_time": "2024-06-19T20:46:11.045301",
     "exception": false,
     "start_time": "2024-06-19T20:46:11.030789",
     "status": "completed"
    },
    "tags": []
   },
   "outputs": [],
   "source": []
  },
  {
   "cell_type": "markdown",
   "id": "f908d0be",
   "metadata": {
    "papermill": {
     "duration": 0.014827,
     "end_time": "2024-06-19T20:46:11.075876",
     "exception": false,
     "start_time": "2024-06-19T20:46:11.061049",
     "status": "completed"
    },
    "tags": []
   },
   "source": [
    "## Model Evaluation\n",
    "<a id=\"model-evaluation\"></a>"
   ]
  },
  {
   "cell_type": "code",
   "execution_count": null,
   "id": "e09f5ac5",
   "metadata": {
    "papermill": {
     "duration": 0.014222,
     "end_time": "2024-06-19T20:46:11.103599",
     "exception": false,
     "start_time": "2024-06-19T20:46:11.089377",
     "status": "completed"
    },
    "tags": []
   },
   "outputs": [],
   "source": []
  },
  {
   "cell_type": "markdown",
   "id": "2b734cce",
   "metadata": {
    "papermill": {
     "duration": 0.013137,
     "end_time": "2024-06-19T20:46:11.130119",
     "exception": false,
     "start_time": "2024-06-19T20:46:11.116982",
     "status": "completed"
    },
    "tags": []
   },
   "source": [
    "# 3) Interpretability -------------------------\n",
    "<a id=\"interpretability\"></a>"
   ]
  },
  {
   "cell_type": "markdown",
   "id": "e8446b50",
   "metadata": {
    "papermill": {
     "duration": 0.014295,
     "end_time": "2024-06-19T20:46:11.159422",
     "exception": false,
     "start_time": "2024-06-19T20:46:11.145127",
     "status": "completed"
    },
    "tags": []
   },
   "source": [
    "## SHAP Analysis\n",
    "<a id=\"shap-analysis\"></a>"
   ]
  },
  {
   "cell_type": "code",
   "execution_count": null,
   "id": "0123ab11",
   "metadata": {
    "papermill": {
     "duration": 0.014881,
     "end_time": "2024-06-19T20:46:11.187922",
     "exception": false,
     "start_time": "2024-06-19T20:46:11.173041",
     "status": "completed"
    },
    "tags": []
   },
   "outputs": [],
   "source": []
  },
  {
   "cell_type": "code",
   "execution_count": null,
   "id": "dda904be",
   "metadata": {
    "papermill": {
     "duration": 0.012621,
     "end_time": "2024-06-19T20:46:11.214187",
     "exception": false,
     "start_time": "2024-06-19T20:46:11.201566",
     "status": "completed"
    },
    "tags": []
   },
   "outputs": [],
   "source": []
  }
 ],
 "metadata": {
  "kaggle": {
   "accelerator": "none",
   "dataSources": [
    {
     "databundleVersionId": 3220602,
     "sourceId": 34377,
     "sourceType": "competition"
    }
   ],
   "dockerImageVersionId": 30732,
   "isGpuEnabled": false,
   "isInternetEnabled": true,
   "language": "python",
   "sourceType": "notebook"
  },
  "kernelspec": {
   "display_name": "Python 3",
   "language": "python",
   "name": "python3"
  },
  "language_info": {
   "codemirror_mode": {
    "name": "ipython",
    "version": 3
   },
   "file_extension": ".py",
   "mimetype": "text/x-python",
   "name": "python",
   "nbconvert_exporter": "python",
   "pygments_lexer": "ipython3",
   "version": "3.10.13"
  },
  "papermill": {
   "default_parameters": {},
   "duration": 23.11559,
   "end_time": "2024-06-19T20:46:12.855959",
   "environment_variables": {},
   "exception": null,
   "input_path": "__notebook__.ipynb",
   "output_path": "__notebook__.ipynb",
   "parameters": {},
   "start_time": "2024-06-19T20:45:49.740369",
   "version": "2.5.0"
  }
 },
 "nbformat": 4,
 "nbformat_minor": 5
}
