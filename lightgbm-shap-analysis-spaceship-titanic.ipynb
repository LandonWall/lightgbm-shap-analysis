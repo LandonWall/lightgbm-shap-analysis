{
 "cells": [
  {
   "cell_type": "markdown",
   "id": "6904da8c",
   "metadata": {
    "papermill": {
     "duration": 0.003497,
     "end_time": "2024-06-19T01:58:01.989099",
     "exception": false,
     "start_time": "2024-06-19T01:58:01.985602",
     "status": "completed"
    },
    "tags": []
   },
   "source": [
    "# Interpret LightGBM Classifier with SHAP with Spaceship Titanic Dataset\n",
    "\n",
    "## Table of Contents\n",
    "\n",
    "1. [Data Preparation](#data-preparation)\n",
    "   - [Import Data and Modules](#import-data-and-modules)\n",
    "   - [Data Cleaning](#data-cleaning)\n",
    "   - [Feature Engineering](#feature-engineering)\n",
    "   - [Exploratory Data Analysis (EDA)](#exploratory-data-analysis-eda)\n",
    "2. [Modeling](#modeling)\n",
    "   - [Data Preprocessing for Modeling](#data-preprocessing-for-modeling)\n",
    "   - [Model Selection](#model-selection)\n",
    "   - [Model Training](#model-training)\n",
    "   - [Model Evaluation](#model-evaluation)\n",
    "3. [Interpretability](#interpretability)\n",
    "   - [SHAP Analysis](#shap-analysis)"
   ]
  },
  {
   "cell_type": "markdown",
   "id": "b0975a29",
   "metadata": {
    "papermill": {
     "duration": 0.002788,
     "end_time": "2024-06-19T01:58:01.995367",
     "exception": false,
     "start_time": "2024-06-19T01:58:01.992579",
     "status": "completed"
    },
    "tags": []
   },
   "source": [
    "## Data Preparation"
   ]
  },
  {
   "cell_type": "markdown",
   "id": "9a5c02ac",
   "metadata": {
    "papermill": {
     "duration": 0.002596,
     "end_time": "2024-06-19T01:58:02.000942",
     "exception": false,
     "start_time": "2024-06-19T01:58:01.998346",
     "status": "completed"
    },
    "tags": []
   },
   "source": [
    "### Import Data and Modules"
   ]
  },
  {
   "cell_type": "code",
   "execution_count": 1,
   "id": "7baf53f9",
   "metadata": {
    "_cell_guid": "b1076dfc-b9ad-4769-8c92-a6c4dae69d19",
    "_uuid": "8f2839f25d086af736a60e9eeb907d3b93b6e0e5",
    "execution": {
     "iopub.execute_input": "2024-06-19T01:58:02.008229Z",
     "iopub.status.busy": "2024-06-19T01:58:02.007825Z",
     "iopub.status.idle": "2024-06-19T01:58:11.606344Z",
     "shell.execute_reply": "2024-06-19T01:58:11.605124Z"
    },
    "papermill": {
     "duration": 9.60524,
     "end_time": "2024-06-19T01:58:11.609021",
     "exception": false,
     "start_time": "2024-06-19T01:58:02.003781",
     "status": "completed"
    },
    "tags": []
   },
   "outputs": [],
   "source": [
    "# base packages\n",
    "import pandas as pd\n",
    "import numpy as np\n",
    "import matplotlib.pyplot as plt\n",
    "\n",
    "# modeling and evaluation\n",
    "import lightgbm as lgb\n",
    "from sklearn.metrics import accuracy_score, classification_report\n",
    "from sklearn.model_selection import train_test_split\n",
    "from sklearn.preprocessing import LabelEncoder\n",
    "import shap\n",
    "import os"
   ]
  },
  {
   "cell_type": "code",
   "execution_count": 2,
   "id": "83d0f565",
   "metadata": {
    "execution": {
     "iopub.execute_input": "2024-06-19T01:58:11.616914Z",
     "iopub.status.busy": "2024-06-19T01:58:11.616318Z",
     "iopub.status.idle": "2024-06-19T01:58:11.754807Z",
     "shell.execute_reply": "2024-06-19T01:58:11.753442Z"
    },
    "papermill": {
     "duration": 0.145653,
     "end_time": "2024-06-19T01:58:11.757834",
     "exception": false,
     "start_time": "2024-06-19T01:58:11.612181",
     "status": "completed"
    },
    "tags": []
   },
   "outputs": [],
   "source": [
    "train = pd.read_csv('/kaggle/input/spaceship-titanic/train.csv')\n",
    "test = pd.read_csv('/kaggle/input/spaceship-titanic/train.csv')\n",
    "df = train.merge(test)"
   ]
  },
  {
   "cell_type": "markdown",
   "id": "885a5c7a",
   "metadata": {
    "papermill": {
     "duration": 0.002879,
     "end_time": "2024-06-19T01:58:11.763919",
     "exception": false,
     "start_time": "2024-06-19T01:58:11.761040",
     "status": "completed"
    },
    "tags": []
   },
   "source": [
    "### Data Cleaning"
   ]
  },
  {
   "cell_type": "code",
   "execution_count": 3,
   "id": "2f9f63c8",
   "metadata": {
    "execution": {
     "iopub.execute_input": "2024-06-19T01:58:11.771731Z",
     "iopub.status.busy": "2024-06-19T01:58:11.771344Z",
     "iopub.status.idle": "2024-06-19T01:58:11.779476Z",
     "shell.execute_reply": "2024-06-19T01:58:11.778331Z"
    },
    "papermill": {
     "duration": 0.014814,
     "end_time": "2024-06-19T01:58:11.781759",
     "exception": false,
     "start_time": "2024-06-19T01:58:11.766945",
     "status": "completed"
    },
    "tags": []
   },
   "outputs": [
    {
     "data": {
      "text/plain": [
       "(8693, 14)"
      ]
     },
     "execution_count": 3,
     "metadata": {},
     "output_type": "execute_result"
    }
   ],
   "source": [
    "df.shape"
   ]
  },
  {
   "cell_type": "markdown",
   "id": "4035d2d1",
   "metadata": {
    "papermill": {
     "duration": 0.002854,
     "end_time": "2024-06-19T01:58:11.787787",
     "exception": false,
     "start_time": "2024-06-19T01:58:11.784933",
     "status": "completed"
    },
    "tags": []
   },
   "source": [
    "### Feature Engineering"
   ]
  },
  {
   "cell_type": "code",
   "execution_count": null,
   "id": "8a71dac8",
   "metadata": {
    "papermill": {
     "duration": 0.002757,
     "end_time": "2024-06-19T01:58:11.793569",
     "exception": false,
     "start_time": "2024-06-19T01:58:11.790812",
     "status": "completed"
    },
    "tags": []
   },
   "outputs": [],
   "source": []
  },
  {
   "cell_type": "markdown",
   "id": "c9c6d596",
   "metadata": {
    "papermill": {
     "duration": 0.002787,
     "end_time": "2024-06-19T01:58:11.799305",
     "exception": false,
     "start_time": "2024-06-19T01:58:11.796518",
     "status": "completed"
    },
    "tags": []
   },
   "source": [
    "### Exploratory Data Analysis (EDA)"
   ]
  },
  {
   "cell_type": "code",
   "execution_count": null,
   "id": "f1dc6a00",
   "metadata": {
    "papermill": {
     "duration": 0.00266,
     "end_time": "2024-06-19T01:58:11.804847",
     "exception": false,
     "start_time": "2024-06-19T01:58:11.802187",
     "status": "completed"
    },
    "tags": []
   },
   "outputs": [],
   "source": []
  }
 ],
 "metadata": {
  "kaggle": {
   "accelerator": "none",
   "dataSources": [
    {
     "databundleVersionId": 3220602,
     "sourceId": 34377,
     "sourceType": "competition"
    }
   ],
   "dockerImageVersionId": 30732,
   "isGpuEnabled": false,
   "isInternetEnabled": true,
   "language": "python",
   "sourceType": "notebook"
  },
  "kernelspec": {
   "display_name": "Python 3",
   "language": "python",
   "name": "python3"
  },
  "language_info": {
   "codemirror_mode": {
    "name": "ipython",
    "version": 3
   },
   "file_extension": ".py",
   "mimetype": "text/x-python",
   "name": "python",
   "nbconvert_exporter": "python",
   "pygments_lexer": "ipython3",
   "version": "3.10.13"
  },
  "papermill": {
   "default_parameters": {},
   "duration": 14.018043,
   "end_time": "2024-06-19T01:58:13.131459",
   "environment_variables": {},
   "exception": null,
   "input_path": "__notebook__.ipynb",
   "output_path": "__notebook__.ipynb",
   "parameters": {},
   "start_time": "2024-06-19T01:57:59.113416",
   "version": "2.5.0"
  }
 },
 "nbformat": 4,
 "nbformat_minor": 5
}
