{
 "cells": [
  {
   "cell_type": "markdown",
   "id": "a67ef47b",
   "metadata": {
    "papermill": {
     "duration": 0.013527,
     "end_time": "2024-06-20T18:43:48.988276",
     "exception": false,
     "start_time": "2024-06-20T18:43:48.974749",
     "status": "completed"
    },
    "tags": []
   },
   "source": [
    "# Interpret LightGBM Classifier with SHAP: Spaceship Titanic Dataset\n",
    "\n",
    "## Introduction\n",
    "\n",
    "This notebook demonstrates how to utilize SHAP (SHapley Additive exPlanations) to interpret complex gradient-boosted models, specifically LightGBM. The purpose is to make the results of these models more interpretable to both yourself and stakeholders. SHAP provides a unified framework to explain the output of any machine learning model, helping you understand the contribution of each feature to the predictions.\n",
    "\n",
    "## Table of Contents\n",
    "\n",
    "1. [Data Preparation](#data-preparation)\n",
    "   - [Import Data and Modules](#import-data-and-modules)\n",
    "   - [Feature Engineering](#feature-engineering)\n",
    "   - [Data Cleaning](#data-cleaning)\n",
    "2. [Modeling](#modeling)\n",
    "   - [Data Preprocessing for Modeling](#data-preprocessing-for-modeling)\n",
    "   - [Model Training](#model-training)\n",
    "   - [Model Evaluation](#model-evaluation)\n",
    "   - [Submit Predictions](#submit-predictions)\n",
    "3. [Interpretability](#interpretability)\n",
    "   - [SHAP Analysis](#shap-analysis)"
   ]
  },
  {
   "cell_type": "markdown",
   "id": "936aa940",
   "metadata": {
    "papermill": {
     "duration": 0.011701,
     "end_time": "2024-06-20T18:43:49.012252",
     "exception": false,
     "start_time": "2024-06-20T18:43:49.000551",
     "status": "completed"
    },
    "tags": []
   },
   "source": [
    "# 1) Data Preparation -------------------------\n",
    "<a id=\"data-preparation\"></a>"
   ]
  },
  {
   "cell_type": "markdown",
   "id": "35fbefff",
   "metadata": {
    "papermill": {
     "duration": 0.011678,
     "end_time": "2024-06-20T18:43:49.035889",
     "exception": false,
     "start_time": "2024-06-20T18:43:49.024211",
     "status": "completed"
    },
    "tags": []
   },
   "source": [
    "## Data Description"
   ]
  },
  {
   "cell_type": "markdown",
   "id": "71be6d29",
   "metadata": {
    "papermill": {
     "duration": 0.012873,
     "end_time": "2024-06-20T18:43:49.060685",
     "exception": false,
     "start_time": "2024-06-20T18:43:49.047812",
     "status": "completed"
    },
    "tags": []
   },
   "source": [
    "In this competition your task is to predict whether a passenger was transported to an alternate dimension during the Spaceship Titanic's collision with the spacetime anomaly. To help you make these predictions, you're given a set of personal records recovered from the ship's damaged computer system."
   ]
  },
  {
   "cell_type": "markdown",
   "id": "e7904d0e",
   "metadata": {
    "papermill": {
     "duration": 0.011654,
     "end_time": "2024-06-20T18:43:49.084350",
     "exception": false,
     "start_time": "2024-06-20T18:43:49.072696",
     "status": "completed"
    },
    "tags": []
   },
   "source": [
    "> * **PassengerId** - A unique Id for each passenger. Each Id takes the form gggg_pp where gggg indicates a group the passenger is travelling with and pp is their number within the group. People in a group are often family members, but not always.<br>\n",
    "> * **HomePlanet** - The planet the passenger departed from, typically their planet of permanent residence.<br>\n",
    "> * **CryoSleep** - Indicates whether the passenger elected to be put into suspended animation for the duration of the voyage. Passengers in cryosleep are confined to their cabins.<br>\n",
    "> * **Cabin** - The cabin number where the passenger is staying. Takes the form deck/num/side, where side can be either P for Port or S for Starboard.<br>\n",
    "> * **Destination** - The planet the passenger will be debarking to.<br>\n",
    "> * **Age** - The age of the passenger.<br>\n",
    "> * **VIP** - Whether the passenger has paid for special VIP service during the voyage.<br>\n",
    "> * **RoomService**, **FoodCourt**, **ShoppingMall**, **Spa**, **VRDeck** - Amount the passenger has billed at each of the Spaceship Titanic's many luxury amenities.<br>\n",
    "> * **Name** - The first and last names of the passenger.<br>\n",
    "> * **Transported** - Whether the passenger was transported to another dimension. This is the target, the column you are trying to predict.<br>"
   ]
  },
  {
   "cell_type": "markdown",
   "id": "c8dd90c9",
   "metadata": {
    "papermill": {
     "duration": 0.011636,
     "end_time": "2024-06-20T18:43:49.108007",
     "exception": false,
     "start_time": "2024-06-20T18:43:49.096371",
     "status": "completed"
    },
    "tags": []
   },
   "source": [
    "## Import Data and Modules\n",
    "<a id=\"import-data-and-modules\"></a>"
   ]
  },
  {
   "cell_type": "code",
   "execution_count": 1,
   "id": "09544bac",
   "metadata": {
    "_cell_guid": "b1076dfc-b9ad-4769-8c92-a6c4dae69d19",
    "_kg_hide-input": false,
    "_uuid": "8f2839f25d086af736a60e9eeb907d3b93b6e0e5",
    "execution": {
     "iopub.execute_input": "2024-06-20T18:43:49.133912Z",
     "iopub.status.busy": "2024-06-20T18:43:49.133520Z",
     "iopub.status.idle": "2024-06-20T18:43:58.646360Z",
     "shell.execute_reply": "2024-06-20T18:43:58.645299Z"
    },
    "papermill": {
     "duration": 9.528976,
     "end_time": "2024-06-20T18:43:58.648979",
     "exception": false,
     "start_time": "2024-06-20T18:43:49.120003",
     "status": "completed"
    },
    "tags": []
   },
   "outputs": [],
   "source": [
    "# Base modules\n",
    "import pandas as pd\n",
    "import numpy as np\n",
    "import seaborn as sns\n",
    "import matplotlib.pyplot as plt\n",
    "import random\n",
    "\n",
    "# Text modules\n",
    "from nltk.corpus import names\n",
    "from nltk.classify import NaiveBayesClassifier\n",
    "import nltk\n",
    "\n",
    "# Modeling and evaluation\n",
    "import lightgbm as lgb\n",
    "from sklearn.metrics import accuracy_score, classification_report\n",
    "from sklearn.model_selection import train_test_split, GridSearchCV\n",
    "from sklearn.preprocessing import LabelEncoder\n",
    "from sklearn.linear_model import LinearRegression, LogisticRegression\n",
    "from sklearn.feature_selection import SequentialFeatureSelector\n",
    "import shap\n",
    "import os"
   ]
  },
  {
   "cell_type": "code",
   "execution_count": 2,
   "id": "b9d236ff",
   "metadata": {
    "execution": {
     "iopub.execute_input": "2024-06-20T18:43:58.675547Z",
     "iopub.status.busy": "2024-06-20T18:43:58.674919Z",
     "iopub.status.idle": "2024-06-20T18:43:58.801281Z",
     "shell.execute_reply": "2024-06-20T18:43:58.800148Z"
    },
    "papermill": {
     "duration": 0.142163,
     "end_time": "2024-06-20T18:43:58.803817",
     "exception": false,
     "start_time": "2024-06-20T18:43:58.661654",
     "status": "completed"
    },
    "tags": []
   },
   "outputs": [],
   "source": [
    "train = pd.read_csv('/kaggle/input/spaceship-titanic/train.csv')\n",
    "train['set'] = \"train\"\n",
    "test = pd.read_csv('/kaggle/input/spaceship-titanic/test.csv')\n",
    "test['set'] = \"test\"\n",
    "df = pd.concat([train, test], ignore_index=False)"
   ]
  },
  {
   "cell_type": "code",
   "execution_count": 3,
   "id": "9d7916d9",
   "metadata": {
    "execution": {
     "iopub.execute_input": "2024-06-20T18:43:58.829587Z",
     "iopub.status.busy": "2024-06-20T18:43:58.829166Z",
     "iopub.status.idle": "2024-06-20T18:43:58.853149Z",
     "shell.execute_reply": "2024-06-20T18:43:58.852087Z"
    },
    "papermill": {
     "duration": 0.03954,
     "end_time": "2024-06-20T18:43:58.855616",
     "exception": false,
     "start_time": "2024-06-20T18:43:58.816076",
     "status": "completed"
    },
    "tags": []
   },
   "outputs": [
    {
     "data": {
      "text/html": [
       "<div>\n",
       "<style scoped>\n",
       "    .dataframe tbody tr th:only-of-type {\n",
       "        vertical-align: middle;\n",
       "    }\n",
       "\n",
       "    .dataframe tbody tr th {\n",
       "        vertical-align: top;\n",
       "    }\n",
       "\n",
       "    .dataframe thead th {\n",
       "        text-align: right;\n",
       "    }\n",
       "</style>\n",
       "<table border=\"1\" class=\"dataframe\">\n",
       "  <thead>\n",
       "    <tr style=\"text-align: right;\">\n",
       "      <th></th>\n",
       "      <th>PassengerId</th>\n",
       "      <th>HomePlanet</th>\n",
       "      <th>CryoSleep</th>\n",
       "      <th>Cabin</th>\n",
       "      <th>Destination</th>\n",
       "      <th>Age</th>\n",
       "      <th>VIP</th>\n",
       "      <th>RoomService</th>\n",
       "      <th>FoodCourt</th>\n",
       "      <th>ShoppingMall</th>\n",
       "      <th>Spa</th>\n",
       "      <th>VRDeck</th>\n",
       "      <th>Name</th>\n",
       "      <th>Transported</th>\n",
       "      <th>set</th>\n",
       "    </tr>\n",
       "  </thead>\n",
       "  <tbody>\n",
       "    <tr>\n",
       "      <th>0</th>\n",
       "      <td>0001_01</td>\n",
       "      <td>Europa</td>\n",
       "      <td>False</td>\n",
       "      <td>B/0/P</td>\n",
       "      <td>TRAPPIST-1e</td>\n",
       "      <td>39.0</td>\n",
       "      <td>False</td>\n",
       "      <td>0.0</td>\n",
       "      <td>0.0</td>\n",
       "      <td>0.0</td>\n",
       "      <td>0.0</td>\n",
       "      <td>0.0</td>\n",
       "      <td>Maham Ofracculy</td>\n",
       "      <td>False</td>\n",
       "      <td>train</td>\n",
       "    </tr>\n",
       "    <tr>\n",
       "      <th>1</th>\n",
       "      <td>0002_01</td>\n",
       "      <td>Earth</td>\n",
       "      <td>False</td>\n",
       "      <td>F/0/S</td>\n",
       "      <td>TRAPPIST-1e</td>\n",
       "      <td>24.0</td>\n",
       "      <td>False</td>\n",
       "      <td>109.0</td>\n",
       "      <td>9.0</td>\n",
       "      <td>25.0</td>\n",
       "      <td>549.0</td>\n",
       "      <td>44.0</td>\n",
       "      <td>Juanna Vines</td>\n",
       "      <td>True</td>\n",
       "      <td>train</td>\n",
       "    </tr>\n",
       "    <tr>\n",
       "      <th>2</th>\n",
       "      <td>0003_01</td>\n",
       "      <td>Europa</td>\n",
       "      <td>False</td>\n",
       "      <td>A/0/S</td>\n",
       "      <td>TRAPPIST-1e</td>\n",
       "      <td>58.0</td>\n",
       "      <td>True</td>\n",
       "      <td>43.0</td>\n",
       "      <td>3576.0</td>\n",
       "      <td>0.0</td>\n",
       "      <td>6715.0</td>\n",
       "      <td>49.0</td>\n",
       "      <td>Altark Susent</td>\n",
       "      <td>False</td>\n",
       "      <td>train</td>\n",
       "    </tr>\n",
       "    <tr>\n",
       "      <th>3</th>\n",
       "      <td>0003_02</td>\n",
       "      <td>Europa</td>\n",
       "      <td>False</td>\n",
       "      <td>A/0/S</td>\n",
       "      <td>TRAPPIST-1e</td>\n",
       "      <td>33.0</td>\n",
       "      <td>False</td>\n",
       "      <td>0.0</td>\n",
       "      <td>1283.0</td>\n",
       "      <td>371.0</td>\n",
       "      <td>3329.0</td>\n",
       "      <td>193.0</td>\n",
       "      <td>Solam Susent</td>\n",
       "      <td>False</td>\n",
       "      <td>train</td>\n",
       "    </tr>\n",
       "    <tr>\n",
       "      <th>4</th>\n",
       "      <td>0004_01</td>\n",
       "      <td>Earth</td>\n",
       "      <td>False</td>\n",
       "      <td>F/1/S</td>\n",
       "      <td>TRAPPIST-1e</td>\n",
       "      <td>16.0</td>\n",
       "      <td>False</td>\n",
       "      <td>303.0</td>\n",
       "      <td>70.0</td>\n",
       "      <td>151.0</td>\n",
       "      <td>565.0</td>\n",
       "      <td>2.0</td>\n",
       "      <td>Willy Santantines</td>\n",
       "      <td>True</td>\n",
       "      <td>train</td>\n",
       "    </tr>\n",
       "  </tbody>\n",
       "</table>\n",
       "</div>"
      ],
      "text/plain": [
       "  PassengerId HomePlanet CryoSleep  Cabin  Destination   Age    VIP  \\\n",
       "0     0001_01     Europa     False  B/0/P  TRAPPIST-1e  39.0  False   \n",
       "1     0002_01      Earth     False  F/0/S  TRAPPIST-1e  24.0  False   \n",
       "2     0003_01     Europa     False  A/0/S  TRAPPIST-1e  58.0   True   \n",
       "3     0003_02     Europa     False  A/0/S  TRAPPIST-1e  33.0  False   \n",
       "4     0004_01      Earth     False  F/1/S  TRAPPIST-1e  16.0  False   \n",
       "\n",
       "   RoomService  FoodCourt  ShoppingMall     Spa  VRDeck               Name  \\\n",
       "0          0.0        0.0           0.0     0.0     0.0    Maham Ofracculy   \n",
       "1        109.0        9.0          25.0   549.0    44.0       Juanna Vines   \n",
       "2         43.0     3576.0           0.0  6715.0    49.0      Altark Susent   \n",
       "3          0.0     1283.0         371.0  3329.0   193.0       Solam Susent   \n",
       "4        303.0       70.0         151.0   565.0     2.0  Willy Santantines   \n",
       "\n",
       "  Transported    set  \n",
       "0       False  train  \n",
       "1        True  train  \n",
       "2       False  train  \n",
       "3       False  train  \n",
       "4        True  train  "
      ]
     },
     "execution_count": 3,
     "metadata": {},
     "output_type": "execute_result"
    }
   ],
   "source": [
    "df.head()"
   ]
  },
  {
   "cell_type": "markdown",
   "id": "a8aca59e",
   "metadata": {
    "papermill": {
     "duration": 0.012307,
     "end_time": "2024-06-20T18:43:58.880771",
     "exception": false,
     "start_time": "2024-06-20T18:43:58.868464",
     "status": "completed"
    },
    "tags": []
   },
   "source": [
    "## Feature Engineering\n",
    "<a id=\"feature-engineering\"></a>"
   ]
  },
  {
   "cell_type": "markdown",
   "id": "44df4ded",
   "metadata": {
    "papermill": {
     "duration": 0.012495,
     "end_time": "2024-06-20T18:43:58.905775",
     "exception": false,
     "start_time": "2024-06-20T18:43:58.893280",
     "status": "completed"
    },
    "tags": []
   },
   "source": [
    "### 1. Create Group vs solo Feature"
   ]
  },
  {
   "cell_type": "code",
   "execution_count": 4,
   "id": "a215df2f",
   "metadata": {
    "_kg_hide-input": false,
    "execution": {
     "iopub.execute_input": "2024-06-20T18:43:58.932133Z",
     "iopub.status.busy": "2024-06-20T18:43:58.931755Z",
     "iopub.status.idle": "2024-06-20T18:43:58.970776Z",
     "shell.execute_reply": "2024-06-20T18:43:58.969664Z"
    },
    "papermill": {
     "duration": 0.055258,
     "end_time": "2024-06-20T18:43:58.973386",
     "exception": false,
     "start_time": "2024-06-20T18:43:58.918128",
     "status": "completed"
    },
    "tags": []
   },
   "outputs": [],
   "source": [
    "df['PassengerGroup'] = df['PassengerId'].str[:4]\n",
    "\n",
    "group_counts = df['PassengerGroup'].value_counts().sort_index()\n",
    "\n",
    "df['GroupSize'] = df.groupby('PassengerGroup')['PassengerId'].transform('count')"
   ]
  },
  {
   "cell_type": "code",
   "execution_count": 5,
   "id": "8ac4897c",
   "metadata": {
    "execution": {
     "iopub.execute_input": "2024-06-20T18:43:59.000079Z",
     "iopub.status.busy": "2024-06-20T18:43:58.999678Z",
     "iopub.status.idle": "2024-06-20T18:43:59.009538Z",
     "shell.execute_reply": "2024-06-20T18:43:59.008493Z"
    },
    "papermill": {
     "duration": 0.025786,
     "end_time": "2024-06-20T18:43:59.011762",
     "exception": false,
     "start_time": "2024-06-20T18:43:58.985976",
     "status": "completed"
    },
    "tags": []
   },
   "outputs": [],
   "source": [
    "df['solo_traveler'] = df['GroupSize'].apply(lambda x: True if x > 1 else False)"
   ]
  },
  {
   "cell_type": "code",
   "execution_count": 6,
   "id": "d12551b1",
   "metadata": {
    "execution": {
     "iopub.execute_input": "2024-06-20T18:43:59.039660Z",
     "iopub.status.busy": "2024-06-20T18:43:59.039281Z",
     "iopub.status.idle": "2024-06-20T18:43:59.048681Z",
     "shell.execute_reply": "2024-06-20T18:43:59.047601Z"
    },
    "papermill": {
     "duration": 0.025143,
     "end_time": "2024-06-20T18:43:59.050900",
     "exception": false,
     "start_time": "2024-06-20T18:43:59.025757",
     "status": "completed"
    },
    "tags": []
   },
   "outputs": [
    {
     "data": {
      "text/plain": [
       "GroupSize\n",
       "1    7145\n",
       "2    2590\n",
       "3    1506\n",
       "4     616\n",
       "5     380\n",
       "7     329\n",
       "6     252\n",
       "8     152\n",
       "Name: count, dtype: int64"
      ]
     },
     "execution_count": 6,
     "metadata": {},
     "output_type": "execute_result"
    }
   ],
   "source": [
    "df['GroupSize'].value_counts()"
   ]
  },
  {
   "cell_type": "markdown",
   "id": "89f1dd28",
   "metadata": {
    "papermill": {
     "duration": 0.012267,
     "end_time": "2024-06-20T18:43:59.075715",
     "exception": false,
     "start_time": "2024-06-20T18:43:59.063448",
     "status": "completed"
    },
    "tags": []
   },
   "source": [
    "### 2. Feature Engineer Cabin Data"
   ]
  },
  {
   "cell_type": "markdown",
   "id": "413f85b5",
   "metadata": {
    "papermill": {
     "duration": 0.012166,
     "end_time": "2024-06-20T18:43:59.100575",
     "exception": false,
     "start_time": "2024-06-20T18:43:59.088409",
     "status": "completed"
    },
    "tags": []
   },
   "source": [
    "#### 2.1) Break Out Cabin Into Deck / Number / Side"
   ]
  },
  {
   "cell_type": "code",
   "execution_count": 7,
   "id": "c94bdd0f",
   "metadata": {
    "_kg_hide-input": false,
    "execution": {
     "iopub.execute_input": "2024-06-20T18:43:59.127213Z",
     "iopub.status.busy": "2024-06-20T18:43:59.126849Z",
     "iopub.status.idle": "2024-06-20T18:44:00.830453Z",
     "shell.execute_reply": "2024-06-20T18:44:00.829278Z"
    },
    "papermill": {
     "duration": 1.720054,
     "end_time": "2024-06-20T18:44:00.833078",
     "exception": false,
     "start_time": "2024-06-20T18:43:59.113024",
     "status": "completed"
    },
    "tags": []
   },
   "outputs": [],
   "source": [
    "def split_cabin(cabin):\n",
    "    if pd.isna(cabin):\n",
    "        return pd.Series([None, None, None])\n",
    "    parts = cabin.split('/')\n",
    "    deck = parts[0]\n",
    "    number = parts[1]\n",
    "    side = 'Port' if parts[2] == 'P' else 'Starboard'\n",
    "    return pd.Series([deck, number, side])\n",
    "\n",
    "df[['cabin_deck', 'cabin_number', 'cabin_side']] = df['Cabin'].apply(split_cabin)"
   ]
  },
  {
   "cell_type": "markdown",
   "id": "d2614d31",
   "metadata": {
    "papermill": {
     "duration": 0.012221,
     "end_time": "2024-06-20T18:44:00.858119",
     "exception": false,
     "start_time": "2024-06-20T18:44:00.845898",
     "status": "completed"
    },
    "tags": []
   },
   "source": [
    "#### 2.2) Bin Cabin Number"
   ]
  },
  {
   "cell_type": "code",
   "execution_count": 8,
   "id": "3617c0e2",
   "metadata": {
    "execution": {
     "iopub.execute_input": "2024-06-20T18:44:00.884785Z",
     "iopub.status.busy": "2024-06-20T18:44:00.884396Z",
     "iopub.status.idle": "2024-06-20T18:44:00.907835Z",
     "shell.execute_reply": "2024-06-20T18:44:00.906769Z"
    },
    "papermill": {
     "duration": 0.039681,
     "end_time": "2024-06-20T18:44:00.910393",
     "exception": false,
     "start_time": "2024-06-20T18:44:00.870712",
     "status": "completed"
    },
    "tags": []
   },
   "outputs": [],
   "source": [
    "# Convert the cabin_number column to numeric\n",
    "df['cabin_number'] = pd.to_numeric(df['cabin_number'], errors='coerce')\n",
    "\n",
    "# Convert the maximum value to an integer\n",
    "max_cabin_number = int(df['cabin_number'].max())\n",
    "\n",
    "# Bin the cabin_number column into groups of 300 starting at 0\n",
    "bins = range(0, max_cabin_number + 50, 50)\n",
    "labels = range(1, len(bins))  # Numeric labels starting from 1\n",
    "df['cabin_region'] = pd.cut(df['cabin_number'], bins=bins, labels=labels, right=False)"
   ]
  },
  {
   "cell_type": "markdown",
   "id": "8a35cca3",
   "metadata": {
    "papermill": {
     "duration": 0.012115,
     "end_time": "2024-06-20T18:44:00.935223",
     "exception": false,
     "start_time": "2024-06-20T18:44:00.923108",
     "status": "completed"
    },
    "tags": []
   },
   "source": [
    "#### 2.3) Group Decks into Categories"
   ]
  },
  {
   "cell_type": "code",
   "execution_count": 9,
   "id": "2c9e1f9c",
   "metadata": {
    "execution": {
     "iopub.execute_input": "2024-06-20T18:44:00.962547Z",
     "iopub.status.busy": "2024-06-20T18:44:00.961515Z",
     "iopub.status.idle": "2024-06-20T18:44:00.972775Z",
     "shell.execute_reply": "2024-06-20T18:44:00.971795Z"
    },
    "papermill": {
     "duration": 0.027093,
     "end_time": "2024-06-20T18:44:00.974944",
     "exception": false,
     "start_time": "2024-06-20T18:44:00.947851",
     "status": "completed"
    },
    "tags": []
   },
   "outputs": [],
   "source": [
    "# Define the new combined deck categories based on the provided bins\n",
    "def combined_deck_category(deck):\n",
    "    if deck == 'A':\n",
    "        return 'top_deck'\n",
    "    elif deck in ['B', 'C']:\n",
    "        return 'upper_deck'\n",
    "    elif deck in ['D', 'E']:\n",
    "        return 'mid_deck'\n",
    "    elif deck in ['F', 'G']:\n",
    "        return 'lower_deck'\n",
    "    elif deck == 'T':\n",
    "        return 'bottom_deck'\n",
    "    else:\n",
    "        return np.nan\n",
    "\n",
    "# Apply the function to create the new combined deck categories\n",
    "df['cabin_deck'] = df['cabin_deck'].apply(combined_deck_category)"
   ]
  },
  {
   "cell_type": "code",
   "execution_count": 10,
   "id": "e4c9c008",
   "metadata": {
    "execution": {
     "iopub.execute_input": "2024-06-20T18:44:01.003241Z",
     "iopub.status.busy": "2024-06-20T18:44:01.002840Z",
     "iopub.status.idle": "2024-06-20T18:44:01.015778Z",
     "shell.execute_reply": "2024-06-20T18:44:01.014669Z"
    },
    "papermill": {
     "duration": 0.029616,
     "end_time": "2024-06-20T18:44:01.018039",
     "exception": false,
     "start_time": "2024-06-20T18:44:00.988423",
     "status": "completed"
    },
    "tags": []
   },
   "outputs": [
    {
     "data": {
      "text/html": [
       "<div>\n",
       "<style scoped>\n",
       "    .dataframe tbody tr th:only-of-type {\n",
       "        vertical-align: middle;\n",
       "    }\n",
       "\n",
       "    .dataframe tbody tr th {\n",
       "        vertical-align: top;\n",
       "    }\n",
       "\n",
       "    .dataframe thead th {\n",
       "        text-align: right;\n",
       "    }\n",
       "</style>\n",
       "<table border=\"1\" class=\"dataframe\">\n",
       "  <thead>\n",
       "    <tr style=\"text-align: right;\">\n",
       "      <th></th>\n",
       "      <th>cabin_deck</th>\n",
       "      <th>cabin_side</th>\n",
       "      <th>cabin_region</th>\n",
       "    </tr>\n",
       "  </thead>\n",
       "  <tbody>\n",
       "    <tr>\n",
       "      <th>0</th>\n",
       "      <td>upper_deck</td>\n",
       "      <td>Port</td>\n",
       "      <td>1</td>\n",
       "    </tr>\n",
       "    <tr>\n",
       "      <th>1</th>\n",
       "      <td>lower_deck</td>\n",
       "      <td>Starboard</td>\n",
       "      <td>1</td>\n",
       "    </tr>\n",
       "    <tr>\n",
       "      <th>2</th>\n",
       "      <td>top_deck</td>\n",
       "      <td>Starboard</td>\n",
       "      <td>1</td>\n",
       "    </tr>\n",
       "    <tr>\n",
       "      <th>3</th>\n",
       "      <td>top_deck</td>\n",
       "      <td>Starboard</td>\n",
       "      <td>1</td>\n",
       "    </tr>\n",
       "    <tr>\n",
       "      <th>4</th>\n",
       "      <td>lower_deck</td>\n",
       "      <td>Starboard</td>\n",
       "      <td>1</td>\n",
       "    </tr>\n",
       "  </tbody>\n",
       "</table>\n",
       "</div>"
      ],
      "text/plain": [
       "   cabin_deck cabin_side cabin_region\n",
       "0  upper_deck       Port            1\n",
       "1  lower_deck  Starboard            1\n",
       "2    top_deck  Starboard            1\n",
       "3    top_deck  Starboard            1\n",
       "4  lower_deck  Starboard            1"
      ]
     },
     "execution_count": 10,
     "metadata": {},
     "output_type": "execute_result"
    }
   ],
   "source": [
    "df[['cabin_deck', 'cabin_side', 'cabin_region']].head()"
   ]
  },
  {
   "cell_type": "markdown",
   "id": "e5db0738",
   "metadata": {
    "papermill": {
     "duration": 0.012372,
     "end_time": "2024-06-20T18:44:01.100277",
     "exception": false,
     "start_time": "2024-06-20T18:44:01.087905",
     "status": "completed"
    },
    "tags": []
   },
   "source": [
    "#### 2.4) Create Relative Risk Feature for Cabin Location"
   ]
  },
  {
   "cell_type": "code",
   "execution_count": 11,
   "id": "746c6718",
   "metadata": {
    "execution": {
     "iopub.execute_input": "2024-06-20T18:44:01.129317Z",
     "iopub.status.busy": "2024-06-20T18:44:01.128293Z",
     "iopub.status.idle": "2024-06-20T18:44:01.230625Z",
     "shell.execute_reply": "2024-06-20T18:44:01.229350Z"
    },
    "papermill": {
     "duration": 0.120351,
     "end_time": "2024-06-20T18:44:01.233375",
     "exception": false,
     "start_time": "2024-06-20T18:44:01.113024",
     "status": "completed"
    },
    "tags": []
   },
   "outputs": [],
   "source": [
    "# Ensure columns are strings for concatenation\n",
    "df['cabin_deck'] = df['cabin_deck'].astype(str)\n",
    "df['cabin_region'] = df['cabin_region'].astype(str)\n",
    "\n",
    "# Create the new feature by combining 'cabin_deck' and 'cabin_region'\n",
    "df['cabin_location'] = df['cabin_deck'] + \"_\" + df['cabin_region']\n",
    "\n",
    "# Calculate the average share of 'Transported' for the combined feature\n",
    "average_share_cabin_location = df[df['set'] == 'train'].groupby('cabin_location')['Transported'].mean()\n",
    "\n",
    "# Handle missing values by calculating the average share for non-missing parts\n",
    "average_share_deck = df[df['set'] == 'train'].groupby('cabin_deck')['Transported'].mean()\n",
    "average_share_region = df[df['set'] == 'train'].groupby('cabin_region')['Transported'].mean()\n",
    "\n",
    "# Drop columns to avoid conflicts before merging\n",
    "df = df.drop(columns=['average_share_cabin_location', 'average_share_deck', 'average_share_region'], errors='ignore')\n",
    "\n",
    "# Merge the calculated average share back to the dataframe\n",
    "df = df.merge(average_share_cabin_location.rename('average_share_cabin_location'), on='cabin_location', how='left')\n",
    "df = df.merge(average_share_deck.rename('average_share_deck'), on='cabin_deck', how='left')\n",
    "df = df.merge(average_share_region.rename('average_share_region'), on='cabin_region', how='left')\n",
    "\n",
    "# Fill missing values in the combined feature with the average of the non-missing parts\n",
    "df['average_share_cabin_location'] = df['average_share_cabin_location'].combine_first((df['average_share_deck'] + df['average_share_region']) / 2)\n",
    "\n",
    "# Convert average_share_cabin_location to float\n",
    "df['average_share_cabin_location'] = df['average_share_cabin_location'].astype(float)\n",
    "\n",
    "# Ensure no division by zero errors\n",
    "df['average_share_cabin_location'] = df['average_share_cabin_location'].clip(0.0001, 0.9999)\n",
    "\n",
    "# Calculate the log of relative risk for each person\n",
    "df['cabin_location_relative_risk'] = np.log(df['average_share_cabin_location'] / (1 - df['average_share_cabin_location']))"
   ]
  },
  {
   "cell_type": "code",
   "execution_count": 12,
   "id": "592ccbc1",
   "metadata": {
    "execution": {
     "iopub.execute_input": "2024-06-20T18:44:01.261198Z",
     "iopub.status.busy": "2024-06-20T18:44:01.260797Z",
     "iopub.status.idle": "2024-06-20T18:44:01.273942Z",
     "shell.execute_reply": "2024-06-20T18:44:01.272812Z"
    },
    "papermill": {
     "duration": 0.029405,
     "end_time": "2024-06-20T18:44:01.276022",
     "exception": false,
     "start_time": "2024-06-20T18:44:01.246617",
     "status": "completed"
    },
    "tags": []
   },
   "outputs": [
    {
     "data": {
      "text/html": [
       "<div>\n",
       "<style scoped>\n",
       "    .dataframe tbody tr th:only-of-type {\n",
       "        vertical-align: middle;\n",
       "    }\n",
       "\n",
       "    .dataframe tbody tr th {\n",
       "        vertical-align: top;\n",
       "    }\n",
       "\n",
       "    .dataframe thead th {\n",
       "        text-align: right;\n",
       "    }\n",
       "</style>\n",
       "<table border=\"1\" class=\"dataframe\">\n",
       "  <thead>\n",
       "    <tr style=\"text-align: right;\">\n",
       "      <th></th>\n",
       "      <th>PassengerId</th>\n",
       "      <th>cabin_location</th>\n",
       "      <th>average_share_cabin_location</th>\n",
       "      <th>cabin_location_relative_risk</th>\n",
       "    </tr>\n",
       "  </thead>\n",
       "  <tbody>\n",
       "    <tr>\n",
       "      <th>0</th>\n",
       "      <td>0001_01</td>\n",
       "      <td>upper_deck_1</td>\n",
       "      <td>0.680365</td>\n",
       "      <td>0.755451</td>\n",
       "    </tr>\n",
       "    <tr>\n",
       "      <th>1</th>\n",
       "      <td>0002_01</td>\n",
       "      <td>lower_deck_1</td>\n",
       "      <td>0.487654</td>\n",
       "      <td>-0.049393</td>\n",
       "    </tr>\n",
       "    <tr>\n",
       "      <th>2</th>\n",
       "      <td>0003_01</td>\n",
       "      <td>top_deck_1</td>\n",
       "      <td>0.486726</td>\n",
       "      <td>-0.053110</td>\n",
       "    </tr>\n",
       "    <tr>\n",
       "      <th>3</th>\n",
       "      <td>0003_02</td>\n",
       "      <td>top_deck_1</td>\n",
       "      <td>0.486726</td>\n",
       "      <td>-0.053110</td>\n",
       "    </tr>\n",
       "    <tr>\n",
       "      <th>4</th>\n",
       "      <td>0004_01</td>\n",
       "      <td>lower_deck_1</td>\n",
       "      <td>0.487654</td>\n",
       "      <td>-0.049393</td>\n",
       "    </tr>\n",
       "  </tbody>\n",
       "</table>\n",
       "</div>"
      ],
      "text/plain": [
       "  PassengerId cabin_location  average_share_cabin_location  \\\n",
       "0     0001_01   upper_deck_1                      0.680365   \n",
       "1     0002_01   lower_deck_1                      0.487654   \n",
       "2     0003_01     top_deck_1                      0.486726   \n",
       "3     0003_02     top_deck_1                      0.486726   \n",
       "4     0004_01   lower_deck_1                      0.487654   \n",
       "\n",
       "   cabin_location_relative_risk  \n",
       "0                      0.755451  \n",
       "1                     -0.049393  \n",
       "2                     -0.053110  \n",
       "3                     -0.053110  \n",
       "4                     -0.049393  "
      ]
     },
     "execution_count": 12,
     "metadata": {},
     "output_type": "execute_result"
    }
   ],
   "source": [
    "# Display the first few rows of the updated dataframe\n",
    "df[['PassengerId', 'cabin_location', 'average_share_cabin_location', 'cabin_location_relative_risk']].head()"
   ]
  },
  {
   "cell_type": "code",
   "execution_count": 13,
   "id": "a5bcc8f5",
   "metadata": {
    "execution": {
     "iopub.execute_input": "2024-06-20T18:44:01.304822Z",
     "iopub.status.busy": "2024-06-20T18:44:01.304450Z",
     "iopub.status.idle": "2024-06-20T18:44:02.179721Z",
     "shell.execute_reply": "2024-06-20T18:44:02.178547Z"
    },
    "papermill": {
     "duration": 0.893242,
     "end_time": "2024-06-20T18:44:02.182723",
     "exception": false,
     "start_time": "2024-06-20T18:44:01.289481",
     "status": "completed"
    },
    "tags": []
   },
   "outputs": [
    {
     "data": {
      "image/png": "[encoded data removed]",
      "text/plain": [
       "<Figure size 1400x600 with 1 Axes>"
      ]
     },
     "metadata": {},
     "output_type": "display_data"
    }
   ],
   "source": [
    "# Group by cabin_location and calculate the mean of log_relative_risk\n",
    "log_risk_by_cabin_location = df.groupby('cabin_location')['cabin_location_relative_risk'].mean().sort_values()\n",
    "\n",
    "# Define the colormap function\n",
    "def get_color(val):\n",
    "    if val > 0:\n",
    "        return plt.cm.Reds(val / max(log_risk_by_cabin_location))\n",
    "    else:\n",
    "        return plt.cm.Greens(abs(val) / abs(min(log_risk_by_cabin_location)))\n",
    "\n",
    "# Apply the colormap\n",
    "colors = log_risk_by_cabin_location.apply(get_color)\n",
    "\n",
    "# Plotting\n",
    "plt.figure(figsize=(14, 6))\n",
    "log_risk_by_cabin_location.plot(kind='bar', color=colors, edgecolor='black')\n",
    "plt.title('Log of Relative Risk by Cabin Location', fontsize=16)\n",
    "plt.xlabel('Cabin Location', fontsize=14)\n",
    "plt.ylabel('Log of Relative Risk', fontsize=14)\n",
    "plt.xticks(rotation=90, fontsize=12)\n",
    "plt.yticks(fontsize=12)\n",
    "plt.grid(axis='y', linestyle='--', alpha=0.7)\n",
    "plt.tight_layout()\n",
    "\n",
    "plt.show()"
   ]
  },
  {
   "cell_type": "markdown",
   "id": "2b35ed85",
   "metadata": {
    "papermill": {
     "duration": 0.014876,
     "end_time": "2024-06-20T18:44:02.212753",
     "exception": false,
     "start_time": "2024-06-20T18:44:02.197877",
     "status": "completed"
    },
    "tags": []
   },
   "source": [
    "### 4. Infer Gender From First Name"
   ]
  },
  {
   "cell_type": "code",
   "execution_count": 14,
   "id": "25aba0c5",
   "metadata": {
    "execution": {
     "iopub.execute_input": "2024-06-20T18:44:02.243577Z",
     "iopub.status.busy": "2024-06-20T18:44:02.243101Z",
     "iopub.status.idle": "2024-06-20T18:44:02.463713Z",
     "shell.execute_reply": "2024-06-20T18:44:02.462623Z"
    },
    "papermill": {
     "duration": 0.239096,
     "end_time": "2024-06-20T18:44:02.466312",
     "exception": false,
     "start_time": "2024-06-20T18:44:02.227216",
     "status": "completed"
    },
    "tags": []
   },
   "outputs": [
    {
     "name": "stdout",
     "output_type": "stream",
     "text": [
      "[nltk_data] Downloading package names to /usr/share/nltk_data...\n",
      "[nltk_data]   Package names is already up-to-date!\n"
     ]
    },
    {
     "data": {
      "text/plain": [
       "True"
      ]
     },
     "execution_count": 14,
     "metadata": {},
     "output_type": "execute_result"
    }
   ],
   "source": [
    "nltk.download('names')"
   ]
  },
  {
   "cell_type": "code",
   "execution_count": 15,
   "id": "0453a8a2",
   "metadata": {
    "execution": {
     "iopub.execute_input": "2024-06-20T18:44:02.498506Z",
     "iopub.status.busy": "2024-06-20T18:44:02.497365Z",
     "iopub.status.idle": "2024-06-20T18:44:02.512190Z",
     "shell.execute_reply": "2024-06-20T18:44:02.511199Z"
    },
    "papermill": {
     "duration": 0.033373,
     "end_time": "2024-06-20T18:44:02.514472",
     "exception": false,
     "start_time": "2024-06-20T18:44:02.481099",
     "status": "completed"
    },
    "tags": []
   },
   "outputs": [],
   "source": [
    "# Fill missing values in the 'Name' column with an empty string\n",
    "df['Name'] = df['Name'].fillna('')\n",
    "\n",
    "# Extract first names from the 'Name' column\n",
    "def extract_first_name(name):\n",
    "    return name.split()[0] if name else ''\n",
    "\n",
    "df['first_name'] = df['Name'].apply(extract_first_name)\n",
    "\n",
    "# Function to extract the last letter of a name as a feature\n",
    "def gender_features(word):\n",
    "    return {'last_letter': word[-1]}"
   ]
  },
  {
   "cell_type": "code",
   "execution_count": 16,
   "id": "2cd4b476",
   "metadata": {
    "execution": {
     "iopub.execute_input": "2024-06-20T18:44:02.545540Z",
     "iopub.status.busy": "2024-06-20T18:44:02.545106Z",
     "iopub.status.idle": "2024-06-20T18:44:02.562537Z",
     "shell.execute_reply": "2024-06-20T18:44:02.561525Z"
    },
    "papermill": {
     "duration": 0.036023,
     "end_time": "2024-06-20T18:44:02.565225",
     "exception": false,
     "start_time": "2024-06-20T18:44:02.529202",
     "status": "completed"
    },
    "tags": []
   },
   "outputs": [],
   "source": [
    "# Prepare labeled names dataset\n",
    "labeled_names = [(name, \"male\") for name in names.words(\"male.txt\")] + [(name, \"female\") for name in names.words(\"female.txt\")]\n",
    "random.shuffle(labeled_names)"
   ]
  },
  {
   "cell_type": "code",
   "execution_count": 17,
   "id": "41910b16",
   "metadata": {
    "execution": {
     "iopub.execute_input": "2024-06-20T18:44:02.596534Z",
     "iopub.status.busy": "2024-06-20T18:44:02.596111Z",
     "iopub.status.idle": "2024-06-20T18:44:02.607015Z",
     "shell.execute_reply": "2024-06-20T18:44:02.605838Z"
    },
    "papermill": {
     "duration": 0.029293,
     "end_time": "2024-06-20T18:44:02.609496",
     "exception": false,
     "start_time": "2024-06-20T18:44:02.580203",
     "status": "completed"
    },
    "tags": []
   },
   "outputs": [],
   "source": [
    "# Extract featuresets\n",
    "featuresets = [(gender_features(n), gender) for (n, gender) in labeled_names]"
   ]
  },
  {
   "cell_type": "code",
   "execution_count": 18,
   "id": "eaf14bd0",
   "metadata": {
    "execution": {
     "iopub.execute_input": "2024-06-20T18:44:02.641204Z",
     "iopub.status.busy": "2024-06-20T18:44:02.640799Z",
     "iopub.status.idle": "2024-06-20T18:44:02.824312Z",
     "shell.execute_reply": "2024-06-20T18:44:02.823066Z"
    },
    "papermill": {
     "duration": 0.20213,
     "end_time": "2024-06-20T18:44:02.826851",
     "exception": false,
     "start_time": "2024-06-20T18:44:02.624721",
     "status": "completed"
    },
    "tags": []
   },
   "outputs": [],
   "source": [
    "# Train the NaiveBayesClassifier\n",
    "classifier = NaiveBayesClassifier.train(featuresets)\n",
    "\n",
    "# Set blanks and None values to NaN\n",
    "df['first_name'] = df['first_name'].replace({'': np.nan, None: np.nan})\n",
    "\n",
    "# Classify gender for the DataFrame and handle NaN values\n",
    "df['gender'] = df['first_name'].apply(lambda x: classifier.classify(gender_features(x)) if pd.notna(x) else np.nan)\n",
    "\n",
    "# Drop the temporary 'first_name' column if necessary\n",
    "df.drop(columns=['first_name'], inplace=True)"
   ]
  },
  {
   "cell_type": "markdown",
   "id": "e8e879e0",
   "metadata": {
    "papermill": {
     "duration": 0.014246,
     "end_time": "2024-06-20T18:44:02.855744",
     "exception": false,
     "start_time": "2024-06-20T18:44:02.841498",
     "status": "completed"
    },
    "tags": []
   },
   "source": [
    "### 5. Create Age Feature"
   ]
  },
  {
   "cell_type": "code",
   "execution_count": 19,
   "id": "03851362",
   "metadata": {
    "execution": {
     "iopub.execute_input": "2024-06-20T18:44:02.886166Z",
     "iopub.status.busy": "2024-06-20T18:44:02.885799Z",
     "iopub.status.idle": "2024-06-20T18:44:02.897254Z",
     "shell.execute_reply": "2024-06-20T18:44:02.896252Z"
    },
    "papermill": {
     "duration": 0.029707,
     "end_time": "2024-06-20T18:44:02.899799",
     "exception": false,
     "start_time": "2024-06-20T18:44:02.870092",
     "status": "completed"
    },
    "tags": []
   },
   "outputs": [],
   "source": [
    "# Create a new variable for age groups\n",
    "def age_group(age):\n",
    "    if age < 13:\n",
    "        return 'Kid'\n",
    "    elif age < 18:\n",
    "        return 'Teen'\n",
    "    else:\n",
    "        return 'Adult'\n",
    "\n",
    "# Apply the function to create a new column\n",
    "df['Age_Group'] = df['Age'].apply(age_group)"
   ]
  },
  {
   "cell_type": "code",
   "execution_count": 20,
   "id": "4daf518d",
   "metadata": {
    "execution": {
     "iopub.execute_input": "2024-06-20T18:44:02.931271Z",
     "iopub.status.busy": "2024-06-20T18:44:02.930576Z",
     "iopub.status.idle": "2024-06-20T18:44:02.940110Z",
     "shell.execute_reply": "2024-06-20T18:44:02.939069Z"
    },
    "papermill": {
     "duration": 0.028016,
     "end_time": "2024-06-20T18:44:02.942495",
     "exception": false,
     "start_time": "2024-06-20T18:44:02.914479",
     "status": "completed"
    },
    "tags": []
   },
   "outputs": [
    {
     "data": {
      "text/plain": [
       "Age_Group\n",
       "Adult    10706\n",
       "Kid       1157\n",
       "Teen      1107\n",
       "Name: count, dtype: int64"
      ]
     },
     "execution_count": 20,
     "metadata": {},
     "output_type": "execute_result"
    }
   ],
   "source": [
    "df['Age_Group'].value_counts()"
   ]
  },
  {
   "cell_type": "markdown",
   "id": "252a2ff8",
   "metadata": {
    "papermill": {
     "duration": 0.014429,
     "end_time": "2024-06-20T18:44:02.971527",
     "exception": false,
     "start_time": "2024-06-20T18:44:02.957098",
     "status": "completed"
    },
    "tags": []
   },
   "source": [
    "## Data Cleaning\n",
    "<a id=\"data-cleaning\"></a>"
   ]
  },
  {
   "cell_type": "markdown",
   "id": "87bb3542",
   "metadata": {
    "_kg_hide-input": true,
    "papermill": {
     "duration": 0.014295,
     "end_time": "2024-06-20T18:44:03.000641",
     "exception": false,
     "start_time": "2024-06-20T18:44:02.986346",
     "status": "completed"
    },
    "tags": []
   },
   "source": [
    "### 1. Drop Columns"
   ]
  },
  {
   "cell_type": "code",
   "execution_count": 21,
   "id": "fde88067",
   "metadata": {
    "execution": {
     "iopub.execute_input": "2024-06-20T18:44:03.031643Z",
     "iopub.status.busy": "2024-06-20T18:44:03.031220Z",
     "iopub.status.idle": "2024-06-20T18:44:03.058916Z",
     "shell.execute_reply": "2024-06-20T18:44:03.057788Z"
    },
    "papermill": {
     "duration": 0.04617,
     "end_time": "2024-06-20T18:44:03.061468",
     "exception": false,
     "start_time": "2024-06-20T18:44:03.015298",
     "status": "completed"
    },
    "tags": []
   },
   "outputs": [
    {
     "data": {
      "text/html": [
       "<div>\n",
       "<style scoped>\n",
       "    .dataframe tbody tr th:only-of-type {\n",
       "        vertical-align: middle;\n",
       "    }\n",
       "\n",
       "    .dataframe tbody tr th {\n",
       "        vertical-align: top;\n",
       "    }\n",
       "\n",
       "    .dataframe thead th {\n",
       "        text-align: right;\n",
       "    }\n",
       "</style>\n",
       "<table border=\"1\" class=\"dataframe\">\n",
       "  <thead>\n",
       "    <tr style=\"text-align: right;\">\n",
       "      <th></th>\n",
       "      <th>PassengerId</th>\n",
       "      <th>HomePlanet</th>\n",
       "      <th>CryoSleep</th>\n",
       "      <th>Cabin</th>\n",
       "      <th>Destination</th>\n",
       "      <th>Age</th>\n",
       "      <th>VIP</th>\n",
       "      <th>RoomService</th>\n",
       "      <th>FoodCourt</th>\n",
       "      <th>ShoppingMall</th>\n",
       "      <th>...</th>\n",
       "      <th>cabin_number</th>\n",
       "      <th>cabin_side</th>\n",
       "      <th>cabin_region</th>\n",
       "      <th>cabin_location</th>\n",
       "      <th>average_share_cabin_location</th>\n",
       "      <th>average_share_deck</th>\n",
       "      <th>average_share_region</th>\n",
       "      <th>cabin_location_relative_risk</th>\n",
       "      <th>gender</th>\n",
       "      <th>Age_Group</th>\n",
       "    </tr>\n",
       "  </thead>\n",
       "  <tbody>\n",
       "    <tr>\n",
       "      <th>0</th>\n",
       "      <td>0001_01</td>\n",
       "      <td>Europa</td>\n",
       "      <td>False</td>\n",
       "      <td>B/0/P</td>\n",
       "      <td>TRAPPIST-1e</td>\n",
       "      <td>39.0</td>\n",
       "      <td>False</td>\n",
       "      <td>0.0</td>\n",
       "      <td>0.0</td>\n",
       "      <td>0.0</td>\n",
       "      <td>...</td>\n",
       "      <td>0.0</td>\n",
       "      <td>Port</td>\n",
       "      <td>1</td>\n",
       "      <td>upper_deck_1</td>\n",
       "      <td>0.680365</td>\n",
       "      <td>0.707733</td>\n",
       "      <td>0.526398</td>\n",
       "      <td>0.755451</td>\n",
       "      <td>male</td>\n",
       "      <td>Adult</td>\n",
       "    </tr>\n",
       "    <tr>\n",
       "      <th>1</th>\n",
       "      <td>0002_01</td>\n",
       "      <td>Earth</td>\n",
       "      <td>False</td>\n",
       "      <td>F/0/S</td>\n",
       "      <td>TRAPPIST-1e</td>\n",
       "      <td>24.0</td>\n",
       "      <td>False</td>\n",
       "      <td>109.0</td>\n",
       "      <td>9.0</td>\n",
       "      <td>25.0</td>\n",
       "      <td>...</td>\n",
       "      <td>0.0</td>\n",
       "      <td>Starboard</td>\n",
       "      <td>1</td>\n",
       "      <td>lower_deck_1</td>\n",
       "      <td>0.487654</td>\n",
       "      <td>0.476368</td>\n",
       "      <td>0.526398</td>\n",
       "      <td>-0.049393</td>\n",
       "      <td>female</td>\n",
       "      <td>Adult</td>\n",
       "    </tr>\n",
       "    <tr>\n",
       "      <th>2</th>\n",
       "      <td>0003_01</td>\n",
       "      <td>Europa</td>\n",
       "      <td>False</td>\n",
       "      <td>A/0/S</td>\n",
       "      <td>TRAPPIST-1e</td>\n",
       "      <td>58.0</td>\n",
       "      <td>True</td>\n",
       "      <td>43.0</td>\n",
       "      <td>3576.0</td>\n",
       "      <td>0.0</td>\n",
       "      <td>...</td>\n",
       "      <td>0.0</td>\n",
       "      <td>Starboard</td>\n",
       "      <td>1</td>\n",
       "      <td>top_deck_1</td>\n",
       "      <td>0.486726</td>\n",
       "      <td>0.496094</td>\n",
       "      <td>0.526398</td>\n",
       "      <td>-0.053110</td>\n",
       "      <td>male</td>\n",
       "      <td>Adult</td>\n",
       "    </tr>\n",
       "    <tr>\n",
       "      <th>3</th>\n",
       "      <td>0003_02</td>\n",
       "      <td>Europa</td>\n",
       "      <td>False</td>\n",
       "      <td>A/0/S</td>\n",
       "      <td>TRAPPIST-1e</td>\n",
       "      <td>33.0</td>\n",
       "      <td>False</td>\n",
       "      <td>0.0</td>\n",
       "      <td>1283.0</td>\n",
       "      <td>371.0</td>\n",
       "      <td>...</td>\n",
       "      <td>0.0</td>\n",
       "      <td>Starboard</td>\n",
       "      <td>1</td>\n",
       "      <td>top_deck_1</td>\n",
       "      <td>0.486726</td>\n",
       "      <td>0.496094</td>\n",
       "      <td>0.526398</td>\n",
       "      <td>-0.053110</td>\n",
       "      <td>male</td>\n",
       "      <td>Adult</td>\n",
       "    </tr>\n",
       "    <tr>\n",
       "      <th>4</th>\n",
       "      <td>0004_01</td>\n",
       "      <td>Earth</td>\n",
       "      <td>False</td>\n",
       "      <td>F/1/S</td>\n",
       "      <td>TRAPPIST-1e</td>\n",
       "      <td>16.0</td>\n",
       "      <td>False</td>\n",
       "      <td>303.0</td>\n",
       "      <td>70.0</td>\n",
       "      <td>151.0</td>\n",
       "      <td>...</td>\n",
       "      <td>1.0</td>\n",
       "      <td>Starboard</td>\n",
       "      <td>1</td>\n",
       "      <td>lower_deck_1</td>\n",
       "      <td>0.487654</td>\n",
       "      <td>0.476368</td>\n",
       "      <td>0.526398</td>\n",
       "      <td>-0.049393</td>\n",
       "      <td>female</td>\n",
       "      <td>Teen</td>\n",
       "    </tr>\n",
       "  </tbody>\n",
       "</table>\n",
       "<p>5 rows × 29 columns</p>\n",
       "</div>"
      ],
      "text/plain": [
       "  PassengerId HomePlanet CryoSleep  Cabin  Destination   Age    VIP  \\\n",
       "0     0001_01     Europa     False  B/0/P  TRAPPIST-1e  39.0  False   \n",
       "1     0002_01      Earth     False  F/0/S  TRAPPIST-1e  24.0  False   \n",
       "2     0003_01     Europa     False  A/0/S  TRAPPIST-1e  58.0   True   \n",
       "3     0003_02     Europa     False  A/0/S  TRAPPIST-1e  33.0  False   \n",
       "4     0004_01      Earth     False  F/1/S  TRAPPIST-1e  16.0  False   \n",
       "\n",
       "   RoomService  FoodCourt  ShoppingMall  ...  cabin_number  cabin_side  \\\n",
       "0          0.0        0.0           0.0  ...           0.0        Port   \n",
       "1        109.0        9.0          25.0  ...           0.0   Starboard   \n",
       "2         43.0     3576.0           0.0  ...           0.0   Starboard   \n",
       "3          0.0     1283.0         371.0  ...           0.0   Starboard   \n",
       "4        303.0       70.0         151.0  ...           1.0   Starboard   \n",
       "\n",
       "  cabin_region cabin_location average_share_cabin_location average_share_deck  \\\n",
       "0            1   upper_deck_1                     0.680365           0.707733   \n",
       "1            1   lower_deck_1                     0.487654           0.476368   \n",
       "2            1     top_deck_1                     0.486726           0.496094   \n",
       "3            1     top_deck_1                     0.486726           0.496094   \n",
       "4            1   lower_deck_1                     0.487654           0.476368   \n",
       "\n",
       "   average_share_region  cabin_location_relative_risk  gender  Age_Group  \n",
       "0              0.526398                      0.755451    male      Adult  \n",
       "1              0.526398                     -0.049393  female      Adult  \n",
       "2              0.526398                     -0.053110    male      Adult  \n",
       "3              0.526398                     -0.053110    male      Adult  \n",
       "4              0.526398                     -0.049393  female       Teen  \n",
       "\n",
       "[5 rows x 29 columns]"
      ]
     },
     "execution_count": 21,
     "metadata": {},
     "output_type": "execute_result"
    }
   ],
   "source": [
    "df.head()"
   ]
  },
  {
   "cell_type": "code",
   "execution_count": 22,
   "id": "a1e39cb2",
   "metadata": {
    "_kg_hide-input": true,
    "execution": {
     "iopub.execute_input": "2024-06-20T18:44:03.094077Z",
     "iopub.status.busy": "2024-06-20T18:44:03.093157Z",
     "iopub.status.idle": "2024-06-20T18:44:03.101658Z",
     "shell.execute_reply": "2024-06-20T18:44:03.100517Z"
    },
    "papermill": {
     "duration": 0.027384,
     "end_time": "2024-06-20T18:44:03.104075",
     "exception": false,
     "start_time": "2024-06-20T18:44:03.076691",
     "status": "completed"
    },
    "tags": []
   },
   "outputs": [],
   "source": [
    "drop_cols = ['Cabin',\n",
    "             'average_share_region',\n",
    "             'average_share_deck',\n",
    "             'average_share_cabin_location',\n",
    "             'cabin_region',\n",
    "             'cabin_deck',\n",
    "             'Name', \n",
    "             'PassengerGroup', \n",
    "             'Age', \n",
    "             'cabin_number', \n",
    "             'gender', \n",
    "             'GroupSize']\n",
    "\n",
    "df.drop(columns=drop_cols, inplace=True)"
   ]
  },
  {
   "cell_type": "code",
   "execution_count": 23,
   "id": "9fd9d6fd",
   "metadata": {
    "_kg_hide-input": true,
    "_kg_hide-output": true,
    "execution": {
     "iopub.execute_input": "2024-06-20T18:44:03.137387Z",
     "iopub.status.busy": "2024-06-20T18:44:03.136958Z",
     "iopub.status.idle": "2024-06-20T18:44:03.159127Z",
     "shell.execute_reply": "2024-06-20T18:44:03.158092Z"
    },
    "papermill": {
     "duration": 0.041429,
     "end_time": "2024-06-20T18:44:03.161377",
     "exception": false,
     "start_time": "2024-06-20T18:44:03.119948",
     "status": "completed"
    },
    "tags": []
   },
   "outputs": [
    {
     "data": {
      "text/html": [
       "<div>\n",
       "<style scoped>\n",
       "    .dataframe tbody tr th:only-of-type {\n",
       "        vertical-align: middle;\n",
       "    }\n",
       "\n",
       "    .dataframe tbody tr th {\n",
       "        vertical-align: top;\n",
       "    }\n",
       "\n",
       "    .dataframe thead th {\n",
       "        text-align: right;\n",
       "    }\n",
       "</style>\n",
       "<table border=\"1\" class=\"dataframe\">\n",
       "  <thead>\n",
       "    <tr style=\"text-align: right;\">\n",
       "      <th></th>\n",
       "      <th>PassengerId</th>\n",
       "      <th>HomePlanet</th>\n",
       "      <th>CryoSleep</th>\n",
       "      <th>Destination</th>\n",
       "      <th>VIP</th>\n",
       "      <th>RoomService</th>\n",
       "      <th>FoodCourt</th>\n",
       "      <th>ShoppingMall</th>\n",
       "      <th>Spa</th>\n",
       "      <th>VRDeck</th>\n",
       "      <th>Transported</th>\n",
       "      <th>set</th>\n",
       "      <th>solo_traveler</th>\n",
       "      <th>cabin_side</th>\n",
       "      <th>cabin_location</th>\n",
       "      <th>cabin_location_relative_risk</th>\n",
       "      <th>Age_Group</th>\n",
       "    </tr>\n",
       "  </thead>\n",
       "  <tbody>\n",
       "    <tr>\n",
       "      <th>0</th>\n",
       "      <td>0001_01</td>\n",
       "      <td>Europa</td>\n",
       "      <td>False</td>\n",
       "      <td>TRAPPIST-1e</td>\n",
       "      <td>False</td>\n",
       "      <td>0.0</td>\n",
       "      <td>0.0</td>\n",
       "      <td>0.0</td>\n",
       "      <td>0.0</td>\n",
       "      <td>0.0</td>\n",
       "      <td>False</td>\n",
       "      <td>train</td>\n",
       "      <td>False</td>\n",
       "      <td>Port</td>\n",
       "      <td>upper_deck_1</td>\n",
       "      <td>0.755451</td>\n",
       "      <td>Adult</td>\n",
       "    </tr>\n",
       "    <tr>\n",
       "      <th>1</th>\n",
       "      <td>0002_01</td>\n",
       "      <td>Earth</td>\n",
       "      <td>False</td>\n",
       "      <td>TRAPPIST-1e</td>\n",
       "      <td>False</td>\n",
       "      <td>109.0</td>\n",
       "      <td>9.0</td>\n",
       "      <td>25.0</td>\n",
       "      <td>549.0</td>\n",
       "      <td>44.0</td>\n",
       "      <td>True</td>\n",
       "      <td>train</td>\n",
       "      <td>False</td>\n",
       "      <td>Starboard</td>\n",
       "      <td>lower_deck_1</td>\n",
       "      <td>-0.049393</td>\n",
       "      <td>Adult</td>\n",
       "    </tr>\n",
       "    <tr>\n",
       "      <th>2</th>\n",
       "      <td>0003_01</td>\n",
       "      <td>Europa</td>\n",
       "      <td>False</td>\n",
       "      <td>TRAPPIST-1e</td>\n",
       "      <td>True</td>\n",
       "      <td>43.0</td>\n",
       "      <td>3576.0</td>\n",
       "      <td>0.0</td>\n",
       "      <td>6715.0</td>\n",
       "      <td>49.0</td>\n",
       "      <td>False</td>\n",
       "      <td>train</td>\n",
       "      <td>True</td>\n",
       "      <td>Starboard</td>\n",
       "      <td>top_deck_1</td>\n",
       "      <td>-0.053110</td>\n",
       "      <td>Adult</td>\n",
       "    </tr>\n",
       "    <tr>\n",
       "      <th>3</th>\n",
       "      <td>0003_02</td>\n",
       "      <td>Europa</td>\n",
       "      <td>False</td>\n",
       "      <td>TRAPPIST-1e</td>\n",
       "      <td>False</td>\n",
       "      <td>0.0</td>\n",
       "      <td>1283.0</td>\n",
       "      <td>371.0</td>\n",
       "      <td>3329.0</td>\n",
       "      <td>193.0</td>\n",
       "      <td>False</td>\n",
       "      <td>train</td>\n",
       "      <td>True</td>\n",
       "      <td>Starboard</td>\n",
       "      <td>top_deck_1</td>\n",
       "      <td>-0.053110</td>\n",
       "      <td>Adult</td>\n",
       "    </tr>\n",
       "    <tr>\n",
       "      <th>4</th>\n",
       "      <td>0004_01</td>\n",
       "      <td>Earth</td>\n",
       "      <td>False</td>\n",
       "      <td>TRAPPIST-1e</td>\n",
       "      <td>False</td>\n",
       "      <td>303.0</td>\n",
       "      <td>70.0</td>\n",
       "      <td>151.0</td>\n",
       "      <td>565.0</td>\n",
       "      <td>2.0</td>\n",
       "      <td>True</td>\n",
       "      <td>train</td>\n",
       "      <td>False</td>\n",
       "      <td>Starboard</td>\n",
       "      <td>lower_deck_1</td>\n",
       "      <td>-0.049393</td>\n",
       "      <td>Teen</td>\n",
       "    </tr>\n",
       "  </tbody>\n",
       "</table>\n",
       "</div>"
      ],
      "text/plain": [
       "  PassengerId HomePlanet CryoSleep  Destination    VIP  RoomService  \\\n",
       "0     0001_01     Europa     False  TRAPPIST-1e  False          0.0   \n",
       "1     0002_01      Earth     False  TRAPPIST-1e  False        109.0   \n",
       "2     0003_01     Europa     False  TRAPPIST-1e   True         43.0   \n",
       "3     0003_02     Europa     False  TRAPPIST-1e  False          0.0   \n",
       "4     0004_01      Earth     False  TRAPPIST-1e  False        303.0   \n",
       "\n",
       "   FoodCourt  ShoppingMall     Spa  VRDeck Transported    set  solo_traveler  \\\n",
       "0        0.0           0.0     0.0     0.0       False  train          False   \n",
       "1        9.0          25.0   549.0    44.0        True  train          False   \n",
       "2     3576.0           0.0  6715.0    49.0       False  train           True   \n",
       "3     1283.0         371.0  3329.0   193.0       False  train           True   \n",
       "4       70.0         151.0   565.0     2.0        True  train          False   \n",
       "\n",
       "  cabin_side cabin_location  cabin_location_relative_risk Age_Group  \n",
       "0       Port   upper_deck_1                      0.755451     Adult  \n",
       "1  Starboard   lower_deck_1                     -0.049393     Adult  \n",
       "2  Starboard     top_deck_1                     -0.053110     Adult  \n",
       "3  Starboard     top_deck_1                     -0.053110     Adult  \n",
       "4  Starboard   lower_deck_1                     -0.049393      Teen  "
      ]
     },
     "execution_count": 23,
     "metadata": {},
     "output_type": "execute_result"
    }
   ],
   "source": [
    "df.head()"
   ]
  },
  {
   "cell_type": "markdown",
   "id": "a2d063c8",
   "metadata": {
    "_kg_hide-input": true,
    "papermill": {
     "duration": 0.016267,
     "end_time": "2024-06-20T18:44:03.193274",
     "exception": false,
     "start_time": "2024-06-20T18:44:03.177007",
     "status": "completed"
    },
    "tags": []
   },
   "source": [
    "### 2. Deal with Missing Values"
   ]
  },
  {
   "cell_type": "markdown",
   "id": "8ad776b8",
   "metadata": {
    "_kg_hide-input": true,
    "papermill": {
     "duration": 0.015161,
     "end_time": "2024-06-20T18:44:03.223996",
     "exception": false,
     "start_time": "2024-06-20T18:44:03.208835",
     "status": "completed"
    },
    "tags": []
   },
   "source": [
    "#### 2.1) Impute Spending Columns"
   ]
  },
  {
   "cell_type": "markdown",
   "id": "b2c62bdc",
   "metadata": {
    "_kg_hide-input": true,
    "papermill": {
     "duration": 0.015509,
     "end_time": "2024-06-20T18:44:03.254908",
     "exception": false,
     "start_time": "2024-06-20T18:44:03.239399",
     "status": "completed"
    },
    "tags": []
   },
   "source": [
    "#### 2.2) Impute Age Group Randomly"
   ]
  },
  {
   "cell_type": "markdown",
   "id": "6e42a930",
   "metadata": {
    "_kg_hide-input": true,
    "papermill": {
     "duration": 0.015272,
     "end_time": "2024-06-20T18:44:03.285590",
     "exception": false,
     "start_time": "2024-06-20T18:44:03.270318",
     "status": "completed"
    },
    "tags": []
   },
   "source": [
    "#### 2.3) Impute Deck Level with LightGBM"
   ]
  },
  {
   "cell_type": "markdown",
   "id": "aee7fe78",
   "metadata": {
    "_kg_hide-input": true,
    "papermill": {
     "duration": 0.015772,
     "end_time": "2024-06-20T18:44:03.316631",
     "exception": false,
     "start_time": "2024-06-20T18:44:03.300859",
     "status": "completed"
    },
    "tags": []
   },
   "source": [
    "#### 2.4) Impute CryoSleep Based on Spend"
   ]
  },
  {
   "cell_type": "markdown",
   "id": "b0e80af9",
   "metadata": {
    "_kg_hide-input": true,
    "papermill": {
     "duration": 0.01526,
     "end_time": "2024-06-20T18:44:03.347399",
     "exception": false,
     "start_time": "2024-06-20T18:44:03.332139",
     "status": "completed"
    },
    "tags": []
   },
   "source": [
    "#### 2.5) Impute the rest of the missing features"
   ]
  },
  {
   "cell_type": "markdown",
   "id": "4eacb3ce",
   "metadata": {
    "papermill": {
     "duration": 0.014995,
     "end_time": "2024-06-20T18:44:03.377641",
     "exception": false,
     "start_time": "2024-06-20T18:44:03.362646",
     "status": "completed"
    },
    "tags": []
   },
   "source": [
    "#### 2.6) Display Clean Dataset"
   ]
  },
  {
   "cell_type": "markdown",
   "id": "7a805304",
   "metadata": {
    "papermill": {
     "duration": 0.015183,
     "end_time": "2024-06-20T18:44:03.408377",
     "exception": false,
     "start_time": "2024-06-20T18:44:03.393194",
     "status": "completed"
    },
    "tags": []
   },
   "source": [
    "# 2) Modeling -------------------------\n",
    "<a id=\"modeling\"></a>"
   ]
  },
  {
   "cell_type": "markdown",
   "id": "16423361",
   "metadata": {
    "papermill": {
     "duration": 0.01544,
     "end_time": "2024-06-20T18:44:03.439175",
     "exception": false,
     "start_time": "2024-06-20T18:44:03.423735",
     "status": "completed"
    },
    "tags": []
   },
   "source": [
    "## Data Preprocessing for Modeling\n",
    "<a id=\"data-preprocessing-for-modeling\"></a>"
   ]
  },
  {
   "cell_type": "markdown",
   "id": "c8dfebd0",
   "metadata": {
    "papermill": {
     "duration": 0.016157,
     "end_time": "2024-06-20T18:44:03.472219",
     "exception": false,
     "start_time": "2024-06-20T18:44:03.456062",
     "status": "completed"
    },
    "tags": []
   },
   "source": [
    "### 1. Encode Categorical Features"
   ]
  },
  {
   "cell_type": "code",
   "execution_count": 24,
   "id": "b9e61dcc",
   "metadata": {
    "execution": {
     "iopub.execute_input": "2024-06-20T18:44:03.505375Z",
     "iopub.status.busy": "2024-06-20T18:44:03.504939Z",
     "iopub.status.idle": "2024-06-20T18:44:03.572447Z",
     "shell.execute_reply": "2024-06-20T18:44:03.571515Z"
    },
    "papermill": {
     "duration": 0.087291,
     "end_time": "2024-06-20T18:44:03.575194",
     "exception": false,
     "start_time": "2024-06-20T18:44:03.487903",
     "status": "completed"
    },
    "tags": []
   },
   "outputs": [],
   "source": [
    "label_encoders = {}\n",
    "categorical_features = ['HomePlanet',\n",
    "                        'Age_Group',\n",
    "                        'solo_traveler',\n",
    "                        'Age_Group',\n",
    "                        'CryoSleep', \n",
    "                        'Destination', \n",
    "                        'VIP', \n",
    "                        'cabin_location',\n",
    "                        'cabin_side']\n",
    "\n",
    "for col in categorical_features:\n",
    "    le = LabelEncoder()\n",
    "    df[col] = le.fit_transform(df[col].astype(str))\n",
    "    label_encoders[col] = le\n",
    "\n",
    "# Ensure all columns are the correct data type\n",
    "for col in df.columns:\n",
    "    if df[col].dtype == 'object':\n",
    "        df[col] = df[col].astype('category')"
   ]
  },
  {
   "cell_type": "code",
   "execution_count": 25,
   "id": "c3f00e93",
   "metadata": {
    "execution": {
     "iopub.execute_input": "2024-06-20T18:44:03.608362Z",
     "iopub.status.busy": "2024-06-20T18:44:03.607944Z",
     "iopub.status.idle": "2024-06-20T18:44:03.628594Z",
     "shell.execute_reply": "2024-06-20T18:44:03.627496Z"
    },
    "papermill": {
     "duration": 0.039687,
     "end_time": "2024-06-20T18:44:03.630854",
     "exception": false,
     "start_time": "2024-06-20T18:44:03.591167",
     "status": "completed"
    },
    "tags": []
   },
   "outputs": [
    {
     "data": {
      "text/html": [
       "<div>\n",
       "<style scoped>\n",
       "    .dataframe tbody tr th:only-of-type {\n",
       "        vertical-align: middle;\n",
       "    }\n",
       "\n",
       "    .dataframe tbody tr th {\n",
       "        vertical-align: top;\n",
       "    }\n",
       "\n",
       "    .dataframe thead th {\n",
       "        text-align: right;\n",
       "    }\n",
       "</style>\n",
       "<table border=\"1\" class=\"dataframe\">\n",
       "  <thead>\n",
       "    <tr style=\"text-align: right;\">\n",
       "      <th></th>\n",
       "      <th>PassengerId</th>\n",
       "      <th>HomePlanet</th>\n",
       "      <th>CryoSleep</th>\n",
       "      <th>Destination</th>\n",
       "      <th>VIP</th>\n",
       "      <th>RoomService</th>\n",
       "      <th>FoodCourt</th>\n",
       "      <th>ShoppingMall</th>\n",
       "      <th>Spa</th>\n",
       "      <th>VRDeck</th>\n",
       "      <th>Transported</th>\n",
       "      <th>set</th>\n",
       "      <th>solo_traveler</th>\n",
       "      <th>cabin_side</th>\n",
       "      <th>cabin_location</th>\n",
       "      <th>cabin_location_relative_risk</th>\n",
       "      <th>Age_Group</th>\n",
       "    </tr>\n",
       "  </thead>\n",
       "  <tbody>\n",
       "    <tr>\n",
       "      <th>0</th>\n",
       "      <td>0001_01</td>\n",
       "      <td>1</td>\n",
       "      <td>0</td>\n",
       "      <td>2</td>\n",
       "      <td>0</td>\n",
       "      <td>0.0</td>\n",
       "      <td>0.0</td>\n",
       "      <td>0.0</td>\n",
       "      <td>0.0</td>\n",
       "      <td>0.0</td>\n",
       "      <td>False</td>\n",
       "      <td>train</td>\n",
       "      <td>0</td>\n",
       "      <td>1</td>\n",
       "      <td>56</td>\n",
       "      <td>0.755451</td>\n",
       "      <td>0</td>\n",
       "    </tr>\n",
       "    <tr>\n",
       "      <th>1</th>\n",
       "      <td>0002_01</td>\n",
       "      <td>0</td>\n",
       "      <td>0</td>\n",
       "      <td>2</td>\n",
       "      <td>0</td>\n",
       "      <td>109.0</td>\n",
       "      <td>9.0</td>\n",
       "      <td>25.0</td>\n",
       "      <td>549.0</td>\n",
       "      <td>44.0</td>\n",
       "      <td>True</td>\n",
       "      <td>train</td>\n",
       "      <td>0</td>\n",
       "      <td>2</td>\n",
       "      <td>1</td>\n",
       "      <td>-0.049393</td>\n",
       "      <td>0</td>\n",
       "    </tr>\n",
       "    <tr>\n",
       "      <th>2</th>\n",
       "      <td>0003_01</td>\n",
       "      <td>1</td>\n",
       "      <td>0</td>\n",
       "      <td>2</td>\n",
       "      <td>1</td>\n",
       "      <td>43.0</td>\n",
       "      <td>3576.0</td>\n",
       "      <td>0.0</td>\n",
       "      <td>6715.0</td>\n",
       "      <td>49.0</td>\n",
       "      <td>False</td>\n",
       "      <td>train</td>\n",
       "      <td>1</td>\n",
       "      <td>2</td>\n",
       "      <td>53</td>\n",
       "      <td>-0.053110</td>\n",
       "      <td>0</td>\n",
       "    </tr>\n",
       "    <tr>\n",
       "      <th>3</th>\n",
       "      <td>0003_02</td>\n",
       "      <td>1</td>\n",
       "      <td>0</td>\n",
       "      <td>2</td>\n",
       "      <td>0</td>\n",
       "      <td>0.0</td>\n",
       "      <td>1283.0</td>\n",
       "      <td>371.0</td>\n",
       "      <td>3329.0</td>\n",
       "      <td>193.0</td>\n",
       "      <td>False</td>\n",
       "      <td>train</td>\n",
       "      <td>1</td>\n",
       "      <td>2</td>\n",
       "      <td>53</td>\n",
       "      <td>-0.053110</td>\n",
       "      <td>0</td>\n",
       "    </tr>\n",
       "    <tr>\n",
       "      <th>4</th>\n",
       "      <td>0004_01</td>\n",
       "      <td>0</td>\n",
       "      <td>0</td>\n",
       "      <td>2</td>\n",
       "      <td>0</td>\n",
       "      <td>303.0</td>\n",
       "      <td>70.0</td>\n",
       "      <td>151.0</td>\n",
       "      <td>565.0</td>\n",
       "      <td>2.0</td>\n",
       "      <td>True</td>\n",
       "      <td>train</td>\n",
       "      <td>0</td>\n",
       "      <td>2</td>\n",
       "      <td>1</td>\n",
       "      <td>-0.049393</td>\n",
       "      <td>2</td>\n",
       "    </tr>\n",
       "  </tbody>\n",
       "</table>\n",
       "</div>"
      ],
      "text/plain": [
       "  PassengerId  HomePlanet  CryoSleep  Destination  VIP  RoomService  \\\n",
       "0     0001_01           1          0            2    0          0.0   \n",
       "1     0002_01           0          0            2    0        109.0   \n",
       "2     0003_01           1          0            2    1         43.0   \n",
       "3     0003_02           1          0            2    0          0.0   \n",
       "4     0004_01           0          0            2    0        303.0   \n",
       "\n",
       "   FoodCourt  ShoppingMall     Spa  VRDeck Transported    set  solo_traveler  \\\n",
       "0        0.0           0.0     0.0     0.0       False  train              0   \n",
       "1        9.0          25.0   549.0    44.0        True  train              0   \n",
       "2     3576.0           0.0  6715.0    49.0       False  train              1   \n",
       "3     1283.0         371.0  3329.0   193.0       False  train              1   \n",
       "4       70.0         151.0   565.0     2.0        True  train              0   \n",
       "\n",
       "   cabin_side  cabin_location  cabin_location_relative_risk  Age_Group  \n",
       "0           1              56                      0.755451          0  \n",
       "1           2               1                     -0.049393          0  \n",
       "2           2              53                     -0.053110          0  \n",
       "3           2              53                     -0.053110          0  \n",
       "4           2               1                     -0.049393          2  "
      ]
     },
     "execution_count": 25,
     "metadata": {},
     "output_type": "execute_result"
    }
   ],
   "source": [
    "df.head()"
   ]
  },
  {
   "cell_type": "markdown",
   "id": "dc149b20",
   "metadata": {
    "papermill": {
     "duration": 0.016034,
     "end_time": "2024-06-20T18:44:03.662543",
     "exception": false,
     "start_time": "2024-06-20T18:44:03.646509",
     "status": "completed"
    },
    "tags": []
   },
   "source": [
    "### 2. Split the data into training and test set"
   ]
  },
  {
   "cell_type": "code",
   "execution_count": 26,
   "id": "1acb3c7a",
   "metadata": {
    "execution": {
     "iopub.execute_input": "2024-06-20T18:44:03.698272Z",
     "iopub.status.busy": "2024-06-20T18:44:03.697900Z",
     "iopub.status.idle": "2024-06-20T18:44:03.708607Z",
     "shell.execute_reply": "2024-06-20T18:44:03.707548Z"
    },
    "papermill": {
     "duration": 0.031456,
     "end_time": "2024-06-20T18:44:03.711171",
     "exception": false,
     "start_time": "2024-06-20T18:44:03.679715",
     "status": "completed"
    },
    "tags": []
   },
   "outputs": [],
   "source": [
    "# Split the data into training and validation sets\n",
    "train_df = df[df['set'] == 'train']\n",
    "test_df = df[df['set'] == 'test']\n",
    "\n",
    "X = train_df.drop(columns=['Transported', 'set', 'PassengerId'])\n",
    "y = train_df['Transported'].astype(int)"
   ]
  },
  {
   "cell_type": "code",
   "execution_count": 27,
   "id": "029865f1",
   "metadata": {
    "execution": {
     "iopub.execute_input": "2024-06-20T18:44:03.745016Z",
     "iopub.status.busy": "2024-06-20T18:44:03.744170Z",
     "iopub.status.idle": "2024-06-20T18:44:03.754451Z",
     "shell.execute_reply": "2024-06-20T18:44:03.753372Z"
    },
    "papermill": {
     "duration": 0.029643,
     "end_time": "2024-06-20T18:44:03.756779",
     "exception": false,
     "start_time": "2024-06-20T18:44:03.727136",
     "status": "completed"
    },
    "tags": []
   },
   "outputs": [],
   "source": [
    "X_train, X_val, y_train, y_val = train_test_split(X, y, test_size=0.2, random_state=42)"
   ]
  },
  {
   "cell_type": "markdown",
   "id": "8e068e28",
   "metadata": {
    "papermill": {
     "duration": 0.015555,
     "end_time": "2024-06-20T18:44:03.788499",
     "exception": false,
     "start_time": "2024-06-20T18:44:03.772944",
     "status": "completed"
    },
    "tags": []
   },
   "source": [
    "## Model Training\n",
    "<a id=\"model-training\"></a>"
   ]
  },
  {
   "cell_type": "code",
   "execution_count": 28,
   "id": "71eb42e6",
   "metadata": {
    "execution": {
     "iopub.execute_input": "2024-06-20T18:44:03.821959Z",
     "iopub.status.busy": "2024-06-20T18:44:03.821569Z",
     "iopub.status.idle": "2024-06-20T18:44:03.827616Z",
     "shell.execute_reply": "2024-06-20T18:44:03.826645Z"
    },
    "papermill": {
     "duration": 0.025216,
     "end_time": "2024-06-20T18:44:03.829708",
     "exception": false,
     "start_time": "2024-06-20T18:44:03.804492",
     "status": "completed"
    },
    "tags": []
   },
   "outputs": [],
   "source": [
    "# Set the best hyperparameters\n",
    "best_params = {\n",
    "    'reg_lambda': 0.7517690720290097,\n",
    "    'reg_alpha': 0.26609419337829127,\n",
    "    'colsample_bytree': 0.6670508752583044,\n",
    "    'subsample': 0.7760321887108744,\n",
    "    'learning_rate': 0.02359746790033108,\n",
    "    'n_estimators': 1704,\n",
    "    'max_depth': 5,\n",
    "    'min_child_weight': 9,\n",
    "    'num_leaves': 48,\n",
    "    'min_split_gain': 0.001398609784731401,\n",
    "    'scale_pos_weight': 0.9920945544976784,\n",
    "    'bagging_fraction': 0.4667650156863603,\n",
    "    'feature_fraction': 0.5845211151773233,\n",
    "    'boosting_type': 'gbdt',\n",
    "    'verbose': -1\n",
    "}"
   ]
  },
  {
   "cell_type": "code",
   "execution_count": 29,
   "id": "e4e9df16",
   "metadata": {
    "execution": {
     "iopub.execute_input": "2024-06-20T18:44:03.863147Z",
     "iopub.status.busy": "2024-06-20T18:44:03.862745Z",
     "iopub.status.idle": "2024-06-20T18:44:03.867480Z",
     "shell.execute_reply": "2024-06-20T18:44:03.866310Z"
    },
    "papermill": {
     "duration": 0.024009,
     "end_time": "2024-06-20T18:44:03.869544",
     "exception": false,
     "start_time": "2024-06-20T18:44:03.845535",
     "status": "completed"
    },
    "tags": []
   },
   "outputs": [],
   "source": [
    "# Initialize the model with the best hyperparameters\n",
    "model = lgb.LGBMClassifier(**best_params)"
   ]
  },
  {
   "cell_type": "code",
   "execution_count": 30,
   "id": "68830239",
   "metadata": {
    "execution": {
     "iopub.execute_input": "2024-06-20T18:44:03.903125Z",
     "iopub.status.busy": "2024-06-20T18:44:03.902195Z",
     "iopub.status.idle": "2024-06-20T18:44:07.115242Z",
     "shell.execute_reply": "2024-06-20T18:44:07.114210Z"
    },
    "papermill": {
     "duration": 3.232326,
     "end_time": "2024-06-20T18:44:07.117560",
     "exception": false,
     "start_time": "2024-06-20T18:44:03.885234",
     "status": "completed"
    },
    "tags": []
   },
   "outputs": [
    {
     "data": {
      "text/html": [
       "<style>#sk-container-id-1 {color: black;background-color: white;}#sk-container-id-1 pre{padding: 0;}#sk-container-id-1 div.sk-toggleable {background-color: white;}#sk-container-id-1 label.sk-toggleable__label {cursor: pointer;display: block;width: 100%;margin-bottom: 0;padding: 0.3em;box-sizing: border-box;text-align: center;}#sk-container-id-1 label.sk-toggleable__label-arrow:before {content: \"▸\";float: left;margin-right: 0.25em;color: #696969;}#sk-container-id-1 label.sk-toggleable__label-arrow:hover:before {color: black;}#sk-container-id-1 div.sk-estimator:hover label.sk-toggleable__label-arrow:before {color: black;}#sk-container-id-1 div.sk-toggleable__content {max-height: 0;max-width: 0;overflow: hidden;text-align: left;background-color: #f0f8ff;}#sk-container-id-1 div.sk-toggleable__content pre {margin: 0.2em;color: black;border-radius: 0.25em;background-color: #f0f8ff;}#sk-container-id-1 input.sk-toggleable__control:checked~div.sk-toggleable__content {max-height: 200px;max-width: 100%;overflow: auto;}#sk-container-id-1 input.sk-toggleable__control:checked~label.sk-toggleable__label-arrow:before {content: \"▾\";}#sk-container-id-1 div.sk-estimator input.sk-toggleable__control:checked~label.sk-toggleable__label {background-color: #d4ebff;}#sk-container-id-1 div.sk-label input.sk-toggleable__control:checked~label.sk-toggleable__label {background-color: #d4ebff;}#sk-container-id-1 input.sk-hidden--visually {border: 0;clip: rect(1px 1px 1px 1px);clip: rect(1px, 1px, 1px, 1px);height: 1px;margin: -1px;overflow: hidden;padding: 0;position: absolute;width: 1px;}#sk-container-id-1 div.sk-estimator {font-family: monospace;background-color: #f0f8ff;border: 1px dotted black;border-radius: 0.25em;box-sizing: border-box;margin-bottom: 0.5em;}#sk-container-id-1 div.sk-estimator:hover {background-color: #d4ebff;}#sk-container-id-1 div.sk-parallel-item::after {content: \"\";width: 100%;border-bottom: 1px solid gray;flex-grow: 1;}#sk-container-id-1 div.sk-label:hover label.sk-toggleable__label {background-color: #d4ebff;}#sk-container-id-1 div.sk-serial::before {content: \"\";position: absolute;border-left: 1px solid gray;box-sizing: border-box;top: 0;bottom: 0;left: 50%;z-index: 0;}#sk-container-id-1 div.sk-serial {display: flex;flex-direction: column;align-items: center;background-color: white;padding-right: 0.2em;padding-left: 0.2em;position: relative;}#sk-container-id-1 div.sk-item {position: relative;z-index: 1;}#sk-container-id-1 div.sk-parallel {display: flex;align-items: stretch;justify-content: center;background-color: white;position: relative;}#sk-container-id-1 div.sk-item::before, #sk-container-id-1 div.sk-parallel-item::before {content: \"\";position: absolute;border-left: 1px solid gray;box-sizing: border-box;top: 0;bottom: 0;left: 50%;z-index: -1;}#sk-container-id-1 div.sk-parallel-item {display: flex;flex-direction: column;z-index: 1;position: relative;background-color: white;}#sk-container-id-1 div.sk-parallel-item:first-child::after {align-self: flex-end;width: 50%;}#sk-container-id-1 div.sk-parallel-item:last-child::after {align-self: flex-start;width: 50%;}#sk-container-id-1 div.sk-parallel-item:only-child::after {width: 0;}#sk-container-id-1 div.sk-dashed-wrapped {border: 1px dashed gray;margin: 0 0.4em 0.5em 0.4em;box-sizing: border-box;padding-bottom: 0.4em;background-color: white;}#sk-container-id-1 div.sk-label label {font-family: monospace;font-weight: bold;display: inline-block;line-height: 1.2em;}#sk-container-id-1 div.sk-label-container {text-align: center;}#sk-container-id-1 div.sk-container {/* jupyter's `normalize.less` sets `[hidden] { display: none; }` but bootstrap.min.css set `[hidden] { display: none !important; }` so we also need the `!important` here to be able to override the default hidden behavior on the sphinx rendered scikit-learn.org. See: https://github.com/scikit-learn/scikit-learn/issues/21755 */display: inline-block !important;position: relative;}#sk-container-id-1 div.sk-text-repr-fallback {display: none;}</style><div id=\"sk-container-id-1\" class=\"sk-top-container\"><div class=\"sk-text-repr-fallback\"><pre>LGBMClassifier(bagging_fraction=0.4667650156863603,\n",
       "               colsample_bytree=0.6670508752583044,\n",
       "               feature_fraction=0.5845211151773233,\n",
       "               learning_rate=0.02359746790033108, max_depth=5,\n",
       "               min_child_weight=9, min_split_gain=0.001398609784731401,\n",
       "               n_estimators=1704, num_leaves=48, reg_alpha=0.26609419337829127,\n",
       "               reg_lambda=0.7517690720290097,\n",
       "               scale_pos_weight=0.9920945544976784,\n",
       "               subsample=0.7760321887108744, verbose=-1)</pre><b>In a Jupyter environment, please rerun this cell to show the HTML representation or trust the notebook. <br />On GitHub, the HTML representation is unable to render, please try loading this page with nbviewer.org.</b></div><div class=\"sk-container\" hidden><div class=\"sk-item\"><div class=\"sk-estimator sk-toggleable\"><input class=\"sk-toggleable__control sk-hidden--visually\" id=\"sk-estimator-id-1\" type=\"checkbox\" checked><label for=\"sk-estimator-id-1\" class=\"sk-toggleable__label sk-toggleable__label-arrow\">LGBMClassifier</label><div class=\"sk-toggleable__content\"><pre>LGBMClassifier(bagging_fraction=0.4667650156863603,\n",
       "               colsample_bytree=0.6670508752583044,\n",
       "               feature_fraction=0.5845211151773233,\n",
       "               learning_rate=0.02359746790033108, max_depth=5,\n",
       "               min_child_weight=9, min_split_gain=0.001398609784731401,\n",
       "               n_estimators=1704, num_leaves=48, reg_alpha=0.26609419337829127,\n",
       "               reg_lambda=0.7517690720290097,\n",
       "               scale_pos_weight=0.9920945544976784,\n",
       "               subsample=0.7760321887108744, verbose=-1)</pre></div></div></div></div></div>"
      ],
      "text/plain": [
       "LGBMClassifier(bagging_fraction=0.4667650156863603,\n",
       "               colsample_bytree=0.6670508752583044,\n",
       "               feature_fraction=0.5845211151773233,\n",
       "               learning_rate=0.02359746790033108, max_depth=5,\n",
       "               min_child_weight=9, min_split_gain=0.001398609784731401,\n",
       "               n_estimators=1704, num_leaves=48, reg_alpha=0.26609419337829127,\n",
       "               reg_lambda=0.7517690720290097,\n",
       "               scale_pos_weight=0.9920945544976784,\n",
       "               subsample=0.7760321887108744, verbose=-1)"
      ]
     },
     "execution_count": 30,
     "metadata": {},
     "output_type": "execute_result"
    }
   ],
   "source": [
    "# Train the model\n",
    "model.fit(X_train, y_train)"
   ]
  },
  {
   "cell_type": "markdown",
   "id": "76432ee5",
   "metadata": {
    "papermill": {
     "duration": 0.016032,
     "end_time": "2024-06-20T18:44:07.149952",
     "exception": false,
     "start_time": "2024-06-20T18:44:07.133920",
     "status": "completed"
    },
    "tags": []
   },
   "source": [
    "## Model Evaluation\n",
    "<a id=\"model-evaluation\"></a>"
   ]
  },
  {
   "cell_type": "code",
   "execution_count": 31,
   "id": "8587de3b",
   "metadata": {
    "execution": {
     "iopub.execute_input": "2024-06-20T18:44:07.184780Z",
     "iopub.status.busy": "2024-06-20T18:44:07.183870Z",
     "iopub.status.idle": "2024-06-20T18:44:07.390450Z",
     "shell.execute_reply": "2024-06-20T18:44:07.389227Z"
    },
    "papermill": {
     "duration": 0.226334,
     "end_time": "2024-06-20T18:44:07.392760",
     "exception": false,
     "start_time": "2024-06-20T18:44:07.166426",
     "status": "completed"
    },
    "tags": []
   },
   "outputs": [
    {
     "name": "stdout",
     "output_type": "stream",
     "text": [
      "Accuracy: 0.80448533640023\n",
      "Classification Report:\n",
      "              precision    recall  f1-score   support\n",
      "\n",
      "           0       0.81      0.80      0.80       861\n",
      "           1       0.80      0.81      0.81       878\n",
      "\n",
      "    accuracy                           0.80      1739\n",
      "   macro avg       0.80      0.80      0.80      1739\n",
      "weighted avg       0.80      0.80      0.80      1739\n",
      "\n"
     ]
    }
   ],
   "source": [
    "# Predictions\n",
    "y_pred = model.predict(X_val)\n",
    "\n",
    "# Evaluation metrics\n",
    "accuracy = accuracy_score(y_val, y_pred)\n",
    "report = classification_report(y_val, y_pred)\n",
    "\n",
    "print(f\"Accuracy: {accuracy}\")\n",
    "print(\"Classification Report:\")\n",
    "print(report)"
   ]
  },
  {
   "cell_type": "markdown",
   "id": "beb97614",
   "metadata": {
    "papermill": {
     "duration": 0.015984,
     "end_time": "2024-06-20T18:44:07.424982",
     "exception": false,
     "start_time": "2024-06-20T18:44:07.408998",
     "status": "completed"
    },
    "tags": []
   },
   "source": [
    "## Submit Predictions\n",
    "<a id=\"submit-predictions\"></a>"
   ]
  },
  {
   "cell_type": "code",
   "execution_count": 32,
   "id": "c76b8363",
   "metadata": {
    "execution": {
     "iopub.execute_input": "2024-06-20T18:44:07.460013Z",
     "iopub.status.busy": "2024-06-20T18:44:07.459598Z",
     "iopub.status.idle": "2024-06-20T18:44:07.908260Z",
     "shell.execute_reply": "2024-06-20T18:44:07.907209Z"
    },
    "papermill": {
     "duration": 0.46958,
     "end_time": "2024-06-20T18:44:07.910794",
     "exception": false,
     "start_time": "2024-06-20T18:44:07.441214",
     "status": "completed"
    },
    "tags": []
   },
   "outputs": [],
   "source": [
    "# Submit Predictions\n",
    "X_test = test_df.drop(columns=['PassengerId', 'set', 'Transported'])\n",
    "test_predictions = model.predict(X_test)\n",
    "submission = pd.DataFrame({\n",
    "    'PassengerId': test_df['PassengerId'],\n",
    "    'Transported': test_predictions.astype(bool)\n",
    "})"
   ]
  },
  {
   "cell_type": "code",
   "execution_count": 33,
   "id": "7d1879b2",
   "metadata": {
    "execution": {
     "iopub.execute_input": "2024-06-20T18:44:07.944831Z",
     "iopub.status.busy": "2024-06-20T18:44:07.944447Z",
     "iopub.status.idle": "2024-06-20T18:44:07.961883Z",
     "shell.execute_reply": "2024-06-20T18:44:07.960738Z"
    },
    "papermill": {
     "duration": 0.037539,
     "end_time": "2024-06-20T18:44:07.964565",
     "exception": false,
     "start_time": "2024-06-20T18:44:07.927026",
     "status": "completed"
    },
    "tags": []
   },
   "outputs": [
    {
     "data": {
      "text/html": [
       "<div>\n",
       "<style scoped>\n",
       "    .dataframe tbody tr th:only-of-type {\n",
       "        vertical-align: middle;\n",
       "    }\n",
       "\n",
       "    .dataframe tbody tr th {\n",
       "        vertical-align: top;\n",
       "    }\n",
       "\n",
       "    .dataframe thead th {\n",
       "        text-align: right;\n",
       "    }\n",
       "</style>\n",
       "<table border=\"1\" class=\"dataframe\">\n",
       "  <thead>\n",
       "    <tr style=\"text-align: right;\">\n",
       "      <th></th>\n",
       "      <th>PassengerId</th>\n",
       "      <th>Transported</th>\n",
       "    </tr>\n",
       "  </thead>\n",
       "  <tbody>\n",
       "    <tr>\n",
       "      <th>8693</th>\n",
       "      <td>0013_01</td>\n",
       "      <td>True</td>\n",
       "    </tr>\n",
       "    <tr>\n",
       "      <th>8694</th>\n",
       "      <td>0018_01</td>\n",
       "      <td>False</td>\n",
       "    </tr>\n",
       "    <tr>\n",
       "      <th>8695</th>\n",
       "      <td>0019_01</td>\n",
       "      <td>True</td>\n",
       "    </tr>\n",
       "    <tr>\n",
       "      <th>8696</th>\n",
       "      <td>0021_01</td>\n",
       "      <td>True</td>\n",
       "    </tr>\n",
       "    <tr>\n",
       "      <th>8697</th>\n",
       "      <td>0023_01</td>\n",
       "      <td>True</td>\n",
       "    </tr>\n",
       "  </tbody>\n",
       "</table>\n",
       "</div>"
      ],
      "text/plain": [
       "     PassengerId  Transported\n",
       "8693     0013_01         True\n",
       "8694     0018_01        False\n",
       "8695     0019_01         True\n",
       "8696     0021_01         True\n",
       "8697     0023_01         True"
      ]
     },
     "execution_count": 33,
     "metadata": {},
     "output_type": "execute_result"
    }
   ],
   "source": [
    "# Save the submission dataframe to a CSV file\n",
    "submission.to_csv('submission.csv', index=False)\n",
    "submission.head()"
   ]
  },
  {
   "cell_type": "markdown",
   "id": "f927f93c",
   "metadata": {
    "papermill": {
     "duration": 0.016288,
     "end_time": "2024-06-20T18:44:07.997557",
     "exception": false,
     "start_time": "2024-06-20T18:44:07.981269",
     "status": "completed"
    },
    "tags": []
   },
   "source": [
    "# 3) Interpretability -------------------------\n",
    "<a id=\"interpretability\"></a>"
   ]
  },
  {
   "cell_type": "markdown",
   "id": "1615cb1c",
   "metadata": {
    "papermill": {
     "duration": 0.016291,
     "end_time": "2024-06-20T18:44:08.031011",
     "exception": false,
     "start_time": "2024-06-20T18:44:08.014720",
     "status": "completed"
    },
    "tags": []
   },
   "source": [
    "## SHAP Analysis\n",
    "<a id=\"shap-analysis\"></a>"
   ]
  },
  {
   "cell_type": "code",
   "execution_count": null,
   "id": "debabcf8",
   "metadata": {
    "papermill": {
     "duration": 0.018168,
     "end_time": "2024-06-20T18:44:08.065658",
     "exception": false,
     "start_time": "2024-06-20T18:44:08.047490",
     "status": "completed"
    },
    "tags": []
   },
   "outputs": [],
   "source": []
  }
 ],
 "metadata": {
  "kaggle": {
   "accelerator": "none",
   "dataSources": [
    {
     "databundleVersionId": 3220602,
     "sourceId": 34377,
     "sourceType": "competition"
    }
   ],
   "dockerImageVersionId": 30732,
   "isGpuEnabled": false,
   "isInternetEnabled": true,
   "language": "python",
   "sourceType": "notebook"
  },
  "kernelspec": {
   "display_name": "Python 3",
   "language": "python",
   "name": "python3"
  },
  "language_info": {
   "codemirror_mode": {
    "name": "ipython",
    "version": 3
   },
   "file_extension": ".py",
   "mimetype": "text/x-python",
   "name": "python",
   "nbconvert_exporter": "python",
   "pygments_lexer": "ipython3",
   "version": "3.10.13"
  },
  "papermill": {
   "default_parameters": {},
   "duration": 24.023891,
   "end_time": "2024-06-20T18:44:10.319568",
   "environment_variables": {},
   "exception": null,
   "input_path": "__notebook__.ipynb",
   "output_path": "__notebook__.ipynb",
   "parameters": {},
   "start_time": "2024-06-20T18:43:46.295677",
   "version": "2.5.0"
  }
 },
 "nbformat": 4,
 "nbformat_minor": 5
}
