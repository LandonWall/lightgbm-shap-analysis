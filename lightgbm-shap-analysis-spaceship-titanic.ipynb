{
 "cells": [
  {
   "cell_type": "markdown",
   "id": "bb04f775",
   "metadata": {
    "papermill": {
     "duration": 0.010978,
     "end_time": "2024-06-19T03:18:38.736714",
     "exception": false,
     "start_time": "2024-06-19T03:18:38.725736",
     "status": "completed"
    },
    "tags": []
   },
   "source": [
    "# Interpret LightGBM Classifier with SHAP: Spaceship Titanic Dataset\n",
    "\n",
    "## Table of Contents\n",
    "\n",
    "1. [Data Preparation](#data-preparation)\n",
    "   - [Basic Exploratory Data Analysis (EDA)](#basic-exploratory-data-analysis) \n",
    "   - [Import Data and Modules](#import-data-and-modules)\n",
    "   - [Data Cleaning](#data-cleaning)\n",
    "   - [Feature Engineering](#feature-engineering)\n",
    "   - [Advanced Exploratory Data Analysis (EDA)](#advanced-exploratory-data-analysis)\n",
    "2. [Modeling](#modeling)\n",
    "   - [Data Preprocessing for Modeling](#data-preprocessing-for-modeling)\n",
    "   - [Model Training](#model-training)\n",
    "   - [Model Evaluation](#model-evaluation)\n",
    "3. [Interpretability](#interpretability)\n",
    "   - [SHAP Analysis](#shap-analysis)"
   ]
  },
  {
   "cell_type": "markdown",
   "id": "734af4b4",
   "metadata": {
    "papermill": {
     "duration": 0.009709,
     "end_time": "2024-06-19T03:18:38.756662",
     "exception": false,
     "start_time": "2024-06-19T03:18:38.746953",
     "status": "completed"
    },
    "tags": []
   },
   "source": [
    "# 1) Data Preparation\n",
    "<a id=\"data-preparation\"></a>"
   ]
  },
  {
   "cell_type": "markdown",
   "id": "83186476",
   "metadata": {
    "papermill": {
     "duration": 0.009689,
     "end_time": "2024-06-19T03:18:38.776415",
     "exception": false,
     "start_time": "2024-06-19T03:18:38.766726",
     "status": "completed"
    },
    "tags": []
   },
   "source": [
    "## Import Data and Modules\n",
    "<a id=\"import-data-and-modules\"></a>"
   ]
  },
  {
   "cell_type": "code",
   "execution_count": 1,
   "id": "7939d952",
   "metadata": {
    "_cell_guid": "b1076dfc-b9ad-4769-8c92-a6c4dae69d19",
    "_kg_hide-input": false,
    "_uuid": "8f2839f25d086af736a60e9eeb907d3b93b6e0e5",
    "execution": {
     "iopub.execute_input": "2024-06-19T03:18:38.798115Z",
     "iopub.status.busy": "2024-06-19T03:18:38.797694Z",
     "iopub.status.idle": "2024-06-19T03:18:50.015493Z",
     "shell.execute_reply": "2024-06-19T03:18:50.014060Z"
    },
    "papermill": {
     "duration": 11.232206,
     "end_time": "2024-06-19T03:18:50.018532",
     "exception": false,
     "start_time": "2024-06-19T03:18:38.786326",
     "status": "completed"
    },
    "tags": []
   },
   "outputs": [],
   "source": [
    "# base packages\n",
    "import pandas as pd\n",
    "import numpy as np\n",
    "import matplotlib.pyplot as plt\n",
    "\n",
    "# modeling and evaluation\n",
    "import lightgbm as lgb\n",
    "from sklearn.metrics import accuracy_score, classification_report\n",
    "from sklearn.model_selection import train_test_split\n",
    "from sklearn.preprocessing import LabelEncoder\n",
    "import shap\n",
    "import os"
   ]
  },
  {
   "cell_type": "code",
   "execution_count": 2,
   "id": "f2fe78bf",
   "metadata": {
    "execution": {
     "iopub.execute_input": "2024-06-19T03:18:50.041319Z",
     "iopub.status.busy": "2024-06-19T03:18:50.040602Z",
     "iopub.status.idle": "2024-06-19T03:18:50.155469Z",
     "shell.execute_reply": "2024-06-19T03:18:50.154201Z"
    },
    "papermill": {
     "duration": 0.130296,
     "end_time": "2024-06-19T03:18:50.158806",
     "exception": false,
     "start_time": "2024-06-19T03:18:50.028510",
     "status": "completed"
    },
    "tags": []
   },
   "outputs": [],
   "source": [
    "train = pd.read_csv('/kaggle/input/spaceship-titanic/train.csv')\n",
    "test = pd.read_csv('/kaggle/input/spaceship-titanic/train.csv')\n",
    "df = pd.concat([train, test], ignore_index=True)"
   ]
  },
  {
   "cell_type": "markdown",
   "id": "53c3fd47",
   "metadata": {
    "papermill": {
     "duration": 0.009923,
     "end_time": "2024-06-19T03:18:50.178802",
     "exception": false,
     "start_time": "2024-06-19T03:18:50.168879",
     "status": "completed"
    },
    "tags": []
   },
   "source": [
    "## Basic Exploratory Data Analysis (EDA)\n",
    "<a id=\"basic-exploratory-data-analysis\"></a>"
   ]
  },
  {
   "cell_type": "markdown",
   "id": "896b6e9b",
   "metadata": {
    "papermill": {
     "duration": 0.009925,
     "end_time": "2024-06-19T03:18:50.198911",
     "exception": false,
     "start_time": "2024-06-19T03:18:50.188986",
     "status": "completed"
    },
    "tags": []
   },
   "source": [
    "#### 1. Data Description"
   ]
  },
  {
   "cell_type": "markdown",
   "id": "5df0c20a",
   "metadata": {
    "papermill": {
     "duration": 0.009751,
     "end_time": "2024-06-19T03:18:50.219287",
     "exception": false,
     "start_time": "2024-06-19T03:18:50.209536",
     "status": "completed"
    },
    "tags": []
   },
   "source": [
    "> * **PassengerId** - A unique Id for each passenger. Each Id takes the form gggg_pp where gggg indicates a group the passenger is travelling with and pp is their number within the group. People in a group are often family members, but not always.<br>\n",
    "> * **HomePlanet** - The planet the passenger departed from, typically their planet of permanent residence.<br>\n",
    "> * **CryoSleep** - Indicates whether the passenger elected to be put into suspended animation for the duration of the voyage. Passengers in cryosleep are confined to their cabins.<br>\n",
    "> * **Cabin** - The cabin number where the passenger is staying. Takes the form deck/num/side, where side can be either P for Port or S for Starboard.<br>\n",
    "> * **Destination** - The planet the passenger will be debarking to.<br>\n",
    "> * **Age** - The age of the passenger.<br>\n",
    "> * **VIP** - Whether the passenger has paid for special VIP service during the voyage.<br>\n",
    "> * **RoomService**, **FoodCourt**, **ShoppingMall**, **Spa**, **VRDeck** - Amount the passenger has billed at each of the Spaceship Titanic's many luxury amenities.<br>\n",
    "> * **Name** - The first and last names of the passenger.<br>\n",
    "> * **Transported** - Whether the passenger was transported to another dimension. This is the target, the column you are trying to predict.<br>"
   ]
  },
  {
   "cell_type": "markdown",
   "id": "2e6ba365",
   "metadata": {
    "papermill": {
     "duration": 0.009818,
     "end_time": "2024-06-19T03:18:50.239552",
     "exception": false,
     "start_time": "2024-06-19T03:18:50.229734",
     "status": "completed"
    },
    "tags": []
   },
   "source": [
    "#### 2. Dataframe Structure"
   ]
  },
  {
   "cell_type": "code",
   "execution_count": 3,
   "id": "37651cbe",
   "metadata": {
    "_kg_hide-input": true,
    "execution": {
     "iopub.execute_input": "2024-06-19T03:18:50.262867Z",
     "iopub.status.busy": "2024-06-19T03:18:50.262488Z",
     "iopub.status.idle": "2024-06-19T03:18:50.271309Z",
     "shell.execute_reply": "2024-06-19T03:18:50.270062Z"
    },
    "papermill": {
     "duration": 0.022883,
     "end_time": "2024-06-19T03:18:50.273789",
     "exception": false,
     "start_time": "2024-06-19T03:18:50.250906",
     "status": "completed"
    },
    "tags": []
   },
   "outputs": [
    {
     "data": {
      "text/plain": [
       "(17386, 14)"
      ]
     },
     "execution_count": 3,
     "metadata": {},
     "output_type": "execute_result"
    }
   ],
   "source": [
    "df.shape"
   ]
  },
  {
   "cell_type": "markdown",
   "id": "ec5c52a7",
   "metadata": {
    "papermill": {
     "duration": 0.009991,
     "end_time": "2024-06-19T03:18:50.294325",
     "exception": false,
     "start_time": "2024-06-19T03:18:50.284334",
     "status": "completed"
    },
    "tags": []
   },
   "source": [
    "#### 3. Count Transported Passengers In Training Dataset"
   ]
  },
  {
   "cell_type": "code",
   "execution_count": 4,
   "id": "44e6c57b",
   "metadata": {
    "_kg_hide-input": true,
    "execution": {
     "iopub.execute_input": "2024-06-19T03:18:50.316456Z",
     "iopub.status.busy": "2024-06-19T03:18:50.316058Z",
     "iopub.status.idle": "2024-06-19T03:18:50.346920Z",
     "shell.execute_reply": "2024-06-19T03:18:50.345624Z"
    },
    "papermill": {
     "duration": 0.045321,
     "end_time": "2024-06-19T03:18:50.349852",
     "exception": false,
     "start_time": "2024-06-19T03:18:50.304531",
     "status": "completed"
    },
    "tags": []
   },
   "outputs": [
    {
     "data": {
      "text/html": [
       "<div>\n",
       "<style scoped>\n",
       "    .dataframe tbody tr th:only-of-type {\n",
       "        vertical-align: middle;\n",
       "    }\n",
       "\n",
       "    .dataframe tbody tr th {\n",
       "        vertical-align: top;\n",
       "    }\n",
       "\n",
       "    .dataframe thead th {\n",
       "        text-align: right;\n",
       "    }\n",
       "</style>\n",
       "<table border=\"1\" class=\"dataframe\">\n",
       "  <thead>\n",
       "    <tr style=\"text-align: right;\">\n",
       "      <th></th>\n",
       "      <th>Count</th>\n",
       "      <th>Percentage</th>\n",
       "    </tr>\n",
       "    <tr>\n",
       "      <th>Transported</th>\n",
       "      <th></th>\n",
       "      <th></th>\n",
       "    </tr>\n",
       "  </thead>\n",
       "  <tbody>\n",
       "    <tr>\n",
       "      <th>True</th>\n",
       "      <td>4378</td>\n",
       "      <td>50.36</td>\n",
       "    </tr>\n",
       "    <tr>\n",
       "      <th>False</th>\n",
       "      <td>4315</td>\n",
       "      <td>49.64</td>\n",
       "    </tr>\n",
       "  </tbody>\n",
       "</table>\n",
       "</div>"
      ],
      "text/plain": [
       "             Count  Percentage\n",
       "Transported                   \n",
       "True          4378       50.36\n",
       "False         4315       49.64"
      ]
     },
     "execution_count": 4,
     "metadata": {},
     "output_type": "execute_result"
    }
   ],
   "source": [
    "transported_counts = train['Transported'].value_counts()\n",
    "total_passengers = len(train)\n",
    "transported_percentage = ((transported_counts / total_passengers) * 100).round(2)\n",
    "\n",
    "transported_df = pd.DataFrame({\n",
    "    'Count': transported_counts,\n",
    "    'Percentage': transported_percentage\n",
    "})\n",
    "\n",
    "transported_df"
   ]
  },
  {
   "cell_type": "markdown",
   "id": "e8f49664",
   "metadata": {
    "papermill": {
     "duration": 0.010029,
     "end_time": "2024-06-19T03:18:50.370540",
     "exception": false,
     "start_time": "2024-06-19T03:18:50.360511",
     "status": "completed"
    },
    "tags": []
   },
   "source": [
    "#### 4. View Merged Dataframe"
   ]
  },
  {
   "cell_type": "code",
   "execution_count": 5,
   "id": "ced75d60",
   "metadata": {
    "_kg_hide-input": true,
    "execution": {
     "iopub.execute_input": "2024-06-19T03:18:50.393875Z",
     "iopub.status.busy": "2024-06-19T03:18:50.393493Z",
     "iopub.status.idle": "2024-06-19T03:18:50.417543Z",
     "shell.execute_reply": "2024-06-19T03:18:50.416135Z"
    },
    "papermill": {
     "duration": 0.039332,
     "end_time": "2024-06-19T03:18:50.420397",
     "exception": false,
     "start_time": "2024-06-19T03:18:50.381065",
     "status": "completed"
    },
    "tags": []
   },
   "outputs": [
    {
     "data": {
      "text/html": [
       "<div>\n",
       "<style scoped>\n",
       "    .dataframe tbody tr th:only-of-type {\n",
       "        vertical-align: middle;\n",
       "    }\n",
       "\n",
       "    .dataframe tbody tr th {\n",
       "        vertical-align: top;\n",
       "    }\n",
       "\n",
       "    .dataframe thead th {\n",
       "        text-align: right;\n",
       "    }\n",
       "</style>\n",
       "<table border=\"1\" class=\"dataframe\">\n",
       "  <thead>\n",
       "    <tr style=\"text-align: right;\">\n",
       "      <th></th>\n",
       "      <th>PassengerId</th>\n",
       "      <th>HomePlanet</th>\n",
       "      <th>CryoSleep</th>\n",
       "      <th>Cabin</th>\n",
       "      <th>Destination</th>\n",
       "      <th>Age</th>\n",
       "      <th>VIP</th>\n",
       "      <th>RoomService</th>\n",
       "      <th>FoodCourt</th>\n",
       "      <th>ShoppingMall</th>\n",
       "      <th>Spa</th>\n",
       "      <th>VRDeck</th>\n",
       "      <th>Name</th>\n",
       "      <th>Transported</th>\n",
       "    </tr>\n",
       "  </thead>\n",
       "  <tbody>\n",
       "    <tr>\n",
       "      <th>0</th>\n",
       "      <td>0001_01</td>\n",
       "      <td>Europa</td>\n",
       "      <td>False</td>\n",
       "      <td>B/0/P</td>\n",
       "      <td>TRAPPIST-1e</td>\n",
       "      <td>39.0</td>\n",
       "      <td>False</td>\n",
       "      <td>0.0</td>\n",
       "      <td>0.0</td>\n",
       "      <td>0.0</td>\n",
       "      <td>0.0</td>\n",
       "      <td>0.0</td>\n",
       "      <td>Maham Ofracculy</td>\n",
       "      <td>False</td>\n",
       "    </tr>\n",
       "    <tr>\n",
       "      <th>1</th>\n",
       "      <td>0002_01</td>\n",
       "      <td>Earth</td>\n",
       "      <td>False</td>\n",
       "      <td>F/0/S</td>\n",
       "      <td>TRAPPIST-1e</td>\n",
       "      <td>24.0</td>\n",
       "      <td>False</td>\n",
       "      <td>109.0</td>\n",
       "      <td>9.0</td>\n",
       "      <td>25.0</td>\n",
       "      <td>549.0</td>\n",
       "      <td>44.0</td>\n",
       "      <td>Juanna Vines</td>\n",
       "      <td>True</td>\n",
       "    </tr>\n",
       "    <tr>\n",
       "      <th>2</th>\n",
       "      <td>0003_01</td>\n",
       "      <td>Europa</td>\n",
       "      <td>False</td>\n",
       "      <td>A/0/S</td>\n",
       "      <td>TRAPPIST-1e</td>\n",
       "      <td>58.0</td>\n",
       "      <td>True</td>\n",
       "      <td>43.0</td>\n",
       "      <td>3576.0</td>\n",
       "      <td>0.0</td>\n",
       "      <td>6715.0</td>\n",
       "      <td>49.0</td>\n",
       "      <td>Altark Susent</td>\n",
       "      <td>False</td>\n",
       "    </tr>\n",
       "    <tr>\n",
       "      <th>3</th>\n",
       "      <td>0003_02</td>\n",
       "      <td>Europa</td>\n",
       "      <td>False</td>\n",
       "      <td>A/0/S</td>\n",
       "      <td>TRAPPIST-1e</td>\n",
       "      <td>33.0</td>\n",
       "      <td>False</td>\n",
       "      <td>0.0</td>\n",
       "      <td>1283.0</td>\n",
       "      <td>371.0</td>\n",
       "      <td>3329.0</td>\n",
       "      <td>193.0</td>\n",
       "      <td>Solam Susent</td>\n",
       "      <td>False</td>\n",
       "    </tr>\n",
       "    <tr>\n",
       "      <th>4</th>\n",
       "      <td>0004_01</td>\n",
       "      <td>Earth</td>\n",
       "      <td>False</td>\n",
       "      <td>F/1/S</td>\n",
       "      <td>TRAPPIST-1e</td>\n",
       "      <td>16.0</td>\n",
       "      <td>False</td>\n",
       "      <td>303.0</td>\n",
       "      <td>70.0</td>\n",
       "      <td>151.0</td>\n",
       "      <td>565.0</td>\n",
       "      <td>2.0</td>\n",
       "      <td>Willy Santantines</td>\n",
       "      <td>True</td>\n",
       "    </tr>\n",
       "  </tbody>\n",
       "</table>\n",
       "</div>"
      ],
      "text/plain": [
       "  PassengerId HomePlanet CryoSleep  Cabin  Destination   Age    VIP  \\\n",
       "0     0001_01     Europa     False  B/0/P  TRAPPIST-1e  39.0  False   \n",
       "1     0002_01      Earth     False  F/0/S  TRAPPIST-1e  24.0  False   \n",
       "2     0003_01     Europa     False  A/0/S  TRAPPIST-1e  58.0   True   \n",
       "3     0003_02     Europa     False  A/0/S  TRAPPIST-1e  33.0  False   \n",
       "4     0004_01      Earth     False  F/1/S  TRAPPIST-1e  16.0  False   \n",
       "\n",
       "   RoomService  FoodCourt  ShoppingMall     Spa  VRDeck               Name  \\\n",
       "0          0.0        0.0           0.0     0.0     0.0    Maham Ofracculy   \n",
       "1        109.0        9.0          25.0   549.0    44.0       Juanna Vines   \n",
       "2         43.0     3576.0           0.0  6715.0    49.0      Altark Susent   \n",
       "3          0.0     1283.0         371.0  3329.0   193.0       Solam Susent   \n",
       "4        303.0       70.0         151.0   565.0     2.0  Willy Santantines   \n",
       "\n",
       "   Transported  \n",
       "0        False  \n",
       "1         True  \n",
       "2        False  \n",
       "3        False  \n",
       "4         True  "
      ]
     },
     "execution_count": 5,
     "metadata": {},
     "output_type": "execute_result"
    }
   ],
   "source": [
    "df.head()"
   ]
  },
  {
   "cell_type": "markdown",
   "id": "f1aca1f8",
   "metadata": {
    "papermill": {
     "duration": 0.010403,
     "end_time": "2024-06-19T03:18:50.441550",
     "exception": false,
     "start_time": "2024-06-19T03:18:50.431147",
     "status": "completed"
    },
    "tags": []
   },
   "source": [
    "#### 5. View Summary Statistics of Continuous Features"
   ]
  },
  {
   "cell_type": "code",
   "execution_count": 6,
   "id": "08ce1a77",
   "metadata": {
    "_kg_hide-input": true,
    "execution": {
     "iopub.execute_input": "2024-06-19T03:18:50.465624Z",
     "iopub.status.busy": "2024-06-19T03:18:50.464593Z",
     "iopub.status.idle": "2024-06-19T03:18:50.503273Z",
     "shell.execute_reply": "2024-06-19T03:18:50.501882Z"
    },
    "papermill": {
     "duration": 0.053473,
     "end_time": "2024-06-19T03:18:50.505951",
     "exception": false,
     "start_time": "2024-06-19T03:18:50.452478",
     "status": "completed"
    },
    "tags": []
   },
   "outputs": [
    {
     "data": {
      "text/html": [
       "<div>\n",
       "<style scoped>\n",
       "    .dataframe tbody tr th:only-of-type {\n",
       "        vertical-align: middle;\n",
       "    }\n",
       "\n",
       "    .dataframe tbody tr th {\n",
       "        vertical-align: top;\n",
       "    }\n",
       "\n",
       "    .dataframe thead th {\n",
       "        text-align: right;\n",
       "    }\n",
       "</style>\n",
       "<table border=\"1\" class=\"dataframe\">\n",
       "  <thead>\n",
       "    <tr style=\"text-align: right;\">\n",
       "      <th></th>\n",
       "      <th>Age</th>\n",
       "      <th>RoomService</th>\n",
       "      <th>FoodCourt</th>\n",
       "      <th>ShoppingMall</th>\n",
       "      <th>Spa</th>\n",
       "      <th>VRDeck</th>\n",
       "    </tr>\n",
       "  </thead>\n",
       "  <tbody>\n",
       "    <tr>\n",
       "      <th>count</th>\n",
       "      <td>17028</td>\n",
       "      <td>17024</td>\n",
       "      <td>17020</td>\n",
       "      <td>16970</td>\n",
       "      <td>17020</td>\n",
       "      <td>17010</td>\n",
       "    </tr>\n",
       "    <tr>\n",
       "      <th>mean</th>\n",
       "      <td>29</td>\n",
       "      <td>225</td>\n",
       "      <td>458</td>\n",
       "      <td>174</td>\n",
       "      <td>311</td>\n",
       "      <td>305</td>\n",
       "    </tr>\n",
       "    <tr>\n",
       "      <th>std</th>\n",
       "      <td>14</td>\n",
       "      <td>667</td>\n",
       "      <td>1611</td>\n",
       "      <td>605</td>\n",
       "      <td>1137</td>\n",
       "      <td>1146</td>\n",
       "    </tr>\n",
       "    <tr>\n",
       "      <th>min</th>\n",
       "      <td>0</td>\n",
       "      <td>0</td>\n",
       "      <td>0</td>\n",
       "      <td>0</td>\n",
       "      <td>0</td>\n",
       "      <td>0</td>\n",
       "    </tr>\n",
       "    <tr>\n",
       "      <th>25%</th>\n",
       "      <td>19</td>\n",
       "      <td>0</td>\n",
       "      <td>0</td>\n",
       "      <td>0</td>\n",
       "      <td>0</td>\n",
       "      <td>0</td>\n",
       "    </tr>\n",
       "    <tr>\n",
       "      <th>50%</th>\n",
       "      <td>27</td>\n",
       "      <td>0</td>\n",
       "      <td>0</td>\n",
       "      <td>0</td>\n",
       "      <td>0</td>\n",
       "      <td>0</td>\n",
       "    </tr>\n",
       "    <tr>\n",
       "      <th>75%</th>\n",
       "      <td>38</td>\n",
       "      <td>47</td>\n",
       "      <td>76</td>\n",
       "      <td>27</td>\n",
       "      <td>59</td>\n",
       "      <td>46</td>\n",
       "    </tr>\n",
       "    <tr>\n",
       "      <th>max</th>\n",
       "      <td>79</td>\n",
       "      <td>14327</td>\n",
       "      <td>29813</td>\n",
       "      <td>23492</td>\n",
       "      <td>22408</td>\n",
       "      <td>24133</td>\n",
       "    </tr>\n",
       "  </tbody>\n",
       "</table>\n",
       "</div>"
      ],
      "text/plain": [
       "         Age  RoomService  FoodCourt  ShoppingMall    Spa  VRDeck\n",
       "count  17028        17024      17020         16970  17020   17010\n",
       "mean      29          225        458           174    311     305\n",
       "std       14          667       1611           605   1137    1146\n",
       "min        0            0          0             0      0       0\n",
       "25%       19            0          0             0      0       0\n",
       "50%       27            0          0             0      0       0\n",
       "75%       38           47         76            27     59      46\n",
       "max       79        14327      29813         23492  22408   24133"
      ]
     },
     "execution_count": 6,
     "metadata": {},
     "output_type": "execute_result"
    }
   ],
   "source": [
    "summary_stats = df.describe().apply(lambda x: x.round().astype(int))\n",
    "summary_stats"
   ]
  },
  {
   "cell_type": "markdown",
   "id": "38b20023",
   "metadata": {
    "papermill": {
     "duration": 0.01031,
     "end_time": "2024-06-19T03:18:50.527107",
     "exception": false,
     "start_time": "2024-06-19T03:18:50.516797",
     "status": "completed"
    },
    "tags": []
   },
   "source": [
    "#### 6. View Distribution of Categorical Features"
   ]
  },
  {
   "cell_type": "code",
   "execution_count": 7,
   "id": "5261aa0d",
   "metadata": {
    "_kg_hide-input": true,
    "execution": {
     "iopub.execute_input": "2024-06-19T03:18:50.550763Z",
     "iopub.status.busy": "2024-06-19T03:18:50.549408Z",
     "iopub.status.idle": "2024-06-19T03:18:50.628250Z",
     "shell.execute_reply": "2024-06-19T03:18:50.626849Z"
    },
    "papermill": {
     "duration": 0.094261,
     "end_time": "2024-06-19T03:18:50.631792",
     "exception": false,
     "start_time": "2024-06-19T03:18:50.537531",
     "status": "completed"
    },
    "tags": []
   },
   "outputs": [
    {
     "name": "stdout",
     "output_type": "stream",
     "text": [
      "Counts for HomePlanet:\n"
     ]
    },
    {
     "data": {
      "text/html": [
       "<div>\n",
       "<style scoped>\n",
       "    .dataframe tbody tr th:only-of-type {\n",
       "        vertical-align: middle;\n",
       "    }\n",
       "\n",
       "    .dataframe tbody tr th {\n",
       "        vertical-align: top;\n",
       "    }\n",
       "\n",
       "    .dataframe thead th {\n",
       "        text-align: right;\n",
       "    }\n",
       "</style>\n",
       "<table border=\"1\" class=\"dataframe\">\n",
       "  <thead>\n",
       "    <tr style=\"text-align: right;\">\n",
       "      <th></th>\n",
       "      <th>count</th>\n",
       "      <th>count</th>\n",
       "    </tr>\n",
       "  </thead>\n",
       "  <tbody>\n",
       "    <tr>\n",
       "      <th>0</th>\n",
       "      <td>Earth</td>\n",
       "      <td>9204</td>\n",
       "    </tr>\n",
       "    <tr>\n",
       "      <th>1</th>\n",
       "      <td>Europa</td>\n",
       "      <td>4262</td>\n",
       "    </tr>\n",
       "    <tr>\n",
       "      <th>2</th>\n",
       "      <td>Mars</td>\n",
       "      <td>3518</td>\n",
       "    </tr>\n",
       "  </tbody>\n",
       "</table>\n",
       "</div>"
      ],
      "text/plain": [
       "    count  count\n",
       "0   Earth   9204\n",
       "1  Europa   4262\n",
       "2    Mars   3518"
      ]
     },
     "metadata": {},
     "output_type": "display_data"
    },
    {
     "name": "stdout",
     "output_type": "stream",
     "text": [
      "\n",
      "\n",
      "Counts for CryoSleep:\n"
     ]
    },
    {
     "data": {
      "text/html": [
       "<div>\n",
       "<style scoped>\n",
       "    .dataframe tbody tr th:only-of-type {\n",
       "        vertical-align: middle;\n",
       "    }\n",
       "\n",
       "    .dataframe tbody tr th {\n",
       "        vertical-align: top;\n",
       "    }\n",
       "\n",
       "    .dataframe thead th {\n",
       "        text-align: right;\n",
       "    }\n",
       "</style>\n",
       "<table border=\"1\" class=\"dataframe\">\n",
       "  <thead>\n",
       "    <tr style=\"text-align: right;\">\n",
       "      <th></th>\n",
       "      <th>count</th>\n",
       "      <th>count</th>\n",
       "    </tr>\n",
       "  </thead>\n",
       "  <tbody>\n",
       "    <tr>\n",
       "      <th>0</th>\n",
       "      <td>False</td>\n",
       "      <td>10878</td>\n",
       "    </tr>\n",
       "    <tr>\n",
       "      <th>1</th>\n",
       "      <td>True</td>\n",
       "      <td>6074</td>\n",
       "    </tr>\n",
       "  </tbody>\n",
       "</table>\n",
       "</div>"
      ],
      "text/plain": [
       "   count  count\n",
       "0  False  10878\n",
       "1   True   6074"
      ]
     },
     "metadata": {},
     "output_type": "display_data"
    },
    {
     "name": "stdout",
     "output_type": "stream",
     "text": [
      "\n",
      "\n",
      "Counts for Destination:\n"
     ]
    },
    {
     "data": {
      "text/html": [
       "<div>\n",
       "<style scoped>\n",
       "    .dataframe tbody tr th:only-of-type {\n",
       "        vertical-align: middle;\n",
       "    }\n",
       "\n",
       "    .dataframe tbody tr th {\n",
       "        vertical-align: top;\n",
       "    }\n",
       "\n",
       "    .dataframe thead th {\n",
       "        text-align: right;\n",
       "    }\n",
       "</style>\n",
       "<table border=\"1\" class=\"dataframe\">\n",
       "  <thead>\n",
       "    <tr style=\"text-align: right;\">\n",
       "      <th></th>\n",
       "      <th>count</th>\n",
       "      <th>count</th>\n",
       "    </tr>\n",
       "  </thead>\n",
       "  <tbody>\n",
       "    <tr>\n",
       "      <th>0</th>\n",
       "      <td>TRAPPIST-1e</td>\n",
       "      <td>11830</td>\n",
       "    </tr>\n",
       "    <tr>\n",
       "      <th>1</th>\n",
       "      <td>55 Cancri e</td>\n",
       "      <td>3600</td>\n",
       "    </tr>\n",
       "    <tr>\n",
       "      <th>2</th>\n",
       "      <td>PSO J318.5-22</td>\n",
       "      <td>1592</td>\n",
       "    </tr>\n",
       "  </tbody>\n",
       "</table>\n",
       "</div>"
      ],
      "text/plain": [
       "           count  count\n",
       "0    TRAPPIST-1e  11830\n",
       "1    55 Cancri e   3600\n",
       "2  PSO J318.5-22   1592"
      ]
     },
     "metadata": {},
     "output_type": "display_data"
    },
    {
     "name": "stdout",
     "output_type": "stream",
     "text": [
      "\n",
      "\n",
      "Counts for VIP:\n"
     ]
    },
    {
     "data": {
      "text/html": [
       "<div>\n",
       "<style scoped>\n",
       "    .dataframe tbody tr th:only-of-type {\n",
       "        vertical-align: middle;\n",
       "    }\n",
       "\n",
       "    .dataframe tbody tr th {\n",
       "        vertical-align: top;\n",
       "    }\n",
       "\n",
       "    .dataframe thead th {\n",
       "        text-align: right;\n",
       "    }\n",
       "</style>\n",
       "<table border=\"1\" class=\"dataframe\">\n",
       "  <thead>\n",
       "    <tr style=\"text-align: right;\">\n",
       "      <th></th>\n",
       "      <th>count</th>\n",
       "      <th>count</th>\n",
       "    </tr>\n",
       "  </thead>\n",
       "  <tbody>\n",
       "    <tr>\n",
       "      <th>0</th>\n",
       "      <td>False</td>\n",
       "      <td>16582</td>\n",
       "    </tr>\n",
       "    <tr>\n",
       "      <th>1</th>\n",
       "      <td>True</td>\n",
       "      <td>398</td>\n",
       "    </tr>\n",
       "  </tbody>\n",
       "</table>\n",
       "</div>"
      ],
      "text/plain": [
       "   count  count\n",
       "0  False  16582\n",
       "1   True    398"
      ]
     },
     "metadata": {},
     "output_type": "display_data"
    },
    {
     "name": "stdout",
     "output_type": "stream",
     "text": [
      "\n",
      "\n",
      "Counts for Cabin:\n"
     ]
    },
    {
     "data": {
      "text/html": [
       "<div>\n",
       "<style scoped>\n",
       "    .dataframe tbody tr th:only-of-type {\n",
       "        vertical-align: middle;\n",
       "    }\n",
       "\n",
       "    .dataframe tbody tr th {\n",
       "        vertical-align: top;\n",
       "    }\n",
       "\n",
       "    .dataframe thead th {\n",
       "        text-align: right;\n",
       "    }\n",
       "</style>\n",
       "<table border=\"1\" class=\"dataframe\">\n",
       "  <thead>\n",
       "    <tr style=\"text-align: right;\">\n",
       "      <th></th>\n",
       "      <th>count</th>\n",
       "      <th>count</th>\n",
       "    </tr>\n",
       "  </thead>\n",
       "  <tbody>\n",
       "    <tr>\n",
       "      <th>0</th>\n",
       "      <td>G/734/S</td>\n",
       "      <td>16</td>\n",
       "    </tr>\n",
       "    <tr>\n",
       "      <th>1</th>\n",
       "      <td>G/109/P</td>\n",
       "      <td>14</td>\n",
       "    </tr>\n",
       "    <tr>\n",
       "      <th>2</th>\n",
       "      <td>B/201/P</td>\n",
       "      <td>14</td>\n",
       "    </tr>\n",
       "    <tr>\n",
       "      <th>3</th>\n",
       "      <td>G/1368/P</td>\n",
       "      <td>14</td>\n",
       "    </tr>\n",
       "    <tr>\n",
       "      <th>4</th>\n",
       "      <td>G/981/S</td>\n",
       "      <td>14</td>\n",
       "    </tr>\n",
       "    <tr>\n",
       "      <th>...</th>\n",
       "      <td>...</td>\n",
       "      <td>...</td>\n",
       "    </tr>\n",
       "    <tr>\n",
       "      <th>6555</th>\n",
       "      <td>G/556/P</td>\n",
       "      <td>2</td>\n",
       "    </tr>\n",
       "    <tr>\n",
       "      <th>6556</th>\n",
       "      <td>E/231/S</td>\n",
       "      <td>2</td>\n",
       "    </tr>\n",
       "    <tr>\n",
       "      <th>6557</th>\n",
       "      <td>G/545/S</td>\n",
       "      <td>2</td>\n",
       "    </tr>\n",
       "    <tr>\n",
       "      <th>6558</th>\n",
       "      <td>G/543/S</td>\n",
       "      <td>2</td>\n",
       "    </tr>\n",
       "    <tr>\n",
       "      <th>6559</th>\n",
       "      <td>F/947/P</td>\n",
       "      <td>2</td>\n",
       "    </tr>\n",
       "  </tbody>\n",
       "</table>\n",
       "<p>6560 rows × 2 columns</p>\n",
       "</div>"
      ],
      "text/plain": [
       "         count  count\n",
       "0      G/734/S     16\n",
       "1      G/109/P     14\n",
       "2      B/201/P     14\n",
       "3     G/1368/P     14\n",
       "4      G/981/S     14\n",
       "...        ...    ...\n",
       "6555   G/556/P      2\n",
       "6556   E/231/S      2\n",
       "6557   G/545/S      2\n",
       "6558   G/543/S      2\n",
       "6559   F/947/P      2\n",
       "\n",
       "[6560 rows x 2 columns]"
      ]
     },
     "metadata": {},
     "output_type": "display_data"
    },
    {
     "name": "stdout",
     "output_type": "stream",
     "text": [
      "\n",
      "\n"
     ]
    }
   ],
   "source": [
    "# List of categorical features based on available columns\n",
    "categorical_features = ['HomePlanet', 'CryoSleep', 'Destination', 'VIP', 'Cabin']\n",
    "\n",
    "# Create a dictionary to hold the counts\n",
    "counts_dict = {}\n",
    "\n",
    "# Populate the dictionary with counts for each categorical feature\n",
    "for feature in categorical_features:\n",
    "    if feature in df.columns:\n",
    "        counts_dict[feature] = df[feature].value_counts()\n",
    "    else:\n",
    "        counts_dict[feature] = 'Feature not found in the dataset.'\n",
    "\n",
    "# Display the counts in a cleaner format\n",
    "for feature, counts in counts_dict.items():\n",
    "    print(f'Counts for {feature}:')\n",
    "    if isinstance(counts, pd.Series):\n",
    "        display(pd.DataFrame(counts).reset_index().rename(columns={'index': feature, feature: 'count'}))\n",
    "    else:\n",
    "        print(counts)\n",
    "    print('\\n')"
   ]
  },
  {
   "cell_type": "markdown",
   "id": "ce8c3751",
   "metadata": {
    "papermill": {
     "duration": 0.012664,
     "end_time": "2024-06-19T03:18:50.657341",
     "exception": false,
     "start_time": "2024-06-19T03:18:50.644677",
     "status": "completed"
    },
    "tags": []
   },
   "source": [
    "#### 7. Check for Missing Values"
   ]
  },
  {
   "cell_type": "code",
   "execution_count": 8,
   "id": "2abf5b1e",
   "metadata": {
    "_kg_hide-input": true,
    "execution": {
     "iopub.execute_input": "2024-06-19T03:18:50.687214Z",
     "iopub.status.busy": "2024-06-19T03:18:50.686121Z",
     "iopub.status.idle": "2024-06-19T03:18:50.719616Z",
     "shell.execute_reply": "2024-06-19T03:18:50.718429Z"
    },
    "papermill": {
     "duration": 0.050789,
     "end_time": "2024-06-19T03:18:50.722493",
     "exception": false,
     "start_time": "2024-06-19T03:18:50.671704",
     "status": "completed"
    },
    "tags": []
   },
   "outputs": [
    {
     "data": {
      "text/html": [
       "<div>\n",
       "<style scoped>\n",
       "    .dataframe tbody tr th:only-of-type {\n",
       "        vertical-align: middle;\n",
       "    }\n",
       "\n",
       "    .dataframe tbody tr th {\n",
       "        vertical-align: top;\n",
       "    }\n",
       "\n",
       "    .dataframe thead th {\n",
       "        text-align: right;\n",
       "    }\n",
       "</style>\n",
       "<table border=\"1\" class=\"dataframe\">\n",
       "  <thead>\n",
       "    <tr style=\"text-align: right;\">\n",
       "      <th></th>\n",
       "      <th>Missing Values</th>\n",
       "      <th>Percentage</th>\n",
       "    </tr>\n",
       "  </thead>\n",
       "  <tbody>\n",
       "    <tr>\n",
       "      <th>CryoSleep</th>\n",
       "      <td>434</td>\n",
       "      <td>2.5</td>\n",
       "    </tr>\n",
       "    <tr>\n",
       "      <th>ShoppingMall</th>\n",
       "      <td>416</td>\n",
       "      <td>2.4</td>\n",
       "    </tr>\n",
       "    <tr>\n",
       "      <th>VIP</th>\n",
       "      <td>406</td>\n",
       "      <td>2.3</td>\n",
       "    </tr>\n",
       "    <tr>\n",
       "      <th>HomePlanet</th>\n",
       "      <td>402</td>\n",
       "      <td>2.3</td>\n",
       "    </tr>\n",
       "    <tr>\n",
       "      <th>Name</th>\n",
       "      <td>400</td>\n",
       "      <td>2.3</td>\n",
       "    </tr>\n",
       "    <tr>\n",
       "      <th>Cabin</th>\n",
       "      <td>398</td>\n",
       "      <td>2.3</td>\n",
       "    </tr>\n",
       "    <tr>\n",
       "      <th>VRDeck</th>\n",
       "      <td>376</td>\n",
       "      <td>2.2</td>\n",
       "    </tr>\n",
       "    <tr>\n",
       "      <th>FoodCourt</th>\n",
       "      <td>366</td>\n",
       "      <td>2.1</td>\n",
       "    </tr>\n",
       "    <tr>\n",
       "      <th>Spa</th>\n",
       "      <td>366</td>\n",
       "      <td>2.1</td>\n",
       "    </tr>\n",
       "    <tr>\n",
       "      <th>Destination</th>\n",
       "      <td>364</td>\n",
       "      <td>2.1</td>\n",
       "    </tr>\n",
       "    <tr>\n",
       "      <th>RoomService</th>\n",
       "      <td>362</td>\n",
       "      <td>2.1</td>\n",
       "    </tr>\n",
       "    <tr>\n",
       "      <th>Age</th>\n",
       "      <td>358</td>\n",
       "      <td>2.1</td>\n",
       "    </tr>\n",
       "  </tbody>\n",
       "</table>\n",
       "</div>"
      ],
      "text/plain": [
       "              Missing Values  Percentage\n",
       "CryoSleep                434         2.5\n",
       "ShoppingMall             416         2.4\n",
       "VIP                      406         2.3\n",
       "HomePlanet               402         2.3\n",
       "Name                     400         2.3\n",
       "Cabin                    398         2.3\n",
       "VRDeck                   376         2.2\n",
       "FoodCourt                366         2.1\n",
       "Spa                      366         2.1\n",
       "Destination              364         2.1\n",
       "RoomService              362         2.1\n",
       "Age                      358         2.1"
      ]
     },
     "execution_count": 8,
     "metadata": {},
     "output_type": "execute_result"
    }
   ],
   "source": [
    "# Calculate missing values and their percentage\n",
    "missing_values = df.isnull().sum()\n",
    "missing_percentage = (missing_values / len(df)) * 100\n",
    "\n",
    "missing_df = pd.DataFrame({'Missing Values': missing_values, 'Percentage': missing_percentage}).round(1)\n",
    "missing_df = missing_df[missing_df['Missing Values'] > 0].sort_values(by='Missing Values', ascending=False)\n",
    "\n",
    "missing_df"
   ]
  },
  {
   "cell_type": "markdown",
   "id": "cc9fbee8",
   "metadata": {
    "papermill": {
     "duration": 0.013607,
     "end_time": "2024-06-19T03:18:50.749241",
     "exception": false,
     "start_time": "2024-06-19T03:18:50.735634",
     "status": "completed"
    },
    "tags": []
   },
   "source": [
    "## Data Cleaning\n",
    "<a id=\"data-cleaning\"></a>"
   ]
  },
  {
   "cell_type": "markdown",
   "id": "0d38374b",
   "metadata": {
    "papermill": {
     "duration": 0.012594,
     "end_time": "2024-06-19T03:18:50.775772",
     "exception": false,
     "start_time": "2024-06-19T03:18:50.763178",
     "status": "completed"
    },
    "tags": []
   },
   "source": [
    "#### 1. Deal with Missing Values"
   ]
  },
  {
   "cell_type": "code",
   "execution_count": null,
   "id": "fb6282a9",
   "metadata": {
    "papermill": {
     "duration": 0.01255,
     "end_time": "2024-06-19T03:18:50.801667",
     "exception": false,
     "start_time": "2024-06-19T03:18:50.789117",
     "status": "completed"
    },
    "tags": []
   },
   "outputs": [],
   "source": []
  },
  {
   "cell_type": "markdown",
   "id": "90ebe988",
   "metadata": {
    "papermill": {
     "duration": 0.013986,
     "end_time": "2024-06-19T03:18:50.828631",
     "exception": false,
     "start_time": "2024-06-19T03:18:50.814645",
     "status": "completed"
    },
    "tags": []
   },
   "source": [
    "## Feature Engineering\n",
    "<a id=\"feature-engineering\"></a>"
   ]
  },
  {
   "cell_type": "code",
   "execution_count": null,
   "id": "907938c0",
   "metadata": {
    "papermill": {
     "duration": 0.013112,
     "end_time": "2024-06-19T03:18:50.856626",
     "exception": false,
     "start_time": "2024-06-19T03:18:50.843514",
     "status": "completed"
    },
    "tags": []
   },
   "outputs": [],
   "source": []
  },
  {
   "cell_type": "markdown",
   "id": "47cda32f",
   "metadata": {
    "papermill": {
     "duration": 0.012863,
     "end_time": "2024-06-19T03:18:50.883187",
     "exception": false,
     "start_time": "2024-06-19T03:18:50.870324",
     "status": "completed"
    },
    "tags": []
   },
   "source": [
    "## Advanced Exploratory Data Analysis (EDA)\n",
    "<a id=\"advanced-exploratory-data-analysis\"></a>"
   ]
  },
  {
   "cell_type": "code",
   "execution_count": null,
   "id": "c1f87312",
   "metadata": {
    "papermill": {
     "duration": 0.013124,
     "end_time": "2024-06-19T03:18:50.909674",
     "exception": false,
     "start_time": "2024-06-19T03:18:50.896550",
     "status": "completed"
    },
    "tags": []
   },
   "outputs": [],
   "source": []
  },
  {
   "cell_type": "markdown",
   "id": "5415d8bc",
   "metadata": {
    "papermill": {
     "duration": 0.013008,
     "end_time": "2024-06-19T03:18:50.936289",
     "exception": false,
     "start_time": "2024-06-19T03:18:50.923281",
     "status": "completed"
    },
    "tags": []
   },
   "source": [
    "# 2) Modeling\n",
    "<a id=\"modeling\"></a>"
   ]
  },
  {
   "cell_type": "markdown",
   "id": "b5d6428f",
   "metadata": {
    "papermill": {
     "duration": 0.012353,
     "end_time": "2024-06-19T03:18:50.961418",
     "exception": false,
     "start_time": "2024-06-19T03:18:50.949065",
     "status": "completed"
    },
    "tags": []
   },
   "source": [
    "### Data Preprocessing for Modeling\n",
    "<a id=\"data-preprocessing-for-modeling\"></a>"
   ]
  },
  {
   "cell_type": "code",
   "execution_count": null,
   "id": "35f1dc5a",
   "metadata": {
    "papermill": {
     "duration": 0.012855,
     "end_time": "2024-06-19T03:18:50.987635",
     "exception": false,
     "start_time": "2024-06-19T03:18:50.974780",
     "status": "completed"
    },
    "tags": []
   },
   "outputs": [],
   "source": []
  },
  {
   "cell_type": "markdown",
   "id": "1fe02133",
   "metadata": {
    "papermill": {
     "duration": 0.013622,
     "end_time": "2024-06-19T03:18:51.014918",
     "exception": false,
     "start_time": "2024-06-19T03:18:51.001296",
     "status": "completed"
    },
    "tags": []
   },
   "source": [
    "### Model Training\n",
    "<a id=\"model-training\"></a>"
   ]
  },
  {
   "cell_type": "code",
   "execution_count": null,
   "id": "1c2acf51",
   "metadata": {
    "papermill": {
     "duration": 0.013115,
     "end_time": "2024-06-19T03:18:51.041599",
     "exception": false,
     "start_time": "2024-06-19T03:18:51.028484",
     "status": "completed"
    },
    "tags": []
   },
   "outputs": [],
   "source": []
  },
  {
   "cell_type": "markdown",
   "id": "07e884ba",
   "metadata": {
    "papermill": {
     "duration": 0.013133,
     "end_time": "2024-06-19T03:18:51.067935",
     "exception": false,
     "start_time": "2024-06-19T03:18:51.054802",
     "status": "completed"
    },
    "tags": []
   },
   "source": [
    "### Model Evaluation\n",
    "<a id=\"model-evaluation\"></a>"
   ]
  },
  {
   "cell_type": "code",
   "execution_count": null,
   "id": "b0f17b1b",
   "metadata": {
    "papermill": {
     "duration": 0.012899,
     "end_time": "2024-06-19T03:18:51.094657",
     "exception": false,
     "start_time": "2024-06-19T03:18:51.081758",
     "status": "completed"
    },
    "tags": []
   },
   "outputs": [],
   "source": []
  },
  {
   "cell_type": "markdown",
   "id": "f553f034",
   "metadata": {
    "papermill": {
     "duration": 0.0123,
     "end_time": "2024-06-19T03:18:51.119842",
     "exception": false,
     "start_time": "2024-06-19T03:18:51.107542",
     "status": "completed"
    },
    "tags": []
   },
   "source": [
    "# 3) Interpretability\n",
    "<a id=\"interpretability\"></a>"
   ]
  },
  {
   "cell_type": "markdown",
   "id": "4891a9f6",
   "metadata": {
    "papermill": {
     "duration": 0.013778,
     "end_time": "2024-06-19T03:18:51.147792",
     "exception": false,
     "start_time": "2024-06-19T03:18:51.134014",
     "status": "completed"
    },
    "tags": []
   },
   "source": [
    "### SHAP Analysis\n",
    "<a id=\"shap-analysis\"></a>"
   ]
  },
  {
   "cell_type": "code",
   "execution_count": null,
   "id": "1ebc8f96",
   "metadata": {
    "papermill": {
     "duration": 0.012958,
     "end_time": "2024-06-19T03:18:51.174322",
     "exception": false,
     "start_time": "2024-06-19T03:18:51.161364",
     "status": "completed"
    },
    "tags": []
   },
   "outputs": [],
   "source": []
  }
 ],
 "metadata": {
  "kaggle": {
   "accelerator": "none",
   "dataSources": [
    {
     "databundleVersionId": 3220602,
     "sourceId": 34377,
     "sourceType": "competition"
    }
   ],
   "dockerImageVersionId": 30732,
   "isGpuEnabled": false,
   "isInternetEnabled": true,
   "language": "python",
   "sourceType": "notebook"
  },
  "kernelspec": {
   "display_name": "Python 3",
   "language": "python",
   "name": "python3"
  },
  "language_info": {
   "codemirror_mode": {
    "name": "ipython",
    "version": 3
   },
   "file_extension": ".py",
   "mimetype": "text/x-python",
   "name": "python",
   "nbconvert_exporter": "python",
   "pygments_lexer": "ipython3",
   "version": "3.10.13"
  },
  "papermill": {
   "default_parameters": {},
   "duration": 18.283393,
   "end_time": "2024-06-19T03:18:53.616687",
   "environment_variables": {},
   "exception": null,
   "input_path": "__notebook__.ipynb",
   "output_path": "__notebook__.ipynb",
   "parameters": {},
   "start_time": "2024-06-19T03:18:35.333294",
   "version": "2.5.0"
  }
 },
 "nbformat": 4,
 "nbformat_minor": 5
}
