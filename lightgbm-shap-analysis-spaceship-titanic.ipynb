{
 "cells": [
  {
   "cell_type": "markdown",
   "id": "1b73e78e",
   "metadata": {
    "papermill": {
     "duration": 0.013382,
     "end_time": "2024-06-19T04:21:48.882438",
     "exception": false,
     "start_time": "2024-06-19T04:21:48.869056",
     "status": "completed"
    },
    "tags": []
   },
   "source": [
    "# Interpret LightGBM Classifier with SHAP: Spaceship Titanic Dataset\n",
    "\n",
    "## Table of Contents\n",
    "\n",
    "1. [Data Preparation](#data-preparation)\n",
    "   - [Import Data and Modules](#import-data-and-modules)\n",
    "   - [Basic Exploratory Data Analysis (EDA)](#basic-exploratory-data-analysis) \n",
    "   - [Feature Engineering](#feature-engineering)\n",
    "   - [Data Cleaning](#data-cleaning)\n",
    "2. [Modeling](#modeling)\n",
    "   - [Data Preprocessing for Modeling](#data-preprocessing-for-modeling)\n",
    "   - [Model Training](#model-training)\n",
    "   - [Model Evaluation](#model-evaluation)\n",
    "3. [Interpretability](#interpretability)\n",
    "   - [SHAP Analysis](#shap-analysis)"
   ]
  },
  {
   "cell_type": "markdown",
   "id": "19af4758",
   "metadata": {
    "papermill": {
     "duration": 0.012651,
     "end_time": "2024-06-19T04:21:48.907559",
     "exception": false,
     "start_time": "2024-06-19T04:21:48.894908",
     "status": "completed"
    },
    "tags": []
   },
   "source": [
    "# 1) Data Preparation\n",
    "<a id=\"data-preparation\"></a>"
   ]
  },
  {
   "cell_type": "markdown",
   "id": "0cb7a67a",
   "metadata": {
    "papermill": {
     "duration": 0.012249,
     "end_time": "2024-06-19T04:21:48.932606",
     "exception": false,
     "start_time": "2024-06-19T04:21:48.920357",
     "status": "completed"
    },
    "tags": []
   },
   "source": [
    "## Import Data and Modules\n",
    "<a id=\"import-data-and-modules\"></a>"
   ]
  },
  {
   "cell_type": "code",
   "execution_count": 1,
   "id": "6974e136",
   "metadata": {
    "_cell_guid": "b1076dfc-b9ad-4769-8c92-a6c4dae69d19",
    "_kg_hide-input": false,
    "_uuid": "8f2839f25d086af736a60e9eeb907d3b93b6e0e5",
    "execution": {
     "iopub.execute_input": "2024-06-19T04:21:48.959476Z",
     "iopub.status.busy": "2024-06-19T04:21:48.959003Z",
     "iopub.status.idle": "2024-06-19T04:22:01.040468Z",
     "shell.execute_reply": "2024-06-19T04:22:01.038930Z"
    },
    "papermill": {
     "duration": 12.098725,
     "end_time": "2024-06-19T04:22:01.043844",
     "exception": false,
     "start_time": "2024-06-19T04:21:48.945119",
     "status": "completed"
    },
    "tags": []
   },
   "outputs": [],
   "source": [
    "# base packages\n",
    "import pandas as pd\n",
    "import numpy as np\n",
    "import matplotlib.pyplot as plt\n",
    "\n",
    "# modeling and evaluation\n",
    "import lightgbm as lgb\n",
    "from sklearn.metrics import accuracy_score, classification_report\n",
    "from sklearn.model_selection import train_test_split\n",
    "from sklearn.preprocessing import LabelEncoder\n",
    "import shap\n",
    "import os"
   ]
  },
  {
   "cell_type": "code",
   "execution_count": 2,
   "id": "f4034e82",
   "metadata": {
    "execution": {
     "iopub.execute_input": "2024-06-19T04:22:01.071789Z",
     "iopub.status.busy": "2024-06-19T04:22:01.070982Z",
     "iopub.status.idle": "2024-06-19T04:22:01.198624Z",
     "shell.execute_reply": "2024-06-19T04:22:01.197119Z"
    },
    "papermill": {
     "duration": 0.145479,
     "end_time": "2024-06-19T04:22:01.201957",
     "exception": false,
     "start_time": "2024-06-19T04:22:01.056478",
     "status": "completed"
    },
    "tags": []
   },
   "outputs": [],
   "source": [
    "train = pd.read_csv('/kaggle/input/spaceship-titanic/train.csv')\n",
    "test = pd.read_csv('/kaggle/input/spaceship-titanic/train.csv')\n",
    "df = pd.concat([train, test], ignore_index=True)"
   ]
  },
  {
   "cell_type": "markdown",
   "id": "aaa2c017",
   "metadata": {
    "papermill": {
     "duration": 0.013742,
     "end_time": "2024-06-19T04:22:01.228962",
     "exception": false,
     "start_time": "2024-06-19T04:22:01.215220",
     "status": "completed"
    },
    "tags": []
   },
   "source": [
    "## Basic Exploratory Data Analysis (EDA)\n",
    "<a id=\"basic-exploratory-data-analysis\"></a>"
   ]
  },
  {
   "cell_type": "markdown",
   "id": "c9901cbc",
   "metadata": {
    "papermill": {
     "duration": 0.011941,
     "end_time": "2024-06-19T04:22:01.254560",
     "exception": false,
     "start_time": "2024-06-19T04:22:01.242619",
     "status": "completed"
    },
    "tags": []
   },
   "source": [
    "### 1. Data Description"
   ]
  },
  {
   "cell_type": "markdown",
   "id": "f632b0ae",
   "metadata": {
    "papermill": {
     "duration": 0.012073,
     "end_time": "2024-06-19T04:22:01.280172",
     "exception": false,
     "start_time": "2024-06-19T04:22:01.268099",
     "status": "completed"
    },
    "tags": []
   },
   "source": [
    "> * **PassengerId** - A unique Id for each passenger. Each Id takes the form gggg_pp where gggg indicates a group the passenger is travelling with and pp is their number within the group. People in a group are often family members, but not always.<br>\n",
    "> * **HomePlanet** - The planet the passenger departed from, typically their planet of permanent residence.<br>\n",
    "> * **CryoSleep** - Indicates whether the passenger elected to be put into suspended animation for the duration of the voyage. Passengers in cryosleep are confined to their cabins.<br>\n",
    "> * **Cabin** - The cabin number where the passenger is staying. Takes the form deck/num/side, where side can be either P for Port or S for Starboard.<br>\n",
    "> * **Destination** - The planet the passenger will be debarking to.<br>\n",
    "> * **Age** - The age of the passenger.<br>\n",
    "> * **VIP** - Whether the passenger has paid for special VIP service during the voyage.<br>\n",
    "> * **RoomService**, **FoodCourt**, **ShoppingMall**, **Spa**, **VRDeck** - Amount the passenger has billed at each of the Spaceship Titanic's many luxury amenities.<br>\n",
    "> * **Name** - The first and last names of the passenger.<br>\n",
    "> * **Transported** - Whether the passenger was transported to another dimension. This is the target, the column you are trying to predict.<br>"
   ]
  },
  {
   "cell_type": "markdown",
   "id": "649fda19",
   "metadata": {
    "papermill": {
     "duration": 0.012108,
     "end_time": "2024-06-19T04:22:01.304619",
     "exception": false,
     "start_time": "2024-06-19T04:22:01.292511",
     "status": "completed"
    },
    "tags": []
   },
   "source": [
    "### 2. Dataframe Structure"
   ]
  },
  {
   "cell_type": "code",
   "execution_count": 3,
   "id": "4ea22041",
   "metadata": {
    "_kg_hide-input": true,
    "execution": {
     "iopub.execute_input": "2024-06-19T04:22:01.334872Z",
     "iopub.status.busy": "2024-06-19T04:22:01.334347Z",
     "iopub.status.idle": "2024-06-19T04:22:01.345370Z",
     "shell.execute_reply": "2024-06-19T04:22:01.343634Z"
    },
    "papermill": {
     "duration": 0.029208,
     "end_time": "2024-06-19T04:22:01.348396",
     "exception": false,
     "start_time": "2024-06-19T04:22:01.319188",
     "status": "completed"
    },
    "tags": []
   },
   "outputs": [
    {
     "data": {
      "text/plain": [
       "(17386, 14)"
      ]
     },
     "execution_count": 3,
     "metadata": {},
     "output_type": "execute_result"
    }
   ],
   "source": [
    "df.shape"
   ]
  },
  {
   "cell_type": "markdown",
   "id": "2aa7e563",
   "metadata": {
    "papermill": {
     "duration": 0.011984,
     "end_time": "2024-06-19T04:22:01.373475",
     "exception": false,
     "start_time": "2024-06-19T04:22:01.361491",
     "status": "completed"
    },
    "tags": []
   },
   "source": [
    "### 3. Count Transported Passengers In Training Dataset"
   ]
  },
  {
   "cell_type": "code",
   "execution_count": 4,
   "id": "4983fcb3",
   "metadata": {
    "_kg_hide-input": true,
    "execution": {
     "iopub.execute_input": "2024-06-19T04:22:01.400711Z",
     "iopub.status.busy": "2024-06-19T04:22:01.400195Z",
     "iopub.status.idle": "2024-06-19T04:22:01.436666Z",
     "shell.execute_reply": "2024-06-19T04:22:01.435161Z"
    },
    "papermill": {
     "duration": 0.053746,
     "end_time": "2024-06-19T04:22:01.440043",
     "exception": false,
     "start_time": "2024-06-19T04:22:01.386297",
     "status": "completed"
    },
    "tags": []
   },
   "outputs": [
    {
     "data": {
      "text/html": [
       "<div>\n",
       "<style scoped>\n",
       "    .dataframe tbody tr th:only-of-type {\n",
       "        vertical-align: middle;\n",
       "    }\n",
       "\n",
       "    .dataframe tbody tr th {\n",
       "        vertical-align: top;\n",
       "    }\n",
       "\n",
       "    .dataframe thead th {\n",
       "        text-align: right;\n",
       "    }\n",
       "</style>\n",
       "<table border=\"1\" class=\"dataframe\">\n",
       "  <thead>\n",
       "    <tr style=\"text-align: right;\">\n",
       "      <th></th>\n",
       "      <th>Count</th>\n",
       "      <th>Percentage</th>\n",
       "    </tr>\n",
       "    <tr>\n",
       "      <th>Transported</th>\n",
       "      <th></th>\n",
       "      <th></th>\n",
       "    </tr>\n",
       "  </thead>\n",
       "  <tbody>\n",
       "    <tr>\n",
       "      <th>True</th>\n",
       "      <td>4378</td>\n",
       "      <td>50.36</td>\n",
       "    </tr>\n",
       "    <tr>\n",
       "      <th>False</th>\n",
       "      <td>4315</td>\n",
       "      <td>49.64</td>\n",
       "    </tr>\n",
       "  </tbody>\n",
       "</table>\n",
       "</div>"
      ],
      "text/plain": [
       "             Count  Percentage\n",
       "Transported                   \n",
       "True          4378       50.36\n",
       "False         4315       49.64"
      ]
     },
     "execution_count": 4,
     "metadata": {},
     "output_type": "execute_result"
    }
   ],
   "source": [
    "transported_counts = train['Transported'].value_counts()\n",
    "total_passengers = len(train)\n",
    "transported_percentage = ((transported_counts / total_passengers) * 100).round(2)\n",
    "\n",
    "transported_df = pd.DataFrame({\n",
    "    'Count': transported_counts,\n",
    "    'Percentage': transported_percentage\n",
    "})\n",
    "\n",
    "transported_df"
   ]
  },
  {
   "cell_type": "markdown",
   "id": "3beac51f",
   "metadata": {
    "papermill": {
     "duration": 0.01325,
     "end_time": "2024-06-19T04:22:01.466587",
     "exception": false,
     "start_time": "2024-06-19T04:22:01.453337",
     "status": "completed"
    },
    "tags": []
   },
   "source": [
    "### 4. View Merged Dataframe"
   ]
  },
  {
   "cell_type": "code",
   "execution_count": 5,
   "id": "9700475f",
   "metadata": {
    "_kg_hide-input": true,
    "execution": {
     "iopub.execute_input": "2024-06-19T04:22:01.495624Z",
     "iopub.status.busy": "2024-06-19T04:22:01.495109Z",
     "iopub.status.idle": "2024-06-19T04:22:01.521344Z",
     "shell.execute_reply": "2024-06-19T04:22:01.519785Z"
    },
    "papermill": {
     "duration": 0.044203,
     "end_time": "2024-06-19T04:22:01.524698",
     "exception": false,
     "start_time": "2024-06-19T04:22:01.480495",
     "status": "completed"
    },
    "tags": []
   },
   "outputs": [
    {
     "data": {
      "text/html": [
       "<div>\n",
       "<style scoped>\n",
       "    .dataframe tbody tr th:only-of-type {\n",
       "        vertical-align: middle;\n",
       "    }\n",
       "\n",
       "    .dataframe tbody tr th {\n",
       "        vertical-align: top;\n",
       "    }\n",
       "\n",
       "    .dataframe thead th {\n",
       "        text-align: right;\n",
       "    }\n",
       "</style>\n",
       "<table border=\"1\" class=\"dataframe\">\n",
       "  <thead>\n",
       "    <tr style=\"text-align: right;\">\n",
       "      <th></th>\n",
       "      <th>PassengerId</th>\n",
       "      <th>HomePlanet</th>\n",
       "      <th>CryoSleep</th>\n",
       "      <th>Cabin</th>\n",
       "      <th>Destination</th>\n",
       "      <th>Age</th>\n",
       "      <th>VIP</th>\n",
       "      <th>RoomService</th>\n",
       "      <th>FoodCourt</th>\n",
       "      <th>ShoppingMall</th>\n",
       "      <th>Spa</th>\n",
       "      <th>VRDeck</th>\n",
       "      <th>Name</th>\n",
       "      <th>Transported</th>\n",
       "    </tr>\n",
       "  </thead>\n",
       "  <tbody>\n",
       "    <tr>\n",
       "      <th>0</th>\n",
       "      <td>0001_01</td>\n",
       "      <td>Europa</td>\n",
       "      <td>False</td>\n",
       "      <td>B/0/P</td>\n",
       "      <td>TRAPPIST-1e</td>\n",
       "      <td>39.0</td>\n",
       "      <td>False</td>\n",
       "      <td>0.0</td>\n",
       "      <td>0.0</td>\n",
       "      <td>0.0</td>\n",
       "      <td>0.0</td>\n",
       "      <td>0.0</td>\n",
       "      <td>Maham Ofracculy</td>\n",
       "      <td>False</td>\n",
       "    </tr>\n",
       "    <tr>\n",
       "      <th>1</th>\n",
       "      <td>0002_01</td>\n",
       "      <td>Earth</td>\n",
       "      <td>False</td>\n",
       "      <td>F/0/S</td>\n",
       "      <td>TRAPPIST-1e</td>\n",
       "      <td>24.0</td>\n",
       "      <td>False</td>\n",
       "      <td>109.0</td>\n",
       "      <td>9.0</td>\n",
       "      <td>25.0</td>\n",
       "      <td>549.0</td>\n",
       "      <td>44.0</td>\n",
       "      <td>Juanna Vines</td>\n",
       "      <td>True</td>\n",
       "    </tr>\n",
       "    <tr>\n",
       "      <th>2</th>\n",
       "      <td>0003_01</td>\n",
       "      <td>Europa</td>\n",
       "      <td>False</td>\n",
       "      <td>A/0/S</td>\n",
       "      <td>TRAPPIST-1e</td>\n",
       "      <td>58.0</td>\n",
       "      <td>True</td>\n",
       "      <td>43.0</td>\n",
       "      <td>3576.0</td>\n",
       "      <td>0.0</td>\n",
       "      <td>6715.0</td>\n",
       "      <td>49.0</td>\n",
       "      <td>Altark Susent</td>\n",
       "      <td>False</td>\n",
       "    </tr>\n",
       "    <tr>\n",
       "      <th>3</th>\n",
       "      <td>0003_02</td>\n",
       "      <td>Europa</td>\n",
       "      <td>False</td>\n",
       "      <td>A/0/S</td>\n",
       "      <td>TRAPPIST-1e</td>\n",
       "      <td>33.0</td>\n",
       "      <td>False</td>\n",
       "      <td>0.0</td>\n",
       "      <td>1283.0</td>\n",
       "      <td>371.0</td>\n",
       "      <td>3329.0</td>\n",
       "      <td>193.0</td>\n",
       "      <td>Solam Susent</td>\n",
       "      <td>False</td>\n",
       "    </tr>\n",
       "    <tr>\n",
       "      <th>4</th>\n",
       "      <td>0004_01</td>\n",
       "      <td>Earth</td>\n",
       "      <td>False</td>\n",
       "      <td>F/1/S</td>\n",
       "      <td>TRAPPIST-1e</td>\n",
       "      <td>16.0</td>\n",
       "      <td>False</td>\n",
       "      <td>303.0</td>\n",
       "      <td>70.0</td>\n",
       "      <td>151.0</td>\n",
       "      <td>565.0</td>\n",
       "      <td>2.0</td>\n",
       "      <td>Willy Santantines</td>\n",
       "      <td>True</td>\n",
       "    </tr>\n",
       "  </tbody>\n",
       "</table>\n",
       "</div>"
      ],
      "text/plain": [
       "  PassengerId HomePlanet CryoSleep  Cabin  Destination   Age    VIP  \\\n",
       "0     0001_01     Europa     False  B/0/P  TRAPPIST-1e  39.0  False   \n",
       "1     0002_01      Earth     False  F/0/S  TRAPPIST-1e  24.0  False   \n",
       "2     0003_01     Europa     False  A/0/S  TRAPPIST-1e  58.0   True   \n",
       "3     0003_02     Europa     False  A/0/S  TRAPPIST-1e  33.0  False   \n",
       "4     0004_01      Earth     False  F/1/S  TRAPPIST-1e  16.0  False   \n",
       "\n",
       "   RoomService  FoodCourt  ShoppingMall     Spa  VRDeck               Name  \\\n",
       "0          0.0        0.0           0.0     0.0     0.0    Maham Ofracculy   \n",
       "1        109.0        9.0          25.0   549.0    44.0       Juanna Vines   \n",
       "2         43.0     3576.0           0.0  6715.0    49.0      Altark Susent   \n",
       "3          0.0     1283.0         371.0  3329.0   193.0       Solam Susent   \n",
       "4        303.0       70.0         151.0   565.0     2.0  Willy Santantines   \n",
       "\n",
       "   Transported  \n",
       "0        False  \n",
       "1         True  \n",
       "2        False  \n",
       "3        False  \n",
       "4         True  "
      ]
     },
     "execution_count": 5,
     "metadata": {},
     "output_type": "execute_result"
    }
   ],
   "source": [
    "df.head()"
   ]
  },
  {
   "cell_type": "markdown",
   "id": "6942b1ea",
   "metadata": {
    "papermill": {
     "duration": 0.012644,
     "end_time": "2024-06-19T04:22:01.552003",
     "exception": false,
     "start_time": "2024-06-19T04:22:01.539359",
     "status": "completed"
    },
    "tags": []
   },
   "source": [
    "### 5. View Summary Statistics of Continuous Features"
   ]
  },
  {
   "cell_type": "code",
   "execution_count": 6,
   "id": "9e1aee48",
   "metadata": {
    "_kg_hide-input": true,
    "execution": {
     "iopub.execute_input": "2024-06-19T04:22:01.581492Z",
     "iopub.status.busy": "2024-06-19T04:22:01.580967Z",
     "iopub.status.idle": "2024-06-19T04:22:01.626918Z",
     "shell.execute_reply": "2024-06-19T04:22:01.625582Z"
    },
    "papermill": {
     "duration": 0.064986,
     "end_time": "2024-06-19T04:22:01.630204",
     "exception": false,
     "start_time": "2024-06-19T04:22:01.565218",
     "status": "completed"
    },
    "tags": []
   },
   "outputs": [
    {
     "data": {
      "text/html": [
       "<div>\n",
       "<style scoped>\n",
       "    .dataframe tbody tr th:only-of-type {\n",
       "        vertical-align: middle;\n",
       "    }\n",
       "\n",
       "    .dataframe tbody tr th {\n",
       "        vertical-align: top;\n",
       "    }\n",
       "\n",
       "    .dataframe thead th {\n",
       "        text-align: right;\n",
       "    }\n",
       "</style>\n",
       "<table border=\"1\" class=\"dataframe\">\n",
       "  <thead>\n",
       "    <tr style=\"text-align: right;\">\n",
       "      <th></th>\n",
       "      <th>Age</th>\n",
       "      <th>RoomService</th>\n",
       "      <th>FoodCourt</th>\n",
       "      <th>ShoppingMall</th>\n",
       "      <th>Spa</th>\n",
       "      <th>VRDeck</th>\n",
       "    </tr>\n",
       "  </thead>\n",
       "  <tbody>\n",
       "    <tr>\n",
       "      <th>count</th>\n",
       "      <td>17028</td>\n",
       "      <td>17024</td>\n",
       "      <td>17020</td>\n",
       "      <td>16970</td>\n",
       "      <td>17020</td>\n",
       "      <td>17010</td>\n",
       "    </tr>\n",
       "    <tr>\n",
       "      <th>mean</th>\n",
       "      <td>29</td>\n",
       "      <td>225</td>\n",
       "      <td>458</td>\n",
       "      <td>174</td>\n",
       "      <td>311</td>\n",
       "      <td>305</td>\n",
       "    </tr>\n",
       "    <tr>\n",
       "      <th>std</th>\n",
       "      <td>14</td>\n",
       "      <td>667</td>\n",
       "      <td>1611</td>\n",
       "      <td>605</td>\n",
       "      <td>1137</td>\n",
       "      <td>1146</td>\n",
       "    </tr>\n",
       "    <tr>\n",
       "      <th>min</th>\n",
       "      <td>0</td>\n",
       "      <td>0</td>\n",
       "      <td>0</td>\n",
       "      <td>0</td>\n",
       "      <td>0</td>\n",
       "      <td>0</td>\n",
       "    </tr>\n",
       "    <tr>\n",
       "      <th>25%</th>\n",
       "      <td>19</td>\n",
       "      <td>0</td>\n",
       "      <td>0</td>\n",
       "      <td>0</td>\n",
       "      <td>0</td>\n",
       "      <td>0</td>\n",
       "    </tr>\n",
       "    <tr>\n",
       "      <th>50%</th>\n",
       "      <td>27</td>\n",
       "      <td>0</td>\n",
       "      <td>0</td>\n",
       "      <td>0</td>\n",
       "      <td>0</td>\n",
       "      <td>0</td>\n",
       "    </tr>\n",
       "    <tr>\n",
       "      <th>75%</th>\n",
       "      <td>38</td>\n",
       "      <td>47</td>\n",
       "      <td>76</td>\n",
       "      <td>27</td>\n",
       "      <td>59</td>\n",
       "      <td>46</td>\n",
       "    </tr>\n",
       "    <tr>\n",
       "      <th>max</th>\n",
       "      <td>79</td>\n",
       "      <td>14327</td>\n",
       "      <td>29813</td>\n",
       "      <td>23492</td>\n",
       "      <td>22408</td>\n",
       "      <td>24133</td>\n",
       "    </tr>\n",
       "  </tbody>\n",
       "</table>\n",
       "</div>"
      ],
      "text/plain": [
       "         Age  RoomService  FoodCourt  ShoppingMall    Spa  VRDeck\n",
       "count  17028        17024      17020         16970  17020   17010\n",
       "mean      29          225        458           174    311     305\n",
       "std       14          667       1611           605   1137    1146\n",
       "min        0            0          0             0      0       0\n",
       "25%       19            0          0             0      0       0\n",
       "50%       27            0          0             0      0       0\n",
       "75%       38           47         76            27     59      46\n",
       "max       79        14327      29813         23492  22408   24133"
      ]
     },
     "execution_count": 6,
     "metadata": {},
     "output_type": "execute_result"
    }
   ],
   "source": [
    "summary_stats = df.describe().apply(lambda x: x.round().astype(int))\n",
    "summary_stats"
   ]
  },
  {
   "cell_type": "markdown",
   "id": "30766342",
   "metadata": {
    "papermill": {
     "duration": 0.01453,
     "end_time": "2024-06-19T04:22:01.659357",
     "exception": false,
     "start_time": "2024-06-19T04:22:01.644827",
     "status": "completed"
    },
    "tags": []
   },
   "source": [
    "### 6. View Distribution of Categorical Features"
   ]
  },
  {
   "cell_type": "code",
   "execution_count": 7,
   "id": "2279c0e7",
   "metadata": {
    "_kg_hide-input": true,
    "execution": {
     "iopub.execute_input": "2024-06-19T04:22:01.690141Z",
     "iopub.status.busy": "2024-06-19T04:22:01.689651Z",
     "iopub.status.idle": "2024-06-19T04:22:01.781906Z",
     "shell.execute_reply": "2024-06-19T04:22:01.780530Z"
    },
    "papermill": {
     "duration": 0.113068,
     "end_time": "2024-06-19T04:22:01.786842",
     "exception": false,
     "start_time": "2024-06-19T04:22:01.673774",
     "status": "completed"
    },
    "tags": []
   },
   "outputs": [
    {
     "name": "stdout",
     "output_type": "stream",
     "text": [
      "Counts for HomePlanet:\n"
     ]
    },
    {
     "data": {
      "text/html": [
       "<div>\n",
       "<style scoped>\n",
       "    .dataframe tbody tr th:only-of-type {\n",
       "        vertical-align: middle;\n",
       "    }\n",
       "\n",
       "    .dataframe tbody tr th {\n",
       "        vertical-align: top;\n",
       "    }\n",
       "\n",
       "    .dataframe thead th {\n",
       "        text-align: right;\n",
       "    }\n",
       "</style>\n",
       "<table border=\"1\" class=\"dataframe\">\n",
       "  <thead>\n",
       "    <tr style=\"text-align: right;\">\n",
       "      <th></th>\n",
       "      <th>count</th>\n",
       "      <th>count</th>\n",
       "    </tr>\n",
       "  </thead>\n",
       "  <tbody>\n",
       "    <tr>\n",
       "      <th>0</th>\n",
       "      <td>Earth</td>\n",
       "      <td>9204</td>\n",
       "    </tr>\n",
       "    <tr>\n",
       "      <th>1</th>\n",
       "      <td>Europa</td>\n",
       "      <td>4262</td>\n",
       "    </tr>\n",
       "    <tr>\n",
       "      <th>2</th>\n",
       "      <td>Mars</td>\n",
       "      <td>3518</td>\n",
       "    </tr>\n",
       "  </tbody>\n",
       "</table>\n",
       "</div>"
      ],
      "text/plain": [
       "    count  count\n",
       "0   Earth   9204\n",
       "1  Europa   4262\n",
       "2    Mars   3518"
      ]
     },
     "metadata": {},
     "output_type": "display_data"
    },
    {
     "name": "stdout",
     "output_type": "stream",
     "text": [
      "\n",
      "\n",
      "Counts for CryoSleep:\n"
     ]
    },
    {
     "data": {
      "text/html": [
       "<div>\n",
       "<style scoped>\n",
       "    .dataframe tbody tr th:only-of-type {\n",
       "        vertical-align: middle;\n",
       "    }\n",
       "\n",
       "    .dataframe tbody tr th {\n",
       "        vertical-align: top;\n",
       "    }\n",
       "\n",
       "    .dataframe thead th {\n",
       "        text-align: right;\n",
       "    }\n",
       "</style>\n",
       "<table border=\"1\" class=\"dataframe\">\n",
       "  <thead>\n",
       "    <tr style=\"text-align: right;\">\n",
       "      <th></th>\n",
       "      <th>count</th>\n",
       "      <th>count</th>\n",
       "    </tr>\n",
       "  </thead>\n",
       "  <tbody>\n",
       "    <tr>\n",
       "      <th>0</th>\n",
       "      <td>False</td>\n",
       "      <td>10878</td>\n",
       "    </tr>\n",
       "    <tr>\n",
       "      <th>1</th>\n",
       "      <td>True</td>\n",
       "      <td>6074</td>\n",
       "    </tr>\n",
       "  </tbody>\n",
       "</table>\n",
       "</div>"
      ],
      "text/plain": [
       "   count  count\n",
       "0  False  10878\n",
       "1   True   6074"
      ]
     },
     "metadata": {},
     "output_type": "display_data"
    },
    {
     "name": "stdout",
     "output_type": "stream",
     "text": [
      "\n",
      "\n",
      "Counts for Destination:\n"
     ]
    },
    {
     "data": {
      "text/html": [
       "<div>\n",
       "<style scoped>\n",
       "    .dataframe tbody tr th:only-of-type {\n",
       "        vertical-align: middle;\n",
       "    }\n",
       "\n",
       "    .dataframe tbody tr th {\n",
       "        vertical-align: top;\n",
       "    }\n",
       "\n",
       "    .dataframe thead th {\n",
       "        text-align: right;\n",
       "    }\n",
       "</style>\n",
       "<table border=\"1\" class=\"dataframe\">\n",
       "  <thead>\n",
       "    <tr style=\"text-align: right;\">\n",
       "      <th></th>\n",
       "      <th>count</th>\n",
       "      <th>count</th>\n",
       "    </tr>\n",
       "  </thead>\n",
       "  <tbody>\n",
       "    <tr>\n",
       "      <th>0</th>\n",
       "      <td>TRAPPIST-1e</td>\n",
       "      <td>11830</td>\n",
       "    </tr>\n",
       "    <tr>\n",
       "      <th>1</th>\n",
       "      <td>55 Cancri e</td>\n",
       "      <td>3600</td>\n",
       "    </tr>\n",
       "    <tr>\n",
       "      <th>2</th>\n",
       "      <td>PSO J318.5-22</td>\n",
       "      <td>1592</td>\n",
       "    </tr>\n",
       "  </tbody>\n",
       "</table>\n",
       "</div>"
      ],
      "text/plain": [
       "           count  count\n",
       "0    TRAPPIST-1e  11830\n",
       "1    55 Cancri e   3600\n",
       "2  PSO J318.5-22   1592"
      ]
     },
     "metadata": {},
     "output_type": "display_data"
    },
    {
     "name": "stdout",
     "output_type": "stream",
     "text": [
      "\n",
      "\n",
      "Counts for VIP:\n"
     ]
    },
    {
     "data": {
      "text/html": [
       "<div>\n",
       "<style scoped>\n",
       "    .dataframe tbody tr th:only-of-type {\n",
       "        vertical-align: middle;\n",
       "    }\n",
       "\n",
       "    .dataframe tbody tr th {\n",
       "        vertical-align: top;\n",
       "    }\n",
       "\n",
       "    .dataframe thead th {\n",
       "        text-align: right;\n",
       "    }\n",
       "</style>\n",
       "<table border=\"1\" class=\"dataframe\">\n",
       "  <thead>\n",
       "    <tr style=\"text-align: right;\">\n",
       "      <th></th>\n",
       "      <th>count</th>\n",
       "      <th>count</th>\n",
       "    </tr>\n",
       "  </thead>\n",
       "  <tbody>\n",
       "    <tr>\n",
       "      <th>0</th>\n",
       "      <td>False</td>\n",
       "      <td>16582</td>\n",
       "    </tr>\n",
       "    <tr>\n",
       "      <th>1</th>\n",
       "      <td>True</td>\n",
       "      <td>398</td>\n",
       "    </tr>\n",
       "  </tbody>\n",
       "</table>\n",
       "</div>"
      ],
      "text/plain": [
       "   count  count\n",
       "0  False  16582\n",
       "1   True    398"
      ]
     },
     "metadata": {},
     "output_type": "display_data"
    },
    {
     "name": "stdout",
     "output_type": "stream",
     "text": [
      "\n",
      "\n",
      "Counts for Cabin:\n"
     ]
    },
    {
     "data": {
      "text/html": [
       "<div>\n",
       "<style scoped>\n",
       "    .dataframe tbody tr th:only-of-type {\n",
       "        vertical-align: middle;\n",
       "    }\n",
       "\n",
       "    .dataframe tbody tr th {\n",
       "        vertical-align: top;\n",
       "    }\n",
       "\n",
       "    .dataframe thead th {\n",
       "        text-align: right;\n",
       "    }\n",
       "</style>\n",
       "<table border=\"1\" class=\"dataframe\">\n",
       "  <thead>\n",
       "    <tr style=\"text-align: right;\">\n",
       "      <th></th>\n",
       "      <th>count</th>\n",
       "      <th>count</th>\n",
       "    </tr>\n",
       "  </thead>\n",
       "  <tbody>\n",
       "    <tr>\n",
       "      <th>0</th>\n",
       "      <td>G/734/S</td>\n",
       "      <td>16</td>\n",
       "    </tr>\n",
       "    <tr>\n",
       "      <th>1</th>\n",
       "      <td>G/109/P</td>\n",
       "      <td>14</td>\n",
       "    </tr>\n",
       "    <tr>\n",
       "      <th>2</th>\n",
       "      <td>B/201/P</td>\n",
       "      <td>14</td>\n",
       "    </tr>\n",
       "    <tr>\n",
       "      <th>3</th>\n",
       "      <td>G/1368/P</td>\n",
       "      <td>14</td>\n",
       "    </tr>\n",
       "    <tr>\n",
       "      <th>4</th>\n",
       "      <td>G/981/S</td>\n",
       "      <td>14</td>\n",
       "    </tr>\n",
       "    <tr>\n",
       "      <th>...</th>\n",
       "      <td>...</td>\n",
       "      <td>...</td>\n",
       "    </tr>\n",
       "    <tr>\n",
       "      <th>6555</th>\n",
       "      <td>G/556/P</td>\n",
       "      <td>2</td>\n",
       "    </tr>\n",
       "    <tr>\n",
       "      <th>6556</th>\n",
       "      <td>E/231/S</td>\n",
       "      <td>2</td>\n",
       "    </tr>\n",
       "    <tr>\n",
       "      <th>6557</th>\n",
       "      <td>G/545/S</td>\n",
       "      <td>2</td>\n",
       "    </tr>\n",
       "    <tr>\n",
       "      <th>6558</th>\n",
       "      <td>G/543/S</td>\n",
       "      <td>2</td>\n",
       "    </tr>\n",
       "    <tr>\n",
       "      <th>6559</th>\n",
       "      <td>F/947/P</td>\n",
       "      <td>2</td>\n",
       "    </tr>\n",
       "  </tbody>\n",
       "</table>\n",
       "<p>6560 rows × 2 columns</p>\n",
       "</div>"
      ],
      "text/plain": [
       "         count  count\n",
       "0      G/734/S     16\n",
       "1      G/109/P     14\n",
       "2      B/201/P     14\n",
       "3     G/1368/P     14\n",
       "4      G/981/S     14\n",
       "...        ...    ...\n",
       "6555   G/556/P      2\n",
       "6556   E/231/S      2\n",
       "6557   G/545/S      2\n",
       "6558   G/543/S      2\n",
       "6559   F/947/P      2\n",
       "\n",
       "[6560 rows x 2 columns]"
      ]
     },
     "metadata": {},
     "output_type": "display_data"
    },
    {
     "name": "stdout",
     "output_type": "stream",
     "text": [
      "\n",
      "\n"
     ]
    }
   ],
   "source": [
    "categorical_features = ['HomePlanet', 'CryoSleep', 'Destination', 'VIP', 'Cabin']\n",
    "\n",
    "counts_dict = {}\n",
    "\n",
    "for feature in categorical_features:\n",
    "    if feature in df.columns:\n",
    "        counts_dict[feature] = df[feature].value_counts()\n",
    "    else:\n",
    "        counts_dict[feature] = 'Feature not found in the dataset.'\n",
    "\n",
    "for feature, counts in counts_dict.items():\n",
    "    print(f'Counts for {feature}:')\n",
    "    if isinstance(counts, pd.Series):\n",
    "        display(pd.DataFrame(counts).reset_index().rename(columns={'index': feature, feature: 'count'}))\n",
    "    else:\n",
    "        print(counts)\n",
    "    print('\\n')"
   ]
  },
  {
   "cell_type": "markdown",
   "id": "a70e2861",
   "metadata": {
    "papermill": {
     "duration": 0.01479,
     "end_time": "2024-06-19T04:22:01.817711",
     "exception": false,
     "start_time": "2024-06-19T04:22:01.802921",
     "status": "completed"
    },
    "tags": []
   },
   "source": [
    "### 7. Check for Missing Values"
   ]
  },
  {
   "cell_type": "code",
   "execution_count": 8,
   "id": "38cadc96",
   "metadata": {
    "_kg_hide-input": true,
    "execution": {
     "iopub.execute_input": "2024-06-19T04:22:01.851774Z",
     "iopub.status.busy": "2024-06-19T04:22:01.851259Z",
     "iopub.status.idle": "2024-06-19T04:22:01.889675Z",
     "shell.execute_reply": "2024-06-19T04:22:01.887920Z"
    },
    "papermill": {
     "duration": 0.060071,
     "end_time": "2024-06-19T04:22:01.893214",
     "exception": false,
     "start_time": "2024-06-19T04:22:01.833143",
     "status": "completed"
    },
    "tags": []
   },
   "outputs": [
    {
     "data": {
      "text/html": [
       "<div>\n",
       "<style scoped>\n",
       "    .dataframe tbody tr th:only-of-type {\n",
       "        vertical-align: middle;\n",
       "    }\n",
       "\n",
       "    .dataframe tbody tr th {\n",
       "        vertical-align: top;\n",
       "    }\n",
       "\n",
       "    .dataframe thead th {\n",
       "        text-align: right;\n",
       "    }\n",
       "</style>\n",
       "<table border=\"1\" class=\"dataframe\">\n",
       "  <thead>\n",
       "    <tr style=\"text-align: right;\">\n",
       "      <th></th>\n",
       "      <th>Missing Values</th>\n",
       "      <th>Percentage</th>\n",
       "    </tr>\n",
       "  </thead>\n",
       "  <tbody>\n",
       "    <tr>\n",
       "      <th>CryoSleep</th>\n",
       "      <td>434</td>\n",
       "      <td>2.5</td>\n",
       "    </tr>\n",
       "    <tr>\n",
       "      <th>ShoppingMall</th>\n",
       "      <td>416</td>\n",
       "      <td>2.4</td>\n",
       "    </tr>\n",
       "    <tr>\n",
       "      <th>VIP</th>\n",
       "      <td>406</td>\n",
       "      <td>2.3</td>\n",
       "    </tr>\n",
       "    <tr>\n",
       "      <th>HomePlanet</th>\n",
       "      <td>402</td>\n",
       "      <td>2.3</td>\n",
       "    </tr>\n",
       "    <tr>\n",
       "      <th>Name</th>\n",
       "      <td>400</td>\n",
       "      <td>2.3</td>\n",
       "    </tr>\n",
       "    <tr>\n",
       "      <th>Cabin</th>\n",
       "      <td>398</td>\n",
       "      <td>2.3</td>\n",
       "    </tr>\n",
       "    <tr>\n",
       "      <th>VRDeck</th>\n",
       "      <td>376</td>\n",
       "      <td>2.2</td>\n",
       "    </tr>\n",
       "    <tr>\n",
       "      <th>FoodCourt</th>\n",
       "      <td>366</td>\n",
       "      <td>2.1</td>\n",
       "    </tr>\n",
       "    <tr>\n",
       "      <th>Spa</th>\n",
       "      <td>366</td>\n",
       "      <td>2.1</td>\n",
       "    </tr>\n",
       "    <tr>\n",
       "      <th>Destination</th>\n",
       "      <td>364</td>\n",
       "      <td>2.1</td>\n",
       "    </tr>\n",
       "    <tr>\n",
       "      <th>RoomService</th>\n",
       "      <td>362</td>\n",
       "      <td>2.1</td>\n",
       "    </tr>\n",
       "    <tr>\n",
       "      <th>Age</th>\n",
       "      <td>358</td>\n",
       "      <td>2.1</td>\n",
       "    </tr>\n",
       "  </tbody>\n",
       "</table>\n",
       "</div>"
      ],
      "text/plain": [
       "              Missing Values  Percentage\n",
       "CryoSleep                434         2.5\n",
       "ShoppingMall             416         2.4\n",
       "VIP                      406         2.3\n",
       "HomePlanet               402         2.3\n",
       "Name                     400         2.3\n",
       "Cabin                    398         2.3\n",
       "VRDeck                   376         2.2\n",
       "FoodCourt                366         2.1\n",
       "Spa                      366         2.1\n",
       "Destination              364         2.1\n",
       "RoomService              362         2.1\n",
       "Age                      358         2.1"
      ]
     },
     "execution_count": 8,
     "metadata": {},
     "output_type": "execute_result"
    }
   ],
   "source": [
    "# Calculate missing values and their percentage\n",
    "missing_values = df.isnull().sum()\n",
    "missing_percentage = (missing_values / len(df)) * 100\n",
    "\n",
    "missing_df = pd.DataFrame({'Missing Values': missing_values, 'Percentage': missing_percentage}).round(1)\n",
    "missing_df = missing_df[missing_df['Missing Values'] > 0].sort_values(by='Missing Values', ascending=False)\n",
    "\n",
    "missing_df"
   ]
  },
  {
   "cell_type": "markdown",
   "id": "d1de0f48",
   "metadata": {
    "papermill": {
     "duration": 0.015938,
     "end_time": "2024-06-19T04:22:01.924875",
     "exception": false,
     "start_time": "2024-06-19T04:22:01.908937",
     "status": "completed"
    },
    "tags": []
   },
   "source": [
    "## Feature Engineering\n",
    "<a id=\"feature-engineering\"></a>"
   ]
  },
  {
   "cell_type": "markdown",
   "id": "2338f1d2",
   "metadata": {
    "papermill": {
     "duration": 0.015213,
     "end_time": "2024-06-19T04:22:01.955921",
     "exception": false,
     "start_time": "2024-06-19T04:22:01.940708",
     "status": "completed"
    },
    "tags": []
   },
   "source": [
    "### 1. Create Group Size Feature Using Cabin"
   ]
  },
  {
   "cell_type": "code",
   "execution_count": 9,
   "id": "e03c61c8",
   "metadata": {
    "execution": {
     "iopub.execute_input": "2024-06-19T04:22:01.990965Z",
     "iopub.status.busy": "2024-06-19T04:22:01.990424Z",
     "iopub.status.idle": "2024-06-19T04:22:02.024399Z",
     "shell.execute_reply": "2024-06-19T04:22:02.022914Z"
    },
    "papermill": {
     "duration": 0.054807,
     "end_time": "2024-06-19T04:22:02.027742",
     "exception": false,
     "start_time": "2024-06-19T04:22:01.972935",
     "status": "completed"
    },
    "tags": []
   },
   "outputs": [
    {
     "data": {
      "text/plain": [
       "count    16988.000000\n",
       "mean         3.564869\n",
       "std          2.682723\n",
       "min          2.000000\n",
       "25%          2.000000\n",
       "50%          2.000000\n",
       "75%          4.000000\n",
       "max         16.000000\n",
       "Name: group_size, dtype: float64"
      ]
     },
     "execution_count": 9,
     "metadata": {},
     "output_type": "execute_result"
    }
   ],
   "source": [
    "df['group_size'] = df.groupby('Cabin')['Cabin'].transform('count')\n",
    "\n",
    "df['group_size'].describe()"
   ]
  },
  {
   "cell_type": "markdown",
   "id": "1d556ccf",
   "metadata": {
    "papermill": {
     "duration": 0.016258,
     "end_time": "2024-06-19T04:22:02.059909",
     "exception": false,
     "start_time": "2024-06-19T04:22:02.043651",
     "status": "completed"
    },
    "tags": []
   },
   "source": [
    "### 2. Break Out Cabin Into Deck / Number / Side"
   ]
  },
  {
   "cell_type": "code",
   "execution_count": 10,
   "id": "e00ef194",
   "metadata": {
    "execution": {
     "iopub.execute_input": "2024-06-19T04:22:02.095835Z",
     "iopub.status.busy": "2024-06-19T04:22:02.095268Z",
     "iopub.status.idle": "2024-06-19T04:22:05.257707Z",
     "shell.execute_reply": "2024-06-19T04:22:05.256186Z"
    },
    "papermill": {
     "duration": 3.185243,
     "end_time": "2024-06-19T04:22:05.261182",
     "exception": false,
     "start_time": "2024-06-19T04:22:02.075939",
     "status": "completed"
    },
    "tags": []
   },
   "outputs": [],
   "source": [
    "def split_cabin(cabin):\n",
    "    if pd.isna(cabin):\n",
    "        return pd.Series([None, None, None])\n",
    "    parts = cabin.split('/')\n",
    "    deck = parts[0]\n",
    "    number = parts[1]\n",
    "    side = 'Port' if parts[2] == 'P' else 'Starboard'\n",
    "    return pd.Series([deck, number, side])\n",
    "\n",
    "df[['cabin_deck', 'cabin_number', 'cabin_side']] = df['Cabin'].apply(split_cabin)\n",
    "\n",
    "# Drop Cabin column\n",
    "df.drop(columns=['Cabin'], inplace=True)"
   ]
  },
  {
   "cell_type": "markdown",
   "id": "2861a72d",
   "metadata": {
    "papermill": {
     "duration": 0.01584,
     "end_time": "2024-06-19T04:22:05.293442",
     "exception": false,
     "start_time": "2024-06-19T04:22:05.277602",
     "status": "completed"
    },
    "tags": []
   },
   "source": [
    "### 3. Create Total Spend Feature and Spend Groupings"
   ]
  },
  {
   "cell_type": "code",
   "execution_count": 11,
   "id": "0c4a2334",
   "metadata": {
    "execution": {
     "iopub.execute_input": "2024-06-19T04:22:05.329228Z",
     "iopub.status.busy": "2024-06-19T04:22:05.328703Z",
     "iopub.status.idle": "2024-06-19T04:22:05.355697Z",
     "shell.execute_reply": "2024-06-19T04:22:05.354192Z"
    },
    "papermill": {
     "duration": 0.049647,
     "end_time": "2024-06-19T04:22:05.359803",
     "exception": false,
     "start_time": "2024-06-19T04:22:05.310156",
     "status": "completed"
    },
    "tags": []
   },
   "outputs": [],
   "source": [
    "# Create a total spend feature\n",
    "expenditure_columns = ['RoomService', 'FoodCourt', 'ShoppingMall', 'Spa', 'VRDeck']\n",
    "df['total_spend'] = df[expenditure_columns].sum(axis=1)\n",
    "\n",
    "# Bin total_spend into categories\n",
    "bins = [-1, 0, 500, 2000, float('inf')]\n",
    "labels = ['no_spend', 'low_spend', 'med_spend', 'high_spend']\n",
    "df['spend_category'] = pd.cut(df['total_spend'], bins=bins, labels=labels)\n",
    "\n",
    "# Drop the original expenditure columns\n",
    "df.drop(columns=expenditure_columns + ['total_spend'], inplace=True)"
   ]
  },
  {
   "cell_type": "markdown",
   "id": "6f19fca3",
   "metadata": {
    "papermill": {
     "duration": 0.016221,
     "end_time": "2024-06-19T04:22:05.392733",
     "exception": false,
     "start_time": "2024-06-19T04:22:05.376512",
     "status": "completed"
    },
    "tags": []
   },
   "source": [
    "### 4. Bin Age"
   ]
  },
  {
   "cell_type": "code",
   "execution_count": 12,
   "id": "4bf285db",
   "metadata": {
    "execution": {
     "iopub.execute_input": "2024-06-19T04:22:05.429932Z",
     "iopub.status.busy": "2024-06-19T04:22:05.428727Z",
     "iopub.status.idle": "2024-06-19T04:22:05.446213Z",
     "shell.execute_reply": "2024-06-19T04:22:05.444806Z"
    },
    "papermill": {
     "duration": 0.039003,
     "end_time": "2024-06-19T04:22:05.449438",
     "exception": false,
     "start_time": "2024-06-19T04:22:05.410435",
     "status": "completed"
    },
    "tags": []
   },
   "outputs": [],
   "source": [
    "# Bin age into categories with new labels\n",
    "age_bins = [0, 12, 20, 30, 45, 64, float('inf')]\n",
    "age_labels = ['age_kid', \n",
    "              'age_teen', \n",
    "              'age_young_adult', \n",
    "              'age_adult', \n",
    "              'age_middle_age', \n",
    "              'age_senior']\n",
    "\n",
    "df['age_category'] = pd.cut(df['Age'], bins=age_bins, labels=age_labels)\n",
    "\n",
    "df.drop(columns=['Age'], inplace=True)"
   ]
  },
  {
   "cell_type": "code",
   "execution_count": 13,
   "id": "1b2004cb",
   "metadata": {
    "execution": {
     "iopub.execute_input": "2024-06-19T04:22:05.484200Z",
     "iopub.status.busy": "2024-06-19T04:22:05.483110Z",
     "iopub.status.idle": "2024-06-19T04:22:05.495928Z",
     "shell.execute_reply": "2024-06-19T04:22:05.494358Z"
    },
    "papermill": {
     "duration": 0.033879,
     "end_time": "2024-06-19T04:22:05.498929",
     "exception": false,
     "start_time": "2024-06-19T04:22:05.465050",
     "status": "completed"
    },
    "tags": []
   },
   "outputs": [
    {
     "data": {
      "text/plain": [
       "age_category\n",
       "age_young_adult    5336\n",
       "age_adult          4520\n",
       "age_teen           3258\n",
       "age_middle_age     2088\n",
       "age_kid            1256\n",
       "age_senior          214\n",
       "Name: count, dtype: int64"
      ]
     },
     "execution_count": 13,
     "metadata": {},
     "output_type": "execute_result"
    }
   ],
   "source": [
    "# Plot for age_category\n",
    "df['age_category'].value_counts()"
   ]
  },
  {
   "cell_type": "code",
   "execution_count": 14,
   "id": "7e016ba5",
   "metadata": {
    "execution": {
     "iopub.execute_input": "2024-06-19T04:22:05.533258Z",
     "iopub.status.busy": "2024-06-19T04:22:05.532728Z",
     "iopub.status.idle": "2024-06-19T04:22:05.555487Z",
     "shell.execute_reply": "2024-06-19T04:22:05.554179Z"
    },
    "papermill": {
     "duration": 0.043488,
     "end_time": "2024-06-19T04:22:05.558385",
     "exception": false,
     "start_time": "2024-06-19T04:22:05.514897",
     "status": "completed"
    },
    "tags": []
   },
   "outputs": [
    {
     "data": {
      "text/html": [
       "<div>\n",
       "<style scoped>\n",
       "    .dataframe tbody tr th:only-of-type {\n",
       "        vertical-align: middle;\n",
       "    }\n",
       "\n",
       "    .dataframe tbody tr th {\n",
       "        vertical-align: top;\n",
       "    }\n",
       "\n",
       "    .dataframe thead th {\n",
       "        text-align: right;\n",
       "    }\n",
       "</style>\n",
       "<table border=\"1\" class=\"dataframe\">\n",
       "  <thead>\n",
       "    <tr style=\"text-align: right;\">\n",
       "      <th></th>\n",
       "      <th>PassengerId</th>\n",
       "      <th>HomePlanet</th>\n",
       "      <th>CryoSleep</th>\n",
       "      <th>Destination</th>\n",
       "      <th>VIP</th>\n",
       "      <th>Name</th>\n",
       "      <th>Transported</th>\n",
       "      <th>group_size</th>\n",
       "      <th>cabin_deck</th>\n",
       "      <th>cabin_number</th>\n",
       "      <th>cabin_side</th>\n",
       "      <th>spend_category</th>\n",
       "      <th>age_category</th>\n",
       "    </tr>\n",
       "  </thead>\n",
       "  <tbody>\n",
       "    <tr>\n",
       "      <th>0</th>\n",
       "      <td>0001_01</td>\n",
       "      <td>Europa</td>\n",
       "      <td>False</td>\n",
       "      <td>TRAPPIST-1e</td>\n",
       "      <td>False</td>\n",
       "      <td>Maham Ofracculy</td>\n",
       "      <td>False</td>\n",
       "      <td>2.0</td>\n",
       "      <td>B</td>\n",
       "      <td>0</td>\n",
       "      <td>Port</td>\n",
       "      <td>no_spend</td>\n",
       "      <td>age_adult</td>\n",
       "    </tr>\n",
       "    <tr>\n",
       "      <th>1</th>\n",
       "      <td>0002_01</td>\n",
       "      <td>Earth</td>\n",
       "      <td>False</td>\n",
       "      <td>TRAPPIST-1e</td>\n",
       "      <td>False</td>\n",
       "      <td>Juanna Vines</td>\n",
       "      <td>True</td>\n",
       "      <td>2.0</td>\n",
       "      <td>F</td>\n",
       "      <td>0</td>\n",
       "      <td>Starboard</td>\n",
       "      <td>med_spend</td>\n",
       "      <td>age_young_adult</td>\n",
       "    </tr>\n",
       "    <tr>\n",
       "      <th>2</th>\n",
       "      <td>0003_01</td>\n",
       "      <td>Europa</td>\n",
       "      <td>False</td>\n",
       "      <td>TRAPPIST-1e</td>\n",
       "      <td>True</td>\n",
       "      <td>Altark Susent</td>\n",
       "      <td>False</td>\n",
       "      <td>4.0</td>\n",
       "      <td>A</td>\n",
       "      <td>0</td>\n",
       "      <td>Starboard</td>\n",
       "      <td>high_spend</td>\n",
       "      <td>age_middle_age</td>\n",
       "    </tr>\n",
       "    <tr>\n",
       "      <th>3</th>\n",
       "      <td>0003_02</td>\n",
       "      <td>Europa</td>\n",
       "      <td>False</td>\n",
       "      <td>TRAPPIST-1e</td>\n",
       "      <td>False</td>\n",
       "      <td>Solam Susent</td>\n",
       "      <td>False</td>\n",
       "      <td>4.0</td>\n",
       "      <td>A</td>\n",
       "      <td>0</td>\n",
       "      <td>Starboard</td>\n",
       "      <td>high_spend</td>\n",
       "      <td>age_adult</td>\n",
       "    </tr>\n",
       "    <tr>\n",
       "      <th>4</th>\n",
       "      <td>0004_01</td>\n",
       "      <td>Earth</td>\n",
       "      <td>False</td>\n",
       "      <td>TRAPPIST-1e</td>\n",
       "      <td>False</td>\n",
       "      <td>Willy Santantines</td>\n",
       "      <td>True</td>\n",
       "      <td>2.0</td>\n",
       "      <td>F</td>\n",
       "      <td>1</td>\n",
       "      <td>Starboard</td>\n",
       "      <td>med_spend</td>\n",
       "      <td>age_teen</td>\n",
       "    </tr>\n",
       "  </tbody>\n",
       "</table>\n",
       "</div>"
      ],
      "text/plain": [
       "  PassengerId HomePlanet CryoSleep  Destination    VIP               Name  \\\n",
       "0     0001_01     Europa     False  TRAPPIST-1e  False    Maham Ofracculy   \n",
       "1     0002_01      Earth     False  TRAPPIST-1e  False       Juanna Vines   \n",
       "2     0003_01     Europa     False  TRAPPIST-1e   True      Altark Susent   \n",
       "3     0003_02     Europa     False  TRAPPIST-1e  False       Solam Susent   \n",
       "4     0004_01      Earth     False  TRAPPIST-1e  False  Willy Santantines   \n",
       "\n",
       "   Transported  group_size cabin_deck cabin_number cabin_side spend_category  \\\n",
       "0        False         2.0          B            0       Port       no_spend   \n",
       "1         True         2.0          F            0  Starboard      med_spend   \n",
       "2        False         4.0          A            0  Starboard     high_spend   \n",
       "3        False         4.0          A            0  Starboard     high_spend   \n",
       "4         True         2.0          F            1  Starboard      med_spend   \n",
       "\n",
       "      age_category  \n",
       "0        age_adult  \n",
       "1  age_young_adult  \n",
       "2   age_middle_age  \n",
       "3        age_adult  \n",
       "4         age_teen  "
      ]
     },
     "execution_count": 14,
     "metadata": {},
     "output_type": "execute_result"
    }
   ],
   "source": [
    "df.head()"
   ]
  },
  {
   "cell_type": "markdown",
   "id": "c527724c",
   "metadata": {
    "papermill": {
     "duration": 0.01642,
     "end_time": "2024-06-19T04:22:05.591289",
     "exception": false,
     "start_time": "2024-06-19T04:22:05.574869",
     "status": "completed"
    },
    "tags": []
   },
   "source": [
    "## Data Cleaning\n",
    "<a id=\"data-cleaning\"></a>"
   ]
  },
  {
   "cell_type": "code",
   "execution_count": null,
   "id": "848fb497",
   "metadata": {
    "papermill": {
     "duration": 0.015863,
     "end_time": "2024-06-19T04:22:05.623780",
     "exception": false,
     "start_time": "2024-06-19T04:22:05.607917",
     "status": "completed"
    },
    "tags": []
   },
   "outputs": [],
   "source": []
  },
  {
   "cell_type": "markdown",
   "id": "21009def",
   "metadata": {
    "papermill": {
     "duration": 0.017146,
     "end_time": "2024-06-19T04:22:05.657353",
     "exception": false,
     "start_time": "2024-06-19T04:22:05.640207",
     "status": "completed"
    },
    "tags": []
   },
   "source": [
    "### 1. Deal with Missing Values"
   ]
  },
  {
   "cell_type": "code",
   "execution_count": null,
   "id": "a3f8dc4a",
   "metadata": {
    "papermill": {
     "duration": 0.016026,
     "end_time": "2024-06-19T04:22:05.691463",
     "exception": false,
     "start_time": "2024-06-19T04:22:05.675437",
     "status": "completed"
    },
    "tags": []
   },
   "outputs": [],
   "source": []
  },
  {
   "cell_type": "markdown",
   "id": "ee182062",
   "metadata": {
    "papermill": {
     "duration": 0.015898,
     "end_time": "2024-06-19T04:22:05.723907",
     "exception": false,
     "start_time": "2024-06-19T04:22:05.708009",
     "status": "completed"
    },
    "tags": []
   },
   "source": [
    "# 2) Modeling\n",
    "<a id=\"modeling\"></a>"
   ]
  },
  {
   "cell_type": "markdown",
   "id": "357c9801",
   "metadata": {
    "papermill": {
     "duration": 0.016033,
     "end_time": "2024-06-19T04:22:05.756121",
     "exception": false,
     "start_time": "2024-06-19T04:22:05.740088",
     "status": "completed"
    },
    "tags": []
   },
   "source": [
    "### Data Preprocessing for Modeling\n",
    "<a id=\"data-preprocessing-for-modeling\"></a>"
   ]
  },
  {
   "cell_type": "code",
   "execution_count": null,
   "id": "c021d036",
   "metadata": {
    "papermill": {
     "duration": 0.015684,
     "end_time": "2024-06-19T04:22:05.866174",
     "exception": false,
     "start_time": "2024-06-19T04:22:05.850490",
     "status": "completed"
    },
    "tags": []
   },
   "outputs": [],
   "source": []
  },
  {
   "cell_type": "markdown",
   "id": "e0512d06",
   "metadata": {
    "papermill": {
     "duration": 0.015255,
     "end_time": "2024-06-19T04:22:05.897476",
     "exception": false,
     "start_time": "2024-06-19T04:22:05.882221",
     "status": "completed"
    },
    "tags": []
   },
   "source": [
    "### Model Training\n",
    "<a id=\"model-training\"></a>"
   ]
  },
  {
   "cell_type": "code",
   "execution_count": null,
   "id": "aba34717",
   "metadata": {
    "papermill": {
     "duration": 0.015292,
     "end_time": "2024-06-19T04:22:05.928443",
     "exception": false,
     "start_time": "2024-06-19T04:22:05.913151",
     "status": "completed"
    },
    "tags": []
   },
   "outputs": [],
   "source": []
  },
  {
   "cell_type": "markdown",
   "id": "477a2a06",
   "metadata": {
    "papermill": {
     "duration": 0.015153,
     "end_time": "2024-06-19T04:22:05.959244",
     "exception": false,
     "start_time": "2024-06-19T04:22:05.944091",
     "status": "completed"
    },
    "tags": []
   },
   "source": [
    "### Model Evaluation\n",
    "<a id=\"model-evaluation\"></a>"
   ]
  },
  {
   "cell_type": "code",
   "execution_count": null,
   "id": "0ee6c972",
   "metadata": {
    "papermill": {
     "duration": 0.015401,
     "end_time": "2024-06-19T04:22:05.990140",
     "exception": false,
     "start_time": "2024-06-19T04:22:05.974739",
     "status": "completed"
    },
    "tags": []
   },
   "outputs": [],
   "source": []
  },
  {
   "cell_type": "markdown",
   "id": "e67003cd",
   "metadata": {
    "papermill": {
     "duration": 0.015286,
     "end_time": "2024-06-19T04:22:06.020946",
     "exception": false,
     "start_time": "2024-06-19T04:22:06.005660",
     "status": "completed"
    },
    "tags": []
   },
   "source": [
    "# 3) Interpretability\n",
    "<a id=\"interpretability\"></a>"
   ]
  },
  {
   "cell_type": "markdown",
   "id": "82844687",
   "metadata": {
    "papermill": {
     "duration": 0.015178,
     "end_time": "2024-06-19T04:22:06.051644",
     "exception": false,
     "start_time": "2024-06-19T04:22:06.036466",
     "status": "completed"
    },
    "tags": []
   },
   "source": [
    "### SHAP Analysis\n",
    "<a id=\"shap-analysis\"></a>"
   ]
  },
  {
   "cell_type": "code",
   "execution_count": null,
   "id": "72c4693f",
   "metadata": {
    "papermill": {
     "duration": 0.015597,
     "end_time": "2024-06-19T04:22:06.083310",
     "exception": false,
     "start_time": "2024-06-19T04:22:06.067713",
     "status": "completed"
    },
    "tags": []
   },
   "outputs": [],
   "source": []
  }
 ],
 "metadata": {
  "kaggle": {
   "accelerator": "none",
   "dataSources": [
    {
     "databundleVersionId": 3220602,
     "sourceId": 34377,
     "sourceType": "competition"
    }
   ],
   "dockerImageVersionId": 30732,
   "isGpuEnabled": false,
   "isInternetEnabled": true,
   "language": "python",
   "sourceType": "notebook"
  },
  "kernelspec": {
   "display_name": "Python 3",
   "language": "python",
   "name": "python3"
  },
  "language_info": {
   "codemirror_mode": {
    "name": "ipython",
    "version": 3
   },
   "file_extension": ".py",
   "mimetype": "text/x-python",
   "name": "python",
   "nbconvert_exporter": "python",
   "pygments_lexer": "ipython3",
   "version": "3.10.13"
  },
  "papermill": {
   "default_parameters": {},
   "duration": 23.466565,
   "end_time": "2024-06-19T04:22:08.485141",
   "environment_variables": {},
   "exception": null,
   "input_path": "__notebook__.ipynb",
   "output_path": "__notebook__.ipynb",
   "parameters": {},
   "start_time": "2024-06-19T04:21:45.018576",
   "version": "2.5.0"
  }
 },
 "nbformat": 4,
 "nbformat_minor": 5
}
