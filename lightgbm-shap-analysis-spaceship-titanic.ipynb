{
 "cells": [
  {
   "cell_type": "markdown",
   "id": "e408bd1f",
   "metadata": {
    "papermill": {
     "duration": 0.006028,
     "end_time": "2024-06-19T02:24:33.432480",
     "exception": false,
     "start_time": "2024-06-19T02:24:33.426452",
     "status": "completed"
    },
    "tags": []
   },
   "source": [
    "# Interpret LightGBM Classifier with SHAP: Spaceship Titanic Dataset\n",
    "\n",
    "## Table of Contents\n",
    "\n",
    "1. [Data Preparation](#data-preparation)\n",
    "   - [Basic Exploratory Data Analysis (EDA)](#basic-exploratory-data-analysis) \n",
    "   - [Import Data and Modules](#import-data-and-modules)\n",
    "   - [Data Cleaning](#data-cleaning)\n",
    "   - [Feature Engineering](#feature-engineering)\n",
    "   - [Advanced Exploratory Data Analysis (EDA)](#advanced-exploratory-data-analysis)\n",
    "2. [Modeling](#modeling)\n",
    "   - [Data Preprocessing for Modeling](#data-preprocessing-for-modeling)\n",
    "   - [Model Training](#model-training)\n",
    "   - [Model Evaluation](#model-evaluation)\n",
    "3. [Interpretability](#interpretability)\n",
    "   - [SHAP Analysis](#shap-analysis)"
   ]
  },
  {
   "cell_type": "markdown",
   "id": "622f71de",
   "metadata": {
    "papermill": {
     "duration": 0.005212,
     "end_time": "2024-06-19T02:24:33.443512",
     "exception": false,
     "start_time": "2024-06-19T02:24:33.438300",
     "status": "completed"
    },
    "tags": []
   },
   "source": [
    "# 1) Data Preparation\n",
    "<a id=\"data-preparation\"></a>"
   ]
  },
  {
   "cell_type": "markdown",
   "id": "6725d9b0",
   "metadata": {
    "papermill": {
     "duration": 0.005091,
     "end_time": "2024-06-19T02:24:33.453937",
     "exception": false,
     "start_time": "2024-06-19T02:24:33.448846",
     "status": "completed"
    },
    "tags": []
   },
   "source": [
    "## Import Data and Modules\n",
    "<a id=\"import-data-and-modules\"></a>"
   ]
  },
  {
   "cell_type": "code",
   "execution_count": 1,
   "id": "da3a5b36",
   "metadata": {
    "_cell_guid": "b1076dfc-b9ad-4769-8c92-a6c4dae69d19",
    "_uuid": "8f2839f25d086af736a60e9eeb907d3b93b6e0e5",
    "execution": {
     "iopub.execute_input": "2024-06-19T02:24:33.466062Z",
     "iopub.status.busy": "2024-06-19T02:24:33.465670Z",
     "iopub.status.idle": "2024-06-19T02:24:41.506686Z",
     "shell.execute_reply": "2024-06-19T02:24:41.505625Z"
    },
    "papermill": {
     "duration": 8.049988,
     "end_time": "2024-06-19T02:24:41.509236",
     "exception": false,
     "start_time": "2024-06-19T02:24:33.459248",
     "status": "completed"
    },
    "tags": []
   },
   "outputs": [],
   "source": [
    "# base packages\n",
    "import pandas as pd\n",
    "import numpy as np\n",
    "import matplotlib.pyplot as plt\n",
    "\n",
    "# modeling and evaluation\n",
    "import lightgbm as lgb\n",
    "from sklearn.metrics import accuracy_score, classification_report\n",
    "from sklearn.model_selection import train_test_split\n",
    "from sklearn.preprocessing import LabelEncoder\n",
    "import shap\n",
    "import os"
   ]
  },
  {
   "cell_type": "code",
   "execution_count": 2,
   "id": "b45287e4",
   "metadata": {
    "execution": {
     "iopub.execute_input": "2024-06-19T02:24:41.523044Z",
     "iopub.status.busy": "2024-06-19T02:24:41.522020Z",
     "iopub.status.idle": "2024-06-19T02:24:41.661494Z",
     "shell.execute_reply": "2024-06-19T02:24:41.660470Z"
    },
    "papermill": {
     "duration": 0.148486,
     "end_time": "2024-06-19T02:24:41.663928",
     "exception": false,
     "start_time": "2024-06-19T02:24:41.515442",
     "status": "completed"
    },
    "tags": []
   },
   "outputs": [],
   "source": [
    "train = pd.read_csv('/kaggle/input/spaceship-titanic/train.csv')\n",
    "test = pd.read_csv('/kaggle/input/spaceship-titanic/train.csv')\n",
    "df = train.merge(test)"
   ]
  },
  {
   "cell_type": "markdown",
   "id": "044d5daa",
   "metadata": {
    "papermill": {
     "duration": 0.005368,
     "end_time": "2024-06-19T02:24:41.674819",
     "exception": false,
     "start_time": "2024-06-19T02:24:41.669451",
     "status": "completed"
    },
    "tags": []
   },
   "source": [
    "## Basic Exploratory Data Analysis (EDA)\n",
    "<a id=\"basic-exploratory-data-analysis\"></a>"
   ]
  },
  {
   "cell_type": "markdown",
   "id": "3c542c08",
   "metadata": {
    "papermill": {
     "duration": 0.005038,
     "end_time": "2024-06-19T02:24:41.685171",
     "exception": false,
     "start_time": "2024-06-19T02:24:41.680133",
     "status": "completed"
    },
    "tags": []
   },
   "source": [
    "#### 1. Data Description"
   ]
  },
  {
   "cell_type": "markdown",
   "id": "a7d2251e",
   "metadata": {
    "papermill": {
     "duration": 0.005045,
     "end_time": "2024-06-19T02:24:41.695539",
     "exception": false,
     "start_time": "2024-06-19T02:24:41.690494",
     "status": "completed"
    },
    "tags": []
   },
   "source": [
    "> * **PassengerId** - A unique Id for each passenger. Each Id takes the form gggg_pp where gggg indicates a group the passenger is travelling with and pp is their number within the group. People in a group are often family members, but not always.<br>\n",
    "> * **HomePlanet** - The planet the passenger departed from, typically their planet of permanent residence.<br>\n",
    "> * **CryoSleep** - Indicates whether the passenger elected to be put into suspended animation for the duration of the voyage. Passengers in cryosleep are confined to their cabins.<br>\n",
    "> * **Cabin** - The cabin number where the passenger is staying. Takes the form deck/num/side, where side can be either P for Port or S for Starboard.<br>\n",
    "> * **Destination** - The planet the passenger will be debarking to.<br>\n",
    "> * **Age** - The age of the passenger.<br>\n",
    "> * **VIP** - Whether the passenger has paid for special VIP service during the voyage.<br>\n",
    "> * **RoomService**, **FoodCourt**, **ShoppingMall**, **Spa**, **VRDeck** - Amount the passenger has billed at each of the Spaceship Titanic's many luxury amenities.<br>\n",
    "> * **Name** - The first and last names of the passenger.<br>\n",
    "> * **Transported** - Whether the passenger was transported to another dimension. This is the target, the column you are trying to predict.<br>"
   ]
  },
  {
   "cell_type": "markdown",
   "id": "aa797d4d",
   "metadata": {
    "papermill": {
     "duration": 0.005118,
     "end_time": "2024-06-19T02:24:41.705937",
     "exception": false,
     "start_time": "2024-06-19T02:24:41.700819",
     "status": "completed"
    },
    "tags": []
   },
   "source": [
    "#### 2. View Merged Dataframe"
   ]
  },
  {
   "cell_type": "code",
   "execution_count": 3,
   "id": "bc19ce77",
   "metadata": {
    "execution": {
     "iopub.execute_input": "2024-06-19T02:24:41.718247Z",
     "iopub.status.busy": "2024-06-19T02:24:41.717495Z",
     "iopub.status.idle": "2024-06-19T02:24:41.739628Z",
     "shell.execute_reply": "2024-06-19T02:24:41.738649Z"
    },
    "papermill": {
     "duration": 0.030551,
     "end_time": "2024-06-19T02:24:41.741665",
     "exception": false,
     "start_time": "2024-06-19T02:24:41.711114",
     "status": "completed"
    },
    "tags": []
   },
   "outputs": [
    {
     "data": {
      "text/html": [
       "<div>\n",
       "<style scoped>\n",
       "    .dataframe tbody tr th:only-of-type {\n",
       "        vertical-align: middle;\n",
       "    }\n",
       "\n",
       "    .dataframe tbody tr th {\n",
       "        vertical-align: top;\n",
       "    }\n",
       "\n",
       "    .dataframe thead th {\n",
       "        text-align: right;\n",
       "    }\n",
       "</style>\n",
       "<table border=\"1\" class=\"dataframe\">\n",
       "  <thead>\n",
       "    <tr style=\"text-align: right;\">\n",
       "      <th></th>\n",
       "      <th>PassengerId</th>\n",
       "      <th>HomePlanet</th>\n",
       "      <th>CryoSleep</th>\n",
       "      <th>Cabin</th>\n",
       "      <th>Destination</th>\n",
       "      <th>Age</th>\n",
       "      <th>VIP</th>\n",
       "      <th>RoomService</th>\n",
       "      <th>FoodCourt</th>\n",
       "      <th>ShoppingMall</th>\n",
       "      <th>Spa</th>\n",
       "      <th>VRDeck</th>\n",
       "      <th>Name</th>\n",
       "      <th>Transported</th>\n",
       "    </tr>\n",
       "  </thead>\n",
       "  <tbody>\n",
       "    <tr>\n",
       "      <th>0</th>\n",
       "      <td>0001_01</td>\n",
       "      <td>Europa</td>\n",
       "      <td>False</td>\n",
       "      <td>B/0/P</td>\n",
       "      <td>TRAPPIST-1e</td>\n",
       "      <td>39.0</td>\n",
       "      <td>False</td>\n",
       "      <td>0.0</td>\n",
       "      <td>0.0</td>\n",
       "      <td>0.0</td>\n",
       "      <td>0.0</td>\n",
       "      <td>0.0</td>\n",
       "      <td>Maham Ofracculy</td>\n",
       "      <td>False</td>\n",
       "    </tr>\n",
       "    <tr>\n",
       "      <th>1</th>\n",
       "      <td>0002_01</td>\n",
       "      <td>Earth</td>\n",
       "      <td>False</td>\n",
       "      <td>F/0/S</td>\n",
       "      <td>TRAPPIST-1e</td>\n",
       "      <td>24.0</td>\n",
       "      <td>False</td>\n",
       "      <td>109.0</td>\n",
       "      <td>9.0</td>\n",
       "      <td>25.0</td>\n",
       "      <td>549.0</td>\n",
       "      <td>44.0</td>\n",
       "      <td>Juanna Vines</td>\n",
       "      <td>True</td>\n",
       "    </tr>\n",
       "    <tr>\n",
       "      <th>2</th>\n",
       "      <td>0003_01</td>\n",
       "      <td>Europa</td>\n",
       "      <td>False</td>\n",
       "      <td>A/0/S</td>\n",
       "      <td>TRAPPIST-1e</td>\n",
       "      <td>58.0</td>\n",
       "      <td>True</td>\n",
       "      <td>43.0</td>\n",
       "      <td>3576.0</td>\n",
       "      <td>0.0</td>\n",
       "      <td>6715.0</td>\n",
       "      <td>49.0</td>\n",
       "      <td>Altark Susent</td>\n",
       "      <td>False</td>\n",
       "    </tr>\n",
       "    <tr>\n",
       "      <th>3</th>\n",
       "      <td>0003_02</td>\n",
       "      <td>Europa</td>\n",
       "      <td>False</td>\n",
       "      <td>A/0/S</td>\n",
       "      <td>TRAPPIST-1e</td>\n",
       "      <td>33.0</td>\n",
       "      <td>False</td>\n",
       "      <td>0.0</td>\n",
       "      <td>1283.0</td>\n",
       "      <td>371.0</td>\n",
       "      <td>3329.0</td>\n",
       "      <td>193.0</td>\n",
       "      <td>Solam Susent</td>\n",
       "      <td>False</td>\n",
       "    </tr>\n",
       "    <tr>\n",
       "      <th>4</th>\n",
       "      <td>0004_01</td>\n",
       "      <td>Earth</td>\n",
       "      <td>False</td>\n",
       "      <td>F/1/S</td>\n",
       "      <td>TRAPPIST-1e</td>\n",
       "      <td>16.0</td>\n",
       "      <td>False</td>\n",
       "      <td>303.0</td>\n",
       "      <td>70.0</td>\n",
       "      <td>151.0</td>\n",
       "      <td>565.0</td>\n",
       "      <td>2.0</td>\n",
       "      <td>Willy Santantines</td>\n",
       "      <td>True</td>\n",
       "    </tr>\n",
       "  </tbody>\n",
       "</table>\n",
       "</div>"
      ],
      "text/plain": [
       "  PassengerId HomePlanet CryoSleep  Cabin  Destination   Age    VIP  \\\n",
       "0     0001_01     Europa     False  B/0/P  TRAPPIST-1e  39.0  False   \n",
       "1     0002_01      Earth     False  F/0/S  TRAPPIST-1e  24.0  False   \n",
       "2     0003_01     Europa     False  A/0/S  TRAPPIST-1e  58.0   True   \n",
       "3     0003_02     Europa     False  A/0/S  TRAPPIST-1e  33.0  False   \n",
       "4     0004_01      Earth     False  F/1/S  TRAPPIST-1e  16.0  False   \n",
       "\n",
       "   RoomService  FoodCourt  ShoppingMall     Spa  VRDeck               Name  \\\n",
       "0          0.0        0.0           0.0     0.0     0.0    Maham Ofracculy   \n",
       "1        109.0        9.0          25.0   549.0    44.0       Juanna Vines   \n",
       "2         43.0     3576.0           0.0  6715.0    49.0      Altark Susent   \n",
       "3          0.0     1283.0         371.0  3329.0   193.0       Solam Susent   \n",
       "4        303.0       70.0         151.0   565.0     2.0  Willy Santantines   \n",
       "\n",
       "   Transported  \n",
       "0        False  \n",
       "1         True  \n",
       "2        False  \n",
       "3        False  \n",
       "4         True  "
      ]
     },
     "execution_count": 3,
     "metadata": {},
     "output_type": "execute_result"
    }
   ],
   "source": [
    "df.head()"
   ]
  },
  {
   "cell_type": "markdown",
   "id": "995b7dc6",
   "metadata": {
    "papermill": {
     "duration": 0.005347,
     "end_time": "2024-06-19T02:24:41.752915",
     "exception": false,
     "start_time": "2024-06-19T02:24:41.747568",
     "status": "completed"
    },
    "tags": []
   },
   "source": [
    "#### 3. View Data Structure"
   ]
  },
  {
   "cell_type": "code",
   "execution_count": 4,
   "id": "dc3f3239",
   "metadata": {
    "execution": {
     "iopub.execute_input": "2024-06-19T02:24:41.765917Z",
     "iopub.status.busy": "2024-06-19T02:24:41.765085Z",
     "iopub.status.idle": "2024-06-19T02:24:41.771021Z",
     "shell.execute_reply": "2024-06-19T02:24:41.770097Z"
    },
    "papermill": {
     "duration": 0.014547,
     "end_time": "2024-06-19T02:24:41.772997",
     "exception": false,
     "start_time": "2024-06-19T02:24:41.758450",
     "status": "completed"
    },
    "tags": []
   },
   "outputs": [
    {
     "data": {
      "text/plain": [
       "(8693, 14)"
      ]
     },
     "execution_count": 4,
     "metadata": {},
     "output_type": "execute_result"
    }
   ],
   "source": [
    "df.shape"
   ]
  },
  {
   "cell_type": "markdown",
   "id": "bd29c451",
   "metadata": {
    "papermill": {
     "duration": 0.007664,
     "end_time": "2024-06-19T02:24:41.788264",
     "exception": false,
     "start_time": "2024-06-19T02:24:41.780600",
     "status": "completed"
    },
    "tags": []
   },
   "source": [
    "#### 4. Check for Missing Values"
   ]
  },
  {
   "cell_type": "code",
   "execution_count": null,
   "id": "27615783",
   "metadata": {
    "papermill": {
     "duration": 0.006103,
     "end_time": "2024-06-19T02:24:41.800643",
     "exception": false,
     "start_time": "2024-06-19T02:24:41.794540",
     "status": "completed"
    },
    "tags": []
   },
   "outputs": [],
   "source": []
  },
  {
   "cell_type": "markdown",
   "id": "f4667599",
   "metadata": {
    "papermill": {
     "duration": 0.006183,
     "end_time": "2024-06-19T02:24:41.813154",
     "exception": false,
     "start_time": "2024-06-19T02:24:41.806971",
     "status": "completed"
    },
    "tags": []
   },
   "source": [
    "## Data Cleaning\n",
    "<a id=\"data-cleaning\"></a>"
   ]
  },
  {
   "cell_type": "code",
   "execution_count": 5,
   "id": "a583882b",
   "metadata": {
    "execution": {
     "iopub.execute_input": "2024-06-19T02:24:41.826633Z",
     "iopub.status.busy": "2024-06-19T02:24:41.825934Z",
     "iopub.status.idle": "2024-06-19T02:24:41.832459Z",
     "shell.execute_reply": "2024-06-19T02:24:41.831421Z"
    },
    "papermill": {
     "duration": 0.015642,
     "end_time": "2024-06-19T02:24:41.834610",
     "exception": false,
     "start_time": "2024-06-19T02:24:41.818968",
     "status": "completed"
    },
    "tags": []
   },
   "outputs": [
    {
     "data": {
      "text/plain": [
       "(8693, 14)"
      ]
     },
     "execution_count": 5,
     "metadata": {},
     "output_type": "execute_result"
    }
   ],
   "source": [
    "df.shape"
   ]
  },
  {
   "cell_type": "markdown",
   "id": "8fb0ee8a",
   "metadata": {
    "papermill": {
     "duration": 0.005956,
     "end_time": "2024-06-19T02:24:41.846878",
     "exception": false,
     "start_time": "2024-06-19T02:24:41.840922",
     "status": "completed"
    },
    "tags": []
   },
   "source": [
    "## Feature Engineering\n",
    "<a id=\"feature-engineering\"></a>"
   ]
  },
  {
   "cell_type": "code",
   "execution_count": null,
   "id": "e3181442",
   "metadata": {
    "papermill": {
     "duration": 0.005614,
     "end_time": "2024-06-19T02:24:41.860241",
     "exception": false,
     "start_time": "2024-06-19T02:24:41.854627",
     "status": "completed"
    },
    "tags": []
   },
   "outputs": [],
   "source": []
  },
  {
   "cell_type": "markdown",
   "id": "624b29c2",
   "metadata": {
    "papermill": {
     "duration": 0.0061,
     "end_time": "2024-06-19T02:24:41.872291",
     "exception": false,
     "start_time": "2024-06-19T02:24:41.866191",
     "status": "completed"
    },
    "tags": []
   },
   "source": [
    "## 1e. Advanced Exploratory Data Analysis (EDA)\n",
    "<a id=\"advanced-exploratory-data-analysis\"></a>"
   ]
  },
  {
   "cell_type": "code",
   "execution_count": null,
   "id": "b0e7ecea",
   "metadata": {
    "papermill": {
     "duration": 0.005636,
     "end_time": "2024-06-19T02:24:41.883810",
     "exception": false,
     "start_time": "2024-06-19T02:24:41.878174",
     "status": "completed"
    },
    "tags": []
   },
   "outputs": [],
   "source": []
  },
  {
   "cell_type": "markdown",
   "id": "4de619d8",
   "metadata": {
    "papermill": {
     "duration": 0.005594,
     "end_time": "2024-06-19T02:24:41.895599",
     "exception": false,
     "start_time": "2024-06-19T02:24:41.890005",
     "status": "completed"
    },
    "tags": []
   },
   "source": [
    "# 2) Modeling\n",
    "<a id=\"modeling\"></a>"
   ]
  },
  {
   "cell_type": "markdown",
   "id": "acf57ad7",
   "metadata": {
    "papermill": {
     "duration": 0.005762,
     "end_time": "2024-06-19T02:24:41.907123",
     "exception": false,
     "start_time": "2024-06-19T02:24:41.901361",
     "status": "completed"
    },
    "tags": []
   },
   "source": [
    "### Data Preprocessing for Modeling\n",
    "<a id=\"data-preprocessing-for-modeling\"></a>"
   ]
  },
  {
   "cell_type": "code",
   "execution_count": null,
   "id": "64db87ac",
   "metadata": {
    "papermill": {
     "duration": 0.005955,
     "end_time": "2024-06-19T02:24:41.919040",
     "exception": false,
     "start_time": "2024-06-19T02:24:41.913085",
     "status": "completed"
    },
    "tags": []
   },
   "outputs": [],
   "source": []
  },
  {
   "cell_type": "markdown",
   "id": "89e515ad",
   "metadata": {
    "papermill": {
     "duration": 0.005626,
     "end_time": "2024-06-19T02:24:41.930889",
     "exception": false,
     "start_time": "2024-06-19T02:24:41.925263",
     "status": "completed"
    },
    "tags": []
   },
   "source": [
    "### Model Training\n",
    "<a id=\"model-training\"></a>"
   ]
  },
  {
   "cell_type": "code",
   "execution_count": null,
   "id": "46b5292e",
   "metadata": {
    "papermill": {
     "duration": 0.005569,
     "end_time": "2024-06-19T02:24:41.942329",
     "exception": false,
     "start_time": "2024-06-19T02:24:41.936760",
     "status": "completed"
    },
    "tags": []
   },
   "outputs": [],
   "source": []
  },
  {
   "cell_type": "markdown",
   "id": "8f9e2119",
   "metadata": {
    "papermill": {
     "duration": 0.005521,
     "end_time": "2024-06-19T02:24:41.953521",
     "exception": false,
     "start_time": "2024-06-19T02:24:41.948000",
     "status": "completed"
    },
    "tags": []
   },
   "source": [
    "### Model Evaluation\n",
    "<a id=\"model-evaluation\"></a>"
   ]
  },
  {
   "cell_type": "code",
   "execution_count": null,
   "id": "e2c85090",
   "metadata": {
    "papermill": {
     "duration": 0.005469,
     "end_time": "2024-06-19T02:24:41.964775",
     "exception": false,
     "start_time": "2024-06-19T02:24:41.959306",
     "status": "completed"
    },
    "tags": []
   },
   "outputs": [],
   "source": []
  },
  {
   "cell_type": "markdown",
   "id": "8c7e3cf5",
   "metadata": {
    "papermill": {
     "duration": 0.005636,
     "end_time": "2024-06-19T02:24:41.976137",
     "exception": false,
     "start_time": "2024-06-19T02:24:41.970501",
     "status": "completed"
    },
    "tags": []
   },
   "source": [
    "# 3) Interpretability\n",
    "<a id=\"interpretability\"></a>"
   ]
  },
  {
   "cell_type": "markdown",
   "id": "3f8ca7c0",
   "metadata": {
    "papermill": {
     "duration": 0.005664,
     "end_time": "2024-06-19T02:24:41.987767",
     "exception": false,
     "start_time": "2024-06-19T02:24:41.982103",
     "status": "completed"
    },
    "tags": []
   },
   "source": [
    "### SHAP Analysis\n",
    "<a id=\"shap-analysis\"></a>"
   ]
  },
  {
   "cell_type": "code",
   "execution_count": null,
   "id": "9f9ffaa2",
   "metadata": {
    "papermill": {
     "duration": 0.005661,
     "end_time": "2024-06-19T02:24:41.999325",
     "exception": false,
     "start_time": "2024-06-19T02:24:41.993664",
     "status": "completed"
    },
    "tags": []
   },
   "outputs": [],
   "source": []
  }
 ],
 "metadata": {
  "kaggle": {
   "accelerator": "none",
   "dataSources": [
    {
     "databundleVersionId": 3220602,
     "sourceId": 34377,
     "sourceType": "competition"
    }
   ],
   "dockerImageVersionId": 30732,
   "isGpuEnabled": false,
   "isInternetEnabled": true,
   "language": "python",
   "sourceType": "notebook"
  },
  "kernelspec": {
   "display_name": "Python 3",
   "language": "python",
   "name": "python3"
  },
  "language_info": {
   "codemirror_mode": {
    "name": "ipython",
    "version": 3
   },
   "file_extension": ".py",
   "mimetype": "text/x-python",
   "name": "python",
   "nbconvert_exporter": "python",
   "pygments_lexer": "ipython3",
   "version": "3.10.13"
  },
  "papermill": {
   "default_parameters": {},
   "duration": 12.182594,
   "end_time": "2024-06-19T02:24:43.126905",
   "environment_variables": {},
   "exception": null,
   "input_path": "__notebook__.ipynb",
   "output_path": "__notebook__.ipynb",
   "parameters": {},
   "start_time": "2024-06-19T02:24:30.944311",
   "version": "2.5.0"
  }
 },
 "nbformat": 4,
 "nbformat_minor": 5
}
