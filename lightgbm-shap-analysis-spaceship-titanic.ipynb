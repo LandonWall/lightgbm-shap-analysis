{
 "cells": [
  {
   "cell_type": "markdown",
   "id": "996ba644",
   "metadata": {
    "papermill": {
     "duration": 0.004265,
     "end_time": "2024-06-19T01:40:16.487915",
     "exception": false,
     "start_time": "2024-06-19T01:40:16.483650",
     "status": "completed"
    },
    "tags": []
   },
   "source": [
    "# 1) Import Data & Modules"
   ]
  },
  {
   "cell_type": "code",
   "execution_count": 1,
   "id": "e727d63c",
   "metadata": {
    "_cell_guid": "b1076dfc-b9ad-4769-8c92-a6c4dae69d19",
    "_uuid": "8f2839f25d086af736a60e9eeb907d3b93b6e0e5",
    "execution": {
     "iopub.execute_input": "2024-06-19T01:40:16.497301Z",
     "iopub.status.busy": "2024-06-19T01:40:16.496330Z",
     "iopub.status.idle": "2024-06-19T01:40:26.562195Z",
     "shell.execute_reply": "2024-06-19T01:40:26.560969Z"
    },
    "papermill": {
     "duration": 10.073617,
     "end_time": "2024-06-19T01:40:26.564895",
     "exception": false,
     "start_time": "2024-06-19T01:40:16.491278",
     "status": "completed"
    },
    "tags": []
   },
   "outputs": [],
   "source": [
    "# base packages\n",
    "import pandas as pd\n",
    "import numpy as np\n",
    "import matplotlib.pyplot as plt\n",
    "\n",
    "# modeling and evaluation\n",
    "import lightgbm as lgb\n",
    "from sklearn.metrics import accuracy_score, classification_report\n",
    "from sklearn.model_selection import train_test_split\n",
    "from sklearn.preprocessing import LabelEncoder\n",
    "import shap\n",
    "import os"
   ]
  },
  {
   "cell_type": "code",
   "execution_count": 2,
   "id": "5bd1f75d",
   "metadata": {
    "execution": {
     "iopub.execute_input": "2024-06-19T01:40:26.574287Z",
     "iopub.status.busy": "2024-06-19T01:40:26.572893Z",
     "iopub.status.idle": "2024-06-19T01:40:26.746832Z",
     "shell.execute_reply": "2024-06-19T01:40:26.745756Z"
    },
    "papermill": {
     "duration": 0.181597,
     "end_time": "2024-06-19T01:40:26.749830",
     "exception": false,
     "start_time": "2024-06-19T01:40:26.568233",
     "status": "completed"
    },
    "tags": []
   },
   "outputs": [],
   "source": [
    "train = pd.read_csv('/kaggle/input/spaceship-titanic/train.csv')\n",
    "test = pd.read_csv('/kaggle/input/spaceship-titanic/train.csv')\n",
    "df = train.merge(test)"
   ]
  },
  {
   "cell_type": "code",
   "execution_count": 3,
   "id": "2cbbecdf",
   "metadata": {
    "execution": {
     "iopub.execute_input": "2024-06-19T01:40:26.758173Z",
     "iopub.status.busy": "2024-06-19T01:40:26.757736Z",
     "iopub.status.idle": "2024-06-19T01:40:26.766105Z",
     "shell.execute_reply": "2024-06-19T01:40:26.765026Z"
    },
    "papermill": {
     "duration": 0.015817,
     "end_time": "2024-06-19T01:40:26.768949",
     "exception": false,
     "start_time": "2024-06-19T01:40:26.753132",
     "status": "completed"
    },
    "tags": []
   },
   "outputs": [
    {
     "data": {
      "text/plain": [
       "(8693, 14)"
      ]
     },
     "execution_count": 3,
     "metadata": {},
     "output_type": "execute_result"
    }
   ],
   "source": [
    "df.shape"
   ]
  },
  {
   "cell_type": "code",
   "execution_count": null,
   "id": "0db74332",
   "metadata": {
    "papermill": {
     "duration": 0.003118,
     "end_time": "2024-06-19T01:40:26.775466",
     "exception": false,
     "start_time": "2024-06-19T01:40:26.772348",
     "status": "completed"
    },
    "tags": []
   },
   "outputs": [],
   "source": []
  },
  {
   "cell_type": "markdown",
   "id": "7155044b",
   "metadata": {
    "papermill": {
     "duration": 0.002923,
     "end_time": "2024-06-19T01:40:26.781591",
     "exception": false,
     "start_time": "2024-06-19T01:40:26.778668",
     "status": "completed"
    },
    "tags": []
   },
   "source": []
  },
  {
   "cell_type": "code",
   "execution_count": null,
   "id": "f86e07d4",
   "metadata": {
    "papermill": {
     "duration": 0.002912,
     "end_time": "2024-06-19T01:40:26.787642",
     "exception": false,
     "start_time": "2024-06-19T01:40:26.784730",
     "status": "completed"
    },
    "tags": []
   },
   "outputs": [],
   "source": []
  }
 ],
 "metadata": {
  "kaggle": {
   "accelerator": "none",
   "dataSources": [
    {
     "databundleVersionId": 3220602,
     "sourceId": 34377,
     "sourceType": "competition"
    }
   ],
   "dockerImageVersionId": 30732,
   "isGpuEnabled": false,
   "isInternetEnabled": true,
   "language": "python",
   "sourceType": "notebook"
  },
  "kernelspec": {
   "display_name": "Python 3",
   "language": "python",
   "name": "python3"
  },
  "language_info": {
   "codemirror_mode": {
    "name": "ipython",
    "version": 3
   },
   "file_extension": ".py",
   "mimetype": "text/x-python",
   "name": "python",
   "nbconvert_exporter": "python",
   "pygments_lexer": "ipython3",
   "version": "3.10.13"
  },
  "papermill": {
   "default_parameters": {},
   "duration": 14.837581,
   "end_time": "2024-06-19T01:40:28.216209",
   "environment_variables": {},
   "exception": null,
   "input_path": "__notebook__.ipynb",
   "output_path": "__notebook__.ipynb",
   "parameters": {},
   "start_time": "2024-06-19T01:40:13.378628",
   "version": "2.5.0"
  }
 },
 "nbformat": 4,
 "nbformat_minor": 5
}
